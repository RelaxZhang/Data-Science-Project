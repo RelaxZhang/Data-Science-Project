{
 "cells": [
  {
   "cell_type": "markdown",
   "metadata": {},
   "source": [
    "# VBA Benchmark Model"
   ]
  },
  {
   "cell_type": "code",
   "execution_count": 3,
   "metadata": {},
   "outputs": [],
   "source": [
    "import numpy\n",
    "import xlrd\n",
    "from openpyxl import load_workbook\n",
    "from vbaFunc import jumpoff, xTFR, clear_Input\n",
    "from vbaFunc import readCNAPC, readSYI, readSATP, readERP, readTFR, readASFR, readLEMS, readMASMR\n",
    "from vbaFunc import inputASFR, inputbirth, inputASDR, inputdeath, inputMigration, writeAccount, writeSAI\n",
    "from vbaFunc import NetMigAdjustment2, readNatP, readBDN, readIniPop, readIniTPop, writeNoteCL, writeProj\n",
    "from vbaFunc import writeTarget\n",
    "\n",
    "# Read in Excel Workbook (both Readable and Writable)\n",
    "wt_loc = 'vba.xlsx'\n",
    "rd_loc = 'original.xlsm'\n",
    "wb_rd = xlrd.open_workbook(rd_loc)\n",
    "wb_wt = load_workbook(wt_loc)"
   ]
  },
  {
   "cell_type": "markdown",
   "metadata": {},
   "source": [
    "## xTRF"
   ]
  },
  {
   "cell_type": "markdown",
   "metadata": {},
   "source": [
    "#### Generating Fertility Data"
   ]
  },
  {
   "cell_type": "code",
   "execution_count": 4,
   "metadata": {},
   "outputs": [],
   "source": [
    "# Read in Sheets\n",
    "sheet_label = wb_rd.sheet_by_name('Labels')\n",
    "sheet_agesex = wb_rd.sheet_by_name('AgeSexERPs')\n",
    "wb_wt_fertility = wb_wt[\"Fertility\"]\n",
    "\n",
    "# Define variables\n",
    "numareas = int(sheet_label.cell_value(2256, 0))\n",
    "numages = 18\n",
    "sextypes = 2\n",
    "set_year_female = 7\n",
    "set_year_male = 5\n",
    "\n",
    "# Create empty array for storing jumpoffERP and xTFR results\n",
    "jumpoffERP = numpy.zeros((numareas, sextypes, numages))\n",
    "jumpoffERP[:] = numpy.nan\n",
    "result_xTFR = numpy.zeros((numareas))\n",
    "result_xTFR[:] = numpy.nan\n",
    "\n",
    "# Generate jumpoffERP for further calculation\n",
    "jumpoffERP = jumpoff(numareas, numages, jumpoffERP, sheet_agesex, set_year_female, set_year_male)\n",
    "\n",
    "# Generate xTFR vector for storing\n",
    "result_xTFR = xTFR(jumpoffERP, result_xTFR, numareas)\n",
    "\n",
    "# Store into Sheet 'Fertility' for further usage\n",
    "row = 7\n",
    "column = 4\n",
    "for i in range(len(result_xTFR)):\n",
    "    wb_wt_fertility.cell(row, column).value = result_xTFR[i]\n",
    "    row += 1\n",
    "wb_wt.save(wt_loc)"
   ]
  },
  {
   "cell_type": "markdown",
   "metadata": {},
   "source": [
    "## PrepareData"
   ]
  },
  {
   "cell_type": "markdown",
   "metadata": {},
   "source": [
    "#### Clear Previous Input Data"
   ]
  },
  {
   "cell_type": "code",
   "execution_count": 5,
   "metadata": {},
   "outputs": [],
   "source": [
    "# Before running the PrepareData Function, clear the input data if any\n",
    "wb_wt_SmallAreaInputs = wb_wt[\"SmallAreaInputs\"]\n",
    "wb_wt_Accounts = wb_wt[\"Accounts\"]\n",
    "\n",
    "# Clear the data and save the writable workbook\n",
    "clear_Input(wb_wt_SmallAreaInputs)\n",
    "clear_Input(wb_wt_Accounts)\n",
    "wb_wt.save(wt_loc)"
   ]
  },
  {
   "cell_type": "markdown",
   "metadata": {},
   "source": [
    "#### Load in Required Data for Generating Input Data"
   ]
  },
  {
   "cell_type": "code",
   "execution_count": 6,
   "metadata": {},
   "outputs": [],
   "source": [
    "# Read in readable required data for generating input data for further usage\n",
    "sheet_label = wb_rd.sheet_by_name('Labels')\n",
    "sheet_SmallAreaTotals = wb_rd.sheet_by_name('SmallAreaTotals')\n",
    "sheet_agesex = wb_rd.sheet_by_name('AgeSexERPs')\n",
    "sheet_mortality = wb_rd.sheet_by_name('Mortality')\n",
    "sheet_migration = wb_rd.sheet_by_name('Migration')\n",
    "\n",
    "# Temeorary read of new generated fertility\n",
    "temp_wb_rd = xlrd.open_workbook(wt_loc)\n",
    "sheet_fertility = temp_wb_rd.sheet_by_name('Fertility')"
   ]
  },
  {
   "cell_type": "markdown",
   "metadata": {},
   "source": [
    "#### Start Generating Input Data"
   ]
  },
  {
   "cell_type": "markdown",
   "metadata": {},
   "source": [
    "##### Define Variables"
   ]
  },
  {
   "cell_type": "code",
   "execution_count": 7,
   "metadata": {},
   "outputs": [],
   "source": [
    "numages = 18                                    # Number of age groups in ERPs\n",
    "lastage = 17                                    # Number of age groups in projections output\n",
    "nLxMS = 21                                      # nLx mortality surface groups\n",
    "age_ASFR = 7                                    # Age groups amount in ASFRs Model\n",
    "numareas = int(sheet_label.cell_value(2256, 0)) # Number of small areas\n",
    "final_year = 2035                               # Projection final year (editable)\n",
    "final = int((final_year - 2020) / 5)            # Final projection year number\n",
    "SRB = sheet_fertility.cell_value(2270, 1)       # Assumed Sex Ratio at Birth (Male : Female)\n",
    "modelTFR  = 0                                   # Model TFR Parameter\n",
    "for i in range(2259, 2266): modelTFR += sheet_fertility.cell_value(i, 1)\n",
    "modelTFR *= 5"
   ]
  },
  {
   "cell_type": "markdown",
   "metadata": {},
   "source": [
    "##### Read in Data for Generating Input Data"
   ]
  },
  {
   "cell_type": "code",
   "execution_count": 8,
   "metadata": {},
   "outputs": [],
   "source": [
    "## All two dimensional array with 0 and 1 as sex index, we treat 0 as female and 1 as male\n",
    "# Read in AreaCode, AreaName, AgeGroup, Period-Cohort Labels\n",
    "Areacode, Areaname, agelabel, pclabel = readCNAPC(numareas, numages, lastage, sheet_label)\n",
    "\n",
    "# Read in Sex, Year, Interval Labels\n",
    "sexlabel, yearlabel, intervallabel = readSYI(final, sheet_label)\n",
    "\n",
    "# Read in Estimated & Projected Small Area Total Population (Aggregated)\n",
    "TotPop = readSATP(2, sheet_SmallAreaTotals, numareas)\n",
    "\n",
    "# Read in small area ERP (Estimated Resident Population) by age & sex (before and at jumpoff year)\n",
    "ERP = readERP(2, numareas, numages, sheet_agesex, False)\n",
    "\n",
    "# Area-specific TFRs\n",
    "TFR = readTFR(final, numareas, sheet_fertility)\n",
    "\n",
    "# Read in data for ASFRs and Preliminary ASFRs (Area specific Fertility Rate)\n",
    "modelASFR, prelimASFR = readASFR(numareas, sheet_fertility, age_ASFR)\n",
    "\n",
    "# Read in data for Life Expectancy and Mortality Surface\n",
    "eO, MS_nLx, MS_TO = readLEMS(final, numareas, lastage, nLxMS, sheet_mortality)\n",
    "\n",
    "# Read in data of migration data and for ASMRs (Area specific Mortality Rate)\n",
    "totmig, modelASMR = readMASMR(numareas, lastage, sheet_migration)"
   ]
  },
  {
   "cell_type": "markdown",
   "metadata": {},
   "source": [
    "##### Some Checks"
   ]
  },
  {
   "cell_type": "code",
   "execution_count": 9,
   "metadata": {},
   "outputs": [],
   "source": [
    "# TFRs > 0\n",
    "for i in range(final + 1):\n",
    "    for a in range(numareas):\n",
    "        if (TFR[i, a] < 0.1):\n",
    "            print(\"Error: Year = \", yearlabel[i], \" & Area = \", Areaname[a])\n",
    "            break\n",
    "    break\n",
    "\n",
    "# eOs > 0\n",
    "for i in range(final + 1):\n",
    "    for a in range(numareas):\n",
    "        for q in range(2):\n",
    "            if (eO[i, a, q] < 0.1):\n",
    "                print(\"Error: Year = \", yearlabel[i], \" & Area = \", Areaname[a], \" & Sex = \", sexlabel[q])\n",
    "                break\n",
    "        break\n",
    "    break\n",
    "\n",
    "# Check Migration Turnover > 0\n",
    "for i in range(numareas):\n",
    "    if (totmig[i] < 0.1):\n",
    "        print(\"Error: Area =\", Areaname[i])\n",
    "    break\n",
    "    \n",
    "# Check Small Area Population Total > 0\n",
    "for i in range(2):\n",
    "    for a in range(numareas):\n",
    "        if (TotPop[i, a] < 0.1):\n",
    "            print(\"Error Year =\", yearlabel[i], \" & Area = \", Areaname[a])\n",
    "        break\n",
    "    break"
   ]
  },
  {
   "cell_type": "markdown",
   "metadata": {},
   "source": [
    "##### Calculate Input Data"
   ]
  },
  {
   "cell_type": "code",
   "execution_count": 10,
   "metadata": {},
   "outputs": [],
   "source": [
    "# Create input data for ASFR (Area specific Fertility Rate)\n",
    "ASFR = inputASFR(final, numareas, age_ASFR, sheet_fertility, prelimASFR, modelASFR, TFR, modelTFR)\n",
    "\n",
    "# Estimate base period birth by sex for the population 'Accounts'\n",
    "tempbirthssex, temptotbirths = inputbirth(numareas, age_ASFR, ASFR, ERP, SRB)\n",
    "\n",
    "# Calculate base period projected age-specific death rate (used in estimating death account)\n",
    "ASDR = inputASDR(final, numareas, lastage, nLxMS, eO, MS_TO, MS_nLx)\n",
    "\n",
    "# Calculate estimated death for age-sex cohorts and total population accounts\n",
    "tempdeaths, temptotdeaths = inputdeath(numareas, lastage, ASDR, ERP)\n",
    "\n",
    "# Calculate migration input data\n",
    "ASOMR, inward, outward, prelimmig, scaledmig, prelimbaseinward, prelimbaseoutward, cohortnetmig, adjnetmig, scalingfactor2a, scalingfactor2b = \\\n",
    "inputMigration(final, numareas, lastage, modelASMR, ERP, totmig, TotPop, temptotdeaths, temptotbirths, tempdeaths, tempbirthssex, ASDR, Areaname, sexlabel, pclabel, intervallabel)"
   ]
  },
  {
   "cell_type": "markdown",
   "metadata": {},
   "source": [
    "##### Write Input Data"
   ]
  },
  {
   "cell_type": "code",
   "execution_count": 11,
   "metadata": {},
   "outputs": [
    {
     "name": "stdout",
     "output_type": "stream",
     "text": [
      "Input data is prepared\n"
     ]
    }
   ],
   "source": [
    "# Write Input Data to Accounts Sheet\n",
    "wb_wt_Accounts = writeAccount(wb_wt_Accounts, numareas, Areaname, lastage, sexlabel, pclabel, tempbirthssex, inward, outward, prelimmig, scaledmig, prelimbaseinward, prelimbaseoutward, cohortnetmig, adjnetmig, scalingfactor2a, scalingfactor2b, ERP, tempdeaths)\n",
    "\n",
    "# Write Input Data to SmallAreaInputs Sheet\n",
    "wb_wt_SmallAreaInputs = writeSAI(wb_wt_SmallAreaInputs, intervallabel, numareas, lastage, final, Areacode, Areaname, pclabel, ASDR, ASOMR, inward, agelabel, ASFR)\n",
    "\n",
    "# Save the written workbook\n",
    "wb_wt.save(wt_loc)\n",
    "print(\"Input data is prepared\")"
   ]
  },
  {
   "cell_type": "markdown",
   "metadata": {},
   "source": [
    "## SyntheticProjectonModel"
   ]
  },
  {
   "cell_type": "markdown",
   "metadata": {},
   "source": [
    "#### Clear Previous Output Data"
   ]
  },
  {
   "cell_type": "code",
   "execution_count": 12,
   "metadata": {},
   "outputs": [],
   "source": [
    "# Before running the SyntheticProjectionModel Function, clear the output data if any\n",
    "wb_wt_AgeSexForecasts = wb_wt[\"AgeSexForecasts\"]\n",
    "wb_wt_Components = wb_wt[\"Components\"]\n",
    "wb_wt_Target = wb_wt[\"Target\"]\n",
    "wb_wt_CheckMig = wb_wt[\"CheckMig\"]\n",
    "wb_wt_CheckDeaths = wb_wt[\"CheckDeaths\"]\n",
    "wb_wt_Check_OK = wb_wt[\"Check_OK\"]\n",
    "wb_wt_Log = wb_wt[\"Log\"]\n",
    "\n",
    "# Clear the data and save the writable workbook\n",
    "clear_Input(wb_wt_AgeSexForecasts)\n",
    "clear_Input(wb_wt_Components)\n",
    "clear_Input(wb_wt_CheckMig)\n",
    "clear_Input(wb_wt_CheckDeaths)\n",
    "clear_Input(wb_wt_Check_OK)\n",
    "clear_Input(wb_wt_Log)\n",
    "wb_wt.save(wt_loc)"
   ]
  },
  {
   "cell_type": "markdown",
   "metadata": {},
   "source": [
    "#### Load in Required Data for Generating Projection Data"
   ]
  },
  {
   "cell_type": "code",
   "execution_count": 13,
   "metadata": {},
   "outputs": [],
   "source": [
    "# Read in readable required data for generating input data for further usage\n",
    "sheet_label = wb_rd.sheet_by_name('Labels')\n",
    "sheet_SmallAreaTotals = wb_rd.sheet_by_name('SmallAreaTotals')\n",
    "sheet_agesex = wb_rd.sheet_by_name('AgeSexERPs')\n",
    "sheet_mortality = wb_rd.sheet_by_name('Mortality')\n",
    "sheet_migration = wb_rd.sheet_by_name('Migration')\n",
    "sheet_NationalProjection = wb_rd.sheet_by_name('NationalProjection')\n",
    "\n",
    "# Temeorary read of new generated fertility\n",
    "temp_wb_rd = xlrd.open_workbook(wt_loc)\n",
    "sheet_fertility = temp_wb_rd.sheet_by_name('Fertility')\n",
    "sheet_accounts = temp_wb_rd.sheet_by_name('Accounts')\n",
    "sheet_SmallAreaInputs = temp_wb_rd.sheet_by_name('SmallAreaInputs')"
   ]
  },
  {
   "cell_type": "markdown",
   "metadata": {},
   "source": [
    "#### Start Generating Projection Data"
   ]
  },
  {
   "cell_type": "markdown",
   "metadata": {},
   "source": [
    "##### Define Variables"
   ]
  },
  {
   "cell_type": "code",
   "execution_count": 14,
   "metadata": {},
   "outputs": [],
   "source": [
    "smallnumber = 0.0001                            # Smoothed Number\n",
    "maxqiter = int(sheet_label.cell_value(10, 10))  # Max number of population-at-risk loop iterations\n",
    "maxziter = int(sheet_label.cell_value(13, 10))  # Max number of migration adjustment iterations\n",
    "numages = 18                                    # Number of age groups in ERPs\n",
    "lastage = 17                                    # Number of age groups in projections output\n",
    "nLxMS = 21                                      # nLx mortality surface groups\n",
    "age_ASFR = 7                                    # Age groups amount in ASFRs Model\n",
    "numareas = int(sheet_label.cell_value(2256, 0)) # Number of small areas\n",
    "final_year = 2035                               # Projection final year (editable)\n",
    "final = int((final_year - 2020) / 5)            # Final projection year number\n",
    "SRB = sheet_fertility.cell_value(2270, 1)       # Assumed Sex Ratio at Birth (Male : Female)\n",
    "modelTFR  = 0                                   # Model TFR Parameter\n",
    "for i in range(2259, 2266): modelTFR += sheet_fertility.cell_value(i, 1)\n",
    "modelTFR *= 5"
   ]
  },
  {
   "cell_type": "markdown",
   "metadata": {},
   "source": [
    "##### Load in required data for generating projection output"
   ]
  },
  {
   "cell_type": "code",
   "execution_count": 15,
   "metadata": {},
   "outputs": [],
   "source": [
    "## All two dimensional array with 0 and 1 as sex index, we treat 0 as female and 1 as male\n",
    "# Read in AreaCode, AreaName, AgeGroup, Period-Cohort Labels\n",
    "Areacode, Areaname, agelabel, pclabel = readCNAPC(numareas, numages, lastage, sheet_label)\n",
    "\n",
    "# Read in Sex, Year, Interval Labels\n",
    "sexlabel, yearlabel, intervallabel = readSYI(final, sheet_label)\n",
    "\n",
    "# Read in Estimated & Projected Small Area Total Population (Aggregated)\n",
    "TotPop = readSATP(4, sheet_SmallAreaTotals, numareas)\n",
    "\n",
    "# Read in small area ERP (Estimated Resident Population) by age & sex (before and at jumpoff year)\n",
    "ERP = readERP(1, numareas, numages, sheet_agesex, True)\n",
    "\n",
    "# Read in National population estimate & projections by age & sex\n",
    "NatP = readNatP(final, numages, sheet_NationalProjection)\n",
    "\n",
    "# Read in ASDR, ASOMR, Inward Migration, ASFR data for projection\n",
    "ASDR = ASDR[1:, 0:, 0:, 0:]\n",
    "ASOMR = ASOMR[1:, 0:, 0:, 0:]\n",
    "inward = inward[1:, 0:, 0:, 0:]\n",
    "ASFR = ASFR[1:, 0:, 0:]\n",
    "\n",
    "# Read in National projected births, deaths, net migration data\n",
    "NatB, NatDpc, NatNpc = readBDN(final, lastage, sheet_NationalProjection)"
   ]
  },
  {
   "cell_type": "markdown",
   "metadata": {},
   "source": [
    "##### Some Checks & Headings Writing"
   ]
  },
  {
   "cell_type": "code",
   "execution_count": 16,
   "metadata": {},
   "outputs": [],
   "source": [
    "# pop total > 0\n",
    "for y in range(final):\n",
    "    for i in range(numareas):\n",
    "        if (TotPop[y + 1, i] < 0.1):\n",
    "            print(\"Error: Year = \", yearlabel[y + 2], \" & Area = \", Areaname[i])\n",
    "            break\n",
    "    break\n",
    "\n",
    "# Check small area population totals match national population total\n",
    "for y in range(final + 1):\n",
    "    checktot1 = 0\n",
    "    for i in range(numareas):\n",
    "        checktot1 += TotPop[y, i]\n",
    "    checktot2 = 0\n",
    "    for s in range(2):\n",
    "        for a in range(lastage + 1):\n",
    "            checktot2 += NatP[y, s, a]\n",
    "    \n",
    "    if (abs(checktot1 - checktot2) > smallnumber):\n",
    "        print(\"Error: Year = \", yearlabel[y + 1], \"Sum of pop total = \", checktot1, \", Sum of national projections = \", checktot2)\n",
    "        break\n",
    "    break\n",
    "\n",
    "# Write headings and row names into the selected sheet(s)\n",
    "wb_wt_CheckMig, wb_wt_CheckDeaths, wb_wt_Log = writeNoteCL(numareas, lastage, wb_wt_CheckMig, wb_wt_CheckDeaths, wb_wt_Log, intervallabel, sexlabel, pclabel, Areaname, final)\n",
    "wb_wt.save(wt_loc)"
   ]
  },
  {
   "cell_type": "markdown",
   "metadata": {},
   "source": [
    "##### Start Projection"
   ]
  },
  {
   "cell_type": "code",
   "execution_count": 17,
   "metadata": {},
   "outputs": [],
   "source": [
    "# Set initial value of jump-off year population in age-sex cohort\n",
    "Population = readIniPop(final, numareas, numages, ERP)\n",
    "\n",
    "# Record total jump-off population into dataset for further projection usage\n",
    "totPopulation = readIniTPop(final, numareas, numages, Population)\n",
    "\n",
    "# Main Projection Section Starts\n",
    "# Start the Projection Interval Loop (record final = 3 projection years including 2025, 2030, 2035)\n",
    "Pop0 = numpy.zeros((final, numareas, 2, lastage + 1))\n",
    "Pop1 = numpy.zeros((final, numareas, 2, lastage + 1))\n",
    "Btot = numpy.zeros((final, numareas))                      # Total Birth in sex cohort\n",
    "Dpc = numpy.zeros((final, numareas, 2, lastage + 1))       # Death in age-sex cohort\n",
    "Dtot = numpy.zeros((final, numareas))                      # Total Death in sex cohort\n",
    "IMpc = numpy.zeros((final, numareas, 2, lastage + 1))      # Total Inward Migration in sex cohort\n",
    "OMpc = numpy.zeros((final, numareas, 2, lastage + 1))      # Total Outward Migration in sex cohort\n",
    "totN = numpy.zeros((final, numareas))\n",
    "previousPop1 = numpy.zeros((numareas, 2, lastage + 1))\n",
    "totINMIG = numpy.zeros((final, numareas))\n",
    "totOUTMIG = numpy.zeros((final, numareas))\n",
    "\n",
    "for y in range(1, final + 1):\n",
    "\n",
    "   # Record for each year of projection, the initial population is the previous year's projected population\n",
    "   # This function does not record the projected pop of 0-4 group\n",
    "   for i in range(numareas):\n",
    "      for s in range(2):\n",
    "         for pc in range(1, lastage):\n",
    "               Pop0[y - 1, i, s, pc] = Population[y - 1, i, s, pc - 1]\n",
    "         \n",
    "         # Record 85+ group population\n",
    "         Pop0[y - 1, i, s, lastage] = Population[y - 1, i, s, lastage - 1] + Population[y - 1, i, s, lastage]\n",
    "   \n",
    "   # Start large iteraction\n",
    "   for q in range(1, maxqiter + 1):\n",
    "\n",
    "      # Record the number of iteration required\n",
    "      wb_wt_Log.cell(3 + y, 1).value = intervallabel[y]\n",
    "      wb_wt_Log.cell(3 + y, 2).value = q\n",
    "      \n",
    "      # For the first iteration, the end-of-interval population is set (avoid a negative projected population)\n",
    "      if (q == 1):\n",
    "         for i in range(numareas):\n",
    "            for s in range(2):\n",
    "               for pc in range(lastage):\n",
    "                     Pop1[y - 1, i, s, pc + 1] = 0 # (+++ Projection Data Pop1 is written +++)\n",
    "                        \n",
    "      #-------------------------------------------------------------------------------------------------------------------------\n",
    "      # Birth Projection\n",
    "      # Preliminary birth by age of mother\n",
    "      Bage = numpy.zeros((numareas, 7))\n",
    "      Btottmp = numpy.zeros((numareas))\n",
    "      for i in range(numareas):\n",
    "         Btottmp[i] = 0\n",
    "         for pc in range(7):\n",
    "            Bage[i, pc] = ASFR[y - 1, i, pc] * 2.5 * (Pop0[y - 1, i, 0, pc + 4] + Pop1[y - 1, i, 0, pc + 3])\n",
    "            Btottmp[i] += Bage[i, pc]\n",
    "         \n",
    "      # Preliminary birth by sex\n",
    "      Bsextmp = numpy.zeros((numareas, 2))\n",
    "      Bsextmptot =  numpy.zeros((2))\n",
    "      for i in range(numareas):\n",
    "         # Female\n",
    "         Bsextmp[i, 0] = Btottmp[i] * (100 / (100 + SRB))\n",
    "         Bsextmptot[0] += Bsextmp[i, 0]\n",
    "         # Males\n",
    "         Bsextmp[i, 1] = Btottmp[i] * (SRB / (100 + SRB))\n",
    "         Bsextmptot[1] += Bsextmp[i, 1]\n",
    "\n",
    "      # Constrain to national births by sex (+++ Projection total birth -- Btot is Written +++)\n",
    "      Bsex = numpy.zeros((numareas, 2))\n",
    "      for i in range(numareas):\n",
    "         Btot[y - 1, i] = 0\n",
    "         for s in range(2):\n",
    "            Bsex[i, s] = Bsextmp[i, s] * NatB[y - 1, s] / Bsextmptot[s]\n",
    "            Btot[y - 1, i] += Bsex[i, s]\n",
    "            \n",
    "      # Allocate births to the initial infant population (+++ Projection Pop0 is written for filling age-group 0-4 +++)\n",
    "      for i in range(numareas):\n",
    "         for s in range(2):\n",
    "            Pop0[y - 1, i, s, 0] = Bsex[i, s]\n",
    "      \n",
    "      # For the first iteration, the end-of-interval group 0-4 population is set (+++ Pop1 is written fo filling group 0-4 +++)\n",
    "      if (q == 1):\n",
    "         for i in range(numareas):\n",
    "            for s in range(2):\n",
    "               Pop1[y - 1, i, s, 0] = Bsex[i, s]\n",
    "      \n",
    "      #-------------------------------------------------------------------------------------------------------------------------\n",
    "      # Death Projection\n",
    "      # Preliminary deaths in age-sex groups\n",
    "      Dtmp = numpy.zeros((numareas, 2, lastage + 1))\n",
    "      for i in range(numareas):\n",
    "         for s in range(2):\n",
    "            # Record age group without 0-4\n",
    "            for pc in range(1, lastage + 1):\n",
    "               Dtmp[i, s, pc] = ASDR[y - 1, i, s, pc] * 2.5 * (Pop0[y - 1, i, s, pc] + Pop1[y - 1, i, s, pc])\n",
    "            # Record age group 0-4    \n",
    "            Dtmp[i, s, 0] = ASDR[y - 1, i, s, 0] * 2.5 * Pop1[y - 1, i, s, 0]\n",
    "      \n",
    "      # Preliminary total deaths (sum age)\n",
    "      Dtmptot = numpy.zeros((2, lastage + 1))\n",
    "      for i in range(numareas):\n",
    "         for s in range(2):\n",
    "            for pc in range(lastage + 1):\n",
    "               Dtmptot[s, pc] += Dtmp[i, s, pc]\n",
    "      \n",
    "      # Constrain to national deaths (+++ Dpc, Dtot are written as death projection data +++)\n",
    "      for i in range(numareas):\n",
    "         Dtot[y - 1 , i] = 0\n",
    "         for s in range(2):\n",
    "            for pc in range(lastage + 1):\n",
    "               Dpc[y - 1, i, s, pc] = Dtmp[i, s, pc] * NatDpc[y - 1, s, pc] / Dtmptot[s, pc]\n",
    "               Dtot[y - 1, i] += Dpc[y - 1, i, s, pc]\n",
    "\n",
    "      #-------------------------------------------------------------------------------------------------------------------------\n",
    "      # Migration Projection\n",
    "      # Preliminary Migration (in & out)\n",
    "      prelimIMpc = numpy.zeros((numareas, 2, lastage + 1))\n",
    "      prelimOMpc = numpy.zeros((numareas, 2, lastage + 1))\n",
    "      for i in range(numareas):\n",
    "         for s in range(2):\n",
    "            # Record age group without 0-4\n",
    "            for pc in range(1, lastage + 1):\n",
    "               prelimIMpc[i, s, pc] = inward[y - 1, i, s, pc]\n",
    "               prelimOMpc[i, s, pc] = ASOMR[y - 1, i, s, pc] * 2.5 * (Pop0[y - 1, i, s, pc] + Pop1[y - 1, i, s, pc])\n",
    "            # Record age group 0-4\n",
    "            prelimIMpc[i, s, 0] = inward[y - 1, i, s, 0]\n",
    "            prelimOMpc[i, s, 0] = ASOMR[y - 1, i, s, 0] * 2.5 * Pop1[y - 1, i, s, 0]\n",
    "      \n",
    "      # Calculate residual net migration required to produce total projected populations\n",
    "      requiredN = numpy.zeros((numareas))\n",
    "      for i in range(numareas):\n",
    "            requiredN[i] = TotPop[y, i] - TotPop[y - 1, i] - Btot[y - 1, i] + Dtot[y - 1, i]\n",
    "      \n",
    "      # Preparing arrays for IPF\n",
    "      NatN = numpy.zeros((2, lastage + 1))\n",
    "      for s in range(2):\n",
    "            for pc in range(lastage + 1):\n",
    "               NatN[s, pc] = NatNpc[y - 1, s, pc]\n",
    "\n",
    "      LocalPop0 = numpy.zeros((numareas, 2, lastage + 1))\n",
    "      LocalDpc = numpy.zeros((numareas, 2, lastage + 1))\n",
    "      for i in range(numareas):\n",
    "            for s in range(2):\n",
    "               for pc in range(lastage + 1):\n",
    "                  LocalPop0[i, s, pc] = Pop0[y - 1, i, s, pc]\n",
    "                  LocalDpc[i, s, pc] = Dpc[y - 1, i, s, pc]\n",
    "      \n",
    "      labelint = intervallabel[y]\n",
    "      labely = y\n",
    "      labelq = q\n",
    "\n",
    "      # Generate IPF\n",
    "      scaledIM = numpy.zeros((numareas, 2, lastage + 1))\n",
    "      scaledOM = numpy.zeros((numareas, 2, lastage + 1))\n",
    "\n",
    "      # Call the NetMigAdjustment2 function to generate IPF data (scaled Inward & Outward Migration)\n",
    "      scaledIM, scaledOM = NetMigAdjustment2(labely, prelimIMpc, prelimOMpc, NatN, requiredN, LocalPop0, LocalDpc, scaledIM, scaledOM, numareas, lastage, maxziter, smallnumber, wb_wt_Log)\n",
    "\n",
    "      # Allocate fitted migration to migration arrays (+++ IMpc, OMpc are written +++)\n",
    "      for i in range(numareas):\n",
    "         for s in range(2):\n",
    "            for pc in range(lastage + 1):\n",
    "               IMpc[y - 1, i, s, pc] = scaledIM[i, s, pc]\n",
    "               OMpc[y - 1, i, s, pc] = scaledOM[i, s, pc]\n",
    "\n",
    "      # END-OF-INTERVAL POPULATIONS\n",
    "      for i in range(numareas):\n",
    "         for s in range(2):\n",
    "            for pc in range(lastage + 1):\n",
    "               Pop1[y - 1, i, s, pc] = Pop0[y - 1, i, s, pc] - Dpc[y - 1, i, s, pc] + IMpc[y - 1, i, s, pc] - OMpc[y - 1, i, s, pc]\n",
    "\n",
    "      # Difference between the end-of-interval population calculated above & Those of the previous iteration are compared\n",
    "      totpop1_OK = 0\n",
    "      pop1_OK = numpy.zeros((numareas, 2, lastage + 1))\n",
    "      discrepancy = numpy.zeros((numareas, 2, lastage + 1))\n",
    "      if (q > 1):\n",
    "         for i in range(numareas):\n",
    "            for s in range(2):\n",
    "               for pc in range(lastage + 1):\n",
    "                     discrepancy[i, s, pc] = abs(Pop1[y - 1, i, s, pc] - previousPop1[i, s, pc])\n",
    "                     if (discrepancy[i, s, pc] < smallnumber):\n",
    "                        pop1_OK[i, s, pc] = 0\n",
    "                     else:\n",
    "                        pop1_OK[i, s, pc] = 1\n",
    "                     totpop1_OK += pop1_OK[i, s, pc]\n",
    "      \n",
    "      # Previous iteration loop value of the final population are updated\n",
    "      for i in range(numareas):\n",
    "         for s in range(2):\n",
    "            for pc in range(lastage + 1):\n",
    "               previousPop1[i, s, pc] = Pop1[y - 1, i, s, pc]\n",
    "      \n",
    "      # Convergence Check\n",
    "      if q > 1:\n",
    "         if (totpop1_OK == 0):\n",
    "            break\n",
    "   \n",
    "   # Write out preliminary and scale net migration\n",
    "   row = 2 + (((lastage + 2) * 2) * y) - ((lastage + 1) * 2)\n",
    "   for s in range(2):\n",
    "      for pc in range(lastage + 1):\n",
    "         row += 1\n",
    "         col = 3\n",
    "         for i in range(numareas):\n",
    "               wb_wt_CheckMig.cell(row, col).value = prelimIMpc[i, s, pc] - prelimOMpc[i, s, pc]\n",
    "               wb_wt_CheckMig.cell(row, col + numareas + 3).value = IMpc[y - 1, i, s, pc] - OMpc[y - 1, i, s, pc]\n",
    "         col += 1\n",
    "         wb_wt_CheckMig.cell(row, col + numareas + 3).value = NatNpc[y - 1, s, pc]\n",
    "   \n",
    "   # Write out projected deaths\n",
    "   row = 2 +  (((lastage + 2) * 2) * y) - ((lastage + 1) * 2)\n",
    "   for s in range(2):\n",
    "      for pc in range(lastage + 1):\n",
    "         row += 1\n",
    "         col = 3\n",
    "         for i in range(numareas):\n",
    "               wb_wt_CheckDeaths.cell(row, col).value = Dpc[y - 1, i, s, pc]\n",
    "         col += 1\n",
    "         wb_wt_CheckDeaths.cell(row, col).value = NatDpc[y - 1, s, pc]\n",
    "\n",
    "   # Calculate total migration for population accounts output\n",
    "   for i in range(numareas):\n",
    "      totN[y - 1, i] = 0\n",
    "      totINMIG[y - 1, i] = 0\n",
    "      totOUTMIG[y - 1, i] = 0\n",
    "      for s in range(2):\n",
    "         for pc in range(lastage + 1):\n",
    "            totN[y - 1, i] += (IMpc[y - 1, i, s, pc] - OMpc[y - 1, i, s, pc])\n",
    "            totINMIG[y - 1, i] += IMpc[y - 1, i, s, pc]\n",
    "            totOUTMIG[y - 1, i] += OMpc[y - 1, i, s, pc]\n",
    "    \n",
    "   # Adjustment of age subscripts (+++ Population is written +++)\n",
    "   for i in range (numareas):\n",
    "      for s in range(2):\n",
    "         for pc in range(lastage + 1):\n",
    "            Population[y, i, s, pc] = Pop1[y - 1, i, s, pc]\n",
    "    \n",
    "   # Total populations summed from age-sex populations (+++ totPopulation is written +++)\n",
    "   for i in range(numareas):\n",
    "      totPopulation[y, i] = 0\n",
    "      for s in range(2):\n",
    "         for a in range(numages):\n",
    "            totPopulation[y, i] += Population[y, i, s, a]\n",
    "    \n",
    "   # Check for negative populations\n",
    "   for i in range(numareas):\n",
    "      for s in range(2):\n",
    "         for a in range(numages):\n",
    "            if Population[y, i, s, a] < 0:\n",
    "               print(\"Error: Negative population detected in one or more age groups\")"
   ]
  },
  {
   "cell_type": "markdown",
   "metadata": {},
   "source": [
    "##### Write Projection Data"
   ]
  },
  {
   "cell_type": "code",
   "execution_count": 18,
   "metadata": {},
   "outputs": [],
   "source": [
    "# Write the projection data into worksheet\n",
    "wb_wt_AgeSexForecasts, wb_wt_Components = writeProj(wb_wt_AgeSexForecasts, wb_wt_Components, yearlabel, intervallabel, Areacode, Areaname, sexlabel, agelabel, \\\n",
    "                                                    numareas, numages, final, Population, totPopulation, Btot, Dtot, totN)\n",
    "wb_wt.save(wt_loc)"
   ]
  },
  {
   "cell_type": "markdown",
   "metadata": {},
   "source": [
    "## Projection Visualisation"
   ]
  },
  {
   "cell_type": "code",
   "execution_count": 20,
   "metadata": {},
   "outputs": [],
   "source": [
    "# Visualisation of Summary of Population Projection with Selected Area and Projection Year\n",
    "# Set male's data as left section and female's data as right section in the Pyramid Plot\n",
    "Target_Area = \"Queanbeyan\"\n",
    "Jump_Year = 2020\n",
    "Proj_Year = 2035\n",
    "\n",
    "# Write target data into sheet\n",
    "wb_wt_Target = writeTarget(wb_wt_Target, Target_Area, Jump_Year, Proj_Year, Areaname, yearlabel, Population, numages, sexlabel, agelabel)\n",
    "wb_wt.save(wt_loc)"
   ]
  }
 ],
 "metadata": {
  "kernelspec": {
   "display_name": "Python 3.8.5 ('base')",
   "language": "python",
   "name": "python3"
  },
  "language_info": {
   "codemirror_mode": {
    "name": "ipython",
    "version": 3
   },
   "file_extension": ".py",
   "mimetype": "text/x-python",
   "name": "python",
   "nbconvert_exporter": "python",
   "pygments_lexer": "ipython3",
   "version": "3.8.5"
  },
  "orig_nbformat": 4,
  "vscode": {
   "interpreter": {
    "hash": "049419377493410418221219f88c50d3479b1ba7079f22c840c2248985648a1c"
   }
  }
 },
 "nbformat": 4,
 "nbformat_minor": 2
}
