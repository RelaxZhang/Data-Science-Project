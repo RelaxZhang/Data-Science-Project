{
 "cells": [
  {
   "cell_type": "markdown",
   "metadata": {},
   "source": [
    "# Notebook for Generating Data for the Synthetic Migration Model"
   ]
  },
  {
   "cell_type": "markdown",
   "metadata": {},
   "source": [
    "### Read in Remainder Area Name(s)"
   ]
  },
  {
   "cell_type": "code",
   "execution_count": 2,
   "metadata": {},
   "outputs": [],
   "source": [
    "import pandas as pd\n",
    "from openpyxl import load_workbook\n",
    "from syntheticData import selectSynYear, remainderFunc, totPop, agesexPop, recordAgeSex\n",
    "from syntheticData import growthRate, spec4NPT, popCeil, CSP, MEX, VSG, LINEXP, constrainLINEXP\n",
    "\n",
    "# Full dataset of age-sex cohort\n",
    "all_area = pd.read_excel('/../Users/relax/Desktop/DSP/DS_Project/Data/historyData.xlsx', sheet_name = 'Sheet1')\n",
    "all_area_year = all_area[\"Year\"].tolist()\n",
    "all_area_name = all_area[\"SA3 Name\"].tolist()\n",
    "all_area_cpde = all_area[\"SA3 Code\"].tolist()\n",
    "all_area_pop = all_area.iloc[0:len(all_area_year), 9:]\n",
    "all_area_pop[\"Year\"] = all_area_year\n",
    "all_area_pop[\"SA3 Name\"] = all_area_name\n",
    "all_area_pop[\"SA3 Code\"] = all_area_cpde\n",
    "\n",
    "# Find our remainder areas from the age-sex cohort dataframe\n",
    "remainder_list = []\n",
    "outsider_list = [\"Cocos (Keeling) Islands\", \"Jervis Bay\", \"Christmas Island\"]\n",
    "for i in range(len(all_area[\"Year\"])):\n",
    "    if (all_area.iloc[i, 45] == \"..\" or all_area.iloc[i, 45] < 1000):\n",
    "        if (all_area.iloc[i, 8] not in remainder_list):\n",
    "            remainder_list.append(all_area.iloc[i, 8])\n",
    "\n",
    "# Generate target year dataframe for further usage\n",
    "all_area_pop_1991 = selectSynYear(all_area_pop, 1991)\n",
    "all_area_pop_1996 = selectSynYear(all_area_pop, 1996)\n",
    "all_area_pop_2001 = selectSynYear(all_area_pop, 2001)\n",
    "all_area_pop_2006 = selectSynYear(all_area_pop, 2006)\n",
    "all_area_pop_2011 = selectSynYear(all_area_pop, 2011)\n",
    "\n",
    "# Calculate total population in 1991, 1996, 2001, 2006, 2011 for aggregated remainder area\n",
    "remainder_1991 = remainderFunc(all_area_pop_1991, remainder_list, outsider_list)\n",
    "remainder_1996 = remainderFunc(all_area_pop_1996, remainder_list, outsider_list)\n",
    "remainder_2001 = remainderFunc(all_area_pop_2001, remainder_list, outsider_list)\n",
    "remainder_2006 = remainderFunc(all_area_pop_2006, remainder_list, outsider_list)\n",
    "remainder_2011 = remainderFunc(all_area_pop_2011, remainder_list, outsider_list)\n",
    "\n",
    "# Record the total population for all areas (including the aggregated region)\n",
    "SA3_Name_list_1991, SA3_Code_list_1991, SA3_totPop_list_1991 = totPop(remainder_1991, all_area_pop_1991, remainder_list)\n",
    "SA3_Name_list_1996, SA3_Code_list_1996, SA3_totPop_list_1996 = totPop(remainder_1996, all_area_pop_1996, remainder_list)\n",
    "SA3_Name_list_2001, SA3_Code_list_2001, SA3_totPop_list_2001 = totPop(remainder_2001, all_area_pop_2001, remainder_list)\n",
    "SA3_Name_list_2006, SA3_Code_list_2006, SA3_totPop_list_2006 = totPop(remainder_2006, all_area_pop_2006, remainder_list)\n",
    "SA3_Name_list_2011, SA3_Code_list_2011, SA3_totPop_list_2011 = totPop(remainder_2011, all_area_pop_2011, remainder_list)\n",
    "\n",
    "# Record the age-sex ERP data for all areas (including the aggregated region)\n",
    "male_list_1991, female_list_1991 = agesexPop(remainder_list, all_area_pop_1991, outsider_list, 18)\n",
    "male_list_1996, female_list_1996 = agesexPop(remainder_list, all_area_pop_1996, outsider_list, 18)\n",
    "male_list_2001, female_list_2001 = agesexPop(remainder_list, all_area_pop_2001, outsider_list, 18)\n",
    "male_list_2006, female_list_2006 = agesexPop(remainder_list, all_area_pop_2006, outsider_list, 18)\n",
    "male_list_2011, female_list_2011 = agesexPop(remainder_list, all_area_pop_2011, outsider_list, 18)"
   ]
  },
  {
   "cell_type": "markdown",
   "metadata": {},
   "source": [
    "### Record Age-Sex Cohort Data into the Synthetic Migration Model Workbook"
   ]
  },
  {
   "cell_type": "code",
   "execution_count": 11,
   "metadata": {},
   "outputs": [],
   "source": [
    "# Load Workbooks\n",
    "wt_loc = '../VBA_9616/vba.xlsx'\n",
    "wb_wt = load_workbook(wt_loc)\n",
    "wb_wt_Labels = wb_wt[\"Labels\"]\n",
    "wb_wt_AgeSexERPs = wb_wt[\"AgeSexERPs\"]\n",
    "wb_wt_SmallAreaTotals = wb_wt[\"SmallAreaTotals\"]\n",
    "wb_wt_Fertility = wb_wt[\"Fertility\"]\n",
    "wb_wt_Mortality = wb_wt[\"Mortality\"]\n",
    "wb_wt_Migration = wb_wt[\"Migration\"]\n",
    "\n",
    "# Write Area Name & Code into Worksheets\n",
    "row = 4\n",
    "row_ERP = 5\n",
    "for i in range(len(SA3_Name_list_1991)):\n",
    "    row += 1\n",
    "    col_code = 2\n",
    "    col_name = 3\n",
    "    wb_wt_Labels.cell(row, col_code).value = SA3_Code_list_1991[i]\n",
    "    wb_wt_Labels.cell(row, col_name).value = SA3_Name_list_1991[i]\n",
    "    wb_wt_SmallAreaTotals.cell(row, col_code).value = SA3_Code_list_1991[i]\n",
    "    wb_wt_SmallAreaTotals.cell(row, col_name).value = SA3_Name_list_1991[i]\n",
    "    wb_wt_SmallAreaTotals.cell(row, col_code + 2).value = SA3_totPop_list_1996[i]\n",
    "    wb_wt_SmallAreaTotals.cell(row, col_name + 2).value = SA3_totPop_list_2001[i]\n",
    "    wb_wt_Fertility.cell(row + 2, col_code).value = SA3_Code_list_1991[i]\n",
    "    wb_wt_Fertility.cell(row + 2, col_name).value = SA3_Name_list_1991[i]\n",
    "    wb_wt_Mortality.cell(row + 2, col_code).value = SA3_Code_list_1991[i]\n",
    "    wb_wt_Mortality.cell(row + 2, col_name).value = SA3_Name_list_1991[i]\n",
    "    wb_wt_Migration.cell(row + 1, col_code).value = SA3_Code_list_1991[i]\n",
    "    wb_wt_Migration.cell(row + 1, col_name).value = SA3_Name_list_1991[i]\n",
    "    wb_wt_AgeSexERPs.cell(row_ERP, col_code).value = SA3_Code_list_1991[i]\n",
    "    wb_wt_AgeSexERPs.cell(row_ERP, col_name).value = SA3_Name_list_1991[i]\n",
    "    row_ERP += 18\n",
    "\n",
    "# Record age-sex ERP data into worksheet\n",
    "wb_wt_AgeSexERPs = recordAgeSex(male_list_1996, male_list_2001, female_list_1996, female_list_2001, wb_wt_AgeSexERPs)\n",
    "\n",
    "# Save the changes of the workbook\n",
    "wb_wt.save(wt_loc)"
   ]
  },
  {
   "cell_type": "markdown",
   "metadata": {},
   "source": [
    "# Generate 4-Model SmallAreaTotal Population"
   ]
  },
  {
   "cell_type": "markdown",
   "metadata": {},
   "source": [
    "### ERPs"
   ]
  },
  {
   "cell_type": "code",
   "execution_count": 12,
   "metadata": {},
   "outputs": [],
   "source": [
    "# Create dataframe of ERPs value\n",
    "ERPs = {\"Area\": SA3_Name_list_1991, '1991': SA3_totPop_list_1991, \"2001\" : SA3_totPop_list_2001, \"2006\" : SA3_totPop_list_2006}\n",
    "df_ERPs = pd.DataFrame(ERPs)"
   ]
  },
  {
   "cell_type": "markdown",
   "metadata": {},
   "source": [
    "### Annual Average Growth & Growth Rate"
   ]
  },
  {
   "cell_type": "code",
   "execution_count": 13,
   "metadata": {},
   "outputs": [],
   "source": [
    "# Generate Annual Average Population Growth & Growth Rate\n",
    "previous_year = 1991\n",
    "jump_year = 2001\n",
    "growth, growth_rate = growthRate(previous_year, jump_year, df_ERPs)"
   ]
  },
  {
   "cell_type": "markdown",
   "metadata": {},
   "source": [
    "### CSP_Model"
   ]
  },
  {
   "cell_type": "code",
   "execution_count": 14,
   "metadata": {},
   "outputs": [],
   "source": [
    "# Create dataframe of CSP_model output (4 data points of NationalProjection)\n",
    "target_4NPT = [19272117, 20192983, 21018687, 21786396]\n",
    "column_4name = [\"2001\", \"2006\", \"2011\", \"2016\"]\n",
    "df_CSP_4NP = CSP(SA3_totPop_list_2001, target_4NPT, column_4name)\n",
    "\n",
    "# Create special NationalProjection Data from the 4-Datapoint NPT list (Only used in VSG_Model)\n",
    "target_spec_4NPT = spec4NPT(target_4NPT, 5)\n",
    "\n",
    "# Create dataframe of CSP_model output (16 data points of National Projection)\n",
    "target_16NPT = [19274701, 19495210, 19723404, 19944673, 20158812, 20365611, 20569450, 20770415, 20968573, 21164010, 21356610, 21546808, 21735843, 21923830, 22110794, 22296754]\n",
    "column_16name = [\"2001\", \"2002\", \"2003\", \"2004\", \"2005\", \"2006\", \"2007\", \"2008\", \"2009\", \"2010\", \"2011\", \"2012\", \"2013\", \"2014\", \"2015\", \"2016\"]\n",
    "df_CSP_16NP = CSP(SA3_totPop_list_2001, target_16NPT, column_16name)"
   ]
  },
  {
   "cell_type": "markdown",
   "metadata": {},
   "source": [
    "### MEX_Model"
   ]
  },
  {
   "cell_type": "code",
   "execution_count": 15,
   "metadata": {},
   "outputs": [],
   "source": [
    "# Generate Population Ceiling K\n",
    "jumpoff_year = 2001\n",
    "limit_coef = 5\n",
    "pop_ceil = popCeil(jumpoff_year, limit_coef, growth_rate, df_ERPs)\n",
    "\n",
    "# Generate Total Population with MEX_Model\n",
    "target_final_year = 2016\n",
    "df_MEX = MEX(jumpoff_year, target_final_year, df_ERPs, pop_ceil, growth_rate)"
   ]
  },
  {
   "cell_type": "markdown",
   "metadata": {},
   "source": [
    "### VSG_Model"
   ]
  },
  {
   "cell_type": "code",
   "execution_count": 16,
   "metadata": {},
   "outputs": [],
   "source": [
    "# Generate Total Population with VSG_Model Based on Different NationalProjection Data\n",
    "\n",
    "# Total Population Based on Tom's 2001 SA2 NationalProjection Data\n",
    "df_VSG_year_16 = VSG(jumpoff_year, target_final_year, df_ERPs, growth, growth_rate, 1, target_16NPT)\n",
    "\n",
    "# Total Population Based on Tom's 2001 SA3 NationalProjection Data\n",
    "df_VSG_year_4 = VSG(jumpoff_year, target_final_year, df_ERPs, growth, growth_rate, 5, target_4NPT)\n",
    "\n",
    "# Total Population Based on Tom's 2001 SA3 NationalProjection Data with Manipulation (Equally Divided Population Difference between Years)\n",
    "df_VSG_year_4_spec = VSG(jumpoff_year, target_final_year, df_ERPs, growth, growth_rate, 1, target_spec_4NPT)"
   ]
  },
  {
   "cell_type": "markdown",
   "metadata": {},
   "source": [
    "### LINEXP_Model"
   ]
  },
  {
   "cell_type": "code",
   "execution_count": 17,
   "metadata": {},
   "outputs": [],
   "source": [
    "# Generate Total Population with LINEXP_Model (Unconstrained)\n",
    "jumpoff_year = 2001\n",
    "target_year = 2016\n",
    "df_LINEXP = LINEXP(jumpoff_year, target_year, growth, growth_rate, df_ERPs)\n",
    "\n",
    "# Generate 2 Types of Constrained Total Population with LINEXP_Model\n",
    "df_constrain_4LINEXP =constrainLINEXP(df_LINEXP, jumpoff_year, target_year, df_CSP_4NP, 5)\n",
    "df_constrain_16LINEXP =constrainLINEXP(df_LINEXP, jumpoff_year, target_year, df_CSP_16NP, 1)"
   ]
  },
  {
   "cell_type": "markdown",
   "metadata": {},
   "source": [
    "# Record Average-4-Model Total Population Data"
   ]
  },
  {
   "cell_type": "code",
   "execution_count": 18,
   "metadata": {},
   "outputs": [],
   "source": [
    "# Case 1: Use 4-Datapoint NationalProjection Data\n",
    "TP4_2006 = (df_MEX[\"2006\"] + df_LINEXP[\"2006\"] + df_CSP_4NP[\"2006\"] + df_VSG_year_4[\"2006\"]) / 4\n",
    "TP4_2011 = (df_MEX[\"2011\"] + df_LINEXP[\"2011\"] + df_CSP_4NP[\"2011\"] + df_VSG_year_4[\"2011\"]) / 4\n",
    "TP4_2016 = (df_MEX[\"2016\"] + df_LINEXP[\"2016\"] + df_CSP_4NP[\"2016\"] + df_VSG_year_4[\"2016\"]) / 4\n",
    "TP4_dict = {\"2006\": TP4_2006.tolist(), \"2011\": TP4_2011.tolist(), \"2016\": TP4_2016.tolist()}\n",
    "df_TP4 = pd.DataFrame(TP4_dict)\n",
    "\n",
    "# Case 2: Use 16-Datapoint NationalProjection Data\n",
    "TP16_2006 = (df_MEX[\"2006\"] + df_LINEXP[\"2006\"] + df_CSP_16NP[\"2006\"] + df_VSG_year_16[\"2006\"]) / 4\n",
    "TP16_2011 = (df_MEX[\"2011\"] + df_LINEXP[\"2011\"] + df_CSP_16NP[\"2011\"] + df_VSG_year_16[\"2011\"]) / 4\n",
    "TP16_2016 = (df_MEX[\"2016\"] + df_LINEXP[\"2016\"] + df_CSP_16NP[\"2016\"] + df_VSG_year_16[\"2016\"]) / 4\n",
    "TP16_dict = {\"2006\": TP16_2006.tolist(), \"2011\": TP16_2011.tolist(), \"2016\": TP16_2016.tolist()}\n",
    "df_TP16 = pd.DataFrame(TP16_dict)\n",
    "\n",
    "# Record the Projection Total Population Data for Year 2006, 2011, 2016 (df_TP4 / df_TP16)\n",
    "row = 4\n",
    "for i in range(len(SA3_Name_list_1991)):\n",
    "    row += 1\n",
    "    wb_wt_SmallAreaTotals.cell(row, 6).value = df_TP4[\"2006\"][i]\n",
    "    wb_wt_SmallAreaTotals.cell(row, 7).value = df_TP4[\"2011\"][i]\n",
    "    wb_wt_SmallAreaTotals.cell(row, 8).value = df_TP4[\"2016\"][i]\n",
    "\n",
    "# Save the changes of the workbook\n",
    "wb_wt.save(wt_loc)"
   ]
  }
 ],
 "metadata": {
  "kernelspec": {
   "display_name": "Python 3.9.12 ('base')",
   "language": "python",
   "name": "python3"
  },
  "language_info": {
   "codemirror_mode": {
    "name": "ipython",
    "version": 3
   },
   "file_extension": ".py",
   "mimetype": "text/x-python",
   "name": "python",
   "nbconvert_exporter": "python",
   "pygments_lexer": "ipython3",
   "version": "3.9.12"
  },
  "orig_nbformat": 4,
  "vscode": {
   "interpreter": {
    "hash": "40d3a090f54c6569ab1632332b64b2c03c39dcf918b08424e98f38b5ae0af88f"
   }
  }
 },
 "nbformat": 4,
 "nbformat_minor": 2
}
