{
 "cells": [
  {
   "cell_type": "markdown",
   "metadata": {
    "id": "dnzHvGaNFij0"
   },
   "source": [
    "\n",
    "1. Read data"
   ]
  },
  {
   "cell_type": "code",
   "execution_count": 1,
   "metadata": {
    "id": "LV3_kzZiFlGT"
   },
   "outputs": [],
   "source": [
    "import pandas as pd\n",
    "import numpy as np\n",
    "from collections import defaultdict"
   ]
  },
  {
   "cell_type": "code",
   "execution_count": null,
   "metadata": {
    "colab": {
     "base_uri": "https://localhost:8080/",
     "height": 41,
     "resources": {
      "http://localhost:8080/nbextensions/google.colab/files.js": {
       "data": "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",
       "headers": [
        [
         "content-type",
         "application/javascript"
        ]
       ],
       "ok": true,
       "status": 200,
       "status_text": ""
      }
     }
    },
    "id": "wLHvXR7HFm_i",
    "outputId": "95940550-0a60-4909-9064-9a096ba0f7cb"
   },
   "outputs": [],
   "source": [
    "from google.colab import files\n",
    "data = files.upload()"
   ]
  },
  {
   "cell_type": "code",
   "execution_count": 2,
   "metadata": {},
   "outputs": [],
   "source": [
    "#raw_data = pd.read_csv('true_1000_fulldata.csv')"
   ]
  },
  {
   "cell_type": "code",
   "execution_count": 2,
   "metadata": {
    "id": "Mems8PcsFodi"
   },
   "outputs": [],
   "source": [
    "raw_data = pd.read_csv('../Data/true_1000_fulldata.csv')\n"
   ]
  },
  {
   "cell_type": "code",
   "execution_count": 3,
   "metadata": {},
   "outputs": [],
   "source": [
    "sa3_num = len(raw_data['SA3 Code'].unique())\n",
    "sa3_names = raw_data['SA3 Name'].unique()"
   ]
  },
  {
   "cell_type": "code",
   "execution_count": 4,
   "metadata": {
    "id": "cuNoeLHJM4p6"
   },
   "outputs": [],
   "source": [
    "raw_data['m_total'] = raw_data.apply(lambda x: x['m0-4']+x['m5-9']+x['m10-14']+x['m15-19']+\n",
    "                                               x['m20-24']+x['m25-29']+x['m30-34']+x['m35-39']+\n",
    "                                               x['m40-44']+x['m45-49']+x['m50-54']+x['m55-59']+\n",
    "                                               x['m60-64']+x['m65-69']+x['m70-74']+x['m75-79']+\n",
    "                                               x['m80-84']+x['m85+'], axis=1)"
   ]
  },
  {
   "cell_type": "code",
   "execution_count": 5,
   "metadata": {
    "id": "MVfuRencM9SK"
   },
   "outputs": [],
   "source": [
    "raw_data['f_total'] = raw_data.apply(lambda x: x['f0-4']+x['f5-9']+x['f10-14']+x['f15-19']+\n",
    "                                               x['f20-24']+x['f25-29']+x['f30-34']+x['f35-39']+\n",
    "                                               x['f40-44']+x['f45-49']+x['f50-54']+x['f55-59']+\n",
    "                                               x['f60-64']+x['f65-69']+x['f70-74']+x['f75-79']+\n",
    "                                               x['f80-84']+x['f85+'], axis=1)"
   ]
  },
  {
   "cell_type": "code",
   "execution_count": 6,
   "metadata": {
    "id": "wxj48eZ4M-8S"
   },
   "outputs": [],
   "source": [
    "assert((raw_data['m_total']+raw_data['f_total'] == raw_data['Total']).all())"
   ]
  },
  {
   "cell_type": "code",
   "execution_count": 7,
   "metadata": {
    "id": "-2Pc3alFNBma"
   },
   "outputs": [],
   "source": [
    "sa3_codes = raw_data['SA3 Code'].unique()"
   ]
  },
  {
   "cell_type": "markdown",
   "metadata": {
    "id": "2yl66l47NFVb"
   },
   "source": [
    "2. Split Train, Validation, Test set"
   ]
  },
  {
   "cell_type": "code",
   "execution_count": 8,
   "metadata": {
    "id": "DBN3rm6rNDLT"
   },
   "outputs": [],
   "source": [
    "train_data = raw_data[(raw_data['Year']>=1991) & (raw_data['Year']<=2001)]\n",
    "#val_data = raw_data[(raw_data['Year']>=2002) & (raw_data['Year']<=2005)]\n",
    "# remove vali 10-10\n",
    "test_data = raw_data[(raw_data['Year']>=2002) & (raw_data['Year']<=2011)]"
   ]
  },
  {
   "cell_type": "code",
   "execution_count": 9,
   "metadata": {
    "id": "_dLQhx9qNEbC"
   },
   "outputs": [],
   "source": [
    "# Split the data by sex\n",
    "age_groups = ['0-4','5-9', '10-14', '15-19', '20-24', '25-29', '30-34', '35-39','40-44', '45-49', '50-54', '55-59', '60-64', '65-69', '70-74','75-79', '80-84', '85+']\n",
    "population_m_dict = defaultdict(dict)\n",
    "population_f_dict = defaultdict(dict)"
   ]
  },
  {
   "cell_type": "code",
   "execution_count": 10,
   "metadata": {
    "id": "VNsDfv1sNMJS"
   },
   "outputs": [],
   "source": [
    "# save population for each year into lists\n",
    "for sa3_code in sa3_codes:\n",
    "  population_m_dict[sa3_code] = dict()\n",
    "  population_f_dict[sa3_code] = dict()\n",
    "  for year in range(1991,2012):\n",
    "    if(raw_data[(raw_data['Year']==year) & (raw_data['SA3 Code']==sa3_code)]['Total'].size>0):\n",
    "      population_m_dict[sa3_code][year] = raw_data[(raw_data['Year']==year) & (raw_data['SA3 Code']==sa3_code)][['m0-4',\n",
    "                              'm5-9', 'm10-14', 'm15-19', 'm20-24', 'm25-29', 'm30-34', 'm35-39',\n",
    "                              'm40-44', 'm45-49', 'm50-54', 'm55-59', 'm60-64', 'm65-69', 'm70-74',\n",
    "                              'm75-79', 'm80-84', 'm85+']].values.tolist()[0]\n",
    "      population_f_dict[sa3_code][year] = raw_data[(raw_data['Year']==year) & (raw_data['SA3 Code']==sa3_code)][['f0-4', 'f5-9', 'f10-14', 'f15-19',\n",
    "                              'f20-24', 'f25-29', 'f30-34', 'f35-39', 'f40-44', 'f45-49', 'f50-54',\n",
    "                              'f55-59', 'f60-64', 'f65-69', 'f70-74', 'f75-79', 'f80-84', 'f85+']].values.tolist()[0]"
   ]
  },
  {
   "cell_type": "code",
   "execution_count": 11,
   "metadata": {
    "colab": {
     "base_uri": "https://localhost:8080/",
     "height": 1000
    },
    "id": "kod6AdafNVfk",
    "outputId": "caee2a01-16f6-479f-c677-b03adc8fa728"
   },
   "outputs": [
    {
     "data": {
      "text/html": [
       "<div>\n",
       "<style scoped>\n",
       "    .dataframe tbody tr th:only-of-type {\n",
       "        vertical-align: middle;\n",
       "    }\n",
       "\n",
       "    .dataframe tbody tr th {\n",
       "        vertical-align: top;\n",
       "    }\n",
       "\n",
       "    .dataframe thead th {\n",
       "        text-align: right;\n",
       "    }\n",
       "</style>\n",
       "<table border=\"1\" class=\"dataframe\">\n",
       "  <thead>\n",
       "    <tr style=\"text-align: right;\">\n",
       "      <th></th>\n",
       "      <th>10101</th>\n",
       "      <th>10102</th>\n",
       "      <th>10103</th>\n",
       "      <th>10104</th>\n",
       "      <th>10201</th>\n",
       "      <th>10202</th>\n",
       "      <th>10301</th>\n",
       "      <th>10302</th>\n",
       "      <th>10303</th>\n",
       "      <th>10304</th>\n",
       "      <th>...</th>\n",
       "      <th>70203</th>\n",
       "      <th>70204</th>\n",
       "      <th>70205</th>\n",
       "      <th>80101</th>\n",
       "      <th>80103</th>\n",
       "      <th>80105</th>\n",
       "      <th>80106</th>\n",
       "      <th>80107</th>\n",
       "      <th>80108</th>\n",
       "      <th>80109</th>\n",
       "    </tr>\n",
       "  </thead>\n",
       "  <tbody>\n",
       "    <tr>\n",
       "      <th>1991</th>\n",
       "      <td>[2603, 2565, 2517, 2472, 2178, 2392, 2478, 231...</td>\n",
       "      <td>[1593, 1362, 1223, 1406, 1743, 1803, 1670, 139...</td>\n",
       "      <td>[741, 641, 577, 591, 848, 1037, 1047, 890, 743...</td>\n",
       "      <td>[1985, 1987, 1697, 1358, 963, 1258, 1838, 2141...</td>\n",
       "      <td>[5373, 5182, 4631, 4802, 3928, 4659, 5303, 516...</td>\n",
       "      <td>[4332, 4072, 3481, 3469, 2956, 3482, 3957, 364...</td>\n",
       "      <td>[1530, 1588, 1588, 1925, 1635, 1386, 1465, 139...</td>\n",
       "      <td>[2621, 2671, 2586, 2236, 1679, 2062, 2280, 212...</td>\n",
       "      <td>[1866, 1950, 1716, 1437, 1330, 1563, 1680, 153...</td>\n",
       "      <td>[2076, 2133, 2130, 2014, 1805, 1702, 1836, 178...</td>\n",
       "      <td>...</td>\n",
       "      <td>[814, 670, 577, 580, 704, 677, 614, 526, 387, ...</td>\n",
       "      <td>[687, 766, 618, 554, 476, 516, 589, 549, 465, ...</td>\n",
       "      <td>[937, 873, 645, 622, 868, 1001, 854, 718, 628,...</td>\n",
       "      <td>[3436, 3697, 4225, 4864, 4152, 3485, 3432, 360...</td>\n",
       "      <td>[72, 49, 29, 86, 188, 153, 111, 78, 78, 52, 39...</td>\n",
       "      <td>[1121, 960, 858, 2112, 2759, 1956, 1831, 1436,...</td>\n",
       "      <td>[615, 673, 664, 756, 824, 840, 785, 728, 838, ...</td>\n",
       "      <td>[4388, 4149, 3506, 2915, 2413, 3533, 4038, 388...</td>\n",
       "      <td>[799, 942, 1232, 1638, 1238, 951, 854, 890, 13...</td>\n",
       "      <td>[1021, 1002, 1059, 1445, 1915, 1388, 1268, 122...</td>\n",
       "    </tr>\n",
       "    <tr>\n",
       "      <th>1992</th>\n",
       "      <td>[2605, 2567, 2499, 2371, 2183, 2294, 2483, 233...</td>\n",
       "      <td>[1625, 1411, 1264, 1375, 1774, 1774, 1741, 147...</td>\n",
       "      <td>[740, 645, 597, 566, 844, 988, 1032, 914, 762,...</td>\n",
       "      <td>[1962, 2038, 1792, 1355, 991, 1204, 1798, 2147...</td>\n",
       "      <td>[5504, 5338, 4807, 4713, 4145, 4551, 5417, 529...</td>\n",
       "      <td>[4503, 4212, 3652, 3443, 3121, 3475, 4111, 380...</td>\n",
       "      <td>[1522, 1582, 1614, 1867, 1694, 1372, 1481, 142...</td>\n",
       "      <td>[2615, 2662, 2575, 2171, 1718, 1999, 2279, 215...</td>\n",
       "      <td>[1885, 1925, 1726, 1408, 1319, 1497, 1680, 154...</td>\n",
       "      <td>[2081, 2132, 2134, 1964, 1857, 1666, 1862, 181...</td>\n",
       "      <td>...</td>\n",
       "      <td>[810, 697, 583, 595, 714, 672, 606, 521, 393, ...</td>\n",
       "      <td>[692, 751, 624, 546, 499, 511, 583, 540, 455, ...</td>\n",
       "      <td>[970, 905, 669, 652, 872, 1016, 896, 746, 635,...</td>\n",
       "      <td>[3342, 3542, 4019, 4580, 4452, 3395, 3365, 349...</td>\n",
       "      <td>[67, 48, 30, 80, 187, 151, 112, 79, 78, 57, 40...</td>\n",
       "      <td>[1101, 943, 858, 1959, 2914, 1924, 1829, 1436,...</td>\n",
       "      <td>[601, 657, 670, 730, 853, 833, 789, 742, 807, ...</td>\n",
       "      <td>[4646, 4426, 3801, 3061, 2758, 3635, 4347, 419...</td>\n",
       "      <td>[781, 897, 1170, 1479, 1285, 921, 856, 865, 12...</td>\n",
       "      <td>[1012, 1009, 1070, 1337, 1893, 1365, 1296, 123...</td>\n",
       "    </tr>\n",
       "    <tr>\n",
       "      <th>1993</th>\n",
       "      <td>[2585, 2557, 2480, 2294, 2145, 2183, 2455, 234...</td>\n",
       "      <td>[1638, 1445, 1305, 1348, 1769, 1730, 1785, 155...</td>\n",
       "      <td>[736, 643, 610, 553, 833, 938, 999, 936, 777, ...</td>\n",
       "      <td>[1920, 2069, 1885, 1356, 1002, 1145, 1728, 214...</td>\n",
       "      <td>[5577, 5449, 4979, 4637, 4296, 4420, 5447, 540...</td>\n",
       "      <td>[4620, 4311, 3818, 3418, 3226, 3436, 4189, 393...</td>\n",
       "      <td>[1496, 1570, 1644, 1824, 1722, 1354, 1476, 144...</td>\n",
       "      <td>[2580, 2628, 2562, 2113, 1735, 1931, 2238, 218...</td>\n",
       "      <td>[1889, 1891, 1751, 1384, 1279, 1424, 1663, 155...</td>\n",
       "      <td>[2070, 2116, 2146, 1923, 1870, 1628, 1859, 182...</td>\n",
       "      <td>...</td>\n",
       "      <td>[806, 724, 590, 600, 721, 671, 610, 512, 412, ...</td>\n",
       "      <td>[695, 737, 636, 534, 521, 510, 577, 529, 455, ...</td>\n",
       "      <td>[993, 926, 702, 672, 874, 1040, 943, 769, 658,...</td>\n",
       "      <td>[3220, 3371, 3849, 4401, 4619, 3303, 3251, 335...</td>\n",
       "      <td>[62, 46, 32, 79, 188, 147, 109, 80, 80, 65, 44...</td>\n",
       "      <td>[1068, 926, 854, 1857, 2975, 1871, 1796, 1423,...</td>\n",
       "      <td>[589, 643, 689, 724, 868, 833, 789, 762, 800, ...</td>\n",
       "      <td>[4728, 4536, 4007, 3190, 2998, 3666, 4490, 431...</td>\n",
       "      <td>[757, 847, 1107, 1361, 1281, 888, 838, 832, 11...</td>\n",
       "      <td>[979, 993, 1071, 1255, 1821, 1342, 1298, 1224,...</td>\n",
       "    </tr>\n",
       "    <tr>\n",
       "      <th>1994</th>\n",
       "      <td>[2557, 2551, 2466, 2244, 2098, 2087, 2425, 234...</td>\n",
       "      <td>[1643, 1482, 1340, 1334, 1746, 1707, 1834, 161...</td>\n",
       "      <td>[728, 650, 626, 539, 812, 900, 980, 953, 804, ...</td>\n",
       "      <td>[1873, 2113, 1978, 1376, 1010, 1090, 1669, 213...</td>\n",
       "      <td>[5620, 5557, 5133, 4606, 4389, 4310, 5468, 547...</td>\n",
       "      <td>[4716, 4418, 3976, 3429, 3300, 3423, 4275, 404...</td>\n",
       "      <td>[1474, 1562, 1680, 1810, 1737, 1347, 1476, 147...</td>\n",
       "      <td>[2540, 2608, 2550, 2079, 1733, 1885, 2203, 219...</td>\n",
       "      <td>[1881, 1867, 1761, 1374, 1227, 1371, 1639, 156...</td>\n",
       "      <td>[2039, 2093, 2143, 1901, 1855, 1595, 1855, 183...</td>\n",
       "      <td>...</td>\n",
       "      <td>[798, 739, 602, 615, 724, 664, 606, 513, 427, ...</td>\n",
       "      <td>[710, 725, 647, 533, 542, 506, 567, 525, 454, ...</td>\n",
       "      <td>[1023, 951, 731, 700, 874, 1047, 985, 800, 670...</td>\n",
       "      <td>[3064, 3212, 3661, 4240, 4674, 3223, 3116, 320...</td>\n",
       "      <td>[58, 42, 34, 73, 178, 138, 107, 83, 82, 70, 48...</td>\n",
       "      <td>[1038, 914, 857, 1773, 2995, 1856, 1754, 1406,...</td>\n",
       "      <td>[576, 632, 704, 721, 866, 841, 781, 778, 797, ...</td>\n",
       "      <td>[4675, 4592, 4153, 3307, 3132, 3633, 4496, 434...</td>\n",
       "      <td>[724, 808, 1054, 1251, 1254, 869, 825, 796, 10...</td>\n",
       "      <td>[945, 988, 1078, 1183, 1699, 1324, 1298, 1207,...</td>\n",
       "    </tr>\n",
       "    <tr>\n",
       "      <th>1995</th>\n",
       "      <td>[2508, 2561, 2446, 2204, 2018, 2047, 2359, 237...</td>\n",
       "      <td>[1631, 1524, 1375, 1328, 1701, 1704, 1841, 168...</td>\n",
       "      <td>[714, 652, 639, 532, 777, 884, 937, 981, 829, ...</td>\n",
       "      <td>[1803, 2148, 2058, 1391, 990, 1052, 1566, 2133...</td>\n",
       "      <td>[5632, 5709, 5286, 4619, 4449, 4293, 5407, 560...</td>\n",
       "      <td>[4772, 4540, 4122, 3461, 3339, 3463, 4279, 418...</td>\n",
       "      <td>[1442, 1561, 1714, 1803, 1737, 1371, 1450, 151...</td>\n",
       "      <td>[2470, 2584, 2521, 2053, 1704, 1860, 2118, 222...</td>\n",
       "      <td>[1866, 1843, 1769, 1380, 1163, 1334, 1600, 157...</td>\n",
       "      <td>[1984, 2083, 2129, 1882, 1820, 1587, 1808, 185...</td>\n",
       "      <td>...</td>\n",
       "      <td>[806, 767, 610, 630, 750, 677, 591, 519, 441, ...</td>\n",
       "      <td>[721, 715, 657, 528, 570, 519, 554, 524, 446, ...</td>\n",
       "      <td>[1053, 970, 752, 723, 881, 1081, 1004, 834, 68...</td>\n",
       "      <td>[2994, 3132, 3485, 4172, 4651, 3244, 3009, 315...</td>\n",
       "      <td>[49, 39, 34, 68, 159, 130, 104, 82, 83, 67, 48...</td>\n",
       "      <td>[1016, 914, 856, 1709, 2925, 1864, 1717, 1420,...</td>\n",
       "      <td>[568, 633, 722, 733, 843, 856, 774, 807, 787, ...</td>\n",
       "      <td>[4614, 4666, 4234, 3426, 3106, 3532, 4415, 441...</td>\n",
       "      <td>[707, 777, 989, 1164, 1196, 859, 809, 782, 948...</td>\n",
       "      <td>[934, 998, 1077, 1128, 1544, 1346, 1299, 1230,...</td>\n",
       "    </tr>\n",
       "    <tr>\n",
       "      <th>1996</th>\n",
       "      <td>[2466, 2582, 2426, 2212, 1914, 2038, 2286, 241...</td>\n",
       "      <td>[1610, 1563, 1397, 1336, 1613, 1729, 1828, 175...</td>\n",
       "      <td>[701, 665, 655, 533, 730, 871, 888, 1005, 861,...</td>\n",
       "      <td>[1731, 2187, 2129, 1434, 959, 1031, 1458, 2133...</td>\n",
       "      <td>[5628, 5874, 5435, 4706, 4416, 4346, 5313, 575...</td>\n",
       "      <td>[4845, 4701, 4281, 3566, 3325, 3591, 4279, 436...</td>\n",
       "      <td>[1402, 1560, 1732, 1818, 1701, 1412, 1411, 154...</td>\n",
       "      <td>[2394, 2562, 2485, 2060, 1646, 1865, 2019, 225...</td>\n",
       "      <td>[1839, 1825, 1773, 1400, 1077, 1317, 1540, 159...</td>\n",
       "      <td>[1929, 2069, 2112, 1901, 1751, 1608, 1751, 186...</td>\n",
       "      <td>...</td>\n",
       "      <td>[802, 808, 632, 641, 763, 707, 592, 527, 462, ...</td>\n",
       "      <td>[732, 720, 683, 522, 604, 530, 550, 529, 451, ...</td>\n",
       "      <td>[1072, 1002, 788, 736, 878, 1128, 1032, 859, 7...</td>\n",
       "      <td>[2935, 3076, 3369, 4167, 4523, 3376, 2933, 312...</td>\n",
       "      <td>[45, 36, 34, 63, 137, 132, 99, 83, 84, 69, 51,...</td>\n",
       "      <td>[1004, 922, 862, 1693, 2803, 1928, 1694, 1444,...</td>\n",
       "      <td>[550, 632, 740, 748, 784, 893, 768, 837, 789, ...</td>\n",
       "      <td>[4493, 4716, 4321, 3574, 2969, 3460, 4284, 445...</td>\n",
       "      <td>[698, 760, 945, 1090, 1119, 884, 801, 774, 882...</td>\n",
       "      <td>[918, 1015, 1090, 1086, 1351, 1398, 1305, 1247...</td>\n",
       "    </tr>\n",
       "    <tr>\n",
       "      <th>1997</th>\n",
       "      <td>[2407, 2557, 2405, 2206, 1809, 2018, 2213, 245...</td>\n",
       "      <td>[1700, 1556, 1423, 1342, 1536, 1743, 1791, 183...</td>\n",
       "      <td>[706, 664, 633, 566, 678, 837, 814, 999, 865, ...</td>\n",
       "      <td>[1669, 2153, 2212, 1505, 922, 1036, 1400, 2039...</td>\n",
       "      <td>[5570, 5920, 5547, 4770, 4273, 4429, 5141, 580...</td>\n",
       "      <td>[4835, 4873, 4432, 3684, 3246, 3704, 4141, 451...</td>\n",
       "      <td>[1396, 1552, 1730, 1776, 1638, 1500, 1362, 158...</td>\n",
       "      <td>[2455, 2472, 2456, 2030, 1579, 1822, 1997, 222...</td>\n",
       "      <td>[1830, 1807, 1771, 1368, 1051, 1298, 1507, 162...</td>\n",
       "      <td>[1910, 2125, 2038, 1988, 1666, 1659, 1715, 189...</td>\n",
       "      <td>...</td>\n",
       "      <td>[796, 839, 636, 627, 776, 726, 638, 532, 492, ...</td>\n",
       "      <td>[725, 743, 677, 545, 626, 569, 596, 539, 480, ...</td>\n",
       "      <td>[1048, 1015, 804, 698, 832, 1109, 1027, 885, 7...</td>\n",
       "      <td>[2865, 3026, 3286, 3911, 4404, 3519, 2890, 302...</td>\n",
       "      <td>[44, 41, 35, 67, 126, 125, 94, 79, 75, 67, 64,...</td>\n",
       "      <td>[968, 926, 825, 1667, 2711, 1918, 1649, 1471, ...</td>\n",
       "      <td>[558, 633, 725, 748, 778, 927, 767, 835, 814, ...</td>\n",
       "      <td>[4311, 4630, 4342, 3605, 2945, 3364, 3955, 444...</td>\n",
       "      <td>[673, 753, 878, 1003, 1059, 923, 770, 768, 843...</td>\n",
       "      <td>[932, 985, 1083, 1073, 1249, 1343, 1271, 1255,...</td>\n",
       "    </tr>\n",
       "    <tr>\n",
       "      <th>1998</th>\n",
       "      <td>[2323, 2584, 2389, 2193, 1775, 1986, 2121, 247...</td>\n",
       "      <td>[1750, 1530, 1488, 1327, 1466, 1700, 1803, 185...</td>\n",
       "      <td>[704, 662, 610, 619, 621, 815, 779, 993, 892, ...</td>\n",
       "      <td>[1623, 2102, 2272, 1568, 927, 1029, 1360, 1962...</td>\n",
       "      <td>[5455, 5957, 5596, 4919, 4185, 4490, 4941, 577...</td>\n",
       "      <td>[4826, 5002, 4600, 3767, 3204, 3781, 4055, 461...</td>\n",
       "      <td>[1392, 1537, 1739, 1809, 1566, 1529, 1344, 160...</td>\n",
       "      <td>[2469, 2421, 2411, 2062, 1554, 1743, 1932, 218...</td>\n",
       "      <td>[1759, 1890, 1739, 1366, 1031, 1263, 1430, 169...</td>\n",
       "      <td>[1935, 2166, 2049, 1985, 1635, 1725, 1714, 191...</td>\n",
       "      <td>...</td>\n",
       "      <td>[818, 841, 671, 626, 763, 743, 628, 556, 502, ...</td>\n",
       "      <td>[738, 760, 674, 561, 601, 621, 598, 560, 474, ...</td>\n",
       "      <td>[1080, 996, 841, 684, 794, 1084, 999, 913, 747...</td>\n",
       "      <td>[2763, 2984, 3174, 3812, 4380, 3617, 2896, 300...</td>\n",
       "      <td>[43, 42, 34, 60, 128, 122, 86, 70, 69, 70, 64,...</td>\n",
       "      <td>[949, 910, 803, 1600, 2652, 1906, 1659, 1452, ...</td>\n",
       "      <td>[558, 606, 709, 744, 763, 961, 754, 824, 811, ...</td>\n",
       "      <td>[4108, 4547, 4357, 3693, 2946, 3284, 3730, 432...</td>\n",
       "      <td>[655, 744, 808, 964, 997, 936, 764, 762, 784, ...</td>\n",
       "      <td>[916, 975, 1044, 1053, 1213, 1298, 1229, 1266,...</td>\n",
       "    </tr>\n",
       "    <tr>\n",
       "      <th>1999</th>\n",
       "      <td>[2284, 2592, 2421, 2147, 1787, 1900, 2106, 243...</td>\n",
       "      <td>[1777, 1588, 1553, 1368, 1428, 1692, 1810, 191...</td>\n",
       "      <td>[681, 672, 618, 650, 598, 793, 765, 955, 870, ...</td>\n",
       "      <td>[1562, 2104, 2297, 1653, 914, 1046, 1322, 1924...</td>\n",
       "      <td>[5350, 6046, 5683, 5110, 4071, 4570, 4848, 579...</td>\n",
       "      <td>[4816, 5112, 4692, 3990, 3243, 3812, 4061, 468...</td>\n",
       "      <td>[1396, 1515, 1752, 1856, 1541, 1528, 1353, 159...</td>\n",
       "      <td>[2416, 2423, 2351, 2109, 1501, 1703, 1846, 223...</td>\n",
       "      <td>[1715, 1930, 1726, 1372, 1022, 1221, 1450, 169...</td>\n",
       "      <td>[1969, 2149, 2083, 2002, 1657, 1746, 1703, 191...</td>\n",
       "      <td>...</td>\n",
       "      <td>[832, 840, 704, 633, 736, 748, 631, 570, 493, ...</td>\n",
       "      <td>[749, 778, 658, 567, 576, 638, 609, 577, 477, ...</td>\n",
       "      <td>[1065, 985, 883, 686, 785, 1037, 945, 926, 713...</td>\n",
       "      <td>[2738, 2910, 3092, 3736, 4274, 3661, 2934, 297...</td>\n",
       "      <td>[39, 44, 42, 64, 123, 114, 89, 64, 66, 71, 63,...</td>\n",
       "      <td>[941, 911, 803, 1557, 2567, 1896, 1668, 1481, ...</td>\n",
       "      <td>[551, 596, 710, 755, 746, 958, 775, 818, 820, ...</td>\n",
       "      <td>[3965, 4419, 4280, 3837, 2909, 3192, 3549, 425...</td>\n",
       "      <td>[655, 721, 789, 925, 885, 938, 778, 770, 770, ...</td>\n",
       "      <td>[900, 975, 1037, 1069, 1148, 1246, 1203, 1280,...</td>\n",
       "    </tr>\n",
       "    <tr>\n",
       "      <th>2000</th>\n",
       "      <td>[2237, 2580, 2448, 2129, 1785, 1841, 2071, 242...</td>\n",
       "      <td>[1820, 1664, 1620, 1454, 1451, 1685, 1861, 204...</td>\n",
       "      <td>[643, 657, 634, 677, 609, 784, 733, 881, 887, ...</td>\n",
       "      <td>[1529, 2090, 2292, 1758, 889, 1068, 1319, 1838...</td>\n",
       "      <td>[5253, 6009, 5881, 5267, 4078, 4637, 4835, 577...</td>\n",
       "      <td>[4841, 5188, 4846, 4142, 3287, 3839, 4130, 469...</td>\n",
       "      <td>[1415, 1487, 1728, 1889, 1557, 1484, 1380, 154...</td>\n",
       "      <td>[2357, 2436, 2375, 2070, 1465, 1702, 1836, 217...</td>\n",
       "      <td>[1671, 1895, 1747, 1431, 987, 1166, 1463, 1630...</td>\n",
       "      <td>[2016, 2116, 2130, 1977, 1650, 1753, 1755, 184...</td>\n",
       "      <td>...</td>\n",
       "      <td>[816, 847, 724, 650, 705, 741, 649, 569, 482, ...</td>\n",
       "      <td>[746, 790, 652, 592, 558, 632, 607, 600, 511, ...</td>\n",
       "      <td>[1045, 997, 872, 720, 765, 957, 930, 922, 706,...</td>\n",
       "      <td>[2665, 2945, 3030, 3625, 4191, 3734, 3044, 293...</td>\n",
       "      <td>[38, 33, 45, 56, 127, 112, 83, 66, 61, 73, 65,...</td>\n",
       "      <td>[932, 905, 820, 1532, 2499, 1911, 1677, 1508, ...</td>\n",
       "      <td>[546, 574, 709, 765, 734, 945, 797, 770, 858, ...</td>\n",
       "      <td>[3799, 4323, 4347, 3925, 2873, 3087, 3446, 410...</td>\n",
       "      <td>[653, 710, 764, 910, 813, 927, 769, 769, 759, ...</td>\n",
       "      <td>[884, 967, 1035, 1123, 1084, 1195, 1188, 1251,...</td>\n",
       "    </tr>\n",
       "    <tr>\n",
       "      <th>2001</th>\n",
       "      <td>[2248, 2450, 2467, 2141, 1740, 1768, 2045, 239...</td>\n",
       "      <td>[1709, 1746, 1767, 1565, 1364, 1449, 1759, 206...</td>\n",
       "      <td>[600, 699, 704, 681, 551, 607, 652, 728, 822, ...</td>\n",
       "      <td>[1788, 2197, 2510, 2017, 1127, 1289, 1561, 188...</td>\n",
       "      <td>[5212, 5931, 6025, 5429, 4172, 4499, 4941, 569...</td>\n",
       "      <td>[4804, 5274, 5021, 4306, 3371, 3753, 4328, 469...</td>\n",
       "      <td>[1433, 1452, 1691, 1947, 1598, 1393, 1442, 144...</td>\n",
       "      <td>[2182, 2397, 2422, 2034, 1431, 1619, 1775, 207...</td>\n",
       "      <td>[1560, 1751, 1712, 1509, 1080, 1217, 1469, 163...</td>\n",
       "      <td>[2061, 2080, 2116, 1997, 1573, 1659, 1749, 180...</td>\n",
       "      <td>...</td>\n",
       "      <td>[811, 894, 760, 600, 674, 729, 646, 589, 473, ...</td>\n",
       "      <td>[784, 766, 662, 583, 536, 606, 617, 624, 534, ...</td>\n",
       "      <td>[1023, 1032, 889, 815, 835, 907, 883, 857, 675...</td>\n",
       "      <td>[2645, 2901, 2962, 3606, 4216, 3678, 3222, 291...</td>\n",
       "      <td>[37, 24, 46, 52, 131, 120, 82, 66, 63, 70, 63,...</td>\n",
       "      <td>[909, 882, 852, 1527, 2519, 1884, 1715, 1517, ...</td>\n",
       "      <td>[510, 579, 714, 809, 728, 946, 827, 745, 869, ...</td>\n",
       "      <td>[3684, 4174, 4340, 4071, 2975, 2959, 3440, 388...</td>\n",
       "      <td>[638, 703, 756, 885, 782, 891, 776, 772, 757, ...</td>\n",
       "      <td>[913, 945, 1078, 1133, 1098, 1101, 1186, 1216,...</td>\n",
       "    </tr>\n",
       "    <tr>\n",
       "      <th>2002</th>\n",
       "      <td>[2234, 2419, 2479, 2186, 1749, 1720, 2054, 234...</td>\n",
       "      <td>[1742, 1822, 1774, 1598, 1414, 1485, 1823, 203...</td>\n",
       "      <td>[579, 703, 721, 692, 562, 589, 683, 683, 826, ...</td>\n",
       "      <td>[1784, 2140, 2516, 2153, 1155, 1250, 1575, 184...</td>\n",
       "      <td>[5073, 5816, 6060, 5525, 4275, 4292, 4927, 552...</td>\n",
       "      <td>[4692, 5245, 5190, 4429, 3444, 3647, 4416, 459...</td>\n",
       "      <td>[1440, 1446, 1670, 1976, 1648, 1356, 1490, 141...</td>\n",
       "      <td>[2147, 2375, 2317, 2058, 1391, 1534, 1753, 199...</td>\n",
       "      <td>[1511, 1718, 1718, 1514, 1054, 1149, 1465, 162...</td>\n",
       "      <td>[1976, 2084, 2155, 1968, 1619, 1587, 1776, 180...</td>\n",
       "      <td>...</td>\n",
       "      <td>[839, 912, 749, 571, 700, 678, 656, 589, 484, ...</td>\n",
       "      <td>[789, 766, 656, 560, 573, 585, 629, 623, 567, ...</td>\n",
       "      <td>[1023, 994, 878, 844, 784, 866, 890, 830, 677,...</td>\n",
       "      <td>[2613, 2865, 2959, 3523, 4150, 3777, 3347, 293...</td>\n",
       "      <td>[37, 25, 46, 49, 110, 101, 79, 63, 56, 78, 57,...</td>\n",
       "      <td>[940, 898, 870, 1520, 2655, 1975, 1809, 1506, ...</td>\n",
       "      <td>[511, 579, 715, 798, 785, 937, 874, 748, 881, ...</td>\n",
       "      <td>[3490, 4002, 4329, 4158, 3105, 2906, 3332, 364...</td>\n",
       "      <td>[610, 686, 777, 830, 768, 863, 864, 759, 739, ...</td>\n",
       "      <td>[900, 984, 1054, 1093, 1119, 1107, 1169, 1216,...</td>\n",
       "    </tr>\n",
       "    <tr>\n",
       "      <th>2003</th>\n",
       "      <td>[2236, 2399, 2477, 2189, 1793, 1716, 2055, 227...</td>\n",
       "      <td>[1778, 1843, 1816, 1675, 1481, 1506, 1887, 205...</td>\n",
       "      <td>[571, 709, 720, 672, 562, 594, 656, 677, 833, ...</td>\n",
       "      <td>[1797, 2115, 2494, 2221, 1194, 1232, 1572, 183...</td>\n",
       "      <td>[4981, 5656, 6056, 5534, 4424, 4147, 4908, 528...</td>\n",
       "      <td>[4635, 5255, 5252, 4550, 3534, 3576, 4467, 453...</td>\n",
       "      <td>[1426, 1455, 1654, 1987, 1720, 1301, 1507, 137...</td>\n",
       "      <td>[2047, 2356, 2299, 2035, 1418, 1472, 1718, 187...</td>\n",
       "      <td>[1447, 1670, 1731, 1518, 1050, 1122, 1436, 155...</td>\n",
       "      <td>[1924, 2060, 2171, 1956, 1640, 1513, 1783, 175...</td>\n",
       "      <td>...</td>\n",
       "      <td>[870, 899, 753, 561, 666, 668, 654, 579, 494, ...</td>\n",
       "      <td>[792, 766, 636, 551, 574, 571, 638, 629, 571, ...</td>\n",
       "      <td>[1024, 959, 849, 832, 775, 794, 878, 774, 694,...</td>\n",
       "      <td>[2547, 2810, 3000, 3441, 4250, 3784, 3430, 295...</td>\n",
       "      <td>[36, 36, 45, 48, 90, 90, 71, 66, 59, 80, 61, 4...</td>\n",
       "      <td>[967, 889, 884, 1520, 2889, 2083, 1842, 1547, ...</td>\n",
       "      <td>[508, 556, 683, 798, 823, 949, 861, 759, 850, ...</td>\n",
       "      <td>[3373, 3801, 4194, 4179, 3302, 2853, 3247, 348...</td>\n",
       "      <td>[618, 643, 773, 781, 835, 794, 883, 769, 700, ...</td>\n",
       "      <td>[890, 990, 1035, 1102, 1166, 1068, 1185, 1165,...</td>\n",
       "    </tr>\n",
       "    <tr>\n",
       "      <th>2004</th>\n",
       "      <td>[2177, 2398, 2486, 2207, 1766, 1712, 2021, 220...</td>\n",
       "      <td>[1761, 1848, 1842, 1740, 1507, 1493, 1879, 201...</td>\n",
       "      <td>[551, 705, 712, 672, 587, 585, 650, 671, 808, ...</td>\n",
       "      <td>[1794, 2097, 2521, 2218, 1239, 1177, 1550, 180...</td>\n",
       "      <td>[4923, 5501, 6041, 5532, 4543, 3949, 4896, 509...</td>\n",
       "      <td>[4579, 5203, 5331, 4560, 3695, 3508, 4431, 446...</td>\n",
       "      <td>[1421, 1440, 1612, 1980, 1774, 1286, 1483, 137...</td>\n",
       "      <td>[1991, 2293, 2312, 1955, 1465, 1403, 1667, 178...</td>\n",
       "      <td>[1411, 1634, 1731, 1508, 1066, 1060, 1394, 154...</td>\n",
       "      <td>[1887, 2064, 2123, 1959, 1643, 1509, 1765, 171...</td>\n",
       "      <td>...</td>\n",
       "      <td>[871, 885, 785, 594, 642, 646, 665, 581, 495, ...</td>\n",
       "      <td>[825, 757, 634, 598, 552, 567, 634, 629, 587, ...</td>\n",
       "      <td>[1036, 955, 868, 817, 784, 752, 859, 763, 677,...</td>\n",
       "      <td>[2616, 2708, 2931, 3373, 4246, 3726, 3572, 297...</td>\n",
       "      <td>[36, 36, 44, 55, 83, 69, 73, 68, 54, 72, 60, 4...</td>\n",
       "      <td>[987, 885, 890, 1518, 3068, 2214, 1896, 1591, ...</td>\n",
       "      <td>[492, 525, 649, 814, 835, 985, 820, 762, 832, ...</td>\n",
       "      <td>[3215, 3657, 4116, 4122, 3445, 2892, 3216, 331...</td>\n",
       "      <td>[629, 637, 720, 760, 847, 741, 873, 794, 718, ...</td>\n",
       "      <td>[886, 978, 1024, 1075, 1193, 1071, 1146, 1163,...</td>\n",
       "    </tr>\n",
       "    <tr>\n",
       "      <th>2005</th>\n",
       "      <td>[2154, 2366, 2520, 2239, 1771, 1693, 2007, 217...</td>\n",
       "      <td>[1790, 1860, 1860, 1804, 1541, 1542, 1857, 205...</td>\n",
       "      <td>[562, 682, 729, 650, 590, 559, 673, 651, 789, ...</td>\n",
       "      <td>[1800, 2060, 2524, 2205, 1299, 1140, 1537, 180...</td>\n",
       "      <td>[4888, 5327, 6015, 5631, 4629, 3898, 4903, 500...</td>\n",
       "      <td>[4619, 5155, 5342, 4662, 3804, 3469, 4326, 446...</td>\n",
       "      <td>[1435, 1443, 1575, 1953, 1834, 1309, 1450, 140...</td>\n",
       "      <td>[1977, 2199, 2276, 1938, 1438, 1400, 1638, 173...</td>\n",
       "      <td>[1366, 1596, 1726, 1503, 1087, 1017, 1324, 149...</td>\n",
       "      <td>[1885, 2057, 2066, 1989, 1609, 1443, 1740, 172...</td>\n",
       "      <td>...</td>\n",
       "      <td>[874, 856, 797, 610, 651, 630, 650, 618, 514, ...</td>\n",
       "      <td>[830, 777, 641, 629, 571, 605, 650, 657, 598, ...</td>\n",
       "      <td>[1009, 970, 896, 794, 817, 717, 821, 766, 702,...</td>\n",
       "      <td>[2712, 2590, 2918, 3280, 4172, 3735, 3658, 304...</td>\n",
       "      <td>[32, 33, 34, 58, 73, 52, 70, 56, 52, 58, 68, 4...</td>\n",
       "      <td>[1009, 870, 905, 1567, 3219, 2346, 1937, 1616,...</td>\n",
       "      <td>[478, 522, 632, 826, 903, 1015, 834, 795, 816,...</td>\n",
       "      <td>[3083, 3514, 3958, 4147, 3542, 2912, 3153, 325...</td>\n",
       "      <td>[684, 621, 691, 741, 818, 698, 852, 824, 728, ...</td>\n",
       "      <td>[860, 979, 1019, 1072, 1214, 1055, 1148, 1148,...</td>\n",
       "    </tr>\n",
       "    <tr>\n",
       "      <th>2006</th>\n",
       "      <td>[2083, 2368, 2524, 2246, 1777, 1702, 1959, 216...</td>\n",
       "      <td>[1826, 1846, 1929, 1833, 1585, 1583, 1801, 215...</td>\n",
       "      <td>[584, 656, 735, 646, 582, 546, 645, 691, 758, ...</td>\n",
       "      <td>[1804, 2050, 2480, 2218, 1327, 1112, 1507, 183...</td>\n",
       "      <td>[4867, 5248, 5907, 5809, 4643, 4017, 4676, 504...</td>\n",
       "      <td>[4762, 5026, 5392, 4757, 3889, 3583, 4121, 453...</td>\n",
       "      <td>[1445, 1470, 1541, 1950, 1890, 1338, 1421, 144...</td>\n",
       "      <td>[1960, 2119, 2240, 1925, 1360, 1420, 1598, 169...</td>\n",
       "      <td>[1359, 1557, 1695, 1510, 1107, 1003, 1252, 149...</td>\n",
       "      <td>[1848, 2052, 2032, 2007, 1566, 1481, 1638, 174...</td>\n",
       "      <td>...</td>\n",
       "      <td>[851, 864, 821, 635, 658, 638, 628, 636, 551, ...</td>\n",
       "      <td>[794, 831, 639, 641, 597, 646, 662, 677, 570, ...</td>\n",
       "      <td>[1009, 966, 914, 796, 823, 739, 768, 780, 687,...</td>\n",
       "      <td>[2925, 2536, 2829, 3187, 4137, 3743, 3627, 318...</td>\n",
       "      <td>[25, 29, 31, 46, 51, 38, 79, 52, 49, 46, 70, 4...</td>\n",
       "      <td>[1032, 896, 868, 1649, 3368, 2552, 1957, 1728,...</td>\n",
       "      <td>[471, 501, 631, 834, 1002, 1107, 861, 846, 793...</td>\n",
       "      <td>[2978, 3362, 3811, 4102, 3592, 2961, 3061, 327...</td>\n",
       "      <td>[733, 632, 664, 734, 768, 685, 821, 857, 741, ...</td>\n",
       "      <td>[864, 992, 987, 1092, 1193, 1127, 1082, 1149, ...</td>\n",
       "    </tr>\n",
       "    <tr>\n",
       "      <th>2007</th>\n",
       "      <td>[2153, 2321, 2516, 2283, 1780, 1720, 1888, 216...</td>\n",
       "      <td>[1841, 1877, 1946, 1860, 1674, 1624, 1807, 219...</td>\n",
       "      <td>[613, 625, 740, 678, 568, 534, 630, 706, 706, ...</td>\n",
       "      <td>[1890, 2059, 2306, 2217, 1394, 1148, 1442, 182...</td>\n",
       "      <td>[4944, 5168, 5820, 5877, 4818, 4088, 4515, 511...</td>\n",
       "      <td>[4912, 4991, 5431, 4941, 4003, 3695, 3972, 461...</td>\n",
       "      <td>[1504, 1493, 1502, 1904, 1891, 1366, 1347, 149...</td>\n",
       "      <td>[1954, 2080, 2229, 1889, 1393, 1401, 1516, 170...</td>\n",
       "      <td>[1382, 1536, 1677, 1538, 1118, 1056, 1189, 151...</td>\n",
       "      <td>[1957, 1946, 2047, 2037, 1603, 1547, 1587, 180...</td>\n",
       "      <td>...</td>\n",
       "      <td>[862, 878, 816, 676, 671, 674, 648, 677, 569, ...</td>\n",
       "      <td>[809, 822, 693, 633, 636, 680, 695, 696, 580, ...</td>\n",
       "      <td>[1013, 966, 875, 829, 888, 772, 746, 789, 685,...</td>\n",
       "      <td>[3119, 2594, 2757, 3218, 4277, 3901, 3760, 333...</td>\n",
       "      <td>[25, 24, 33, 58, 49, 39, 64, 61, 55, 43, 67, 4...</td>\n",
       "      <td>[1128, 912, 875, 1720, 3547, 2738, 1997, 1794,...</td>\n",
       "      <td>[515, 531, 646, 824, 983, 1127, 872, 870, 838,...</td>\n",
       "      <td>[3043, 3177, 3744, 4036, 3702, 3074, 2983, 327...</td>\n",
       "      <td>[766, 660, 637, 757, 714, 717, 811, 922, 756, ...</td>\n",
       "      <td>[858, 962, 1033, 1084, 1224, 1134, 1089, 1182,...</td>\n",
       "    </tr>\n",
       "    <tr>\n",
       "      <th>2008</th>\n",
       "      <td>[2214, 2326, 2473, 2288, 1801, 1739, 1883, 222...</td>\n",
       "      <td>[1869, 1932, 1902, 1877, 1775, 1735, 1802, 222...</td>\n",
       "      <td>[627, 599, 754, 680, 584, 553, 598, 669, 700, ...</td>\n",
       "      <td>[1936, 2034, 2242, 2236, 1433, 1170, 1391, 178...</td>\n",
       "      <td>[5058, 5151, 5741, 5948, 4997, 4248, 4471, 526...</td>\n",
       "      <td>[5042, 5080, 5505, 5143, 4163, 3905, 3983, 480...</td>\n",
       "      <td>[1562, 1476, 1558, 1882, 1914, 1425, 1303, 152...</td>\n",
       "      <td>[1957, 1996, 2211, 1917, 1418, 1411, 1465, 167...</td>\n",
       "      <td>[1411, 1524, 1620, 1606, 1163, 1068, 1203, 148...</td>\n",
       "      <td>[2026, 1916, 2053, 2021, 1701, 1616, 1540, 182...</td>\n",
       "      <td>...</td>\n",
       "      <td>[875, 899, 856, 714, 709, 703, 671, 683, 602, ...</td>\n",
       "      <td>[800, 878, 720, 644, 664, 733, 692, 725, 576, ...</td>\n",
       "      <td>[1016, 985, 886, 836, 911, 885, 727, 801, 658,...</td>\n",
       "      <td>[3240, 2589, 2704, 3305, 4318, 3984, 3892, 347...</td>\n",
       "      <td>[23, 18, 39, 58, 51, 49, 48, 57, 59, 58, 63, 4...</td>\n",
       "      <td>[1178, 940, 858, 1728, 3671, 2919, 2071, 1814,...</td>\n",
       "      <td>[542, 545, 652, 810, 935, 1170, 890, 878, 840,...</td>\n",
       "      <td>[3070, 3104, 3562, 4065, 3688, 3124, 2956, 327...</td>\n",
       "      <td>[775, 690, 651, 748, 703, 728, 798, 916, 776, ...</td>\n",
       "      <td>[856, 954, 1033, 1072, 1243, 1182, 1082, 1223,...</td>\n",
       "    </tr>\n",
       "    <tr>\n",
       "      <th>2009</th>\n",
       "      <td>[2286, 2305, 2490, 2320, 1863, 1732, 1867, 226...</td>\n",
       "      <td>[1897, 1904, 1935, 1874, 1909, 1798, 1799, 220...</td>\n",
       "      <td>[649, 584, 762, 679, 593, 559, 558, 672, 714, ...</td>\n",
       "      <td>[1983, 1987, 2238, 2236, 1412, 1252, 1349, 174...</td>\n",
       "      <td>[5148, 5186, 5643, 5998, 5130, 4416, 4371, 539...</td>\n",
       "      <td>[5179, 5078, 5476, 5265, 4388, 4013, 4011, 486...</td>\n",
       "      <td>[1622, 1517, 1610, 1842, 2005, 1498, 1269, 153...</td>\n",
       "      <td>[1940, 1992, 2170, 1915, 1426, 1463, 1397, 163...</td>\n",
       "      <td>[1471, 1540, 1592, 1627, 1203, 1119, 1182, 148...</td>\n",
       "      <td>[2095, 1937, 2092, 1956, 1771, 1648, 1572, 183...</td>\n",
       "      <td>...</td>\n",
       "      <td>[929, 907, 869, 765, 751, 767, 672, 731, 614, ...</td>\n",
       "      <td>[821, 875, 770, 651, 680, 783, 685, 755, 591, ...</td>\n",
       "      <td>[1012, 1019, 888, 849, 939, 961, 747, 785, 684...</td>\n",
       "      <td>[3409, 2650, 2631, 3329, 4447, 4144, 3910, 364...</td>\n",
       "      <td>[19, 15, 43, 59, 91, 89, 66, 78, 73, 75, 66, 6...</td>\n",
       "      <td>[1212, 980, 871, 1726, 3819, 3095, 2165, 1810,...</td>\n",
       "      <td>[573, 561, 673, 798, 919, 1227, 894, 867, 839,...</td>\n",
       "      <td>[3153, 3014, 3465, 4008, 3689, 3195, 2992, 323...</td>\n",
       "      <td>[801, 735, 677, 715, 693, 707, 812, 905, 818, ...</td>\n",
       "      <td>[884, 968, 1017, 1082, 1252, 1217, 1093, 1207,...</td>\n",
       "    </tr>\n",
       "    <tr>\n",
       "      <th>2010</th>\n",
       "      <td>[2358, 2297, 2507, 2352, 1870, 1713, 1846, 223...</td>\n",
       "      <td>[1917, 1920, 1944, 1877, 1925, 1901, 1792, 218...</td>\n",
       "      <td>[668, 591, 730, 695, 592, 558, 532, 691, 686, ...</td>\n",
       "      <td>[2017, 1980, 2213, 2247, 1367, 1299, 1293, 174...</td>\n",
       "      <td>[5190, 5252, 5486, 5917, 5203, 4501, 4324, 542...</td>\n",
       "      <td>[5276, 5166, 5420, 5379, 4483, 4058, 4055, 481...</td>\n",
       "      <td>[1665, 1547, 1615, 1815, 2037, 1515, 1281, 147...</td>\n",
       "      <td>[1932, 2024, 2102, 1924, 1467, 1444, 1392, 159...</td>\n",
       "      <td>[1503, 1511, 1628, 1579, 1274, 1165, 1145, 146...</td>\n",
       "      <td>[2209, 1963, 2092, 1939, 1798, 1665, 1586, 183...</td>\n",
       "      <td>...</td>\n",
       "      <td>[972, 923, 852, 832, 771, 822, 685, 735, 648, ...</td>\n",
       "      <td>[835, 906, 758, 682, 709, 825, 693, 735, 614, ...</td>\n",
       "      <td>[1024, 1009, 886, 831, 969, 1024, 720, 770, 68...</td>\n",
       "      <td>[3536, 2757, 2558, 3388, 4506, 4308, 4039, 375...</td>\n",
       "      <td>[23, 11, 42, 60, 106, 108, 77, 90, 78, 73, 68,...</td>\n",
       "      <td>[1233, 986, 880, 1737, 3944, 3229, 2221, 1820,...</td>\n",
       "      <td>[593, 576, 669, 774, 902, 1259, 894, 835, 878,...</td>\n",
       "      <td>[3219, 2921, 3317, 3942, 3706, 3308, 2917, 319...</td>\n",
       "      <td>[833, 785, 671, 714, 661, 729, 751, 910, 868, ...</td>\n",
       "      <td>[867, 983, 1021, 1079, 1258, 1240, 1097, 1184,...</td>\n",
       "    </tr>\n",
       "    <tr>\n",
       "      <th>2011</th>\n",
       "      <td>[2350, 2338, 2532, 2420, 1806, 1697, 1768, 220...</td>\n",
       "      <td>[1937, 1852, 1976, 1898, 1873, 1977, 1789, 210...</td>\n",
       "      <td>[663, 636, 698, 715, 589, 535, 505, 660, 705, ...</td>\n",
       "      <td>[1929, 2030, 2195, 2213, 1333, 1274, 1211, 167...</td>\n",
       "      <td>[5168, 5304, 5416, 5827, 5173, 4581, 4332, 518...</td>\n",
       "      <td>[5247, 5257, 5311, 5467, 4530, 4205, 4045, 458...</td>\n",
       "      <td>[1574, 1603, 1641, 1815, 2033, 1527, 1338, 140...</td>\n",
       "      <td>[1948, 2003, 2076, 1866, 1480, 1352, 1390, 152...</td>\n",
       "      <td>[1517, 1542, 1629, 1538, 1311, 1231, 1110, 138...</td>\n",
       "      <td>[2286, 1998, 2121, 2004, 1786, 1687, 1622, 181...</td>\n",
       "      <td>...</td>\n",
       "      <td>[941, 955, 831, 826, 777, 805, 732, 714, 696, ...</td>\n",
       "      <td>[829, 925, 791, 655, 683, 802, 693, 755, 621, ...</td>\n",
       "      <td>[1017, 991, 873, 771, 958, 971, 790, 688, 699,...</td>\n",
       "      <td>[3490, 2891, 2503, 3283, 4559, 4387, 3996, 371...</td>\n",
       "      <td>[24, 9, 39, 57, 133, 120, 76, 100, 67, 89, 71,...</td>\n",
       "      <td>[1151, 1004, 901, 1753, 4064, 3371, 2345, 1832...</td>\n",
       "      <td>[601, 607, 659, 739, 897, 1281, 894, 791, 905,...</td>\n",
       "      <td>[3122, 2922, 3165, 3730, 3672, 3338, 2918, 299...</td>\n",
       "      <td>[873, 803, 672, 679, 656, 692, 724, 889, 885, ...</td>\n",
       "      <td>[923, 974, 1032, 1065, 1187, 1262, 1094, 1127,...</td>\n",
       "    </tr>\n",
       "  </tbody>\n",
       "</table>\n",
       "<p>21 rows × 325 columns</p>\n",
       "</div>"
      ],
      "text/plain": [
       "                                                  10101  \\\n",
       "1991  [2603, 2565, 2517, 2472, 2178, 2392, 2478, 231...   \n",
       "1992  [2605, 2567, 2499, 2371, 2183, 2294, 2483, 233...   \n",
       "1993  [2585, 2557, 2480, 2294, 2145, 2183, 2455, 234...   \n",
       "1994  [2557, 2551, 2466, 2244, 2098, 2087, 2425, 234...   \n",
       "1995  [2508, 2561, 2446, 2204, 2018, 2047, 2359, 237...   \n",
       "1996  [2466, 2582, 2426, 2212, 1914, 2038, 2286, 241...   \n",
       "1997  [2407, 2557, 2405, 2206, 1809, 2018, 2213, 245...   \n",
       "1998  [2323, 2584, 2389, 2193, 1775, 1986, 2121, 247...   \n",
       "1999  [2284, 2592, 2421, 2147, 1787, 1900, 2106, 243...   \n",
       "2000  [2237, 2580, 2448, 2129, 1785, 1841, 2071, 242...   \n",
       "2001  [2248, 2450, 2467, 2141, 1740, 1768, 2045, 239...   \n",
       "2002  [2234, 2419, 2479, 2186, 1749, 1720, 2054, 234...   \n",
       "2003  [2236, 2399, 2477, 2189, 1793, 1716, 2055, 227...   \n",
       "2004  [2177, 2398, 2486, 2207, 1766, 1712, 2021, 220...   \n",
       "2005  [2154, 2366, 2520, 2239, 1771, 1693, 2007, 217...   \n",
       "2006  [2083, 2368, 2524, 2246, 1777, 1702, 1959, 216...   \n",
       "2007  [2153, 2321, 2516, 2283, 1780, 1720, 1888, 216...   \n",
       "2008  [2214, 2326, 2473, 2288, 1801, 1739, 1883, 222...   \n",
       "2009  [2286, 2305, 2490, 2320, 1863, 1732, 1867, 226...   \n",
       "2010  [2358, 2297, 2507, 2352, 1870, 1713, 1846, 223...   \n",
       "2011  [2350, 2338, 2532, 2420, 1806, 1697, 1768, 220...   \n",
       "\n",
       "                                                  10102  \\\n",
       "1991  [1593, 1362, 1223, 1406, 1743, 1803, 1670, 139...   \n",
       "1992  [1625, 1411, 1264, 1375, 1774, 1774, 1741, 147...   \n",
       "1993  [1638, 1445, 1305, 1348, 1769, 1730, 1785, 155...   \n",
       "1994  [1643, 1482, 1340, 1334, 1746, 1707, 1834, 161...   \n",
       "1995  [1631, 1524, 1375, 1328, 1701, 1704, 1841, 168...   \n",
       "1996  [1610, 1563, 1397, 1336, 1613, 1729, 1828, 175...   \n",
       "1997  [1700, 1556, 1423, 1342, 1536, 1743, 1791, 183...   \n",
       "1998  [1750, 1530, 1488, 1327, 1466, 1700, 1803, 185...   \n",
       "1999  [1777, 1588, 1553, 1368, 1428, 1692, 1810, 191...   \n",
       "2000  [1820, 1664, 1620, 1454, 1451, 1685, 1861, 204...   \n",
       "2001  [1709, 1746, 1767, 1565, 1364, 1449, 1759, 206...   \n",
       "2002  [1742, 1822, 1774, 1598, 1414, 1485, 1823, 203...   \n",
       "2003  [1778, 1843, 1816, 1675, 1481, 1506, 1887, 205...   \n",
       "2004  [1761, 1848, 1842, 1740, 1507, 1493, 1879, 201...   \n",
       "2005  [1790, 1860, 1860, 1804, 1541, 1542, 1857, 205...   \n",
       "2006  [1826, 1846, 1929, 1833, 1585, 1583, 1801, 215...   \n",
       "2007  [1841, 1877, 1946, 1860, 1674, 1624, 1807, 219...   \n",
       "2008  [1869, 1932, 1902, 1877, 1775, 1735, 1802, 222...   \n",
       "2009  [1897, 1904, 1935, 1874, 1909, 1798, 1799, 220...   \n",
       "2010  [1917, 1920, 1944, 1877, 1925, 1901, 1792, 218...   \n",
       "2011  [1937, 1852, 1976, 1898, 1873, 1977, 1789, 210...   \n",
       "\n",
       "                                                  10103  \\\n",
       "1991  [741, 641, 577, 591, 848, 1037, 1047, 890, 743...   \n",
       "1992  [740, 645, 597, 566, 844, 988, 1032, 914, 762,...   \n",
       "1993  [736, 643, 610, 553, 833, 938, 999, 936, 777, ...   \n",
       "1994  [728, 650, 626, 539, 812, 900, 980, 953, 804, ...   \n",
       "1995  [714, 652, 639, 532, 777, 884, 937, 981, 829, ...   \n",
       "1996  [701, 665, 655, 533, 730, 871, 888, 1005, 861,...   \n",
       "1997  [706, 664, 633, 566, 678, 837, 814, 999, 865, ...   \n",
       "1998  [704, 662, 610, 619, 621, 815, 779, 993, 892, ...   \n",
       "1999  [681, 672, 618, 650, 598, 793, 765, 955, 870, ...   \n",
       "2000  [643, 657, 634, 677, 609, 784, 733, 881, 887, ...   \n",
       "2001  [600, 699, 704, 681, 551, 607, 652, 728, 822, ...   \n",
       "2002  [579, 703, 721, 692, 562, 589, 683, 683, 826, ...   \n",
       "2003  [571, 709, 720, 672, 562, 594, 656, 677, 833, ...   \n",
       "2004  [551, 705, 712, 672, 587, 585, 650, 671, 808, ...   \n",
       "2005  [562, 682, 729, 650, 590, 559, 673, 651, 789, ...   \n",
       "2006  [584, 656, 735, 646, 582, 546, 645, 691, 758, ...   \n",
       "2007  [613, 625, 740, 678, 568, 534, 630, 706, 706, ...   \n",
       "2008  [627, 599, 754, 680, 584, 553, 598, 669, 700, ...   \n",
       "2009  [649, 584, 762, 679, 593, 559, 558, 672, 714, ...   \n",
       "2010  [668, 591, 730, 695, 592, 558, 532, 691, 686, ...   \n",
       "2011  [663, 636, 698, 715, 589, 535, 505, 660, 705, ...   \n",
       "\n",
       "                                                  10104  \\\n",
       "1991  [1985, 1987, 1697, 1358, 963, 1258, 1838, 2141...   \n",
       "1992  [1962, 2038, 1792, 1355, 991, 1204, 1798, 2147...   \n",
       "1993  [1920, 2069, 1885, 1356, 1002, 1145, 1728, 214...   \n",
       "1994  [1873, 2113, 1978, 1376, 1010, 1090, 1669, 213...   \n",
       "1995  [1803, 2148, 2058, 1391, 990, 1052, 1566, 2133...   \n",
       "1996  [1731, 2187, 2129, 1434, 959, 1031, 1458, 2133...   \n",
       "1997  [1669, 2153, 2212, 1505, 922, 1036, 1400, 2039...   \n",
       "1998  [1623, 2102, 2272, 1568, 927, 1029, 1360, 1962...   \n",
       "1999  [1562, 2104, 2297, 1653, 914, 1046, 1322, 1924...   \n",
       "2000  [1529, 2090, 2292, 1758, 889, 1068, 1319, 1838...   \n",
       "2001  [1788, 2197, 2510, 2017, 1127, 1289, 1561, 188...   \n",
       "2002  [1784, 2140, 2516, 2153, 1155, 1250, 1575, 184...   \n",
       "2003  [1797, 2115, 2494, 2221, 1194, 1232, 1572, 183...   \n",
       "2004  [1794, 2097, 2521, 2218, 1239, 1177, 1550, 180...   \n",
       "2005  [1800, 2060, 2524, 2205, 1299, 1140, 1537, 180...   \n",
       "2006  [1804, 2050, 2480, 2218, 1327, 1112, 1507, 183...   \n",
       "2007  [1890, 2059, 2306, 2217, 1394, 1148, 1442, 182...   \n",
       "2008  [1936, 2034, 2242, 2236, 1433, 1170, 1391, 178...   \n",
       "2009  [1983, 1987, 2238, 2236, 1412, 1252, 1349, 174...   \n",
       "2010  [2017, 1980, 2213, 2247, 1367, 1299, 1293, 174...   \n",
       "2011  [1929, 2030, 2195, 2213, 1333, 1274, 1211, 167...   \n",
       "\n",
       "                                                  10201  \\\n",
       "1991  [5373, 5182, 4631, 4802, 3928, 4659, 5303, 516...   \n",
       "1992  [5504, 5338, 4807, 4713, 4145, 4551, 5417, 529...   \n",
       "1993  [5577, 5449, 4979, 4637, 4296, 4420, 5447, 540...   \n",
       "1994  [5620, 5557, 5133, 4606, 4389, 4310, 5468, 547...   \n",
       "1995  [5632, 5709, 5286, 4619, 4449, 4293, 5407, 560...   \n",
       "1996  [5628, 5874, 5435, 4706, 4416, 4346, 5313, 575...   \n",
       "1997  [5570, 5920, 5547, 4770, 4273, 4429, 5141, 580...   \n",
       "1998  [5455, 5957, 5596, 4919, 4185, 4490, 4941, 577...   \n",
       "1999  [5350, 6046, 5683, 5110, 4071, 4570, 4848, 579...   \n",
       "2000  [5253, 6009, 5881, 5267, 4078, 4637, 4835, 577...   \n",
       "2001  [5212, 5931, 6025, 5429, 4172, 4499, 4941, 569...   \n",
       "2002  [5073, 5816, 6060, 5525, 4275, 4292, 4927, 552...   \n",
       "2003  [4981, 5656, 6056, 5534, 4424, 4147, 4908, 528...   \n",
       "2004  [4923, 5501, 6041, 5532, 4543, 3949, 4896, 509...   \n",
       "2005  [4888, 5327, 6015, 5631, 4629, 3898, 4903, 500...   \n",
       "2006  [4867, 5248, 5907, 5809, 4643, 4017, 4676, 504...   \n",
       "2007  [4944, 5168, 5820, 5877, 4818, 4088, 4515, 511...   \n",
       "2008  [5058, 5151, 5741, 5948, 4997, 4248, 4471, 526...   \n",
       "2009  [5148, 5186, 5643, 5998, 5130, 4416, 4371, 539...   \n",
       "2010  [5190, 5252, 5486, 5917, 5203, 4501, 4324, 542...   \n",
       "2011  [5168, 5304, 5416, 5827, 5173, 4581, 4332, 518...   \n",
       "\n",
       "                                                  10202  \\\n",
       "1991  [4332, 4072, 3481, 3469, 2956, 3482, 3957, 364...   \n",
       "1992  [4503, 4212, 3652, 3443, 3121, 3475, 4111, 380...   \n",
       "1993  [4620, 4311, 3818, 3418, 3226, 3436, 4189, 393...   \n",
       "1994  [4716, 4418, 3976, 3429, 3300, 3423, 4275, 404...   \n",
       "1995  [4772, 4540, 4122, 3461, 3339, 3463, 4279, 418...   \n",
       "1996  [4845, 4701, 4281, 3566, 3325, 3591, 4279, 436...   \n",
       "1997  [4835, 4873, 4432, 3684, 3246, 3704, 4141, 451...   \n",
       "1998  [4826, 5002, 4600, 3767, 3204, 3781, 4055, 461...   \n",
       "1999  [4816, 5112, 4692, 3990, 3243, 3812, 4061, 468...   \n",
       "2000  [4841, 5188, 4846, 4142, 3287, 3839, 4130, 469...   \n",
       "2001  [4804, 5274, 5021, 4306, 3371, 3753, 4328, 469...   \n",
       "2002  [4692, 5245, 5190, 4429, 3444, 3647, 4416, 459...   \n",
       "2003  [4635, 5255, 5252, 4550, 3534, 3576, 4467, 453...   \n",
       "2004  [4579, 5203, 5331, 4560, 3695, 3508, 4431, 446...   \n",
       "2005  [4619, 5155, 5342, 4662, 3804, 3469, 4326, 446...   \n",
       "2006  [4762, 5026, 5392, 4757, 3889, 3583, 4121, 453...   \n",
       "2007  [4912, 4991, 5431, 4941, 4003, 3695, 3972, 461...   \n",
       "2008  [5042, 5080, 5505, 5143, 4163, 3905, 3983, 480...   \n",
       "2009  [5179, 5078, 5476, 5265, 4388, 4013, 4011, 486...   \n",
       "2010  [5276, 5166, 5420, 5379, 4483, 4058, 4055, 481...   \n",
       "2011  [5247, 5257, 5311, 5467, 4530, 4205, 4045, 458...   \n",
       "\n",
       "                                                  10301  \\\n",
       "1991  [1530, 1588, 1588, 1925, 1635, 1386, 1465, 139...   \n",
       "1992  [1522, 1582, 1614, 1867, 1694, 1372, 1481, 142...   \n",
       "1993  [1496, 1570, 1644, 1824, 1722, 1354, 1476, 144...   \n",
       "1994  [1474, 1562, 1680, 1810, 1737, 1347, 1476, 147...   \n",
       "1995  [1442, 1561, 1714, 1803, 1737, 1371, 1450, 151...   \n",
       "1996  [1402, 1560, 1732, 1818, 1701, 1412, 1411, 154...   \n",
       "1997  [1396, 1552, 1730, 1776, 1638, 1500, 1362, 158...   \n",
       "1998  [1392, 1537, 1739, 1809, 1566, 1529, 1344, 160...   \n",
       "1999  [1396, 1515, 1752, 1856, 1541, 1528, 1353, 159...   \n",
       "2000  [1415, 1487, 1728, 1889, 1557, 1484, 1380, 154...   \n",
       "2001  [1433, 1452, 1691, 1947, 1598, 1393, 1442, 144...   \n",
       "2002  [1440, 1446, 1670, 1976, 1648, 1356, 1490, 141...   \n",
       "2003  [1426, 1455, 1654, 1987, 1720, 1301, 1507, 137...   \n",
       "2004  [1421, 1440, 1612, 1980, 1774, 1286, 1483, 137...   \n",
       "2005  [1435, 1443, 1575, 1953, 1834, 1309, 1450, 140...   \n",
       "2006  [1445, 1470, 1541, 1950, 1890, 1338, 1421, 144...   \n",
       "2007  [1504, 1493, 1502, 1904, 1891, 1366, 1347, 149...   \n",
       "2008  [1562, 1476, 1558, 1882, 1914, 1425, 1303, 152...   \n",
       "2009  [1622, 1517, 1610, 1842, 2005, 1498, 1269, 153...   \n",
       "2010  [1665, 1547, 1615, 1815, 2037, 1515, 1281, 147...   \n",
       "2011  [1574, 1603, 1641, 1815, 2033, 1527, 1338, 140...   \n",
       "\n",
       "                                                  10302  \\\n",
       "1991  [2621, 2671, 2586, 2236, 1679, 2062, 2280, 212...   \n",
       "1992  [2615, 2662, 2575, 2171, 1718, 1999, 2279, 215...   \n",
       "1993  [2580, 2628, 2562, 2113, 1735, 1931, 2238, 218...   \n",
       "1994  [2540, 2608, 2550, 2079, 1733, 1885, 2203, 219...   \n",
       "1995  [2470, 2584, 2521, 2053, 1704, 1860, 2118, 222...   \n",
       "1996  [2394, 2562, 2485, 2060, 1646, 1865, 2019, 225...   \n",
       "1997  [2455, 2472, 2456, 2030, 1579, 1822, 1997, 222...   \n",
       "1998  [2469, 2421, 2411, 2062, 1554, 1743, 1932, 218...   \n",
       "1999  [2416, 2423, 2351, 2109, 1501, 1703, 1846, 223...   \n",
       "2000  [2357, 2436, 2375, 2070, 1465, 1702, 1836, 217...   \n",
       "2001  [2182, 2397, 2422, 2034, 1431, 1619, 1775, 207...   \n",
       "2002  [2147, 2375, 2317, 2058, 1391, 1534, 1753, 199...   \n",
       "2003  [2047, 2356, 2299, 2035, 1418, 1472, 1718, 187...   \n",
       "2004  [1991, 2293, 2312, 1955, 1465, 1403, 1667, 178...   \n",
       "2005  [1977, 2199, 2276, 1938, 1438, 1400, 1638, 173...   \n",
       "2006  [1960, 2119, 2240, 1925, 1360, 1420, 1598, 169...   \n",
       "2007  [1954, 2080, 2229, 1889, 1393, 1401, 1516, 170...   \n",
       "2008  [1957, 1996, 2211, 1917, 1418, 1411, 1465, 167...   \n",
       "2009  [1940, 1992, 2170, 1915, 1426, 1463, 1397, 163...   \n",
       "2010  [1932, 2024, 2102, 1924, 1467, 1444, 1392, 159...   \n",
       "2011  [1948, 2003, 2076, 1866, 1480, 1352, 1390, 152...   \n",
       "\n",
       "                                                  10303  \\\n",
       "1991  [1866, 1950, 1716, 1437, 1330, 1563, 1680, 153...   \n",
       "1992  [1885, 1925, 1726, 1408, 1319, 1497, 1680, 154...   \n",
       "1993  [1889, 1891, 1751, 1384, 1279, 1424, 1663, 155...   \n",
       "1994  [1881, 1867, 1761, 1374, 1227, 1371, 1639, 156...   \n",
       "1995  [1866, 1843, 1769, 1380, 1163, 1334, 1600, 157...   \n",
       "1996  [1839, 1825, 1773, 1400, 1077, 1317, 1540, 159...   \n",
       "1997  [1830, 1807, 1771, 1368, 1051, 1298, 1507, 162...   \n",
       "1998  [1759, 1890, 1739, 1366, 1031, 1263, 1430, 169...   \n",
       "1999  [1715, 1930, 1726, 1372, 1022, 1221, 1450, 169...   \n",
       "2000  [1671, 1895, 1747, 1431, 987, 1166, 1463, 1630...   \n",
       "2001  [1560, 1751, 1712, 1509, 1080, 1217, 1469, 163...   \n",
       "2002  [1511, 1718, 1718, 1514, 1054, 1149, 1465, 162...   \n",
       "2003  [1447, 1670, 1731, 1518, 1050, 1122, 1436, 155...   \n",
       "2004  [1411, 1634, 1731, 1508, 1066, 1060, 1394, 154...   \n",
       "2005  [1366, 1596, 1726, 1503, 1087, 1017, 1324, 149...   \n",
       "2006  [1359, 1557, 1695, 1510, 1107, 1003, 1252, 149...   \n",
       "2007  [1382, 1536, 1677, 1538, 1118, 1056, 1189, 151...   \n",
       "2008  [1411, 1524, 1620, 1606, 1163, 1068, 1203, 148...   \n",
       "2009  [1471, 1540, 1592, 1627, 1203, 1119, 1182, 148...   \n",
       "2010  [1503, 1511, 1628, 1579, 1274, 1165, 1145, 146...   \n",
       "2011  [1517, 1542, 1629, 1538, 1311, 1231, 1110, 138...   \n",
       "\n",
       "                                                  10304  ...  \\\n",
       "1991  [2076, 2133, 2130, 2014, 1805, 1702, 1836, 178...  ...   \n",
       "1992  [2081, 2132, 2134, 1964, 1857, 1666, 1862, 181...  ...   \n",
       "1993  [2070, 2116, 2146, 1923, 1870, 1628, 1859, 182...  ...   \n",
       "1994  [2039, 2093, 2143, 1901, 1855, 1595, 1855, 183...  ...   \n",
       "1995  [1984, 2083, 2129, 1882, 1820, 1587, 1808, 185...  ...   \n",
       "1996  [1929, 2069, 2112, 1901, 1751, 1608, 1751, 186...  ...   \n",
       "1997  [1910, 2125, 2038, 1988, 1666, 1659, 1715, 189...  ...   \n",
       "1998  [1935, 2166, 2049, 1985, 1635, 1725, 1714, 191...  ...   \n",
       "1999  [1969, 2149, 2083, 2002, 1657, 1746, 1703, 191...  ...   \n",
       "2000  [2016, 2116, 2130, 1977, 1650, 1753, 1755, 184...  ...   \n",
       "2001  [2061, 2080, 2116, 1997, 1573, 1659, 1749, 180...  ...   \n",
       "2002  [1976, 2084, 2155, 1968, 1619, 1587, 1776, 180...  ...   \n",
       "2003  [1924, 2060, 2171, 1956, 1640, 1513, 1783, 175...  ...   \n",
       "2004  [1887, 2064, 2123, 1959, 1643, 1509, 1765, 171...  ...   \n",
       "2005  [1885, 2057, 2066, 1989, 1609, 1443, 1740, 172...  ...   \n",
       "2006  [1848, 2052, 2032, 2007, 1566, 1481, 1638, 174...  ...   \n",
       "2007  [1957, 1946, 2047, 2037, 1603, 1547, 1587, 180...  ...   \n",
       "2008  [2026, 1916, 2053, 2021, 1701, 1616, 1540, 182...  ...   \n",
       "2009  [2095, 1937, 2092, 1956, 1771, 1648, 1572, 183...  ...   \n",
       "2010  [2209, 1963, 2092, 1939, 1798, 1665, 1586, 183...  ...   \n",
       "2011  [2286, 1998, 2121, 2004, 1786, 1687, 1622, 181...  ...   \n",
       "\n",
       "                                                  70203  \\\n",
       "1991  [814, 670, 577, 580, 704, 677, 614, 526, 387, ...   \n",
       "1992  [810, 697, 583, 595, 714, 672, 606, 521, 393, ...   \n",
       "1993  [806, 724, 590, 600, 721, 671, 610, 512, 412, ...   \n",
       "1994  [798, 739, 602, 615, 724, 664, 606, 513, 427, ...   \n",
       "1995  [806, 767, 610, 630, 750, 677, 591, 519, 441, ...   \n",
       "1996  [802, 808, 632, 641, 763, 707, 592, 527, 462, ...   \n",
       "1997  [796, 839, 636, 627, 776, 726, 638, 532, 492, ...   \n",
       "1998  [818, 841, 671, 626, 763, 743, 628, 556, 502, ...   \n",
       "1999  [832, 840, 704, 633, 736, 748, 631, 570, 493, ...   \n",
       "2000  [816, 847, 724, 650, 705, 741, 649, 569, 482, ...   \n",
       "2001  [811, 894, 760, 600, 674, 729, 646, 589, 473, ...   \n",
       "2002  [839, 912, 749, 571, 700, 678, 656, 589, 484, ...   \n",
       "2003  [870, 899, 753, 561, 666, 668, 654, 579, 494, ...   \n",
       "2004  [871, 885, 785, 594, 642, 646, 665, 581, 495, ...   \n",
       "2005  [874, 856, 797, 610, 651, 630, 650, 618, 514, ...   \n",
       "2006  [851, 864, 821, 635, 658, 638, 628, 636, 551, ...   \n",
       "2007  [862, 878, 816, 676, 671, 674, 648, 677, 569, ...   \n",
       "2008  [875, 899, 856, 714, 709, 703, 671, 683, 602, ...   \n",
       "2009  [929, 907, 869, 765, 751, 767, 672, 731, 614, ...   \n",
       "2010  [972, 923, 852, 832, 771, 822, 685, 735, 648, ...   \n",
       "2011  [941, 955, 831, 826, 777, 805, 732, 714, 696, ...   \n",
       "\n",
       "                                                  70204  \\\n",
       "1991  [687, 766, 618, 554, 476, 516, 589, 549, 465, ...   \n",
       "1992  [692, 751, 624, 546, 499, 511, 583, 540, 455, ...   \n",
       "1993  [695, 737, 636, 534, 521, 510, 577, 529, 455, ...   \n",
       "1994  [710, 725, 647, 533, 542, 506, 567, 525, 454, ...   \n",
       "1995  [721, 715, 657, 528, 570, 519, 554, 524, 446, ...   \n",
       "1996  [732, 720, 683, 522, 604, 530, 550, 529, 451, ...   \n",
       "1997  [725, 743, 677, 545, 626, 569, 596, 539, 480, ...   \n",
       "1998  [738, 760, 674, 561, 601, 621, 598, 560, 474, ...   \n",
       "1999  [749, 778, 658, 567, 576, 638, 609, 577, 477, ...   \n",
       "2000  [746, 790, 652, 592, 558, 632, 607, 600, 511, ...   \n",
       "2001  [784, 766, 662, 583, 536, 606, 617, 624, 534, ...   \n",
       "2002  [789, 766, 656, 560, 573, 585, 629, 623, 567, ...   \n",
       "2003  [792, 766, 636, 551, 574, 571, 638, 629, 571, ...   \n",
       "2004  [825, 757, 634, 598, 552, 567, 634, 629, 587, ...   \n",
       "2005  [830, 777, 641, 629, 571, 605, 650, 657, 598, ...   \n",
       "2006  [794, 831, 639, 641, 597, 646, 662, 677, 570, ...   \n",
       "2007  [809, 822, 693, 633, 636, 680, 695, 696, 580, ...   \n",
       "2008  [800, 878, 720, 644, 664, 733, 692, 725, 576, ...   \n",
       "2009  [821, 875, 770, 651, 680, 783, 685, 755, 591, ...   \n",
       "2010  [835, 906, 758, 682, 709, 825, 693, 735, 614, ...   \n",
       "2011  [829, 925, 791, 655, 683, 802, 693, 755, 621, ...   \n",
       "\n",
       "                                                  70205  \\\n",
       "1991  [937, 873, 645, 622, 868, 1001, 854, 718, 628,...   \n",
       "1992  [970, 905, 669, 652, 872, 1016, 896, 746, 635,...   \n",
       "1993  [993, 926, 702, 672, 874, 1040, 943, 769, 658,...   \n",
       "1994  [1023, 951, 731, 700, 874, 1047, 985, 800, 670...   \n",
       "1995  [1053, 970, 752, 723, 881, 1081, 1004, 834, 68...   \n",
       "1996  [1072, 1002, 788, 736, 878, 1128, 1032, 859, 7...   \n",
       "1997  [1048, 1015, 804, 698, 832, 1109, 1027, 885, 7...   \n",
       "1998  [1080, 996, 841, 684, 794, 1084, 999, 913, 747...   \n",
       "1999  [1065, 985, 883, 686, 785, 1037, 945, 926, 713...   \n",
       "2000  [1045, 997, 872, 720, 765, 957, 930, 922, 706,...   \n",
       "2001  [1023, 1032, 889, 815, 835, 907, 883, 857, 675...   \n",
       "2002  [1023, 994, 878, 844, 784, 866, 890, 830, 677,...   \n",
       "2003  [1024, 959, 849, 832, 775, 794, 878, 774, 694,...   \n",
       "2004  [1036, 955, 868, 817, 784, 752, 859, 763, 677,...   \n",
       "2005  [1009, 970, 896, 794, 817, 717, 821, 766, 702,...   \n",
       "2006  [1009, 966, 914, 796, 823, 739, 768, 780, 687,...   \n",
       "2007  [1013, 966, 875, 829, 888, 772, 746, 789, 685,...   \n",
       "2008  [1016, 985, 886, 836, 911, 885, 727, 801, 658,...   \n",
       "2009  [1012, 1019, 888, 849, 939, 961, 747, 785, 684...   \n",
       "2010  [1024, 1009, 886, 831, 969, 1024, 720, 770, 68...   \n",
       "2011  [1017, 991, 873, 771, 958, 971, 790, 688, 699,...   \n",
       "\n",
       "                                                  80101  \\\n",
       "1991  [3436, 3697, 4225, 4864, 4152, 3485, 3432, 360...   \n",
       "1992  [3342, 3542, 4019, 4580, 4452, 3395, 3365, 349...   \n",
       "1993  [3220, 3371, 3849, 4401, 4619, 3303, 3251, 335...   \n",
       "1994  [3064, 3212, 3661, 4240, 4674, 3223, 3116, 320...   \n",
       "1995  [2994, 3132, 3485, 4172, 4651, 3244, 3009, 315...   \n",
       "1996  [2935, 3076, 3369, 4167, 4523, 3376, 2933, 312...   \n",
       "1997  [2865, 3026, 3286, 3911, 4404, 3519, 2890, 302...   \n",
       "1998  [2763, 2984, 3174, 3812, 4380, 3617, 2896, 300...   \n",
       "1999  [2738, 2910, 3092, 3736, 4274, 3661, 2934, 297...   \n",
       "2000  [2665, 2945, 3030, 3625, 4191, 3734, 3044, 293...   \n",
       "2001  [2645, 2901, 2962, 3606, 4216, 3678, 3222, 291...   \n",
       "2002  [2613, 2865, 2959, 3523, 4150, 3777, 3347, 293...   \n",
       "2003  [2547, 2810, 3000, 3441, 4250, 3784, 3430, 295...   \n",
       "2004  [2616, 2708, 2931, 3373, 4246, 3726, 3572, 297...   \n",
       "2005  [2712, 2590, 2918, 3280, 4172, 3735, 3658, 304...   \n",
       "2006  [2925, 2536, 2829, 3187, 4137, 3743, 3627, 318...   \n",
       "2007  [3119, 2594, 2757, 3218, 4277, 3901, 3760, 333...   \n",
       "2008  [3240, 2589, 2704, 3305, 4318, 3984, 3892, 347...   \n",
       "2009  [3409, 2650, 2631, 3329, 4447, 4144, 3910, 364...   \n",
       "2010  [3536, 2757, 2558, 3388, 4506, 4308, 4039, 375...   \n",
       "2011  [3490, 2891, 2503, 3283, 4559, 4387, 3996, 371...   \n",
       "\n",
       "                                                  80103  \\\n",
       "1991  [72, 49, 29, 86, 188, 153, 111, 78, 78, 52, 39...   \n",
       "1992  [67, 48, 30, 80, 187, 151, 112, 79, 78, 57, 40...   \n",
       "1993  [62, 46, 32, 79, 188, 147, 109, 80, 80, 65, 44...   \n",
       "1994  [58, 42, 34, 73, 178, 138, 107, 83, 82, 70, 48...   \n",
       "1995  [49, 39, 34, 68, 159, 130, 104, 82, 83, 67, 48...   \n",
       "1996  [45, 36, 34, 63, 137, 132, 99, 83, 84, 69, 51,...   \n",
       "1997  [44, 41, 35, 67, 126, 125, 94, 79, 75, 67, 64,...   \n",
       "1998  [43, 42, 34, 60, 128, 122, 86, 70, 69, 70, 64,...   \n",
       "1999  [39, 44, 42, 64, 123, 114, 89, 64, 66, 71, 63,...   \n",
       "2000  [38, 33, 45, 56, 127, 112, 83, 66, 61, 73, 65,...   \n",
       "2001  [37, 24, 46, 52, 131, 120, 82, 66, 63, 70, 63,...   \n",
       "2002  [37, 25, 46, 49, 110, 101, 79, 63, 56, 78, 57,...   \n",
       "2003  [36, 36, 45, 48, 90, 90, 71, 66, 59, 80, 61, 4...   \n",
       "2004  [36, 36, 44, 55, 83, 69, 73, 68, 54, 72, 60, 4...   \n",
       "2005  [32, 33, 34, 58, 73, 52, 70, 56, 52, 58, 68, 4...   \n",
       "2006  [25, 29, 31, 46, 51, 38, 79, 52, 49, 46, 70, 4...   \n",
       "2007  [25, 24, 33, 58, 49, 39, 64, 61, 55, 43, 67, 4...   \n",
       "2008  [23, 18, 39, 58, 51, 49, 48, 57, 59, 58, 63, 4...   \n",
       "2009  [19, 15, 43, 59, 91, 89, 66, 78, 73, 75, 66, 6...   \n",
       "2010  [23, 11, 42, 60, 106, 108, 77, 90, 78, 73, 68,...   \n",
       "2011  [24, 9, 39, 57, 133, 120, 76, 100, 67, 89, 71,...   \n",
       "\n",
       "                                                  80105  \\\n",
       "1991  [1121, 960, 858, 2112, 2759, 1956, 1831, 1436,...   \n",
       "1992  [1101, 943, 858, 1959, 2914, 1924, 1829, 1436,...   \n",
       "1993  [1068, 926, 854, 1857, 2975, 1871, 1796, 1423,...   \n",
       "1994  [1038, 914, 857, 1773, 2995, 1856, 1754, 1406,...   \n",
       "1995  [1016, 914, 856, 1709, 2925, 1864, 1717, 1420,...   \n",
       "1996  [1004, 922, 862, 1693, 2803, 1928, 1694, 1444,...   \n",
       "1997  [968, 926, 825, 1667, 2711, 1918, 1649, 1471, ...   \n",
       "1998  [949, 910, 803, 1600, 2652, 1906, 1659, 1452, ...   \n",
       "1999  [941, 911, 803, 1557, 2567, 1896, 1668, 1481, ...   \n",
       "2000  [932, 905, 820, 1532, 2499, 1911, 1677, 1508, ...   \n",
       "2001  [909, 882, 852, 1527, 2519, 1884, 1715, 1517, ...   \n",
       "2002  [940, 898, 870, 1520, 2655, 1975, 1809, 1506, ...   \n",
       "2003  [967, 889, 884, 1520, 2889, 2083, 1842, 1547, ...   \n",
       "2004  [987, 885, 890, 1518, 3068, 2214, 1896, 1591, ...   \n",
       "2005  [1009, 870, 905, 1567, 3219, 2346, 1937, 1616,...   \n",
       "2006  [1032, 896, 868, 1649, 3368, 2552, 1957, 1728,...   \n",
       "2007  [1128, 912, 875, 1720, 3547, 2738, 1997, 1794,...   \n",
       "2008  [1178, 940, 858, 1728, 3671, 2919, 2071, 1814,...   \n",
       "2009  [1212, 980, 871, 1726, 3819, 3095, 2165, 1810,...   \n",
       "2010  [1233, 986, 880, 1737, 3944, 3229, 2221, 1820,...   \n",
       "2011  [1151, 1004, 901, 1753, 4064, 3371, 2345, 1832...   \n",
       "\n",
       "                                                  80106  \\\n",
       "1991  [615, 673, 664, 756, 824, 840, 785, 728, 838, ...   \n",
       "1992  [601, 657, 670, 730, 853, 833, 789, 742, 807, ...   \n",
       "1993  [589, 643, 689, 724, 868, 833, 789, 762, 800, ...   \n",
       "1994  [576, 632, 704, 721, 866, 841, 781, 778, 797, ...   \n",
       "1995  [568, 633, 722, 733, 843, 856, 774, 807, 787, ...   \n",
       "1996  [550, 632, 740, 748, 784, 893, 768, 837, 789, ...   \n",
       "1997  [558, 633, 725, 748, 778, 927, 767, 835, 814, ...   \n",
       "1998  [558, 606, 709, 744, 763, 961, 754, 824, 811, ...   \n",
       "1999  [551, 596, 710, 755, 746, 958, 775, 818, 820, ...   \n",
       "2000  [546, 574, 709, 765, 734, 945, 797, 770, 858, ...   \n",
       "2001  [510, 579, 714, 809, 728, 946, 827, 745, 869, ...   \n",
       "2002  [511, 579, 715, 798, 785, 937, 874, 748, 881, ...   \n",
       "2003  [508, 556, 683, 798, 823, 949, 861, 759, 850, ...   \n",
       "2004  [492, 525, 649, 814, 835, 985, 820, 762, 832, ...   \n",
       "2005  [478, 522, 632, 826, 903, 1015, 834, 795, 816,...   \n",
       "2006  [471, 501, 631, 834, 1002, 1107, 861, 846, 793...   \n",
       "2007  [515, 531, 646, 824, 983, 1127, 872, 870, 838,...   \n",
       "2008  [542, 545, 652, 810, 935, 1170, 890, 878, 840,...   \n",
       "2009  [573, 561, 673, 798, 919, 1227, 894, 867, 839,...   \n",
       "2010  [593, 576, 669, 774, 902, 1259, 894, 835, 878,...   \n",
       "2011  [601, 607, 659, 739, 897, 1281, 894, 791, 905,...   \n",
       "\n",
       "                                                  80107  \\\n",
       "1991  [4388, 4149, 3506, 2915, 2413, 3533, 4038, 388...   \n",
       "1992  [4646, 4426, 3801, 3061, 2758, 3635, 4347, 419...   \n",
       "1993  [4728, 4536, 4007, 3190, 2998, 3666, 4490, 431...   \n",
       "1994  [4675, 4592, 4153, 3307, 3132, 3633, 4496, 434...   \n",
       "1995  [4614, 4666, 4234, 3426, 3106, 3532, 4415, 441...   \n",
       "1996  [4493, 4716, 4321, 3574, 2969, 3460, 4284, 445...   \n",
       "1997  [4311, 4630, 4342, 3605, 2945, 3364, 3955, 444...   \n",
       "1998  [4108, 4547, 4357, 3693, 2946, 3284, 3730, 432...   \n",
       "1999  [3965, 4419, 4280, 3837, 2909, 3192, 3549, 425...   \n",
       "2000  [3799, 4323, 4347, 3925, 2873, 3087, 3446, 410...   \n",
       "2001  [3684, 4174, 4340, 4071, 2975, 2959, 3440, 388...   \n",
       "2002  [3490, 4002, 4329, 4158, 3105, 2906, 3332, 364...   \n",
       "2003  [3373, 3801, 4194, 4179, 3302, 2853, 3247, 348...   \n",
       "2004  [3215, 3657, 4116, 4122, 3445, 2892, 3216, 331...   \n",
       "2005  [3083, 3514, 3958, 4147, 3542, 2912, 3153, 325...   \n",
       "2006  [2978, 3362, 3811, 4102, 3592, 2961, 3061, 327...   \n",
       "2007  [3043, 3177, 3744, 4036, 3702, 3074, 2983, 327...   \n",
       "2008  [3070, 3104, 3562, 4065, 3688, 3124, 2956, 327...   \n",
       "2009  [3153, 3014, 3465, 4008, 3689, 3195, 2992, 323...   \n",
       "2010  [3219, 2921, 3317, 3942, 3706, 3308, 2917, 319...   \n",
       "2011  [3122, 2922, 3165, 3730, 3672, 3338, 2918, 299...   \n",
       "\n",
       "                                                  80108  \\\n",
       "1991  [799, 942, 1232, 1638, 1238, 951, 854, 890, 13...   \n",
       "1992  [781, 897, 1170, 1479, 1285, 921, 856, 865, 12...   \n",
       "1993  [757, 847, 1107, 1361, 1281, 888, 838, 832, 11...   \n",
       "1994  [724, 808, 1054, 1251, 1254, 869, 825, 796, 10...   \n",
       "1995  [707, 777, 989, 1164, 1196, 859, 809, 782, 948...   \n",
       "1996  [698, 760, 945, 1090, 1119, 884, 801, 774, 882...   \n",
       "1997  [673, 753, 878, 1003, 1059, 923, 770, 768, 843...   \n",
       "1998  [655, 744, 808, 964, 997, 936, 764, 762, 784, ...   \n",
       "1999  [655, 721, 789, 925, 885, 938, 778, 770, 770, ...   \n",
       "2000  [653, 710, 764, 910, 813, 927, 769, 769, 759, ...   \n",
       "2001  [638, 703, 756, 885, 782, 891, 776, 772, 757, ...   \n",
       "2002  [610, 686, 777, 830, 768, 863, 864, 759, 739, ...   \n",
       "2003  [618, 643, 773, 781, 835, 794, 883, 769, 700, ...   \n",
       "2004  [629, 637, 720, 760, 847, 741, 873, 794, 718, ...   \n",
       "2005  [684, 621, 691, 741, 818, 698, 852, 824, 728, ...   \n",
       "2006  [733, 632, 664, 734, 768, 685, 821, 857, 741, ...   \n",
       "2007  [766, 660, 637, 757, 714, 717, 811, 922, 756, ...   \n",
       "2008  [775, 690, 651, 748, 703, 728, 798, 916, 776, ...   \n",
       "2009  [801, 735, 677, 715, 693, 707, 812, 905, 818, ...   \n",
       "2010  [833, 785, 671, 714, 661, 729, 751, 910, 868, ...   \n",
       "2011  [873, 803, 672, 679, 656, 692, 724, 889, 885, ...   \n",
       "\n",
       "                                                  80109  \n",
       "1991  [1021, 1002, 1059, 1445, 1915, 1388, 1268, 122...  \n",
       "1992  [1012, 1009, 1070, 1337, 1893, 1365, 1296, 123...  \n",
       "1993  [979, 993, 1071, 1255, 1821, 1342, 1298, 1224,...  \n",
       "1994  [945, 988, 1078, 1183, 1699, 1324, 1298, 1207,...  \n",
       "1995  [934, 998, 1077, 1128, 1544, 1346, 1299, 1230,...  \n",
       "1996  [918, 1015, 1090, 1086, 1351, 1398, 1305, 1247...  \n",
       "1997  [932, 985, 1083, 1073, 1249, 1343, 1271, 1255,...  \n",
       "1998  [916, 975, 1044, 1053, 1213, 1298, 1229, 1266,...  \n",
       "1999  [900, 975, 1037, 1069, 1148, 1246, 1203, 1280,...  \n",
       "2000  [884, 967, 1035, 1123, 1084, 1195, 1188, 1251,...  \n",
       "2001  [913, 945, 1078, 1133, 1098, 1101, 1186, 1216,...  \n",
       "2002  [900, 984, 1054, 1093, 1119, 1107, 1169, 1216,...  \n",
       "2003  [890, 990, 1035, 1102, 1166, 1068, 1185, 1165,...  \n",
       "2004  [886, 978, 1024, 1075, 1193, 1071, 1146, 1163,...  \n",
       "2005  [860, 979, 1019, 1072, 1214, 1055, 1148, 1148,...  \n",
       "2006  [864, 992, 987, 1092, 1193, 1127, 1082, 1149, ...  \n",
       "2007  [858, 962, 1033, 1084, 1224, 1134, 1089, 1182,...  \n",
       "2008  [856, 954, 1033, 1072, 1243, 1182, 1082, 1223,...  \n",
       "2009  [884, 968, 1017, 1082, 1252, 1217, 1093, 1207,...  \n",
       "2010  [867, 983, 1021, 1079, 1258, 1240, 1097, 1184,...  \n",
       "2011  [923, 974, 1032, 1065, 1187, 1262, 1094, 1127,...  \n",
       "\n",
       "[21 rows x 325 columns]"
      ]
     },
     "execution_count": 11,
     "metadata": {},
     "output_type": "execute_result"
    }
   ],
   "source": [
    "pd.DataFrame(population_m_dict)"
   ]
  },
  {
   "cell_type": "code",
   "execution_count": 12,
   "metadata": {
    "id": "yweDeYQ1NYo9"
   },
   "outputs": [],
   "source": [
    "def split_sequence(sequence, n_steps):\n",
    "\tX, y = list(), list()\n",
    "\tfor i in range(len(sequence)):\n",
    "\t\t# find the end of this pattern\n",
    "\t\tend_ix = i + n_steps\n",
    "\t\t# check if we are beyond the sequence\n",
    "\t\tif end_ix > len(sequence)-1:\n",
    "\t\t\tbreak\n",
    "\t\t# gather input and output parts of the pattern\n",
    "\t\tseq_x, seq_y = sequence[i:end_ix], sequence[end_ix]\n",
    "\t\tX.append(seq_x)\n",
    "\t\ty.append(seq_y)\n",
    "\treturn np.array(X), np.array(y)"
   ]
  },
  {
   "cell_type": "markdown",
   "metadata": {
    "id": "1Xr47JZ7Nfe1"
   },
   "source": [
    "## 3.Train and Predict"
   ]
  },
  {
   "cell_type": "code",
   "execution_count": 13,
   "metadata": {
    "id": "mLBleYBAN7iT"
   },
   "outputs": [],
   "source": [
    "# univariate lstm example\n",
    "from numpy import array\n",
    "from keras.models import Sequential\n",
    "from keras.layers import LSTM\n",
    "from keras.layers import Dense"
   ]
  },
  {
   "cell_type": "code",
   "execution_count": 14,
   "metadata": {
    "colab": {
     "base_uri": "https://localhost:8080/",
     "height": 592
    },
    "id": "otte7EDBQLVL",
    "outputId": "2199e16e-c1c6-4cca-ad6b-0b8bd7900b72"
   },
   "outputs": [],
   "source": [
    "output = pd.DataFrame(index = range(sa3_num*36), columns = ['Code','Area name','Sex','Age group',2002, 2003, 2004, 2005, 2006, 2007, 2008, 2009, 2010, 2011])\n",
    "for sa3_code in range(0,sa3_num):\n",
    "  for age_group in range(18):\n",
    "    output.loc[sa3_code*36+age_group] = {'Code':sa3_codes[sa3_code],'Area name':sa3_names[sa3_code],'Sex':'Females','Age group':age_groups[age_group]}\n",
    "    output.loc[sa3_code*36+18+age_group] = {'Code':sa3_codes[sa3_code],'Area name':sa3_names[sa3_code],'Sex':'Males','Age group':age_groups[age_group]}"
   ]
  },
  {
   "cell_type": "code",
   "execution_count": 15,
   "metadata": {},
   "outputs": [],
   "source": [
    "# choose a number of time steps\n",
    "n_steps = 5\n",
    "# reshape from [samples, timesteps] into [samples, timesteps, features]\n",
    "n_features = 18\n",
    "n_age_groups = 18"
   ]
  },
  {
   "cell_type": "code",
   "execution_count": 16,
   "metadata": {},
   "outputs": [],
   "source": [
    "###\n",
    "train_lb = None\n",
    "train_ub = 6\n",
    "train_bounds = slice(train_lb,train_ub)\n",
    "\n",
    "val_lb = 6\n",
    "val_ub = 10\n",
    "val_bounds = slice(val_lb,val_ub)\n",
    "\n",
    "test_lb = 11\n",
    "test_ub = None\n",
    "test_bounds = test_lb"
   ]
  },
  {
   "cell_type": "code",
   "execution_count": 17,
   "metadata": {},
   "outputs": [],
   "source": [
    "def lstm_model(lstm1_units, activ, optimizer, loss_fun):\n",
    "    model = Sequential()\n",
    "    model.add(LSTM(lstm1_units, activation=activ, input_shape=(n_steps, n_features)))\n",
    "    model.add(Dense(n_age_groups))\n",
    "    model.compile(optimizer=optimizer, loss=loss_fun, metrics=[\"mean_absolute_percentage_error\"])\n",
    "    \n",
    "    return model"
   ]
  },
  {
   "cell_type": "code",
   "execution_count": 18,
   "metadata": {},
   "outputs": [],
   "source": [
    "###HYPERPARAMETERS\n",
    "lstm1_min = 100\n",
    "lstm1_max = 1000\n",
    "lstm1_step = 100\n",
    "\n",
    "activ_functions = [\"relu\"]\n",
    "optimizers = [\"adam\",\"adagrad\"]\n",
    "loss_functions = [\"mse\"]\n",
    "\n",
    "def build_model(hp):\n",
    "    lstm1_units = hp.Int(\"LSTM units\", min_value=lstm1_min,max_value=lstm1_max,step=lstm1_step)\n",
    "    activation = hp.Choice(\"Activation Function\", activ_functions)\n",
    "    optimizer = hp.Choice(\"Optimizer\", optimizers)\n",
    "    loss_fun = hp.Choice(\"Loss Function\", loss_functions)\n",
    "    \n",
    "    model = lstm_model(lstm1_units, activation, optimizer, loss_fun)\n",
    "    return model\n",
    "    "
   ]
  },
  {
   "cell_type": "code",
   "execution_count": 19,
   "metadata": {},
   "outputs": [
    {
     "name": "stdout",
     "output_type": "stream",
     "text": [
      "INFO:tensorflow:Reloading Oracle from existing project ./untitled_project/oracle.json\n",
      "Metal device set to: Apple M1 Pro\n",
      "\n",
      "systemMemory: 16.00 GB\n",
      "maxCacheSize: 5.33 GB\n",
      "\n",
      "WARNING:tensorflow:Layer lstm will not use cuDNN kernels since it doesn't meet the criteria. It will use a generic GPU kernel as fallback when running on GPU.\n",
      "INFO:tensorflow:Reloading Tuner from ./untitled_project/tuner0.json\n"
     ]
    },
    {
     "name": "stderr",
     "output_type": "stream",
     "text": [
      "2022-08-13 22:50:23.900855: I tensorflow/core/common_runtime/pluggable_device/pluggable_device_factory.cc:305] Could not identify NUMA node of platform GPU ID 0, defaulting to 0. Your kernel may not have been built with NUMA support.\n",
      "2022-08-13 22:50:23.900977: I tensorflow/core/common_runtime/pluggable_device/pluggable_device_factory.cc:271] Created TensorFlow device (/job:localhost/replica:0/task:0/device:GPU:0 with 0 MB memory) -> physical PluggableDevice (device: 0, name: METAL, pci bus id: <undefined>)\n"
     ]
    }
   ],
   "source": [
    "import keras_tuner\n",
    "#tuner_objective = \"val_accuracy\"\n",
    "\n",
    "\n",
    "tuner = keras_tuner.RandomSearch(hypermodel=build_model, objective=keras_tuner.Objective(\"val_mean_absolute_percentage_error\", \"min\"))"
   ]
  },
  {
   "cell_type": "code",
   "execution_count": 20,
   "metadata": {},
   "outputs": [
    {
     "name": "stdout",
     "output_type": "stream",
     "text": [
      "INFO:tensorflow:Oracle triggered exit\n",
      "WARNING:tensorflow:Layer lstm will not use cuDNN kernels since it doesn't meet the criteria. It will use a generic GPU kernel as fallback when running on GPU.\n",
      "WARNING:tensorflow:Layer lstm will not use cuDNN kernels since it doesn't meet the criteria. It will use a generic GPU kernel as fallback when running on GPU.\n",
      "WARNING:tensorflow:Detecting that an object or model or tf.train.Checkpoint is being deleted with unrestored values. See the following logs for the specific values in question. To silence these warnings, use `status.expect_partial()`. See https://www.tensorflow.org/api_docs/python/tf/train/Checkpoint#restorefor details about the status object returned by the restore function.\n",
      "WARNING:tensorflow:Value in checkpoint could not be found in the restored object: (root).optimizer.iter\n",
      "WARNING:tensorflow:Value in checkpoint could not be found in the restored object: (root).optimizer.beta_1\n",
      "WARNING:tensorflow:Value in checkpoint could not be found in the restored object: (root).optimizer.beta_2\n",
      "WARNING:tensorflow:Value in checkpoint could not be found in the restored object: (root).optimizer.decay\n",
      "WARNING:tensorflow:Value in checkpoint could not be found in the restored object: (root).optimizer.learning_rate\n"
     ]
    },
    {
     "name": "stderr",
     "output_type": "stream",
     "text": [
      "2022-08-13 22:50:30.486233: W tensorflow/core/platform/profile_utils/cpu_utils.cc:128] Failed to get CPU frequency: 0 Hz\n",
      "2022-08-13 22:50:30.771202: I tensorflow/core/grappler/optimizers/custom_graph_optimizer_registry.cc:113] Plugin optimizer for device_type GPU is enabled.\n",
      "2022-08-13 22:50:31.568557: I tensorflow/core/grappler/optimizers/custom_graph_optimizer_registry.cc:113] Plugin optimizer for device_type GPU is enabled.\n",
      "2022-08-13 22:50:31.689537: I tensorflow/core/grappler/optimizers/custom_graph_optimizer_registry.cc:113] Plugin optimizer for device_type GPU is enabled.\n"
     ]
    },
    {
     "name": "stdout",
     "output_type": "stream",
     "text": [
      "INFO:tensorflow:Oracle triggered exit\n",
      "WARNING:tensorflow:Layer lstm will not use cuDNN kernels since it doesn't meet the criteria. It will use a generic GPU kernel as fallback when running on GPU.\n",
      "WARNING:tensorflow:Layer lstm will not use cuDNN kernels since it doesn't meet the criteria. It will use a generic GPU kernel as fallback when running on GPU.\n",
      "WARNING:tensorflow:Detecting that an object or model or tf.train.Checkpoint is being deleted with unrestored values. See the following logs for the specific values in question. To silence these warnings, use `status.expect_partial()`. See https://www.tensorflow.org/api_docs/python/tf/train/Checkpoint#restorefor details about the status object returned by the restore function.\n",
      "WARNING:tensorflow:Value in checkpoint could not be found in the restored object: (root).optimizer.iter\n",
      "WARNING:tensorflow:Value in checkpoint could not be found in the restored object: (root).optimizer.beta_1\n",
      "WARNING:tensorflow:Value in checkpoint could not be found in the restored object: (root).optimizer.beta_2\n",
      "WARNING:tensorflow:Value in checkpoint could not be found in the restored object: (root).optimizer.decay\n",
      "WARNING:tensorflow:Value in checkpoint could not be found in the restored object: (root).optimizer.learning_rate\n"
     ]
    },
    {
     "name": "stderr",
     "output_type": "stream",
     "text": [
      "2022-08-13 22:50:32.847114: I tensorflow/core/grappler/optimizers/custom_graph_optimizer_registry.cc:113] Plugin optimizer for device_type GPU is enabled.\n",
      "2022-08-13 22:50:33.588332: I tensorflow/core/grappler/optimizers/custom_graph_optimizer_registry.cc:113] Plugin optimizer for device_type GPU is enabled.\n",
      "2022-08-13 22:50:33.691908: I tensorflow/core/grappler/optimizers/custom_graph_optimizer_registry.cc:113] Plugin optimizer for device_type GPU is enabled.\n"
     ]
    },
    {
     "name": "stdout",
     "output_type": "stream",
     "text": [
      "INFO:tensorflow:Oracle triggered exit\n",
      "WARNING:tensorflow:Layer lstm will not use cuDNN kernels since it doesn't meet the criteria. It will use a generic GPU kernel as fallback when running on GPU.\n",
      "WARNING:tensorflow:Layer lstm will not use cuDNN kernels since it doesn't meet the criteria. It will use a generic GPU kernel as fallback when running on GPU.\n",
      "WARNING:tensorflow:Detecting that an object or model or tf.train.Checkpoint is being deleted with unrestored values. See the following logs for the specific values in question. To silence these warnings, use `status.expect_partial()`. See https://www.tensorflow.org/api_docs/python/tf/train/Checkpoint#restorefor details about the status object returned by the restore function.\n",
      "WARNING:tensorflow:Value in checkpoint could not be found in the restored object: (root).optimizer.iter\n",
      "WARNING:tensorflow:Value in checkpoint could not be found in the restored object: (root).optimizer.beta_1\n",
      "WARNING:tensorflow:Value in checkpoint could not be found in the restored object: (root).optimizer.beta_2\n",
      "WARNING:tensorflow:Value in checkpoint could not be found in the restored object: (root).optimizer.decay\n",
      "WARNING:tensorflow:Value in checkpoint could not be found in the restored object: (root).optimizer.learning_rate\n"
     ]
    },
    {
     "name": "stderr",
     "output_type": "stream",
     "text": [
      "2022-08-13 22:50:34.803771: I tensorflow/core/grappler/optimizers/custom_graph_optimizer_registry.cc:113] Plugin optimizer for device_type GPU is enabled.\n",
      "2022-08-13 22:50:35.535813: I tensorflow/core/grappler/optimizers/custom_graph_optimizer_registry.cc:113] Plugin optimizer for device_type GPU is enabled.\n",
      "2022-08-13 22:50:35.635348: I tensorflow/core/grappler/optimizers/custom_graph_optimizer_registry.cc:113] Plugin optimizer for device_type GPU is enabled.\n"
     ]
    },
    {
     "name": "stdout",
     "output_type": "stream",
     "text": [
      "INFO:tensorflow:Oracle triggered exit\n",
      "WARNING:tensorflow:Layer lstm will not use cuDNN kernels since it doesn't meet the criteria. It will use a generic GPU kernel as fallback when running on GPU.\n",
      "WARNING:tensorflow:Layer lstm will not use cuDNN kernels since it doesn't meet the criteria. It will use a generic GPU kernel as fallback when running on GPU.\n",
      "WARNING:tensorflow:Detecting that an object or model or tf.train.Checkpoint is being deleted with unrestored values. See the following logs for the specific values in question. To silence these warnings, use `status.expect_partial()`. See https://www.tensorflow.org/api_docs/python/tf/train/Checkpoint#restorefor details about the status object returned by the restore function.\n",
      "WARNING:tensorflow:Value in checkpoint could not be found in the restored object: (root).optimizer.iter\n",
      "WARNING:tensorflow:Value in checkpoint could not be found in the restored object: (root).optimizer.beta_1\n",
      "WARNING:tensorflow:Value in checkpoint could not be found in the restored object: (root).optimizer.beta_2\n",
      "WARNING:tensorflow:Value in checkpoint could not be found in the restored object: (root).optimizer.decay\n",
      "WARNING:tensorflow:Value in checkpoint could not be found in the restored object: (root).optimizer.learning_rate\n"
     ]
    },
    {
     "name": "stderr",
     "output_type": "stream",
     "text": [
      "2022-08-13 22:50:36.778436: I tensorflow/core/grappler/optimizers/custom_graph_optimizer_registry.cc:113] Plugin optimizer for device_type GPU is enabled.\n",
      "2022-08-13 22:50:37.487049: I tensorflow/core/grappler/optimizers/custom_graph_optimizer_registry.cc:113] Plugin optimizer for device_type GPU is enabled.\n",
      "2022-08-13 22:50:37.591109: I tensorflow/core/grappler/optimizers/custom_graph_optimizer_registry.cc:113] Plugin optimizer for device_type GPU is enabled.\n"
     ]
    },
    {
     "name": "stdout",
     "output_type": "stream",
     "text": [
      "INFO:tensorflow:Oracle triggered exit\n",
      "WARNING:tensorflow:Layer lstm will not use cuDNN kernels since it doesn't meet the criteria. It will use a generic GPU kernel as fallback when running on GPU.\n",
      "WARNING:tensorflow:Layer lstm will not use cuDNN kernels since it doesn't meet the criteria. It will use a generic GPU kernel as fallback when running on GPU.\n",
      "WARNING:tensorflow:Detecting that an object or model or tf.train.Checkpoint is being deleted with unrestored values. See the following logs for the specific values in question. To silence these warnings, use `status.expect_partial()`. See https://www.tensorflow.org/api_docs/python/tf/train/Checkpoint#restorefor details about the status object returned by the restore function.\n",
      "WARNING:tensorflow:Value in checkpoint could not be found in the restored object: (root).optimizer.iter\n",
      "WARNING:tensorflow:Value in checkpoint could not be found in the restored object: (root).optimizer.beta_1\n",
      "WARNING:tensorflow:Value in checkpoint could not be found in the restored object: (root).optimizer.beta_2\n",
      "WARNING:tensorflow:Value in checkpoint could not be found in the restored object: (root).optimizer.decay\n",
      "WARNING:tensorflow:Value in checkpoint could not be found in the restored object: (root).optimizer.learning_rate\n"
     ]
    },
    {
     "name": "stderr",
     "output_type": "stream",
     "text": [
      "2022-08-13 22:50:38.729835: I tensorflow/core/grappler/optimizers/custom_graph_optimizer_registry.cc:113] Plugin optimizer for device_type GPU is enabled.\n",
      "2022-08-13 22:50:39.456041: I tensorflow/core/grappler/optimizers/custom_graph_optimizer_registry.cc:113] Plugin optimizer for device_type GPU is enabled.\n",
      "2022-08-13 22:50:39.559146: I tensorflow/core/grappler/optimizers/custom_graph_optimizer_registry.cc:113] Plugin optimizer for device_type GPU is enabled.\n"
     ]
    },
    {
     "name": "stdout",
     "output_type": "stream",
     "text": [
      "INFO:tensorflow:Oracle triggered exit\n",
      "WARNING:tensorflow:Layer lstm will not use cuDNN kernels since it doesn't meet the criteria. It will use a generic GPU kernel as fallback when running on GPU.\n",
      "WARNING:tensorflow:Layer lstm will not use cuDNN kernels since it doesn't meet the criteria. It will use a generic GPU kernel as fallback when running on GPU.\n",
      "WARNING:tensorflow:Detecting that an object or model or tf.train.Checkpoint is being deleted with unrestored values. See the following logs for the specific values in question. To silence these warnings, use `status.expect_partial()`. See https://www.tensorflow.org/api_docs/python/tf/train/Checkpoint#restorefor details about the status object returned by the restore function.\n",
      "WARNING:tensorflow:Value in checkpoint could not be found in the restored object: (root).optimizer.iter\n",
      "WARNING:tensorflow:Value in checkpoint could not be found in the restored object: (root).optimizer.beta_1\n",
      "WARNING:tensorflow:Value in checkpoint could not be found in the restored object: (root).optimizer.beta_2\n",
      "WARNING:tensorflow:Value in checkpoint could not be found in the restored object: (root).optimizer.decay\n",
      "WARNING:tensorflow:Value in checkpoint could not be found in the restored object: (root).optimizer.learning_rate\n"
     ]
    },
    {
     "name": "stderr",
     "output_type": "stream",
     "text": [
      "2022-08-13 22:50:40.641775: I tensorflow/core/grappler/optimizers/custom_graph_optimizer_registry.cc:113] Plugin optimizer for device_type GPU is enabled.\n",
      "2022-08-13 22:50:41.315859: I tensorflow/core/grappler/optimizers/custom_graph_optimizer_registry.cc:113] Plugin optimizer for device_type GPU is enabled.\n",
      "2022-08-13 22:50:41.414014: I tensorflow/core/grappler/optimizers/custom_graph_optimizer_registry.cc:113] Plugin optimizer for device_type GPU is enabled.\n"
     ]
    },
    {
     "name": "stdout",
     "output_type": "stream",
     "text": [
      "INFO:tensorflow:Oracle triggered exit\n",
      "WARNING:tensorflow:Layer lstm will not use cuDNN kernels since it doesn't meet the criteria. It will use a generic GPU kernel as fallback when running on GPU.\n",
      "WARNING:tensorflow:Layer lstm will not use cuDNN kernels since it doesn't meet the criteria. It will use a generic GPU kernel as fallback when running on GPU.\n",
      "WARNING:tensorflow:Detecting that an object or model or tf.train.Checkpoint is being deleted with unrestored values. See the following logs for the specific values in question. To silence these warnings, use `status.expect_partial()`. See https://www.tensorflow.org/api_docs/python/tf/train/Checkpoint#restorefor details about the status object returned by the restore function.\n",
      "WARNING:tensorflow:Value in checkpoint could not be found in the restored object: (root).optimizer.iter\n",
      "WARNING:tensorflow:Value in checkpoint could not be found in the restored object: (root).optimizer.beta_1\n",
      "WARNING:tensorflow:Value in checkpoint could not be found in the restored object: (root).optimizer.beta_2\n",
      "WARNING:tensorflow:Value in checkpoint could not be found in the restored object: (root).optimizer.decay\n",
      "WARNING:tensorflow:Value in checkpoint could not be found in the restored object: (root).optimizer.learning_rate\n"
     ]
    },
    {
     "name": "stderr",
     "output_type": "stream",
     "text": [
      "2022-08-13 22:50:42.513128: I tensorflow/core/grappler/optimizers/custom_graph_optimizer_registry.cc:113] Plugin optimizer for device_type GPU is enabled.\n",
      "2022-08-13 22:50:43.156531: I tensorflow/core/grappler/optimizers/custom_graph_optimizer_registry.cc:113] Plugin optimizer for device_type GPU is enabled.\n",
      "2022-08-13 22:50:43.255401: I tensorflow/core/grappler/optimizers/custom_graph_optimizer_registry.cc:113] Plugin optimizer for device_type GPU is enabled.\n"
     ]
    },
    {
     "name": "stdout",
     "output_type": "stream",
     "text": [
      "INFO:tensorflow:Oracle triggered exit\n",
      "WARNING:tensorflow:Layer lstm will not use cuDNN kernels since it doesn't meet the criteria. It will use a generic GPU kernel as fallback when running on GPU.\n",
      "WARNING:tensorflow:Layer lstm will not use cuDNN kernels since it doesn't meet the criteria. It will use a generic GPU kernel as fallback when running on GPU.\n",
      "WARNING:tensorflow:Detecting that an object or model or tf.train.Checkpoint is being deleted with unrestored values. See the following logs for the specific values in question. To silence these warnings, use `status.expect_partial()`. See https://www.tensorflow.org/api_docs/python/tf/train/Checkpoint#restorefor details about the status object returned by the restore function.\n",
      "WARNING:tensorflow:Value in checkpoint could not be found in the restored object: (root).optimizer.iter\n",
      "WARNING:tensorflow:Value in checkpoint could not be found in the restored object: (root).optimizer.beta_1\n",
      "WARNING:tensorflow:Value in checkpoint could not be found in the restored object: (root).optimizer.beta_2\n",
      "WARNING:tensorflow:Value in checkpoint could not be found in the restored object: (root).optimizer.decay\n",
      "WARNING:tensorflow:Value in checkpoint could not be found in the restored object: (root).optimizer.learning_rate\n"
     ]
    },
    {
     "name": "stderr",
     "output_type": "stream",
     "text": [
      "2022-08-13 22:50:44.367097: I tensorflow/core/grappler/optimizers/custom_graph_optimizer_registry.cc:113] Plugin optimizer for device_type GPU is enabled.\n",
      "2022-08-13 22:50:45.082526: I tensorflow/core/grappler/optimizers/custom_graph_optimizer_registry.cc:113] Plugin optimizer for device_type GPU is enabled.\n",
      "2022-08-13 22:50:45.187874: I tensorflow/core/grappler/optimizers/custom_graph_optimizer_registry.cc:113] Plugin optimizer for device_type GPU is enabled.\n"
     ]
    },
    {
     "name": "stdout",
     "output_type": "stream",
     "text": [
      "INFO:tensorflow:Oracle triggered exit\n",
      "WARNING:tensorflow:Layer lstm will not use cuDNN kernels since it doesn't meet the criteria. It will use a generic GPU kernel as fallback when running on GPU.\n",
      "WARNING:tensorflow:Layer lstm will not use cuDNN kernels since it doesn't meet the criteria. It will use a generic GPU kernel as fallback when running on GPU.\n",
      "WARNING:tensorflow:Detecting that an object or model or tf.train.Checkpoint is being deleted with unrestored values. See the following logs for the specific values in question. To silence these warnings, use `status.expect_partial()`. See https://www.tensorflow.org/api_docs/python/tf/train/Checkpoint#restorefor details about the status object returned by the restore function.\n",
      "WARNING:tensorflow:Value in checkpoint could not be found in the restored object: (root).optimizer.iter\n",
      "WARNING:tensorflow:Value in checkpoint could not be found in the restored object: (root).optimizer.beta_1\n",
      "WARNING:tensorflow:Value in checkpoint could not be found in the restored object: (root).optimizer.beta_2\n",
      "WARNING:tensorflow:Value in checkpoint could not be found in the restored object: (root).optimizer.decay\n",
      "WARNING:tensorflow:Value in checkpoint could not be found in the restored object: (root).optimizer.learning_rate\n"
     ]
    },
    {
     "name": "stderr",
     "output_type": "stream",
     "text": [
      "2022-08-13 22:50:46.371016: I tensorflow/core/grappler/optimizers/custom_graph_optimizer_registry.cc:113] Plugin optimizer for device_type GPU is enabled.\n",
      "2022-08-13 22:50:47.086779: I tensorflow/core/grappler/optimizers/custom_graph_optimizer_registry.cc:113] Plugin optimizer for device_type GPU is enabled.\n",
      "2022-08-13 22:50:47.189680: I tensorflow/core/grappler/optimizers/custom_graph_optimizer_registry.cc:113] Plugin optimizer for device_type GPU is enabled.\n"
     ]
    },
    {
     "name": "stdout",
     "output_type": "stream",
     "text": [
      "INFO:tensorflow:Oracle triggered exit\n",
      "WARNING:tensorflow:Layer lstm will not use cuDNN kernels since it doesn't meet the criteria. It will use a generic GPU kernel as fallback when running on GPU.\n",
      "WARNING:tensorflow:Layer lstm will not use cuDNN kernels since it doesn't meet the criteria. It will use a generic GPU kernel as fallback when running on GPU.\n",
      "WARNING:tensorflow:Detecting that an object or model or tf.train.Checkpoint is being deleted with unrestored values. See the following logs for the specific values in question. To silence these warnings, use `status.expect_partial()`. See https://www.tensorflow.org/api_docs/python/tf/train/Checkpoint#restorefor details about the status object returned by the restore function.\n",
      "WARNING:tensorflow:Value in checkpoint could not be found in the restored object: (root).optimizer.iter\n",
      "WARNING:tensorflow:Value in checkpoint could not be found in the restored object: (root).optimizer.beta_1\n",
      "WARNING:tensorflow:Value in checkpoint could not be found in the restored object: (root).optimizer.beta_2\n",
      "WARNING:tensorflow:Value in checkpoint could not be found in the restored object: (root).optimizer.decay\n",
      "WARNING:tensorflow:Value in checkpoint could not be found in the restored object: (root).optimizer.learning_rate\n"
     ]
    },
    {
     "name": "stderr",
     "output_type": "stream",
     "text": [
      "2022-08-13 22:50:48.311691: I tensorflow/core/grappler/optimizers/custom_graph_optimizer_registry.cc:113] Plugin optimizer for device_type GPU is enabled.\n",
      "2022-08-13 22:50:48.969985: I tensorflow/core/grappler/optimizers/custom_graph_optimizer_registry.cc:113] Plugin optimizer for device_type GPU is enabled.\n",
      "2022-08-13 22:50:49.071887: I tensorflow/core/grappler/optimizers/custom_graph_optimizer_registry.cc:113] Plugin optimizer for device_type GPU is enabled.\n"
     ]
    },
    {
     "name": "stdout",
     "output_type": "stream",
     "text": [
      "INFO:tensorflow:Oracle triggered exit\n",
      "WARNING:tensorflow:Layer lstm will not use cuDNN kernels since it doesn't meet the criteria. It will use a generic GPU kernel as fallback when running on GPU.\n",
      "WARNING:tensorflow:Layer lstm will not use cuDNN kernels since it doesn't meet the criteria. It will use a generic GPU kernel as fallback when running on GPU.\n",
      "WARNING:tensorflow:Detecting that an object or model or tf.train.Checkpoint is being deleted with unrestored values. See the following logs for the specific values in question. To silence these warnings, use `status.expect_partial()`. See https://www.tensorflow.org/api_docs/python/tf/train/Checkpoint#restorefor details about the status object returned by the restore function.\n",
      "WARNING:tensorflow:Value in checkpoint could not be found in the restored object: (root).optimizer.iter\n",
      "WARNING:tensorflow:Value in checkpoint could not be found in the restored object: (root).optimizer.beta_1\n",
      "WARNING:tensorflow:Value in checkpoint could not be found in the restored object: (root).optimizer.beta_2\n",
      "WARNING:tensorflow:Value in checkpoint could not be found in the restored object: (root).optimizer.decay\n",
      "WARNING:tensorflow:Value in checkpoint could not be found in the restored object: (root).optimizer.learning_rate\n"
     ]
    },
    {
     "name": "stderr",
     "output_type": "stream",
     "text": [
      "2022-08-13 22:50:50.214706: I tensorflow/core/grappler/optimizers/custom_graph_optimizer_registry.cc:113] Plugin optimizer for device_type GPU is enabled.\n",
      "2022-08-13 22:50:50.945065: I tensorflow/core/grappler/optimizers/custom_graph_optimizer_registry.cc:113] Plugin optimizer for device_type GPU is enabled.\n",
      "2022-08-13 22:50:51.050020: I tensorflow/core/grappler/optimizers/custom_graph_optimizer_registry.cc:113] Plugin optimizer for device_type GPU is enabled.\n"
     ]
    },
    {
     "name": "stdout",
     "output_type": "stream",
     "text": [
      "INFO:tensorflow:Oracle triggered exit\n",
      "WARNING:tensorflow:Layer lstm will not use cuDNN kernels since it doesn't meet the criteria. It will use a generic GPU kernel as fallback when running on GPU.\n",
      "WARNING:tensorflow:Layer lstm will not use cuDNN kernels since it doesn't meet the criteria. It will use a generic GPU kernel as fallback when running on GPU.\n",
      "WARNING:tensorflow:Detecting that an object or model or tf.train.Checkpoint is being deleted with unrestored values. See the following logs for the specific values in question. To silence these warnings, use `status.expect_partial()`. See https://www.tensorflow.org/api_docs/python/tf/train/Checkpoint#restorefor details about the status object returned by the restore function.\n",
      "WARNING:tensorflow:Value in checkpoint could not be found in the restored object: (root).optimizer.iter\n",
      "WARNING:tensorflow:Value in checkpoint could not be found in the restored object: (root).optimizer.beta_1\n",
      "WARNING:tensorflow:Value in checkpoint could not be found in the restored object: (root).optimizer.beta_2\n",
      "WARNING:tensorflow:Value in checkpoint could not be found in the restored object: (root).optimizer.decay\n",
      "WARNING:tensorflow:Value in checkpoint could not be found in the restored object: (root).optimizer.learning_rate\n"
     ]
    },
    {
     "name": "stderr",
     "output_type": "stream",
     "text": [
      "2022-08-13 22:50:52.246655: I tensorflow/core/grappler/optimizers/custom_graph_optimizer_registry.cc:113] Plugin optimizer for device_type GPU is enabled.\n",
      "2022-08-13 22:50:53.035418: I tensorflow/core/grappler/optimizers/custom_graph_optimizer_registry.cc:113] Plugin optimizer for device_type GPU is enabled.\n",
      "2022-08-13 22:50:53.145356: I tensorflow/core/grappler/optimizers/custom_graph_optimizer_registry.cc:113] Plugin optimizer for device_type GPU is enabled.\n"
     ]
    },
    {
     "name": "stdout",
     "output_type": "stream",
     "text": [
      "INFO:tensorflow:Oracle triggered exit\n",
      "WARNING:tensorflow:Layer lstm will not use cuDNN kernels since it doesn't meet the criteria. It will use a generic GPU kernel as fallback when running on GPU.\n",
      "WARNING:tensorflow:Layer lstm will not use cuDNN kernels since it doesn't meet the criteria. It will use a generic GPU kernel as fallback when running on GPU.\n",
      "WARNING:tensorflow:Detecting that an object or model or tf.train.Checkpoint is being deleted with unrestored values. See the following logs for the specific values in question. To silence these warnings, use `status.expect_partial()`. See https://www.tensorflow.org/api_docs/python/tf/train/Checkpoint#restorefor details about the status object returned by the restore function.\n",
      "WARNING:tensorflow:Value in checkpoint could not be found in the restored object: (root).optimizer.iter\n",
      "WARNING:tensorflow:Value in checkpoint could not be found in the restored object: (root).optimizer.beta_1\n",
      "WARNING:tensorflow:Value in checkpoint could not be found in the restored object: (root).optimizer.beta_2\n",
      "WARNING:tensorflow:Value in checkpoint could not be found in the restored object: (root).optimizer.decay\n",
      "WARNING:tensorflow:Value in checkpoint could not be found in the restored object: (root).optimizer.learning_rate\n"
     ]
    },
    {
     "name": "stderr",
     "output_type": "stream",
     "text": [
      "2022-08-13 22:50:54.305743: I tensorflow/core/grappler/optimizers/custom_graph_optimizer_registry.cc:113] Plugin optimizer for device_type GPU is enabled.\n",
      "2022-08-13 22:50:55.049206: I tensorflow/core/grappler/optimizers/custom_graph_optimizer_registry.cc:113] Plugin optimizer for device_type GPU is enabled.\n",
      "2022-08-13 22:50:55.157717: I tensorflow/core/grappler/optimizers/custom_graph_optimizer_registry.cc:113] Plugin optimizer for device_type GPU is enabled.\n"
     ]
    },
    {
     "name": "stdout",
     "output_type": "stream",
     "text": [
      "INFO:tensorflow:Oracle triggered exit\n",
      "WARNING:tensorflow:Layer lstm will not use cuDNN kernels since it doesn't meet the criteria. It will use a generic GPU kernel as fallback when running on GPU.\n",
      "WARNING:tensorflow:Layer lstm will not use cuDNN kernels since it doesn't meet the criteria. It will use a generic GPU kernel as fallback when running on GPU.\n",
      "WARNING:tensorflow:Detecting that an object or model or tf.train.Checkpoint is being deleted with unrestored values. See the following logs for the specific values in question. To silence these warnings, use `status.expect_partial()`. See https://www.tensorflow.org/api_docs/python/tf/train/Checkpoint#restorefor details about the status object returned by the restore function.\n",
      "WARNING:tensorflow:Value in checkpoint could not be found in the restored object: (root).optimizer.iter\n",
      "WARNING:tensorflow:Value in checkpoint could not be found in the restored object: (root).optimizer.beta_1\n",
      "WARNING:tensorflow:Value in checkpoint could not be found in the restored object: (root).optimizer.beta_2\n",
      "WARNING:tensorflow:Value in checkpoint could not be found in the restored object: (root).optimizer.decay\n",
      "WARNING:tensorflow:Value in checkpoint could not be found in the restored object: (root).optimizer.learning_rate\n"
     ]
    },
    {
     "name": "stderr",
     "output_type": "stream",
     "text": [
      "2022-08-13 22:50:56.330336: I tensorflow/core/grappler/optimizers/custom_graph_optimizer_registry.cc:113] Plugin optimizer for device_type GPU is enabled.\n",
      "2022-08-13 22:50:57.083178: I tensorflow/core/grappler/optimizers/custom_graph_optimizer_registry.cc:113] Plugin optimizer for device_type GPU is enabled.\n",
      "2022-08-13 22:50:57.188715: I tensorflow/core/grappler/optimizers/custom_graph_optimizer_registry.cc:113] Plugin optimizer for device_type GPU is enabled.\n"
     ]
    },
    {
     "name": "stdout",
     "output_type": "stream",
     "text": [
      "INFO:tensorflow:Oracle triggered exit\n",
      "WARNING:tensorflow:Layer lstm will not use cuDNN kernels since it doesn't meet the criteria. It will use a generic GPU kernel as fallback when running on GPU.\n",
      "WARNING:tensorflow:Layer lstm will not use cuDNN kernels since it doesn't meet the criteria. It will use a generic GPU kernel as fallback when running on GPU.\n",
      "WARNING:tensorflow:Detecting that an object or model or tf.train.Checkpoint is being deleted with unrestored values. See the following logs for the specific values in question. To silence these warnings, use `status.expect_partial()`. See https://www.tensorflow.org/api_docs/python/tf/train/Checkpoint#restorefor details about the status object returned by the restore function.\n",
      "WARNING:tensorflow:Value in checkpoint could not be found in the restored object: (root).optimizer.iter\n",
      "WARNING:tensorflow:Value in checkpoint could not be found in the restored object: (root).optimizer.beta_1\n",
      "WARNING:tensorflow:Value in checkpoint could not be found in the restored object: (root).optimizer.beta_2\n",
      "WARNING:tensorflow:Value in checkpoint could not be found in the restored object: (root).optimizer.decay\n",
      "WARNING:tensorflow:Value in checkpoint could not be found in the restored object: (root).optimizer.learning_rate\n"
     ]
    },
    {
     "name": "stderr",
     "output_type": "stream",
     "text": [
      "2022-08-13 22:50:58.353202: I tensorflow/core/grappler/optimizers/custom_graph_optimizer_registry.cc:113] Plugin optimizer for device_type GPU is enabled.\n",
      "2022-08-13 22:50:59.117539: I tensorflow/core/grappler/optimizers/custom_graph_optimizer_registry.cc:113] Plugin optimizer for device_type GPU is enabled.\n",
      "2022-08-13 22:50:59.219834: I tensorflow/core/grappler/optimizers/custom_graph_optimizer_registry.cc:113] Plugin optimizer for device_type GPU is enabled.\n"
     ]
    },
    {
     "name": "stdout",
     "output_type": "stream",
     "text": [
      "INFO:tensorflow:Oracle triggered exit\n",
      "WARNING:tensorflow:Layer lstm will not use cuDNN kernels since it doesn't meet the criteria. It will use a generic GPU kernel as fallback when running on GPU.\n",
      "WARNING:tensorflow:Layer lstm will not use cuDNN kernels since it doesn't meet the criteria. It will use a generic GPU kernel as fallback when running on GPU.\n",
      "WARNING:tensorflow:Detecting that an object or model or tf.train.Checkpoint is being deleted with unrestored values. See the following logs for the specific values in question. To silence these warnings, use `status.expect_partial()`. See https://www.tensorflow.org/api_docs/python/tf/train/Checkpoint#restorefor details about the status object returned by the restore function.\n",
      "WARNING:tensorflow:Value in checkpoint could not be found in the restored object: (root).optimizer.iter\n",
      "WARNING:tensorflow:Value in checkpoint could not be found in the restored object: (root).optimizer.beta_1\n",
      "WARNING:tensorflow:Value in checkpoint could not be found in the restored object: (root).optimizer.beta_2\n",
      "WARNING:tensorflow:Value in checkpoint could not be found in the restored object: (root).optimizer.decay\n",
      "WARNING:tensorflow:Value in checkpoint could not be found in the restored object: (root).optimizer.learning_rate\n"
     ]
    },
    {
     "name": "stderr",
     "output_type": "stream",
     "text": [
      "2022-08-13 22:51:00.354986: I tensorflow/core/grappler/optimizers/custom_graph_optimizer_registry.cc:113] Plugin optimizer for device_type GPU is enabled.\n",
      "2022-08-13 22:51:01.087476: I tensorflow/core/grappler/optimizers/custom_graph_optimizer_registry.cc:113] Plugin optimizer for device_type GPU is enabled.\n",
      "2022-08-13 22:51:01.197321: I tensorflow/core/grappler/optimizers/custom_graph_optimizer_registry.cc:113] Plugin optimizer for device_type GPU is enabled.\n"
     ]
    },
    {
     "name": "stdout",
     "output_type": "stream",
     "text": [
      "INFO:tensorflow:Oracle triggered exit\n",
      "WARNING:tensorflow:Layer lstm will not use cuDNN kernels since it doesn't meet the criteria. It will use a generic GPU kernel as fallback when running on GPU.\n",
      "WARNING:tensorflow:Layer lstm will not use cuDNN kernels since it doesn't meet the criteria. It will use a generic GPU kernel as fallback when running on GPU.\n",
      "WARNING:tensorflow:Detecting that an object or model or tf.train.Checkpoint is being deleted with unrestored values. See the following logs for the specific values in question. To silence these warnings, use `status.expect_partial()`. See https://www.tensorflow.org/api_docs/python/tf/train/Checkpoint#restorefor details about the status object returned by the restore function.\n",
      "WARNING:tensorflow:Value in checkpoint could not be found in the restored object: (root).optimizer.iter\n",
      "WARNING:tensorflow:Value in checkpoint could not be found in the restored object: (root).optimizer.beta_1\n",
      "WARNING:tensorflow:Value in checkpoint could not be found in the restored object: (root).optimizer.beta_2\n",
      "WARNING:tensorflow:Value in checkpoint could not be found in the restored object: (root).optimizer.decay\n",
      "WARNING:tensorflow:Value in checkpoint could not be found in the restored object: (root).optimizer.learning_rate\n"
     ]
    },
    {
     "name": "stderr",
     "output_type": "stream",
     "text": [
      "2022-08-13 22:51:02.389748: I tensorflow/core/grappler/optimizers/custom_graph_optimizer_registry.cc:113] Plugin optimizer for device_type GPU is enabled.\n",
      "2022-08-13 22:51:03.101222: I tensorflow/core/grappler/optimizers/custom_graph_optimizer_registry.cc:113] Plugin optimizer for device_type GPU is enabled.\n",
      "2022-08-13 22:51:03.201484: I tensorflow/core/grappler/optimizers/custom_graph_optimizer_registry.cc:113] Plugin optimizer for device_type GPU is enabled.\n"
     ]
    },
    {
     "name": "stdout",
     "output_type": "stream",
     "text": [
      "INFO:tensorflow:Oracle triggered exit\n",
      "WARNING:tensorflow:Layer lstm will not use cuDNN kernels since it doesn't meet the criteria. It will use a generic GPU kernel as fallback when running on GPU.\n",
      "WARNING:tensorflow:Layer lstm will not use cuDNN kernels since it doesn't meet the criteria. It will use a generic GPU kernel as fallback when running on GPU.\n",
      "WARNING:tensorflow:Detecting that an object or model or tf.train.Checkpoint is being deleted with unrestored values. See the following logs for the specific values in question. To silence these warnings, use `status.expect_partial()`. See https://www.tensorflow.org/api_docs/python/tf/train/Checkpoint#restorefor details about the status object returned by the restore function.\n",
      "WARNING:tensorflow:Value in checkpoint could not be found in the restored object: (root).optimizer.iter\n",
      "WARNING:tensorflow:Value in checkpoint could not be found in the restored object: (root).optimizer.beta_1\n",
      "WARNING:tensorflow:Value in checkpoint could not be found in the restored object: (root).optimizer.beta_2\n",
      "WARNING:tensorflow:Value in checkpoint could not be found in the restored object: (root).optimizer.decay\n",
      "WARNING:tensorflow:Value in checkpoint could not be found in the restored object: (root).optimizer.learning_rate\n"
     ]
    },
    {
     "name": "stderr",
     "output_type": "stream",
     "text": [
      "2022-08-13 22:51:04.301061: I tensorflow/core/grappler/optimizers/custom_graph_optimizer_registry.cc:113] Plugin optimizer for device_type GPU is enabled.\n",
      "2022-08-13 22:51:04.981795: I tensorflow/core/grappler/optimizers/custom_graph_optimizer_registry.cc:113] Plugin optimizer for device_type GPU is enabled.\n",
      "2022-08-13 22:51:05.084947: I tensorflow/core/grappler/optimizers/custom_graph_optimizer_registry.cc:113] Plugin optimizer for device_type GPU is enabled.\n"
     ]
    },
    {
     "name": "stdout",
     "output_type": "stream",
     "text": [
      "INFO:tensorflow:Oracle triggered exit\n",
      "WARNING:tensorflow:Layer lstm will not use cuDNN kernels since it doesn't meet the criteria. It will use a generic GPU kernel as fallback when running on GPU.\n",
      "WARNING:tensorflow:Layer lstm will not use cuDNN kernels since it doesn't meet the criteria. It will use a generic GPU kernel as fallback when running on GPU.\n",
      "WARNING:tensorflow:Detecting that an object or model or tf.train.Checkpoint is being deleted with unrestored values. See the following logs for the specific values in question. To silence these warnings, use `status.expect_partial()`. See https://www.tensorflow.org/api_docs/python/tf/train/Checkpoint#restorefor details about the status object returned by the restore function.\n",
      "WARNING:tensorflow:Value in checkpoint could not be found in the restored object: (root).optimizer.iter\n",
      "WARNING:tensorflow:Value in checkpoint could not be found in the restored object: (root).optimizer.beta_1\n",
      "WARNING:tensorflow:Value in checkpoint could not be found in the restored object: (root).optimizer.beta_2\n",
      "WARNING:tensorflow:Value in checkpoint could not be found in the restored object: (root).optimizer.decay\n",
      "WARNING:tensorflow:Value in checkpoint could not be found in the restored object: (root).optimizer.learning_rate\n"
     ]
    },
    {
     "name": "stderr",
     "output_type": "stream",
     "text": [
      "2022-08-13 22:51:06.197438: I tensorflow/core/grappler/optimizers/custom_graph_optimizer_registry.cc:113] Plugin optimizer for device_type GPU is enabled.\n",
      "2022-08-13 22:51:06.889601: I tensorflow/core/grappler/optimizers/custom_graph_optimizer_registry.cc:113] Plugin optimizer for device_type GPU is enabled.\n",
      "2022-08-13 22:51:06.991490: I tensorflow/core/grappler/optimizers/custom_graph_optimizer_registry.cc:113] Plugin optimizer for device_type GPU is enabled.\n"
     ]
    },
    {
     "name": "stdout",
     "output_type": "stream",
     "text": [
      "INFO:tensorflow:Oracle triggered exit\n",
      "WARNING:tensorflow:Layer lstm will not use cuDNN kernels since it doesn't meet the criteria. It will use a generic GPU kernel as fallback when running on GPU.\n",
      "WARNING:tensorflow:Layer lstm will not use cuDNN kernels since it doesn't meet the criteria. It will use a generic GPU kernel as fallback when running on GPU.\n",
      "WARNING:tensorflow:Detecting that an object or model or tf.train.Checkpoint is being deleted with unrestored values. See the following logs for the specific values in question. To silence these warnings, use `status.expect_partial()`. See https://www.tensorflow.org/api_docs/python/tf/train/Checkpoint#restorefor details about the status object returned by the restore function.\n",
      "WARNING:tensorflow:Value in checkpoint could not be found in the restored object: (root).optimizer.iter\n",
      "WARNING:tensorflow:Value in checkpoint could not be found in the restored object: (root).optimizer.beta_1\n",
      "WARNING:tensorflow:Value in checkpoint could not be found in the restored object: (root).optimizer.beta_2\n",
      "WARNING:tensorflow:Value in checkpoint could not be found in the restored object: (root).optimizer.decay\n",
      "WARNING:tensorflow:Value in checkpoint could not be found in the restored object: (root).optimizer.learning_rate\n"
     ]
    },
    {
     "name": "stderr",
     "output_type": "stream",
     "text": [
      "2022-08-13 22:51:08.105593: I tensorflow/core/grappler/optimizers/custom_graph_optimizer_registry.cc:113] Plugin optimizer for device_type GPU is enabled.\n",
      "2022-08-13 22:51:08.792329: I tensorflow/core/grappler/optimizers/custom_graph_optimizer_registry.cc:113] Plugin optimizer for device_type GPU is enabled.\n",
      "2022-08-13 22:51:08.893361: I tensorflow/core/grappler/optimizers/custom_graph_optimizer_registry.cc:113] Plugin optimizer for device_type GPU is enabled.\n"
     ]
    },
    {
     "name": "stdout",
     "output_type": "stream",
     "text": [
      "INFO:tensorflow:Oracle triggered exit\n",
      "WARNING:tensorflow:Layer lstm will not use cuDNN kernels since it doesn't meet the criteria. It will use a generic GPU kernel as fallback when running on GPU.\n",
      "WARNING:tensorflow:Layer lstm will not use cuDNN kernels since it doesn't meet the criteria. It will use a generic GPU kernel as fallback when running on GPU.\n",
      "WARNING:tensorflow:Detecting that an object or model or tf.train.Checkpoint is being deleted with unrestored values. See the following logs for the specific values in question. To silence these warnings, use `status.expect_partial()`. See https://www.tensorflow.org/api_docs/python/tf/train/Checkpoint#restorefor details about the status object returned by the restore function.\n",
      "WARNING:tensorflow:Value in checkpoint could not be found in the restored object: (root).optimizer.iter\n",
      "WARNING:tensorflow:Value in checkpoint could not be found in the restored object: (root).optimizer.beta_1\n",
      "WARNING:tensorflow:Value in checkpoint could not be found in the restored object: (root).optimizer.beta_2\n",
      "WARNING:tensorflow:Value in checkpoint could not be found in the restored object: (root).optimizer.decay\n",
      "WARNING:tensorflow:Value in checkpoint could not be found in the restored object: (root).optimizer.learning_rate\n"
     ]
    },
    {
     "name": "stderr",
     "output_type": "stream",
     "text": [
      "2022-08-13 22:51:10.007006: I tensorflow/core/grappler/optimizers/custom_graph_optimizer_registry.cc:113] Plugin optimizer for device_type GPU is enabled.\n",
      "2022-08-13 22:51:10.705888: I tensorflow/core/grappler/optimizers/custom_graph_optimizer_registry.cc:113] Plugin optimizer for device_type GPU is enabled.\n",
      "2022-08-13 22:51:10.808256: I tensorflow/core/grappler/optimizers/custom_graph_optimizer_registry.cc:113] Plugin optimizer for device_type GPU is enabled.\n"
     ]
    },
    {
     "name": "stdout",
     "output_type": "stream",
     "text": [
      "INFO:tensorflow:Oracle triggered exit\n",
      "WARNING:tensorflow:Layer lstm will not use cuDNN kernels since it doesn't meet the criteria. It will use a generic GPU kernel as fallback when running on GPU.\n",
      "WARNING:tensorflow:Layer lstm will not use cuDNN kernels since it doesn't meet the criteria. It will use a generic GPU kernel as fallback when running on GPU.\n",
      "WARNING:tensorflow:Detecting that an object or model or tf.train.Checkpoint is being deleted with unrestored values. See the following logs for the specific values in question. To silence these warnings, use `status.expect_partial()`. See https://www.tensorflow.org/api_docs/python/tf/train/Checkpoint#restorefor details about the status object returned by the restore function.\n",
      "WARNING:tensorflow:Value in checkpoint could not be found in the restored object: (root).optimizer.iter\n",
      "WARNING:tensorflow:Value in checkpoint could not be found in the restored object: (root).optimizer.beta_1\n",
      "WARNING:tensorflow:Value in checkpoint could not be found in the restored object: (root).optimizer.beta_2\n",
      "WARNING:tensorflow:Value in checkpoint could not be found in the restored object: (root).optimizer.decay\n",
      "WARNING:tensorflow:Value in checkpoint could not be found in the restored object: (root).optimizer.learning_rate\n"
     ]
    },
    {
     "name": "stderr",
     "output_type": "stream",
     "text": [
      "2022-08-13 22:51:11.926908: I tensorflow/core/grappler/optimizers/custom_graph_optimizer_registry.cc:113] Plugin optimizer for device_type GPU is enabled.\n",
      "2022-08-13 22:51:12.623787: I tensorflow/core/grappler/optimizers/custom_graph_optimizer_registry.cc:113] Plugin optimizer for device_type GPU is enabled.\n",
      "2022-08-13 22:51:12.723665: I tensorflow/core/grappler/optimizers/custom_graph_optimizer_registry.cc:113] Plugin optimizer for device_type GPU is enabled.\n"
     ]
    },
    {
     "name": "stdout",
     "output_type": "stream",
     "text": [
      "INFO:tensorflow:Oracle triggered exit\n",
      "WARNING:tensorflow:Layer lstm will not use cuDNN kernels since it doesn't meet the criteria. It will use a generic GPU kernel as fallback when running on GPU.\n",
      "WARNING:tensorflow:Layer lstm will not use cuDNN kernels since it doesn't meet the criteria. It will use a generic GPU kernel as fallback when running on GPU.\n",
      "WARNING:tensorflow:Detecting that an object or model or tf.train.Checkpoint is being deleted with unrestored values. See the following logs for the specific values in question. To silence these warnings, use `status.expect_partial()`. See https://www.tensorflow.org/api_docs/python/tf/train/Checkpoint#restorefor details about the status object returned by the restore function.\n",
      "WARNING:tensorflow:Value in checkpoint could not be found in the restored object: (root).optimizer.iter\n",
      "WARNING:tensorflow:Value in checkpoint could not be found in the restored object: (root).optimizer.beta_1\n",
      "WARNING:tensorflow:Value in checkpoint could not be found in the restored object: (root).optimizer.beta_2\n",
      "WARNING:tensorflow:Value in checkpoint could not be found in the restored object: (root).optimizer.decay\n",
      "WARNING:tensorflow:Value in checkpoint could not be found in the restored object: (root).optimizer.learning_rate\n"
     ]
    },
    {
     "name": "stderr",
     "output_type": "stream",
     "text": [
      "2022-08-13 22:51:13.839648: I tensorflow/core/grappler/optimizers/custom_graph_optimizer_registry.cc:113] Plugin optimizer for device_type GPU is enabled.\n",
      "2022-08-13 22:51:14.519258: I tensorflow/core/grappler/optimizers/custom_graph_optimizer_registry.cc:113] Plugin optimizer for device_type GPU is enabled.\n",
      "2022-08-13 22:51:14.620324: I tensorflow/core/grappler/optimizers/custom_graph_optimizer_registry.cc:113] Plugin optimizer for device_type GPU is enabled.\n"
     ]
    },
    {
     "name": "stdout",
     "output_type": "stream",
     "text": [
      "INFO:tensorflow:Oracle triggered exit\n",
      "WARNING:tensorflow:Layer lstm will not use cuDNN kernels since it doesn't meet the criteria. It will use a generic GPU kernel as fallback when running on GPU.\n",
      "WARNING:tensorflow:Layer lstm will not use cuDNN kernels since it doesn't meet the criteria. It will use a generic GPU kernel as fallback when running on GPU.\n",
      "WARNING:tensorflow:Detecting that an object or model or tf.train.Checkpoint is being deleted with unrestored values. See the following logs for the specific values in question. To silence these warnings, use `status.expect_partial()`. See https://www.tensorflow.org/api_docs/python/tf/train/Checkpoint#restorefor details about the status object returned by the restore function.\n",
      "WARNING:tensorflow:Value in checkpoint could not be found in the restored object: (root).optimizer.iter\n",
      "WARNING:tensorflow:Value in checkpoint could not be found in the restored object: (root).optimizer.beta_1\n",
      "WARNING:tensorflow:Value in checkpoint could not be found in the restored object: (root).optimizer.beta_2\n",
      "WARNING:tensorflow:Value in checkpoint could not be found in the restored object: (root).optimizer.decay\n",
      "WARNING:tensorflow:Value in checkpoint could not be found in the restored object: (root).optimizer.learning_rate\n"
     ]
    },
    {
     "name": "stderr",
     "output_type": "stream",
     "text": [
      "2022-08-13 22:51:15.729181: I tensorflow/core/grappler/optimizers/custom_graph_optimizer_registry.cc:113] Plugin optimizer for device_type GPU is enabled.\n",
      "2022-08-13 22:51:16.407409: I tensorflow/core/grappler/optimizers/custom_graph_optimizer_registry.cc:113] Plugin optimizer for device_type GPU is enabled.\n",
      "2022-08-13 22:51:16.508298: I tensorflow/core/grappler/optimizers/custom_graph_optimizer_registry.cc:113] Plugin optimizer for device_type GPU is enabled.\n"
     ]
    },
    {
     "name": "stdout",
     "output_type": "stream",
     "text": [
      "INFO:tensorflow:Oracle triggered exit\n",
      "WARNING:tensorflow:Layer lstm will not use cuDNN kernels since it doesn't meet the criteria. It will use a generic GPU kernel as fallback when running on GPU.\n",
      "WARNING:tensorflow:Layer lstm will not use cuDNN kernels since it doesn't meet the criteria. It will use a generic GPU kernel as fallback when running on GPU.\n",
      "WARNING:tensorflow:Detecting that an object or model or tf.train.Checkpoint is being deleted with unrestored values. See the following logs for the specific values in question. To silence these warnings, use `status.expect_partial()`. See https://www.tensorflow.org/api_docs/python/tf/train/Checkpoint#restorefor details about the status object returned by the restore function.\n",
      "WARNING:tensorflow:Value in checkpoint could not be found in the restored object: (root).optimizer.iter\n",
      "WARNING:tensorflow:Value in checkpoint could not be found in the restored object: (root).optimizer.beta_1\n",
      "WARNING:tensorflow:Value in checkpoint could not be found in the restored object: (root).optimizer.beta_2\n",
      "WARNING:tensorflow:Value in checkpoint could not be found in the restored object: (root).optimizer.decay\n",
      "WARNING:tensorflow:Value in checkpoint could not be found in the restored object: (root).optimizer.learning_rate\n"
     ]
    },
    {
     "name": "stderr",
     "output_type": "stream",
     "text": [
      "2022-08-13 22:51:17.618618: I tensorflow/core/grappler/optimizers/custom_graph_optimizer_registry.cc:113] Plugin optimizer for device_type GPU is enabled.\n",
      "2022-08-13 22:51:18.300877: I tensorflow/core/grappler/optimizers/custom_graph_optimizer_registry.cc:113] Plugin optimizer for device_type GPU is enabled.\n",
      "2022-08-13 22:51:18.405887: I tensorflow/core/grappler/optimizers/custom_graph_optimizer_registry.cc:113] Plugin optimizer for device_type GPU is enabled.\n"
     ]
    },
    {
     "name": "stdout",
     "output_type": "stream",
     "text": [
      "INFO:tensorflow:Oracle triggered exit\n",
      "WARNING:tensorflow:Layer lstm will not use cuDNN kernels since it doesn't meet the criteria. It will use a generic GPU kernel as fallback when running on GPU.\n",
      "WARNING:tensorflow:Layer lstm will not use cuDNN kernels since it doesn't meet the criteria. It will use a generic GPU kernel as fallback when running on GPU.\n",
      "WARNING:tensorflow:Detecting that an object or model or tf.train.Checkpoint is being deleted with unrestored values. See the following logs for the specific values in question. To silence these warnings, use `status.expect_partial()`. See https://www.tensorflow.org/api_docs/python/tf/train/Checkpoint#restorefor details about the status object returned by the restore function.\n",
      "WARNING:tensorflow:Value in checkpoint could not be found in the restored object: (root).optimizer.iter\n",
      "WARNING:tensorflow:Value in checkpoint could not be found in the restored object: (root).optimizer.beta_1\n",
      "WARNING:tensorflow:Value in checkpoint could not be found in the restored object: (root).optimizer.beta_2\n",
      "WARNING:tensorflow:Value in checkpoint could not be found in the restored object: (root).optimizer.decay\n",
      "WARNING:tensorflow:Value in checkpoint could not be found in the restored object: (root).optimizer.learning_rate\n"
     ]
    },
    {
     "name": "stderr",
     "output_type": "stream",
     "text": [
      "2022-08-13 22:51:19.536493: I tensorflow/core/grappler/optimizers/custom_graph_optimizer_registry.cc:113] Plugin optimizer for device_type GPU is enabled.\n",
      "2022-08-13 22:51:20.219979: I tensorflow/core/grappler/optimizers/custom_graph_optimizer_registry.cc:113] Plugin optimizer for device_type GPU is enabled.\n",
      "2022-08-13 22:51:20.323301: I tensorflow/core/grappler/optimizers/custom_graph_optimizer_registry.cc:113] Plugin optimizer for device_type GPU is enabled.\n"
     ]
    },
    {
     "name": "stdout",
     "output_type": "stream",
     "text": [
      "INFO:tensorflow:Oracle triggered exit\n",
      "WARNING:tensorflow:Layer lstm will not use cuDNN kernels since it doesn't meet the criteria. It will use a generic GPU kernel as fallback when running on GPU.\n",
      "WARNING:tensorflow:Layer lstm will not use cuDNN kernels since it doesn't meet the criteria. It will use a generic GPU kernel as fallback when running on GPU.\n",
      "WARNING:tensorflow:Detecting that an object or model or tf.train.Checkpoint is being deleted with unrestored values. See the following logs for the specific values in question. To silence these warnings, use `status.expect_partial()`. See https://www.tensorflow.org/api_docs/python/tf/train/Checkpoint#restorefor details about the status object returned by the restore function.\n",
      "WARNING:tensorflow:Value in checkpoint could not be found in the restored object: (root).optimizer.iter\n",
      "WARNING:tensorflow:Value in checkpoint could not be found in the restored object: (root).optimizer.beta_1\n",
      "WARNING:tensorflow:Value in checkpoint could not be found in the restored object: (root).optimizer.beta_2\n",
      "WARNING:tensorflow:Value in checkpoint could not be found in the restored object: (root).optimizer.decay\n",
      "WARNING:tensorflow:Value in checkpoint could not be found in the restored object: (root).optimizer.learning_rate\n"
     ]
    },
    {
     "name": "stderr",
     "output_type": "stream",
     "text": [
      "2022-08-13 22:51:21.432783: I tensorflow/core/grappler/optimizers/custom_graph_optimizer_registry.cc:113] Plugin optimizer for device_type GPU is enabled.\n",
      "2022-08-13 22:51:22.114521: I tensorflow/core/grappler/optimizers/custom_graph_optimizer_registry.cc:113] Plugin optimizer for device_type GPU is enabled.\n",
      "2022-08-13 22:51:22.219571: I tensorflow/core/grappler/optimizers/custom_graph_optimizer_registry.cc:113] Plugin optimizer for device_type GPU is enabled.\n"
     ]
    },
    {
     "name": "stdout",
     "output_type": "stream",
     "text": [
      "INFO:tensorflow:Oracle triggered exit\n",
      "WARNING:tensorflow:Layer lstm will not use cuDNN kernels since it doesn't meet the criteria. It will use a generic GPU kernel as fallback when running on GPU.\n",
      "WARNING:tensorflow:Layer lstm will not use cuDNN kernels since it doesn't meet the criteria. It will use a generic GPU kernel as fallback when running on GPU.\n",
      "WARNING:tensorflow:Detecting that an object or model or tf.train.Checkpoint is being deleted with unrestored values. See the following logs for the specific values in question. To silence these warnings, use `status.expect_partial()`. See https://www.tensorflow.org/api_docs/python/tf/train/Checkpoint#restorefor details about the status object returned by the restore function.\n",
      "WARNING:tensorflow:Value in checkpoint could not be found in the restored object: (root).optimizer.iter\n",
      "WARNING:tensorflow:Value in checkpoint could not be found in the restored object: (root).optimizer.beta_1\n",
      "WARNING:tensorflow:Value in checkpoint could not be found in the restored object: (root).optimizer.beta_2\n",
      "WARNING:tensorflow:Value in checkpoint could not be found in the restored object: (root).optimizer.decay\n",
      "WARNING:tensorflow:Value in checkpoint could not be found in the restored object: (root).optimizer.learning_rate\n"
     ]
    },
    {
     "name": "stderr",
     "output_type": "stream",
     "text": [
      "2022-08-13 22:51:23.331296: I tensorflow/core/grappler/optimizers/custom_graph_optimizer_registry.cc:113] Plugin optimizer for device_type GPU is enabled.\n",
      "2022-08-13 22:51:24.010537: I tensorflow/core/grappler/optimizers/custom_graph_optimizer_registry.cc:113] Plugin optimizer for device_type GPU is enabled.\n",
      "2022-08-13 22:51:24.114685: I tensorflow/core/grappler/optimizers/custom_graph_optimizer_registry.cc:113] Plugin optimizer for device_type GPU is enabled.\n"
     ]
    },
    {
     "name": "stdout",
     "output_type": "stream",
     "text": [
      "INFO:tensorflow:Oracle triggered exit\n",
      "WARNING:tensorflow:Layer lstm will not use cuDNN kernels since it doesn't meet the criteria. It will use a generic GPU kernel as fallback when running on GPU.\n",
      "WARNING:tensorflow:Layer lstm will not use cuDNN kernels since it doesn't meet the criteria. It will use a generic GPU kernel as fallback when running on GPU.\n",
      "WARNING:tensorflow:Detecting that an object or model or tf.train.Checkpoint is being deleted with unrestored values. See the following logs for the specific values in question. To silence these warnings, use `status.expect_partial()`. See https://www.tensorflow.org/api_docs/python/tf/train/Checkpoint#restorefor details about the status object returned by the restore function.\n",
      "WARNING:tensorflow:Value in checkpoint could not be found in the restored object: (root).optimizer.iter\n",
      "WARNING:tensorflow:Value in checkpoint could not be found in the restored object: (root).optimizer.beta_1\n",
      "WARNING:tensorflow:Value in checkpoint could not be found in the restored object: (root).optimizer.beta_2\n",
      "WARNING:tensorflow:Value in checkpoint could not be found in the restored object: (root).optimizer.decay\n",
      "WARNING:tensorflow:Value in checkpoint could not be found in the restored object: (root).optimizer.learning_rate\n"
     ]
    },
    {
     "name": "stderr",
     "output_type": "stream",
     "text": [
      "2022-08-13 22:51:25.226934: I tensorflow/core/grappler/optimizers/custom_graph_optimizer_registry.cc:113] Plugin optimizer for device_type GPU is enabled.\n",
      "2022-08-13 22:51:25.914408: I tensorflow/core/grappler/optimizers/custom_graph_optimizer_registry.cc:113] Plugin optimizer for device_type GPU is enabled.\n",
      "2022-08-13 22:51:26.015980: I tensorflow/core/grappler/optimizers/custom_graph_optimizer_registry.cc:113] Plugin optimizer for device_type GPU is enabled.\n"
     ]
    },
    {
     "name": "stdout",
     "output_type": "stream",
     "text": [
      "INFO:tensorflow:Oracle triggered exit\n",
      "WARNING:tensorflow:Layer lstm will not use cuDNN kernels since it doesn't meet the criteria. It will use a generic GPU kernel as fallback when running on GPU.\n",
      "WARNING:tensorflow:Layer lstm will not use cuDNN kernels since it doesn't meet the criteria. It will use a generic GPU kernel as fallback when running on GPU.\n",
      "WARNING:tensorflow:Detecting that an object or model or tf.train.Checkpoint is being deleted with unrestored values. See the following logs for the specific values in question. To silence these warnings, use `status.expect_partial()`. See https://www.tensorflow.org/api_docs/python/tf/train/Checkpoint#restorefor details about the status object returned by the restore function.\n",
      "WARNING:tensorflow:Value in checkpoint could not be found in the restored object: (root).optimizer.iter\n",
      "WARNING:tensorflow:Value in checkpoint could not be found in the restored object: (root).optimizer.beta_1\n",
      "WARNING:tensorflow:Value in checkpoint could not be found in the restored object: (root).optimizer.beta_2\n",
      "WARNING:tensorflow:Value in checkpoint could not be found in the restored object: (root).optimizer.decay\n",
      "WARNING:tensorflow:Value in checkpoint could not be found in the restored object: (root).optimizer.learning_rate\n"
     ]
    },
    {
     "name": "stderr",
     "output_type": "stream",
     "text": [
      "2022-08-13 22:51:27.142629: I tensorflow/core/grappler/optimizers/custom_graph_optimizer_registry.cc:113] Plugin optimizer for device_type GPU is enabled.\n",
      "2022-08-13 22:51:27.868797: I tensorflow/core/grappler/optimizers/custom_graph_optimizer_registry.cc:113] Plugin optimizer for device_type GPU is enabled.\n",
      "2022-08-13 22:51:27.972645: I tensorflow/core/grappler/optimizers/custom_graph_optimizer_registry.cc:113] Plugin optimizer for device_type GPU is enabled.\n"
     ]
    },
    {
     "name": "stdout",
     "output_type": "stream",
     "text": [
      "INFO:tensorflow:Oracle triggered exit\n",
      "WARNING:tensorflow:Layer lstm will not use cuDNN kernels since it doesn't meet the criteria. It will use a generic GPU kernel as fallback when running on GPU.\n",
      "WARNING:tensorflow:Layer lstm will not use cuDNN kernels since it doesn't meet the criteria. It will use a generic GPU kernel as fallback when running on GPU.\n",
      "WARNING:tensorflow:Detecting that an object or model or tf.train.Checkpoint is being deleted with unrestored values. See the following logs for the specific values in question. To silence these warnings, use `status.expect_partial()`. See https://www.tensorflow.org/api_docs/python/tf/train/Checkpoint#restorefor details about the status object returned by the restore function.\n",
      "WARNING:tensorflow:Value in checkpoint could not be found in the restored object: (root).optimizer.iter\n",
      "WARNING:tensorflow:Value in checkpoint could not be found in the restored object: (root).optimizer.beta_1\n",
      "WARNING:tensorflow:Value in checkpoint could not be found in the restored object: (root).optimizer.beta_2\n",
      "WARNING:tensorflow:Value in checkpoint could not be found in the restored object: (root).optimizer.decay\n",
      "WARNING:tensorflow:Value in checkpoint could not be found in the restored object: (root).optimizer.learning_rate\n"
     ]
    },
    {
     "name": "stderr",
     "output_type": "stream",
     "text": [
      "2022-08-13 22:51:29.096914: I tensorflow/core/grappler/optimizers/custom_graph_optimizer_registry.cc:113] Plugin optimizer for device_type GPU is enabled.\n",
      "2022-08-13 22:51:29.795097: I tensorflow/core/grappler/optimizers/custom_graph_optimizer_registry.cc:113] Plugin optimizer for device_type GPU is enabled.\n",
      "2022-08-13 22:51:29.897501: I tensorflow/core/grappler/optimizers/custom_graph_optimizer_registry.cc:113] Plugin optimizer for device_type GPU is enabled.\n"
     ]
    },
    {
     "name": "stdout",
     "output_type": "stream",
     "text": [
      "INFO:tensorflow:Oracle triggered exit\n",
      "WARNING:tensorflow:Layer lstm will not use cuDNN kernels since it doesn't meet the criteria. It will use a generic GPU kernel as fallback when running on GPU.\n",
      "WARNING:tensorflow:Layer lstm will not use cuDNN kernels since it doesn't meet the criteria. It will use a generic GPU kernel as fallback when running on GPU.\n",
      "WARNING:tensorflow:Detecting that an object or model or tf.train.Checkpoint is being deleted with unrestored values. See the following logs for the specific values in question. To silence these warnings, use `status.expect_partial()`. See https://www.tensorflow.org/api_docs/python/tf/train/Checkpoint#restorefor details about the status object returned by the restore function.\n",
      "WARNING:tensorflow:Value in checkpoint could not be found in the restored object: (root).optimizer.iter\n",
      "WARNING:tensorflow:Value in checkpoint could not be found in the restored object: (root).optimizer.beta_1\n",
      "WARNING:tensorflow:Value in checkpoint could not be found in the restored object: (root).optimizer.beta_2\n",
      "WARNING:tensorflow:Value in checkpoint could not be found in the restored object: (root).optimizer.decay\n",
      "WARNING:tensorflow:Value in checkpoint could not be found in the restored object: (root).optimizer.learning_rate\n"
     ]
    },
    {
     "name": "stderr",
     "output_type": "stream",
     "text": [
      "2022-08-13 22:51:31.008988: I tensorflow/core/grappler/optimizers/custom_graph_optimizer_registry.cc:113] Plugin optimizer for device_type GPU is enabled.\n",
      "2022-08-13 22:51:31.702975: I tensorflow/core/grappler/optimizers/custom_graph_optimizer_registry.cc:113] Plugin optimizer for device_type GPU is enabled.\n",
      "2022-08-13 22:51:31.807362: I tensorflow/core/grappler/optimizers/custom_graph_optimizer_registry.cc:113] Plugin optimizer for device_type GPU is enabled.\n"
     ]
    },
    {
     "name": "stdout",
     "output_type": "stream",
     "text": [
      "INFO:tensorflow:Oracle triggered exit\n",
      "WARNING:tensorflow:Layer lstm will not use cuDNN kernels since it doesn't meet the criteria. It will use a generic GPU kernel as fallback when running on GPU.\n",
      "WARNING:tensorflow:Layer lstm will not use cuDNN kernels since it doesn't meet the criteria. It will use a generic GPU kernel as fallback when running on GPU.\n",
      "WARNING:tensorflow:Detecting that an object or model or tf.train.Checkpoint is being deleted with unrestored values. See the following logs for the specific values in question. To silence these warnings, use `status.expect_partial()`. See https://www.tensorflow.org/api_docs/python/tf/train/Checkpoint#restorefor details about the status object returned by the restore function.\n",
      "WARNING:tensorflow:Value in checkpoint could not be found in the restored object: (root).optimizer.iter\n",
      "WARNING:tensorflow:Value in checkpoint could not be found in the restored object: (root).optimizer.beta_1\n",
      "WARNING:tensorflow:Value in checkpoint could not be found in the restored object: (root).optimizer.beta_2\n",
      "WARNING:tensorflow:Value in checkpoint could not be found in the restored object: (root).optimizer.decay\n",
      "WARNING:tensorflow:Value in checkpoint could not be found in the restored object: (root).optimizer.learning_rate\n"
     ]
    },
    {
     "name": "stderr",
     "output_type": "stream",
     "text": [
      "2022-08-13 22:51:32.916482: I tensorflow/core/grappler/optimizers/custom_graph_optimizer_registry.cc:113] Plugin optimizer for device_type GPU is enabled.\n",
      "2022-08-13 22:51:33.627912: I tensorflow/core/grappler/optimizers/custom_graph_optimizer_registry.cc:113] Plugin optimizer for device_type GPU is enabled.\n",
      "2022-08-13 22:51:33.729886: I tensorflow/core/grappler/optimizers/custom_graph_optimizer_registry.cc:113] Plugin optimizer for device_type GPU is enabled.\n"
     ]
    },
    {
     "name": "stdout",
     "output_type": "stream",
     "text": [
      "INFO:tensorflow:Oracle triggered exit\n",
      "WARNING:tensorflow:Layer lstm will not use cuDNN kernels since it doesn't meet the criteria. It will use a generic GPU kernel as fallback when running on GPU.\n",
      "WARNING:tensorflow:Layer lstm will not use cuDNN kernels since it doesn't meet the criteria. It will use a generic GPU kernel as fallback when running on GPU.\n",
      "WARNING:tensorflow:Detecting that an object or model or tf.train.Checkpoint is being deleted with unrestored values. See the following logs for the specific values in question. To silence these warnings, use `status.expect_partial()`. See https://www.tensorflow.org/api_docs/python/tf/train/Checkpoint#restorefor details about the status object returned by the restore function.\n",
      "WARNING:tensorflow:Value in checkpoint could not be found in the restored object: (root).optimizer.iter\n",
      "WARNING:tensorflow:Value in checkpoint could not be found in the restored object: (root).optimizer.beta_1\n",
      "WARNING:tensorflow:Value in checkpoint could not be found in the restored object: (root).optimizer.beta_2\n",
      "WARNING:tensorflow:Value in checkpoint could not be found in the restored object: (root).optimizer.decay\n",
      "WARNING:tensorflow:Value in checkpoint could not be found in the restored object: (root).optimizer.learning_rate\n"
     ]
    },
    {
     "name": "stderr",
     "output_type": "stream",
     "text": [
      "2022-08-13 22:51:34.849343: I tensorflow/core/grappler/optimizers/custom_graph_optimizer_registry.cc:113] Plugin optimizer for device_type GPU is enabled.\n",
      "2022-08-13 22:51:35.537247: I tensorflow/core/grappler/optimizers/custom_graph_optimizer_registry.cc:113] Plugin optimizer for device_type GPU is enabled.\n",
      "2022-08-13 22:51:35.640204: I tensorflow/core/grappler/optimizers/custom_graph_optimizer_registry.cc:113] Plugin optimizer for device_type GPU is enabled.\n"
     ]
    },
    {
     "name": "stdout",
     "output_type": "stream",
     "text": [
      "INFO:tensorflow:Oracle triggered exit\n",
      "WARNING:tensorflow:Layer lstm will not use cuDNN kernels since it doesn't meet the criteria. It will use a generic GPU kernel as fallback when running on GPU.\n",
      "WARNING:tensorflow:Layer lstm will not use cuDNN kernels since it doesn't meet the criteria. It will use a generic GPU kernel as fallback when running on GPU.\n",
      "WARNING:tensorflow:Detecting that an object or model or tf.train.Checkpoint is being deleted with unrestored values. See the following logs for the specific values in question. To silence these warnings, use `status.expect_partial()`. See https://www.tensorflow.org/api_docs/python/tf/train/Checkpoint#restorefor details about the status object returned by the restore function.\n",
      "WARNING:tensorflow:Value in checkpoint could not be found in the restored object: (root).optimizer.iter\n",
      "WARNING:tensorflow:Value in checkpoint could not be found in the restored object: (root).optimizer.beta_1\n",
      "WARNING:tensorflow:Value in checkpoint could not be found in the restored object: (root).optimizer.beta_2\n",
      "WARNING:tensorflow:Value in checkpoint could not be found in the restored object: (root).optimizer.decay\n",
      "WARNING:tensorflow:Value in checkpoint could not be found in the restored object: (root).optimizer.learning_rate\n"
     ]
    },
    {
     "name": "stderr",
     "output_type": "stream",
     "text": [
      "2022-08-13 22:51:36.755840: I tensorflow/core/grappler/optimizers/custom_graph_optimizer_registry.cc:113] Plugin optimizer for device_type GPU is enabled.\n",
      "2022-08-13 22:51:37.431389: I tensorflow/core/grappler/optimizers/custom_graph_optimizer_registry.cc:113] Plugin optimizer for device_type GPU is enabled.\n",
      "2022-08-13 22:51:37.533759: I tensorflow/core/grappler/optimizers/custom_graph_optimizer_registry.cc:113] Plugin optimizer for device_type GPU is enabled.\n"
     ]
    },
    {
     "name": "stdout",
     "output_type": "stream",
     "text": [
      "INFO:tensorflow:Oracle triggered exit\n",
      "WARNING:tensorflow:Layer lstm will not use cuDNN kernels since it doesn't meet the criteria. It will use a generic GPU kernel as fallback when running on GPU.\n",
      "WARNING:tensorflow:Layer lstm will not use cuDNN kernels since it doesn't meet the criteria. It will use a generic GPU kernel as fallback when running on GPU.\n",
      "WARNING:tensorflow:Detecting that an object or model or tf.train.Checkpoint is being deleted with unrestored values. See the following logs for the specific values in question. To silence these warnings, use `status.expect_partial()`. See https://www.tensorflow.org/api_docs/python/tf/train/Checkpoint#restorefor details about the status object returned by the restore function.\n",
      "WARNING:tensorflow:Value in checkpoint could not be found in the restored object: (root).optimizer.iter\n",
      "WARNING:tensorflow:Value in checkpoint could not be found in the restored object: (root).optimizer.beta_1\n",
      "WARNING:tensorflow:Value in checkpoint could not be found in the restored object: (root).optimizer.beta_2\n",
      "WARNING:tensorflow:Value in checkpoint could not be found in the restored object: (root).optimizer.decay\n",
      "WARNING:tensorflow:Value in checkpoint could not be found in the restored object: (root).optimizer.learning_rate\n"
     ]
    },
    {
     "name": "stderr",
     "output_type": "stream",
     "text": [
      "2022-08-13 22:51:38.649287: I tensorflow/core/grappler/optimizers/custom_graph_optimizer_registry.cc:113] Plugin optimizer for device_type GPU is enabled.\n",
      "2022-08-13 22:51:39.315583: I tensorflow/core/grappler/optimizers/custom_graph_optimizer_registry.cc:113] Plugin optimizer for device_type GPU is enabled.\n",
      "2022-08-13 22:51:39.417651: I tensorflow/core/grappler/optimizers/custom_graph_optimizer_registry.cc:113] Plugin optimizer for device_type GPU is enabled.\n"
     ]
    },
    {
     "name": "stdout",
     "output_type": "stream",
     "text": [
      "INFO:tensorflow:Oracle triggered exit\n",
      "WARNING:tensorflow:Layer lstm will not use cuDNN kernels since it doesn't meet the criteria. It will use a generic GPU kernel as fallback when running on GPU.\n",
      "WARNING:tensorflow:Layer lstm will not use cuDNN kernels since it doesn't meet the criteria. It will use a generic GPU kernel as fallback when running on GPU.\n",
      "WARNING:tensorflow:Detecting that an object or model or tf.train.Checkpoint is being deleted with unrestored values. See the following logs for the specific values in question. To silence these warnings, use `status.expect_partial()`. See https://www.tensorflow.org/api_docs/python/tf/train/Checkpoint#restorefor details about the status object returned by the restore function.\n",
      "WARNING:tensorflow:Value in checkpoint could not be found in the restored object: (root).optimizer.iter\n",
      "WARNING:tensorflow:Value in checkpoint could not be found in the restored object: (root).optimizer.beta_1\n",
      "WARNING:tensorflow:Value in checkpoint could not be found in the restored object: (root).optimizer.beta_2\n",
      "WARNING:tensorflow:Value in checkpoint could not be found in the restored object: (root).optimizer.decay\n",
      "WARNING:tensorflow:Value in checkpoint could not be found in the restored object: (root).optimizer.learning_rate\n"
     ]
    },
    {
     "name": "stderr",
     "output_type": "stream",
     "text": [
      "2022-08-13 22:51:40.547794: I tensorflow/core/grappler/optimizers/custom_graph_optimizer_registry.cc:113] Plugin optimizer for device_type GPU is enabled.\n",
      "2022-08-13 22:51:41.226880: I tensorflow/core/grappler/optimizers/custom_graph_optimizer_registry.cc:113] Plugin optimizer for device_type GPU is enabled.\n",
      "2022-08-13 22:51:41.328384: I tensorflow/core/grappler/optimizers/custom_graph_optimizer_registry.cc:113] Plugin optimizer for device_type GPU is enabled.\n"
     ]
    },
    {
     "name": "stdout",
     "output_type": "stream",
     "text": [
      "INFO:tensorflow:Oracle triggered exit\n",
      "WARNING:tensorflow:Layer lstm will not use cuDNN kernels since it doesn't meet the criteria. It will use a generic GPU kernel as fallback when running on GPU.\n",
      "WARNING:tensorflow:Layer lstm will not use cuDNN kernels since it doesn't meet the criteria. It will use a generic GPU kernel as fallback when running on GPU.\n",
      "WARNING:tensorflow:Detecting that an object or model or tf.train.Checkpoint is being deleted with unrestored values. See the following logs for the specific values in question. To silence these warnings, use `status.expect_partial()`. See https://www.tensorflow.org/api_docs/python/tf/train/Checkpoint#restorefor details about the status object returned by the restore function.\n",
      "WARNING:tensorflow:Value in checkpoint could not be found in the restored object: (root).optimizer.iter\n",
      "WARNING:tensorflow:Value in checkpoint could not be found in the restored object: (root).optimizer.beta_1\n",
      "WARNING:tensorflow:Value in checkpoint could not be found in the restored object: (root).optimizer.beta_2\n",
      "WARNING:tensorflow:Value in checkpoint could not be found in the restored object: (root).optimizer.decay\n",
      "WARNING:tensorflow:Value in checkpoint could not be found in the restored object: (root).optimizer.learning_rate\n"
     ]
    },
    {
     "name": "stderr",
     "output_type": "stream",
     "text": [
      "2022-08-13 22:51:42.440118: I tensorflow/core/grappler/optimizers/custom_graph_optimizer_registry.cc:113] Plugin optimizer for device_type GPU is enabled.\n",
      "2022-08-13 22:51:43.124969: I tensorflow/core/grappler/optimizers/custom_graph_optimizer_registry.cc:113] Plugin optimizer for device_type GPU is enabled.\n",
      "2022-08-13 22:51:43.232374: I tensorflow/core/grappler/optimizers/custom_graph_optimizer_registry.cc:113] Plugin optimizer for device_type GPU is enabled.\n"
     ]
    },
    {
     "name": "stdout",
     "output_type": "stream",
     "text": [
      "INFO:tensorflow:Oracle triggered exit\n",
      "WARNING:tensorflow:Layer lstm will not use cuDNN kernels since it doesn't meet the criteria. It will use a generic GPU kernel as fallback when running on GPU.\n",
      "WARNING:tensorflow:Layer lstm will not use cuDNN kernels since it doesn't meet the criteria. It will use a generic GPU kernel as fallback when running on GPU.\n",
      "WARNING:tensorflow:Detecting that an object or model or tf.train.Checkpoint is being deleted with unrestored values. See the following logs for the specific values in question. To silence these warnings, use `status.expect_partial()`. See https://www.tensorflow.org/api_docs/python/tf/train/Checkpoint#restorefor details about the status object returned by the restore function.\n",
      "WARNING:tensorflow:Value in checkpoint could not be found in the restored object: (root).optimizer.iter\n",
      "WARNING:tensorflow:Value in checkpoint could not be found in the restored object: (root).optimizer.beta_1\n",
      "WARNING:tensorflow:Value in checkpoint could not be found in the restored object: (root).optimizer.beta_2\n",
      "WARNING:tensorflow:Value in checkpoint could not be found in the restored object: (root).optimizer.decay\n",
      "WARNING:tensorflow:Value in checkpoint could not be found in the restored object: (root).optimizer.learning_rate\n"
     ]
    },
    {
     "name": "stderr",
     "output_type": "stream",
     "text": [
      "2022-08-13 22:51:44.368236: I tensorflow/core/grappler/optimizers/custom_graph_optimizer_registry.cc:113] Plugin optimizer for device_type GPU is enabled.\n",
      "2022-08-13 22:51:45.059064: I tensorflow/core/grappler/optimizers/custom_graph_optimizer_registry.cc:113] Plugin optimizer for device_type GPU is enabled.\n",
      "2022-08-13 22:51:45.165167: I tensorflow/core/grappler/optimizers/custom_graph_optimizer_registry.cc:113] Plugin optimizer for device_type GPU is enabled.\n"
     ]
    },
    {
     "name": "stdout",
     "output_type": "stream",
     "text": [
      "INFO:tensorflow:Oracle triggered exit\n",
      "WARNING:tensorflow:Layer lstm will not use cuDNN kernels since it doesn't meet the criteria. It will use a generic GPU kernel as fallback when running on GPU.\n",
      "WARNING:tensorflow:Layer lstm will not use cuDNN kernels since it doesn't meet the criteria. It will use a generic GPU kernel as fallback when running on GPU.\n",
      "WARNING:tensorflow:Detecting that an object or model or tf.train.Checkpoint is being deleted with unrestored values. See the following logs for the specific values in question. To silence these warnings, use `status.expect_partial()`. See https://www.tensorflow.org/api_docs/python/tf/train/Checkpoint#restorefor details about the status object returned by the restore function.\n",
      "WARNING:tensorflow:Value in checkpoint could not be found in the restored object: (root).optimizer.iter\n",
      "WARNING:tensorflow:Value in checkpoint could not be found in the restored object: (root).optimizer.beta_1\n",
      "WARNING:tensorflow:Value in checkpoint could not be found in the restored object: (root).optimizer.beta_2\n",
      "WARNING:tensorflow:Value in checkpoint could not be found in the restored object: (root).optimizer.decay\n",
      "WARNING:tensorflow:Value in checkpoint could not be found in the restored object: (root).optimizer.learning_rate\n"
     ]
    },
    {
     "name": "stderr",
     "output_type": "stream",
     "text": [
      "2022-08-13 22:51:46.318066: I tensorflow/core/grappler/optimizers/custom_graph_optimizer_registry.cc:113] Plugin optimizer for device_type GPU is enabled.\n",
      "2022-08-13 22:51:47.042873: I tensorflow/core/grappler/optimizers/custom_graph_optimizer_registry.cc:113] Plugin optimizer for device_type GPU is enabled.\n",
      "2022-08-13 22:51:47.148735: I tensorflow/core/grappler/optimizers/custom_graph_optimizer_registry.cc:113] Plugin optimizer for device_type GPU is enabled.\n"
     ]
    },
    {
     "name": "stdout",
     "output_type": "stream",
     "text": [
      "INFO:tensorflow:Oracle triggered exit\n",
      "WARNING:tensorflow:Layer lstm will not use cuDNN kernels since it doesn't meet the criteria. It will use a generic GPU kernel as fallback when running on GPU.\n",
      "WARNING:tensorflow:Layer lstm will not use cuDNN kernels since it doesn't meet the criteria. It will use a generic GPU kernel as fallback when running on GPU.\n",
      "WARNING:tensorflow:Detecting that an object or model or tf.train.Checkpoint is being deleted with unrestored values. See the following logs for the specific values in question. To silence these warnings, use `status.expect_partial()`. See https://www.tensorflow.org/api_docs/python/tf/train/Checkpoint#restorefor details about the status object returned by the restore function.\n",
      "WARNING:tensorflow:Value in checkpoint could not be found in the restored object: (root).optimizer.iter\n",
      "WARNING:tensorflow:Value in checkpoint could not be found in the restored object: (root).optimizer.beta_1\n",
      "WARNING:tensorflow:Value in checkpoint could not be found in the restored object: (root).optimizer.beta_2\n",
      "WARNING:tensorflow:Value in checkpoint could not be found in the restored object: (root).optimizer.decay\n",
      "WARNING:tensorflow:Value in checkpoint could not be found in the restored object: (root).optimizer.learning_rate\n"
     ]
    },
    {
     "name": "stderr",
     "output_type": "stream",
     "text": [
      "2022-08-13 22:51:48.287647: I tensorflow/core/grappler/optimizers/custom_graph_optimizer_registry.cc:113] Plugin optimizer for device_type GPU is enabled.\n",
      "2022-08-13 22:51:48.986363: I tensorflow/core/grappler/optimizers/custom_graph_optimizer_registry.cc:113] Plugin optimizer for device_type GPU is enabled.\n",
      "2022-08-13 22:51:49.091216: I tensorflow/core/grappler/optimizers/custom_graph_optimizer_registry.cc:113] Plugin optimizer for device_type GPU is enabled.\n"
     ]
    },
    {
     "name": "stdout",
     "output_type": "stream",
     "text": [
      "INFO:tensorflow:Oracle triggered exit\n",
      "WARNING:tensorflow:Layer lstm will not use cuDNN kernels since it doesn't meet the criteria. It will use a generic GPU kernel as fallback when running on GPU.\n",
      "WARNING:tensorflow:Layer lstm will not use cuDNN kernels since it doesn't meet the criteria. It will use a generic GPU kernel as fallback when running on GPU.\n",
      "WARNING:tensorflow:Detecting that an object or model or tf.train.Checkpoint is being deleted with unrestored values. See the following logs for the specific values in question. To silence these warnings, use `status.expect_partial()`. See https://www.tensorflow.org/api_docs/python/tf/train/Checkpoint#restorefor details about the status object returned by the restore function.\n",
      "WARNING:tensorflow:Value in checkpoint could not be found in the restored object: (root).optimizer.iter\n",
      "WARNING:tensorflow:Value in checkpoint could not be found in the restored object: (root).optimizer.beta_1\n",
      "WARNING:tensorflow:Value in checkpoint could not be found in the restored object: (root).optimizer.beta_2\n",
      "WARNING:tensorflow:Value in checkpoint could not be found in the restored object: (root).optimizer.decay\n",
      "WARNING:tensorflow:Value in checkpoint could not be found in the restored object: (root).optimizer.learning_rate\n"
     ]
    },
    {
     "name": "stderr",
     "output_type": "stream",
     "text": [
      "2022-08-13 22:51:50.236384: I tensorflow/core/grappler/optimizers/custom_graph_optimizer_registry.cc:113] Plugin optimizer for device_type GPU is enabled.\n",
      "2022-08-13 22:51:50.941526: I tensorflow/core/grappler/optimizers/custom_graph_optimizer_registry.cc:113] Plugin optimizer for device_type GPU is enabled.\n",
      "2022-08-13 22:51:51.049345: I tensorflow/core/grappler/optimizers/custom_graph_optimizer_registry.cc:113] Plugin optimizer for device_type GPU is enabled.\n"
     ]
    },
    {
     "name": "stdout",
     "output_type": "stream",
     "text": [
      "INFO:tensorflow:Oracle triggered exit\n",
      "WARNING:tensorflow:Layer lstm will not use cuDNN kernels since it doesn't meet the criteria. It will use a generic GPU kernel as fallback when running on GPU.\n",
      "WARNING:tensorflow:Layer lstm will not use cuDNN kernels since it doesn't meet the criteria. It will use a generic GPU kernel as fallback when running on GPU.\n",
      "WARNING:tensorflow:Detecting that an object or model or tf.train.Checkpoint is being deleted with unrestored values. See the following logs for the specific values in question. To silence these warnings, use `status.expect_partial()`. See https://www.tensorflow.org/api_docs/python/tf/train/Checkpoint#restorefor details about the status object returned by the restore function.\n",
      "WARNING:tensorflow:Value in checkpoint could not be found in the restored object: (root).optimizer.iter\n",
      "WARNING:tensorflow:Value in checkpoint could not be found in the restored object: (root).optimizer.beta_1\n",
      "WARNING:tensorflow:Value in checkpoint could not be found in the restored object: (root).optimizer.beta_2\n",
      "WARNING:tensorflow:Value in checkpoint could not be found in the restored object: (root).optimizer.decay\n",
      "WARNING:tensorflow:Value in checkpoint could not be found in the restored object: (root).optimizer.learning_rate\n"
     ]
    },
    {
     "name": "stderr",
     "output_type": "stream",
     "text": [
      "2022-08-13 22:51:52.201835: I tensorflow/core/grappler/optimizers/custom_graph_optimizer_registry.cc:113] Plugin optimizer for device_type GPU is enabled.\n",
      "2022-08-13 22:51:52.927448: I tensorflow/core/grappler/optimizers/custom_graph_optimizer_registry.cc:113] Plugin optimizer for device_type GPU is enabled.\n",
      "2022-08-13 22:51:53.034635: I tensorflow/core/grappler/optimizers/custom_graph_optimizer_registry.cc:113] Plugin optimizer for device_type GPU is enabled.\n"
     ]
    },
    {
     "name": "stdout",
     "output_type": "stream",
     "text": [
      "INFO:tensorflow:Oracle triggered exit\n",
      "WARNING:tensorflow:Layer lstm will not use cuDNN kernels since it doesn't meet the criteria. It will use a generic GPU kernel as fallback when running on GPU.\n",
      "WARNING:tensorflow:Layer lstm will not use cuDNN kernels since it doesn't meet the criteria. It will use a generic GPU kernel as fallback when running on GPU.\n",
      "WARNING:tensorflow:Detecting that an object or model or tf.train.Checkpoint is being deleted with unrestored values. See the following logs for the specific values in question. To silence these warnings, use `status.expect_partial()`. See https://www.tensorflow.org/api_docs/python/tf/train/Checkpoint#restorefor details about the status object returned by the restore function.\n",
      "WARNING:tensorflow:Value in checkpoint could not be found in the restored object: (root).optimizer.iter\n",
      "WARNING:tensorflow:Value in checkpoint could not be found in the restored object: (root).optimizer.beta_1\n",
      "WARNING:tensorflow:Value in checkpoint could not be found in the restored object: (root).optimizer.beta_2\n",
      "WARNING:tensorflow:Value in checkpoint could not be found in the restored object: (root).optimizer.decay\n",
      "WARNING:tensorflow:Value in checkpoint could not be found in the restored object: (root).optimizer.learning_rate\n"
     ]
    },
    {
     "name": "stderr",
     "output_type": "stream",
     "text": [
      "2022-08-13 22:51:54.177759: I tensorflow/core/grappler/optimizers/custom_graph_optimizer_registry.cc:113] Plugin optimizer for device_type GPU is enabled.\n",
      "2022-08-13 22:51:54.885650: I tensorflow/core/grappler/optimizers/custom_graph_optimizer_registry.cc:113] Plugin optimizer for device_type GPU is enabled.\n",
      "2022-08-13 22:51:54.993285: I tensorflow/core/grappler/optimizers/custom_graph_optimizer_registry.cc:113] Plugin optimizer for device_type GPU is enabled.\n"
     ]
    },
    {
     "name": "stdout",
     "output_type": "stream",
     "text": [
      "INFO:tensorflow:Oracle triggered exit\n",
      "WARNING:tensorflow:Layer lstm will not use cuDNN kernels since it doesn't meet the criteria. It will use a generic GPU kernel as fallback when running on GPU.\n",
      "WARNING:tensorflow:Layer lstm will not use cuDNN kernels since it doesn't meet the criteria. It will use a generic GPU kernel as fallback when running on GPU.\n",
      "WARNING:tensorflow:Detecting that an object or model or tf.train.Checkpoint is being deleted with unrestored values. See the following logs for the specific values in question. To silence these warnings, use `status.expect_partial()`. See https://www.tensorflow.org/api_docs/python/tf/train/Checkpoint#restorefor details about the status object returned by the restore function.\n",
      "WARNING:tensorflow:Value in checkpoint could not be found in the restored object: (root).optimizer.iter\n",
      "WARNING:tensorflow:Value in checkpoint could not be found in the restored object: (root).optimizer.beta_1\n",
      "WARNING:tensorflow:Value in checkpoint could not be found in the restored object: (root).optimizer.beta_2\n",
      "WARNING:tensorflow:Value in checkpoint could not be found in the restored object: (root).optimizer.decay\n",
      "WARNING:tensorflow:Value in checkpoint could not be found in the restored object: (root).optimizer.learning_rate\n"
     ]
    },
    {
     "name": "stderr",
     "output_type": "stream",
     "text": [
      "2022-08-13 22:51:56.149436: I tensorflow/core/grappler/optimizers/custom_graph_optimizer_registry.cc:113] Plugin optimizer for device_type GPU is enabled.\n",
      "2022-08-13 22:51:56.864277: I tensorflow/core/grappler/optimizers/custom_graph_optimizer_registry.cc:113] Plugin optimizer for device_type GPU is enabled.\n",
      "2022-08-13 22:51:56.974452: I tensorflow/core/grappler/optimizers/custom_graph_optimizer_registry.cc:113] Plugin optimizer for device_type GPU is enabled.\n"
     ]
    },
    {
     "name": "stdout",
     "output_type": "stream",
     "text": [
      "INFO:tensorflow:Oracle triggered exit\n",
      "WARNING:tensorflow:Layer lstm will not use cuDNN kernels since it doesn't meet the criteria. It will use a generic GPU kernel as fallback when running on GPU.\n",
      "WARNING:tensorflow:Layer lstm will not use cuDNN kernels since it doesn't meet the criteria. It will use a generic GPU kernel as fallback when running on GPU.\n",
      "WARNING:tensorflow:Detecting that an object or model or tf.train.Checkpoint is being deleted with unrestored values. See the following logs for the specific values in question. To silence these warnings, use `status.expect_partial()`. See https://www.tensorflow.org/api_docs/python/tf/train/Checkpoint#restorefor details about the status object returned by the restore function.\n",
      "WARNING:tensorflow:Value in checkpoint could not be found in the restored object: (root).optimizer.iter\n",
      "WARNING:tensorflow:Value in checkpoint could not be found in the restored object: (root).optimizer.beta_1\n",
      "WARNING:tensorflow:Value in checkpoint could not be found in the restored object: (root).optimizer.beta_2\n",
      "WARNING:tensorflow:Value in checkpoint could not be found in the restored object: (root).optimizer.decay\n",
      "WARNING:tensorflow:Value in checkpoint could not be found in the restored object: (root).optimizer.learning_rate\n"
     ]
    },
    {
     "name": "stderr",
     "output_type": "stream",
     "text": [
      "2022-08-13 22:51:58.127276: I tensorflow/core/grappler/optimizers/custom_graph_optimizer_registry.cc:113] Plugin optimizer for device_type GPU is enabled.\n",
      "2022-08-13 22:51:58.854979: I tensorflow/core/grappler/optimizers/custom_graph_optimizer_registry.cc:113] Plugin optimizer for device_type GPU is enabled.\n",
      "2022-08-13 22:51:58.965029: I tensorflow/core/grappler/optimizers/custom_graph_optimizer_registry.cc:113] Plugin optimizer for device_type GPU is enabled.\n"
     ]
    },
    {
     "name": "stdout",
     "output_type": "stream",
     "text": [
      "INFO:tensorflow:Oracle triggered exit\n",
      "WARNING:tensorflow:Layer lstm will not use cuDNN kernels since it doesn't meet the criteria. It will use a generic GPU kernel as fallback when running on GPU.\n",
      "WARNING:tensorflow:Layer lstm will not use cuDNN kernels since it doesn't meet the criteria. It will use a generic GPU kernel as fallback when running on GPU.\n",
      "WARNING:tensorflow:Detecting that an object or model or tf.train.Checkpoint is being deleted with unrestored values. See the following logs for the specific values in question. To silence these warnings, use `status.expect_partial()`. See https://www.tensorflow.org/api_docs/python/tf/train/Checkpoint#restorefor details about the status object returned by the restore function.\n",
      "WARNING:tensorflow:Value in checkpoint could not be found in the restored object: (root).optimizer.iter\n",
      "WARNING:tensorflow:Value in checkpoint could not be found in the restored object: (root).optimizer.beta_1\n",
      "WARNING:tensorflow:Value in checkpoint could not be found in the restored object: (root).optimizer.beta_2\n",
      "WARNING:tensorflow:Value in checkpoint could not be found in the restored object: (root).optimizer.decay\n",
      "WARNING:tensorflow:Value in checkpoint could not be found in the restored object: (root).optimizer.learning_rate\n"
     ]
    },
    {
     "name": "stderr",
     "output_type": "stream",
     "text": [
      "2022-08-13 22:52:00.119831: I tensorflow/core/grappler/optimizers/custom_graph_optimizer_registry.cc:113] Plugin optimizer for device_type GPU is enabled.\n",
      "2022-08-13 22:52:00.841082: I tensorflow/core/grappler/optimizers/custom_graph_optimizer_registry.cc:113] Plugin optimizer for device_type GPU is enabled.\n",
      "2022-08-13 22:52:00.951192: I tensorflow/core/grappler/optimizers/custom_graph_optimizer_registry.cc:113] Plugin optimizer for device_type GPU is enabled.\n"
     ]
    },
    {
     "name": "stdout",
     "output_type": "stream",
     "text": [
      "INFO:tensorflow:Oracle triggered exit\n",
      "WARNING:tensorflow:Layer lstm will not use cuDNN kernels since it doesn't meet the criteria. It will use a generic GPU kernel as fallback when running on GPU.\n",
      "WARNING:tensorflow:Layer lstm will not use cuDNN kernels since it doesn't meet the criteria. It will use a generic GPU kernel as fallback when running on GPU.\n",
      "WARNING:tensorflow:Detecting that an object or model or tf.train.Checkpoint is being deleted with unrestored values. See the following logs for the specific values in question. To silence these warnings, use `status.expect_partial()`. See https://www.tensorflow.org/api_docs/python/tf/train/Checkpoint#restorefor details about the status object returned by the restore function.\n",
      "WARNING:tensorflow:Value in checkpoint could not be found in the restored object: (root).optimizer.iter\n",
      "WARNING:tensorflow:Value in checkpoint could not be found in the restored object: (root).optimizer.beta_1\n",
      "WARNING:tensorflow:Value in checkpoint could not be found in the restored object: (root).optimizer.beta_2\n",
      "WARNING:tensorflow:Value in checkpoint could not be found in the restored object: (root).optimizer.decay\n",
      "WARNING:tensorflow:Value in checkpoint could not be found in the restored object: (root).optimizer.learning_rate\n"
     ]
    },
    {
     "name": "stderr",
     "output_type": "stream",
     "text": [
      "2022-08-13 22:52:02.118155: I tensorflow/core/grappler/optimizers/custom_graph_optimizer_registry.cc:113] Plugin optimizer for device_type GPU is enabled.\n",
      "2022-08-13 22:52:02.837430: I tensorflow/core/grappler/optimizers/custom_graph_optimizer_registry.cc:113] Plugin optimizer for device_type GPU is enabled.\n",
      "2022-08-13 22:52:02.944886: I tensorflow/core/grappler/optimizers/custom_graph_optimizer_registry.cc:113] Plugin optimizer for device_type GPU is enabled.\n"
     ]
    },
    {
     "name": "stdout",
     "output_type": "stream",
     "text": [
      "INFO:tensorflow:Oracle triggered exit\n",
      "WARNING:tensorflow:Layer lstm will not use cuDNN kernels since it doesn't meet the criteria. It will use a generic GPU kernel as fallback when running on GPU.\n",
      "WARNING:tensorflow:Layer lstm will not use cuDNN kernels since it doesn't meet the criteria. It will use a generic GPU kernel as fallback when running on GPU.\n",
      "WARNING:tensorflow:Detecting that an object or model or tf.train.Checkpoint is being deleted with unrestored values. See the following logs for the specific values in question. To silence these warnings, use `status.expect_partial()`. See https://www.tensorflow.org/api_docs/python/tf/train/Checkpoint#restorefor details about the status object returned by the restore function.\n",
      "WARNING:tensorflow:Value in checkpoint could not be found in the restored object: (root).optimizer.iter\n",
      "WARNING:tensorflow:Value in checkpoint could not be found in the restored object: (root).optimizer.beta_1\n",
      "WARNING:tensorflow:Value in checkpoint could not be found in the restored object: (root).optimizer.beta_2\n",
      "WARNING:tensorflow:Value in checkpoint could not be found in the restored object: (root).optimizer.decay\n",
      "WARNING:tensorflow:Value in checkpoint could not be found in the restored object: (root).optimizer.learning_rate\n"
     ]
    },
    {
     "name": "stderr",
     "output_type": "stream",
     "text": [
      "2022-08-13 22:52:04.095785: I tensorflow/core/grappler/optimizers/custom_graph_optimizer_registry.cc:113] Plugin optimizer for device_type GPU is enabled.\n",
      "2022-08-13 22:52:04.819494: I tensorflow/core/grappler/optimizers/custom_graph_optimizer_registry.cc:113] Plugin optimizer for device_type GPU is enabled.\n",
      "2022-08-13 22:52:04.929757: I tensorflow/core/grappler/optimizers/custom_graph_optimizer_registry.cc:113] Plugin optimizer for device_type GPU is enabled.\n"
     ]
    },
    {
     "name": "stdout",
     "output_type": "stream",
     "text": [
      "INFO:tensorflow:Oracle triggered exit\n",
      "WARNING:tensorflow:Layer lstm will not use cuDNN kernels since it doesn't meet the criteria. It will use a generic GPU kernel as fallback when running on GPU.\n",
      "WARNING:tensorflow:Layer lstm will not use cuDNN kernels since it doesn't meet the criteria. It will use a generic GPU kernel as fallback when running on GPU.\n",
      "WARNING:tensorflow:Detecting that an object or model or tf.train.Checkpoint is being deleted with unrestored values. See the following logs for the specific values in question. To silence these warnings, use `status.expect_partial()`. See https://www.tensorflow.org/api_docs/python/tf/train/Checkpoint#restorefor details about the status object returned by the restore function.\n",
      "WARNING:tensorflow:Value in checkpoint could not be found in the restored object: (root).optimizer.iter\n",
      "WARNING:tensorflow:Value in checkpoint could not be found in the restored object: (root).optimizer.beta_1\n",
      "WARNING:tensorflow:Value in checkpoint could not be found in the restored object: (root).optimizer.beta_2\n",
      "WARNING:tensorflow:Value in checkpoint could not be found in the restored object: (root).optimizer.decay\n",
      "WARNING:tensorflow:Value in checkpoint could not be found in the restored object: (root).optimizer.learning_rate\n"
     ]
    },
    {
     "name": "stderr",
     "output_type": "stream",
     "text": [
      "2022-08-13 22:52:06.085598: I tensorflow/core/grappler/optimizers/custom_graph_optimizer_registry.cc:113] Plugin optimizer for device_type GPU is enabled.\n",
      "2022-08-13 22:52:06.813725: I tensorflow/core/grappler/optimizers/custom_graph_optimizer_registry.cc:113] Plugin optimizer for device_type GPU is enabled.\n",
      "2022-08-13 22:52:06.921780: I tensorflow/core/grappler/optimizers/custom_graph_optimizer_registry.cc:113] Plugin optimizer for device_type GPU is enabled.\n"
     ]
    },
    {
     "name": "stdout",
     "output_type": "stream",
     "text": [
      "INFO:tensorflow:Oracle triggered exit\n",
      "WARNING:tensorflow:Layer lstm will not use cuDNN kernels since it doesn't meet the criteria. It will use a generic GPU kernel as fallback when running on GPU.\n",
      "WARNING:tensorflow:Layer lstm will not use cuDNN kernels since it doesn't meet the criteria. It will use a generic GPU kernel as fallback when running on GPU.\n",
      "WARNING:tensorflow:Detecting that an object or model or tf.train.Checkpoint is being deleted with unrestored values. See the following logs for the specific values in question. To silence these warnings, use `status.expect_partial()`. See https://www.tensorflow.org/api_docs/python/tf/train/Checkpoint#restorefor details about the status object returned by the restore function.\n",
      "WARNING:tensorflow:Value in checkpoint could not be found in the restored object: (root).optimizer.iter\n",
      "WARNING:tensorflow:Value in checkpoint could not be found in the restored object: (root).optimizer.beta_1\n",
      "WARNING:tensorflow:Value in checkpoint could not be found in the restored object: (root).optimizer.beta_2\n",
      "WARNING:tensorflow:Value in checkpoint could not be found in the restored object: (root).optimizer.decay\n",
      "WARNING:tensorflow:Value in checkpoint could not be found in the restored object: (root).optimizer.learning_rate\n"
     ]
    },
    {
     "name": "stderr",
     "output_type": "stream",
     "text": [
      "2022-08-13 22:52:08.074410: I tensorflow/core/grappler/optimizers/custom_graph_optimizer_registry.cc:113] Plugin optimizer for device_type GPU is enabled.\n",
      "2022-08-13 22:52:08.791715: I tensorflow/core/grappler/optimizers/custom_graph_optimizer_registry.cc:113] Plugin optimizer for device_type GPU is enabled.\n",
      "2022-08-13 22:52:08.899424: I tensorflow/core/grappler/optimizers/custom_graph_optimizer_registry.cc:113] Plugin optimizer for device_type GPU is enabled.\n"
     ]
    },
    {
     "name": "stdout",
     "output_type": "stream",
     "text": [
      "INFO:tensorflow:Oracle triggered exit\n",
      "WARNING:tensorflow:Layer lstm will not use cuDNN kernels since it doesn't meet the criteria. It will use a generic GPU kernel as fallback when running on GPU.\n",
      "WARNING:tensorflow:Layer lstm will not use cuDNN kernels since it doesn't meet the criteria. It will use a generic GPU kernel as fallback when running on GPU.\n",
      "WARNING:tensorflow:Detecting that an object or model or tf.train.Checkpoint is being deleted with unrestored values. See the following logs for the specific values in question. To silence these warnings, use `status.expect_partial()`. See https://www.tensorflow.org/api_docs/python/tf/train/Checkpoint#restorefor details about the status object returned by the restore function.\n",
      "WARNING:tensorflow:Value in checkpoint could not be found in the restored object: (root).optimizer.iter\n",
      "WARNING:tensorflow:Value in checkpoint could not be found in the restored object: (root).optimizer.beta_1\n",
      "WARNING:tensorflow:Value in checkpoint could not be found in the restored object: (root).optimizer.beta_2\n",
      "WARNING:tensorflow:Value in checkpoint could not be found in the restored object: (root).optimizer.decay\n",
      "WARNING:tensorflow:Value in checkpoint could not be found in the restored object: (root).optimizer.learning_rate\n"
     ]
    },
    {
     "name": "stderr",
     "output_type": "stream",
     "text": [
      "2022-08-13 22:52:10.054551: I tensorflow/core/grappler/optimizers/custom_graph_optimizer_registry.cc:113] Plugin optimizer for device_type GPU is enabled.\n",
      "2022-08-13 22:52:10.782556: I tensorflow/core/grappler/optimizers/custom_graph_optimizer_registry.cc:113] Plugin optimizer for device_type GPU is enabled.\n",
      "2022-08-13 22:52:10.891141: I tensorflow/core/grappler/optimizers/custom_graph_optimizer_registry.cc:113] Plugin optimizer for device_type GPU is enabled.\n"
     ]
    },
    {
     "name": "stdout",
     "output_type": "stream",
     "text": [
      "INFO:tensorflow:Oracle triggered exit\n",
      "WARNING:tensorflow:Layer lstm will not use cuDNN kernels since it doesn't meet the criteria. It will use a generic GPU kernel as fallback when running on GPU.\n",
      "WARNING:tensorflow:Layer lstm will not use cuDNN kernels since it doesn't meet the criteria. It will use a generic GPU kernel as fallback when running on GPU.\n",
      "WARNING:tensorflow:Detecting that an object or model or tf.train.Checkpoint is being deleted with unrestored values. See the following logs for the specific values in question. To silence these warnings, use `status.expect_partial()`. See https://www.tensorflow.org/api_docs/python/tf/train/Checkpoint#restorefor details about the status object returned by the restore function.\n",
      "WARNING:tensorflow:Value in checkpoint could not be found in the restored object: (root).optimizer.iter\n",
      "WARNING:tensorflow:Value in checkpoint could not be found in the restored object: (root).optimizer.beta_1\n",
      "WARNING:tensorflow:Value in checkpoint could not be found in the restored object: (root).optimizer.beta_2\n",
      "WARNING:tensorflow:Value in checkpoint could not be found in the restored object: (root).optimizer.decay\n",
      "WARNING:tensorflow:Value in checkpoint could not be found in the restored object: (root).optimizer.learning_rate\n"
     ]
    },
    {
     "name": "stderr",
     "output_type": "stream",
     "text": [
      "2022-08-13 22:52:12.042222: I tensorflow/core/grappler/optimizers/custom_graph_optimizer_registry.cc:113] Plugin optimizer for device_type GPU is enabled.\n",
      "2022-08-13 22:52:12.780900: I tensorflow/core/grappler/optimizers/custom_graph_optimizer_registry.cc:113] Plugin optimizer for device_type GPU is enabled.\n",
      "2022-08-13 22:52:12.890500: I tensorflow/core/grappler/optimizers/custom_graph_optimizer_registry.cc:113] Plugin optimizer for device_type GPU is enabled.\n"
     ]
    },
    {
     "name": "stdout",
     "output_type": "stream",
     "text": [
      "INFO:tensorflow:Oracle triggered exit\n",
      "WARNING:tensorflow:Layer lstm will not use cuDNN kernels since it doesn't meet the criteria. It will use a generic GPU kernel as fallback when running on GPU.\n",
      "WARNING:tensorflow:Layer lstm will not use cuDNN kernels since it doesn't meet the criteria. It will use a generic GPU kernel as fallback when running on GPU.\n",
      "WARNING:tensorflow:Detecting that an object or model or tf.train.Checkpoint is being deleted with unrestored values. See the following logs for the specific values in question. To silence these warnings, use `status.expect_partial()`. See https://www.tensorflow.org/api_docs/python/tf/train/Checkpoint#restorefor details about the status object returned by the restore function.\n",
      "WARNING:tensorflow:Value in checkpoint could not be found in the restored object: (root).optimizer.iter\n",
      "WARNING:tensorflow:Value in checkpoint could not be found in the restored object: (root).optimizer.beta_1\n",
      "WARNING:tensorflow:Value in checkpoint could not be found in the restored object: (root).optimizer.beta_2\n",
      "WARNING:tensorflow:Value in checkpoint could not be found in the restored object: (root).optimizer.decay\n",
      "WARNING:tensorflow:Value in checkpoint could not be found in the restored object: (root).optimizer.learning_rate\n"
     ]
    },
    {
     "name": "stderr",
     "output_type": "stream",
     "text": [
      "2022-08-13 22:52:14.056446: I tensorflow/core/grappler/optimizers/custom_graph_optimizer_registry.cc:113] Plugin optimizer for device_type GPU is enabled.\n",
      "2022-08-13 22:52:14.781047: I tensorflow/core/grappler/optimizers/custom_graph_optimizer_registry.cc:113] Plugin optimizer for device_type GPU is enabled.\n",
      "2022-08-13 22:52:14.892342: I tensorflow/core/grappler/optimizers/custom_graph_optimizer_registry.cc:113] Plugin optimizer for device_type GPU is enabled.\n"
     ]
    },
    {
     "name": "stdout",
     "output_type": "stream",
     "text": [
      "INFO:tensorflow:Oracle triggered exit\n",
      "WARNING:tensorflow:Layer lstm will not use cuDNN kernels since it doesn't meet the criteria. It will use a generic GPU kernel as fallback when running on GPU.\n",
      "WARNING:tensorflow:Layer lstm will not use cuDNN kernels since it doesn't meet the criteria. It will use a generic GPU kernel as fallback when running on GPU.\n",
      "WARNING:tensorflow:Detecting that an object or model or tf.train.Checkpoint is being deleted with unrestored values. See the following logs for the specific values in question. To silence these warnings, use `status.expect_partial()`. See https://www.tensorflow.org/api_docs/python/tf/train/Checkpoint#restorefor details about the status object returned by the restore function.\n",
      "WARNING:tensorflow:Value in checkpoint could not be found in the restored object: (root).optimizer.iter\n",
      "WARNING:tensorflow:Value in checkpoint could not be found in the restored object: (root).optimizer.beta_1\n",
      "WARNING:tensorflow:Value in checkpoint could not be found in the restored object: (root).optimizer.beta_2\n",
      "WARNING:tensorflow:Value in checkpoint could not be found in the restored object: (root).optimizer.decay\n",
      "WARNING:tensorflow:Value in checkpoint could not be found in the restored object: (root).optimizer.learning_rate\n"
     ]
    },
    {
     "name": "stderr",
     "output_type": "stream",
     "text": [
      "2022-08-13 22:52:16.039395: I tensorflow/core/grappler/optimizers/custom_graph_optimizer_registry.cc:113] Plugin optimizer for device_type GPU is enabled.\n",
      "2022-08-13 22:52:16.770314: I tensorflow/core/grappler/optimizers/custom_graph_optimizer_registry.cc:113] Plugin optimizer for device_type GPU is enabled.\n",
      "2022-08-13 22:52:16.877295: I tensorflow/core/grappler/optimizers/custom_graph_optimizer_registry.cc:113] Plugin optimizer for device_type GPU is enabled.\n"
     ]
    },
    {
     "name": "stdout",
     "output_type": "stream",
     "text": [
      "INFO:tensorflow:Oracle triggered exit\n",
      "WARNING:tensorflow:Layer lstm will not use cuDNN kernels since it doesn't meet the criteria. It will use a generic GPU kernel as fallback when running on GPU.\n",
      "WARNING:tensorflow:Layer lstm will not use cuDNN kernels since it doesn't meet the criteria. It will use a generic GPU kernel as fallback when running on GPU.\n",
      "WARNING:tensorflow:Detecting that an object or model or tf.train.Checkpoint is being deleted with unrestored values. See the following logs for the specific values in question. To silence these warnings, use `status.expect_partial()`. See https://www.tensorflow.org/api_docs/python/tf/train/Checkpoint#restorefor details about the status object returned by the restore function.\n",
      "WARNING:tensorflow:Value in checkpoint could not be found in the restored object: (root).optimizer.iter\n",
      "WARNING:tensorflow:Value in checkpoint could not be found in the restored object: (root).optimizer.beta_1\n",
      "WARNING:tensorflow:Value in checkpoint could not be found in the restored object: (root).optimizer.beta_2\n",
      "WARNING:tensorflow:Value in checkpoint could not be found in the restored object: (root).optimizer.decay\n",
      "WARNING:tensorflow:Value in checkpoint could not be found in the restored object: (root).optimizer.learning_rate\n"
     ]
    },
    {
     "name": "stderr",
     "output_type": "stream",
     "text": [
      "2022-08-13 22:52:18.033478: I tensorflow/core/grappler/optimizers/custom_graph_optimizer_registry.cc:113] Plugin optimizer for device_type GPU is enabled.\n",
      "2022-08-13 22:52:18.755245: I tensorflow/core/grappler/optimizers/custom_graph_optimizer_registry.cc:113] Plugin optimizer for device_type GPU is enabled.\n",
      "2022-08-13 22:52:18.866891: I tensorflow/core/grappler/optimizers/custom_graph_optimizer_registry.cc:113] Plugin optimizer for device_type GPU is enabled.\n"
     ]
    },
    {
     "name": "stdout",
     "output_type": "stream",
     "text": [
      "INFO:tensorflow:Oracle triggered exit\n",
      "WARNING:tensorflow:Layer lstm will not use cuDNN kernels since it doesn't meet the criteria. It will use a generic GPU kernel as fallback when running on GPU.\n",
      "WARNING:tensorflow:Layer lstm will not use cuDNN kernels since it doesn't meet the criteria. It will use a generic GPU kernel as fallback when running on GPU.\n",
      "WARNING:tensorflow:Detecting that an object or model or tf.train.Checkpoint is being deleted with unrestored values. See the following logs for the specific values in question. To silence these warnings, use `status.expect_partial()`. See https://www.tensorflow.org/api_docs/python/tf/train/Checkpoint#restorefor details about the status object returned by the restore function.\n",
      "WARNING:tensorflow:Value in checkpoint could not be found in the restored object: (root).optimizer.iter\n",
      "WARNING:tensorflow:Value in checkpoint could not be found in the restored object: (root).optimizer.beta_1\n",
      "WARNING:tensorflow:Value in checkpoint could not be found in the restored object: (root).optimizer.beta_2\n",
      "WARNING:tensorflow:Value in checkpoint could not be found in the restored object: (root).optimizer.decay\n",
      "WARNING:tensorflow:Value in checkpoint could not be found in the restored object: (root).optimizer.learning_rate\n"
     ]
    },
    {
     "name": "stderr",
     "output_type": "stream",
     "text": [
      "2022-08-13 22:52:20.026098: I tensorflow/core/grappler/optimizers/custom_graph_optimizer_registry.cc:113] Plugin optimizer for device_type GPU is enabled.\n",
      "2022-08-13 22:52:20.766496: I tensorflow/core/grappler/optimizers/custom_graph_optimizer_registry.cc:113] Plugin optimizer for device_type GPU is enabled.\n",
      "2022-08-13 22:52:20.875576: I tensorflow/core/grappler/optimizers/custom_graph_optimizer_registry.cc:113] Plugin optimizer for device_type GPU is enabled.\n"
     ]
    },
    {
     "name": "stdout",
     "output_type": "stream",
     "text": [
      "INFO:tensorflow:Oracle triggered exit\n",
      "WARNING:tensorflow:Layer lstm will not use cuDNN kernels since it doesn't meet the criteria. It will use a generic GPU kernel as fallback when running on GPU.\n",
      "WARNING:tensorflow:Layer lstm will not use cuDNN kernels since it doesn't meet the criteria. It will use a generic GPU kernel as fallback when running on GPU.\n",
      "WARNING:tensorflow:Detecting that an object or model or tf.train.Checkpoint is being deleted with unrestored values. See the following logs for the specific values in question. To silence these warnings, use `status.expect_partial()`. See https://www.tensorflow.org/api_docs/python/tf/train/Checkpoint#restorefor details about the status object returned by the restore function.\n",
      "WARNING:tensorflow:Value in checkpoint could not be found in the restored object: (root).optimizer.iter\n",
      "WARNING:tensorflow:Value in checkpoint could not be found in the restored object: (root).optimizer.beta_1\n",
      "WARNING:tensorflow:Value in checkpoint could not be found in the restored object: (root).optimizer.beta_2\n",
      "WARNING:tensorflow:Value in checkpoint could not be found in the restored object: (root).optimizer.decay\n",
      "WARNING:tensorflow:Value in checkpoint could not be found in the restored object: (root).optimizer.learning_rate\n"
     ]
    },
    {
     "name": "stderr",
     "output_type": "stream",
     "text": [
      "2022-08-13 22:52:22.032809: I tensorflow/core/grappler/optimizers/custom_graph_optimizer_registry.cc:113] Plugin optimizer for device_type GPU is enabled.\n",
      "2022-08-13 22:52:22.762784: I tensorflow/core/grappler/optimizers/custom_graph_optimizer_registry.cc:113] Plugin optimizer for device_type GPU is enabled.\n",
      "2022-08-13 22:52:22.874801: I tensorflow/core/grappler/optimizers/custom_graph_optimizer_registry.cc:113] Plugin optimizer for device_type GPU is enabled.\n"
     ]
    },
    {
     "name": "stdout",
     "output_type": "stream",
     "text": [
      "INFO:tensorflow:Oracle triggered exit\n",
      "WARNING:tensorflow:Layer lstm will not use cuDNN kernels since it doesn't meet the criteria. It will use a generic GPU kernel as fallback when running on GPU.\n",
      "WARNING:tensorflow:Layer lstm will not use cuDNN kernels since it doesn't meet the criteria. It will use a generic GPU kernel as fallback when running on GPU.\n",
      "WARNING:tensorflow:Detecting that an object or model or tf.train.Checkpoint is being deleted with unrestored values. See the following logs for the specific values in question. To silence these warnings, use `status.expect_partial()`. See https://www.tensorflow.org/api_docs/python/tf/train/Checkpoint#restorefor details about the status object returned by the restore function.\n",
      "WARNING:tensorflow:Value in checkpoint could not be found in the restored object: (root).optimizer.iter\n",
      "WARNING:tensorflow:Value in checkpoint could not be found in the restored object: (root).optimizer.beta_1\n",
      "WARNING:tensorflow:Value in checkpoint could not be found in the restored object: (root).optimizer.beta_2\n",
      "WARNING:tensorflow:Value in checkpoint could not be found in the restored object: (root).optimizer.decay\n",
      "WARNING:tensorflow:Value in checkpoint could not be found in the restored object: (root).optimizer.learning_rate\n"
     ]
    },
    {
     "name": "stderr",
     "output_type": "stream",
     "text": [
      "2022-08-13 22:52:24.034198: I tensorflow/core/grappler/optimizers/custom_graph_optimizer_registry.cc:113] Plugin optimizer for device_type GPU is enabled.\n",
      "2022-08-13 22:52:24.784301: I tensorflow/core/grappler/optimizers/custom_graph_optimizer_registry.cc:113] Plugin optimizer for device_type GPU is enabled.\n",
      "2022-08-13 22:52:24.896351: I tensorflow/core/grappler/optimizers/custom_graph_optimizer_registry.cc:113] Plugin optimizer for device_type GPU is enabled.\n"
     ]
    },
    {
     "name": "stdout",
     "output_type": "stream",
     "text": [
      "INFO:tensorflow:Oracle triggered exit\n",
      "WARNING:tensorflow:Layer lstm will not use cuDNN kernels since it doesn't meet the criteria. It will use a generic GPU kernel as fallback when running on GPU.\n",
      "WARNING:tensorflow:Layer lstm will not use cuDNN kernels since it doesn't meet the criteria. It will use a generic GPU kernel as fallback when running on GPU.\n",
      "WARNING:tensorflow:Detecting that an object or model or tf.train.Checkpoint is being deleted with unrestored values. See the following logs for the specific values in question. To silence these warnings, use `status.expect_partial()`. See https://www.tensorflow.org/api_docs/python/tf/train/Checkpoint#restorefor details about the status object returned by the restore function.\n",
      "WARNING:tensorflow:Value in checkpoint could not be found in the restored object: (root).optimizer.iter\n",
      "WARNING:tensorflow:Value in checkpoint could not be found in the restored object: (root).optimizer.beta_1\n",
      "WARNING:tensorflow:Value in checkpoint could not be found in the restored object: (root).optimizer.beta_2\n",
      "WARNING:tensorflow:Value in checkpoint could not be found in the restored object: (root).optimizer.decay\n",
      "WARNING:tensorflow:Value in checkpoint could not be found in the restored object: (root).optimizer.learning_rate\n"
     ]
    },
    {
     "name": "stderr",
     "output_type": "stream",
     "text": [
      "2022-08-13 22:52:26.062160: I tensorflow/core/grappler/optimizers/custom_graph_optimizer_registry.cc:113] Plugin optimizer for device_type GPU is enabled.\n",
      "2022-08-13 22:52:26.795103: I tensorflow/core/grappler/optimizers/custom_graph_optimizer_registry.cc:113] Plugin optimizer for device_type GPU is enabled.\n",
      "2022-08-13 22:52:26.907722: I tensorflow/core/grappler/optimizers/custom_graph_optimizer_registry.cc:113] Plugin optimizer for device_type GPU is enabled.\n"
     ]
    },
    {
     "name": "stdout",
     "output_type": "stream",
     "text": [
      "INFO:tensorflow:Oracle triggered exit\n",
      "WARNING:tensorflow:Layer lstm will not use cuDNN kernels since it doesn't meet the criteria. It will use a generic GPU kernel as fallback when running on GPU.\n",
      "WARNING:tensorflow:Layer lstm will not use cuDNN kernels since it doesn't meet the criteria. It will use a generic GPU kernel as fallback when running on GPU.\n",
      "WARNING:tensorflow:Detecting that an object or model or tf.train.Checkpoint is being deleted with unrestored values. See the following logs for the specific values in question. To silence these warnings, use `status.expect_partial()`. See https://www.tensorflow.org/api_docs/python/tf/train/Checkpoint#restorefor details about the status object returned by the restore function.\n",
      "WARNING:tensorflow:Value in checkpoint could not be found in the restored object: (root).optimizer.iter\n",
      "WARNING:tensorflow:Value in checkpoint could not be found in the restored object: (root).optimizer.beta_1\n",
      "WARNING:tensorflow:Value in checkpoint could not be found in the restored object: (root).optimizer.beta_2\n",
      "WARNING:tensorflow:Value in checkpoint could not be found in the restored object: (root).optimizer.decay\n",
      "WARNING:tensorflow:Value in checkpoint could not be found in the restored object: (root).optimizer.learning_rate\n"
     ]
    },
    {
     "name": "stderr",
     "output_type": "stream",
     "text": [
      "2022-08-13 22:52:28.095376: I tensorflow/core/grappler/optimizers/custom_graph_optimizer_registry.cc:113] Plugin optimizer for device_type GPU is enabled.\n",
      "2022-08-13 22:52:28.835993: I tensorflow/core/grappler/optimizers/custom_graph_optimizer_registry.cc:113] Plugin optimizer for device_type GPU is enabled.\n",
      "2022-08-13 22:52:28.947694: I tensorflow/core/grappler/optimizers/custom_graph_optimizer_registry.cc:113] Plugin optimizer for device_type GPU is enabled.\n"
     ]
    },
    {
     "name": "stdout",
     "output_type": "stream",
     "text": [
      "INFO:tensorflow:Oracle triggered exit\n",
      "WARNING:tensorflow:Layer lstm will not use cuDNN kernels since it doesn't meet the criteria. It will use a generic GPU kernel as fallback when running on GPU.\n",
      "WARNING:tensorflow:Layer lstm will not use cuDNN kernels since it doesn't meet the criteria. It will use a generic GPU kernel as fallback when running on GPU.\n",
      "WARNING:tensorflow:Detecting that an object or model or tf.train.Checkpoint is being deleted with unrestored values. See the following logs for the specific values in question. To silence these warnings, use `status.expect_partial()`. See https://www.tensorflow.org/api_docs/python/tf/train/Checkpoint#restorefor details about the status object returned by the restore function.\n",
      "WARNING:tensorflow:Value in checkpoint could not be found in the restored object: (root).optimizer.iter\n",
      "WARNING:tensorflow:Value in checkpoint could not be found in the restored object: (root).optimizer.beta_1\n",
      "WARNING:tensorflow:Value in checkpoint could not be found in the restored object: (root).optimizer.beta_2\n",
      "WARNING:tensorflow:Value in checkpoint could not be found in the restored object: (root).optimizer.decay\n",
      "WARNING:tensorflow:Value in checkpoint could not be found in the restored object: (root).optimizer.learning_rate\n"
     ]
    },
    {
     "name": "stderr",
     "output_type": "stream",
     "text": [
      "2022-08-13 22:52:30.104297: I tensorflow/core/grappler/optimizers/custom_graph_optimizer_registry.cc:113] Plugin optimizer for device_type GPU is enabled.\n",
      "2022-08-13 22:52:30.833897: I tensorflow/core/grappler/optimizers/custom_graph_optimizer_registry.cc:113] Plugin optimizer for device_type GPU is enabled.\n",
      "2022-08-13 22:52:30.942499: I tensorflow/core/grappler/optimizers/custom_graph_optimizer_registry.cc:113] Plugin optimizer for device_type GPU is enabled.\n"
     ]
    },
    {
     "name": "stdout",
     "output_type": "stream",
     "text": [
      "INFO:tensorflow:Oracle triggered exit\n",
      "WARNING:tensorflow:Layer lstm will not use cuDNN kernels since it doesn't meet the criteria. It will use a generic GPU kernel as fallback when running on GPU.\n",
      "WARNING:tensorflow:Layer lstm will not use cuDNN kernels since it doesn't meet the criteria. It will use a generic GPU kernel as fallback when running on GPU.\n",
      "WARNING:tensorflow:Detecting that an object or model or tf.train.Checkpoint is being deleted with unrestored values. See the following logs for the specific values in question. To silence these warnings, use `status.expect_partial()`. See https://www.tensorflow.org/api_docs/python/tf/train/Checkpoint#restorefor details about the status object returned by the restore function.\n",
      "WARNING:tensorflow:Value in checkpoint could not be found in the restored object: (root).optimizer.iter\n",
      "WARNING:tensorflow:Value in checkpoint could not be found in the restored object: (root).optimizer.beta_1\n",
      "WARNING:tensorflow:Value in checkpoint could not be found in the restored object: (root).optimizer.beta_2\n",
      "WARNING:tensorflow:Value in checkpoint could not be found in the restored object: (root).optimizer.decay\n",
      "WARNING:tensorflow:Value in checkpoint could not be found in the restored object: (root).optimizer.learning_rate\n"
     ]
    },
    {
     "name": "stderr",
     "output_type": "stream",
     "text": [
      "2022-08-13 22:52:32.097371: I tensorflow/core/grappler/optimizers/custom_graph_optimizer_registry.cc:113] Plugin optimizer for device_type GPU is enabled.\n",
      "2022-08-13 22:52:32.828696: I tensorflow/core/grappler/optimizers/custom_graph_optimizer_registry.cc:113] Plugin optimizer for device_type GPU is enabled.\n",
      "2022-08-13 22:52:32.941708: I tensorflow/core/grappler/optimizers/custom_graph_optimizer_registry.cc:113] Plugin optimizer for device_type GPU is enabled.\n"
     ]
    },
    {
     "name": "stdout",
     "output_type": "stream",
     "text": [
      "INFO:tensorflow:Oracle triggered exit\n",
      "WARNING:tensorflow:Layer lstm will not use cuDNN kernels since it doesn't meet the criteria. It will use a generic GPU kernel as fallback when running on GPU.\n",
      "WARNING:tensorflow:Layer lstm will not use cuDNN kernels since it doesn't meet the criteria. It will use a generic GPU kernel as fallback when running on GPU.\n",
      "WARNING:tensorflow:Detecting that an object or model or tf.train.Checkpoint is being deleted with unrestored values. See the following logs for the specific values in question. To silence these warnings, use `status.expect_partial()`. See https://www.tensorflow.org/api_docs/python/tf/train/Checkpoint#restorefor details about the status object returned by the restore function.\n",
      "WARNING:tensorflow:Value in checkpoint could not be found in the restored object: (root).optimizer.iter\n",
      "WARNING:tensorflow:Value in checkpoint could not be found in the restored object: (root).optimizer.beta_1\n",
      "WARNING:tensorflow:Value in checkpoint could not be found in the restored object: (root).optimizer.beta_2\n",
      "WARNING:tensorflow:Value in checkpoint could not be found in the restored object: (root).optimizer.decay\n",
      "WARNING:tensorflow:Value in checkpoint could not be found in the restored object: (root).optimizer.learning_rate\n"
     ]
    },
    {
     "name": "stderr",
     "output_type": "stream",
     "text": [
      "2022-08-13 22:52:34.089439: I tensorflow/core/grappler/optimizers/custom_graph_optimizer_registry.cc:113] Plugin optimizer for device_type GPU is enabled.\n",
      "2022-08-13 22:52:34.827421: I tensorflow/core/grappler/optimizers/custom_graph_optimizer_registry.cc:113] Plugin optimizer for device_type GPU is enabled.\n",
      "2022-08-13 22:52:34.937897: I tensorflow/core/grappler/optimizers/custom_graph_optimizer_registry.cc:113] Plugin optimizer for device_type GPU is enabled.\n"
     ]
    },
    {
     "name": "stdout",
     "output_type": "stream",
     "text": [
      "INFO:tensorflow:Oracle triggered exit\n",
      "WARNING:tensorflow:Layer lstm will not use cuDNN kernels since it doesn't meet the criteria. It will use a generic GPU kernel as fallback when running on GPU.\n",
      "WARNING:tensorflow:Layer lstm will not use cuDNN kernels since it doesn't meet the criteria. It will use a generic GPU kernel as fallback when running on GPU.\n",
      "WARNING:tensorflow:Detecting that an object or model or tf.train.Checkpoint is being deleted with unrestored values. See the following logs for the specific values in question. To silence these warnings, use `status.expect_partial()`. See https://www.tensorflow.org/api_docs/python/tf/train/Checkpoint#restorefor details about the status object returned by the restore function.\n",
      "WARNING:tensorflow:Value in checkpoint could not be found in the restored object: (root).optimizer.iter\n",
      "WARNING:tensorflow:Value in checkpoint could not be found in the restored object: (root).optimizer.beta_1\n",
      "WARNING:tensorflow:Value in checkpoint could not be found in the restored object: (root).optimizer.beta_2\n",
      "WARNING:tensorflow:Value in checkpoint could not be found in the restored object: (root).optimizer.decay\n",
      "WARNING:tensorflow:Value in checkpoint could not be found in the restored object: (root).optimizer.learning_rate\n"
     ]
    },
    {
     "name": "stderr",
     "output_type": "stream",
     "text": [
      "2022-08-13 22:52:36.107942: I tensorflow/core/grappler/optimizers/custom_graph_optimizer_registry.cc:113] Plugin optimizer for device_type GPU is enabled.\n",
      "2022-08-13 22:52:36.854132: I tensorflow/core/grappler/optimizers/custom_graph_optimizer_registry.cc:113] Plugin optimizer for device_type GPU is enabled.\n"
     ]
    }
   ],
   "source": [
    "for code in sa3_codes:\n",
    "    male_sample_data = list(population_m_dict[code].values())\n",
    "    X, y = split_sequence(male_sample_data, n_steps)\n",
    "    train_x = X[train_bounds]\n",
    "    train_y = y[train_bounds]\n",
    "    val_x = X[val_bounds]\n",
    "    val_y = y[val_bounds]\n",
    "    test_x = X[test_bounds]\n",
    "    test_y = y[test_bounds]\n",
    "    train_x = train_x.reshape((train_x.shape[0], train_x.shape[1], n_features))\n",
    "    \n",
    "    tuner.search(train_x, train_y, epochs=10, validation_data=(val_x, val_y), verbose=0)\n",
    "    best_model = tuner.get_best_models(num_models=2)[0]\n",
    "    \n",
    "    history = best_model.fit(train_x, train_y, epochs=10, verbose=0)\n",
    "    \n",
    "    x_input = test_x\n",
    "    x_input = x_input.reshape((1, n_steps, n_features))\n",
    "    \n",
    "    prediction_list = []\n",
    "    \n",
    "    for iter in range(10):\n",
    "        prediction = best_model.predict(x_input, verbose=0)\n",
    "        prediction_list.append(prediction)\n",
    "        prediction = prediction.reshape(1,1,18)\n",
    "        output.loc[(output['Code']==code)&(output['Sex']=='Males'),2002+iter]=prediction\n",
    "        x_input = np.hstack((x_input,prediction)) #add the latest prediction\n",
    "        x_input = x_input[0][1:].reshape(1,n_steps,n_features)  #delete the first value"
   ]
  },
  {
   "cell_type": "code",
   "execution_count": 26,
   "metadata": {},
   "outputs": [
    {
     "name": "stdout",
     "output_type": "stream",
     "text": [
      "INFO:tensorflow:Oracle triggered exit\n",
      "WARNING:tensorflow:Layer lstm will not use cuDNN kernels since it doesn't meet the criteria. It will use a generic GPU kernel as fallback when running on GPU.\n",
      "WARNING:tensorflow:Layer lstm will not use cuDNN kernels since it doesn't meet the criteria. It will use a generic GPU kernel as fallback when running on GPU.\n",
      "WARNING:tensorflow:Detecting that an object or model or tf.train.Checkpoint is being deleted with unrestored values. See the following logs for the specific values in question. To silence these warnings, use `status.expect_partial()`. See https://www.tensorflow.org/api_docs/python/tf/train/Checkpoint#restorefor details about the status object returned by the restore function.\n",
      "WARNING:tensorflow:Value in checkpoint could not be found in the restored object: (root).optimizer.iter\n",
      "WARNING:tensorflow:Value in checkpoint could not be found in the restored object: (root).optimizer.beta_1\n",
      "WARNING:tensorflow:Value in checkpoint could not be found in the restored object: (root).optimizer.beta_2\n",
      "WARNING:tensorflow:Value in checkpoint could not be found in the restored object: (root).optimizer.decay\n",
      "WARNING:tensorflow:Value in checkpoint could not be found in the restored object: (root).optimizer.learning_rate\n"
     ]
    },
    {
     "name": "stderr",
     "output_type": "stream",
     "text": [
      "2022-08-13 22:46:00.273220: I tensorflow/core/grappler/optimizers/custom_graph_optimizer_registry.cc:113] Plugin optimizer for device_type GPU is enabled.\n",
      "2022-08-13 22:46:09.538925: I tensorflow/core/grappler/optimizers/custom_graph_optimizer_registry.cc:113] Plugin optimizer for device_type GPU is enabled.\n",
      "2022-08-13 22:46:09.770128: I tensorflow/core/grappler/optimizers/custom_graph_optimizer_registry.cc:113] Plugin optimizer for device_type GPU is enabled.\n"
     ]
    },
    {
     "name": "stdout",
     "output_type": "stream",
     "text": [
      "INFO:tensorflow:Oracle triggered exit\n",
      "WARNING:tensorflow:Layer lstm will not use cuDNN kernels since it doesn't meet the criteria. It will use a generic GPU kernel as fallback when running on GPU.\n",
      "WARNING:tensorflow:Layer lstm will not use cuDNN kernels since it doesn't meet the criteria. It will use a generic GPU kernel as fallback when running on GPU.\n",
      "WARNING:tensorflow:Detecting that an object or model or tf.train.Checkpoint is being deleted with unrestored values. See the following logs for the specific values in question. To silence these warnings, use `status.expect_partial()`. See https://www.tensorflow.org/api_docs/python/tf/train/Checkpoint#restorefor details about the status object returned by the restore function.\n",
      "WARNING:tensorflow:Value in checkpoint could not be found in the restored object: (root).optimizer.iter\n",
      "WARNING:tensorflow:Value in checkpoint could not be found in the restored object: (root).optimizer.beta_1\n",
      "WARNING:tensorflow:Value in checkpoint could not be found in the restored object: (root).optimizer.beta_2\n",
      "WARNING:tensorflow:Value in checkpoint could not be found in the restored object: (root).optimizer.decay\n",
      "WARNING:tensorflow:Value in checkpoint could not be found in the restored object: (root).optimizer.learning_rate\n"
     ]
    },
    {
     "name": "stderr",
     "output_type": "stream",
     "text": [
      "2022-08-13 22:46:11.589338: I tensorflow/core/grappler/optimizers/custom_graph_optimizer_registry.cc:113] Plugin optimizer for device_type GPU is enabled.\n",
      "2022-08-13 22:46:20.208964: I tensorflow/core/grappler/optimizers/custom_graph_optimizer_registry.cc:113] Plugin optimizer for device_type GPU is enabled.\n",
      "2022-08-13 22:46:20.406650: I tensorflow/core/grappler/optimizers/custom_graph_optimizer_registry.cc:113] Plugin optimizer for device_type GPU is enabled.\n"
     ]
    },
    {
     "name": "stdout",
     "output_type": "stream",
     "text": [
      "INFO:tensorflow:Oracle triggered exit\n",
      "WARNING:tensorflow:Layer lstm will not use cuDNN kernels since it doesn't meet the criteria. It will use a generic GPU kernel as fallback when running on GPU.\n",
      "WARNING:tensorflow:Layer lstm will not use cuDNN kernels since it doesn't meet the criteria. It will use a generic GPU kernel as fallback when running on GPU.\n",
      "WARNING:tensorflow:Detecting that an object or model or tf.train.Checkpoint is being deleted with unrestored values. See the following logs for the specific values in question. To silence these warnings, use `status.expect_partial()`. See https://www.tensorflow.org/api_docs/python/tf/train/Checkpoint#restorefor details about the status object returned by the restore function.\n",
      "WARNING:tensorflow:Value in checkpoint could not be found in the restored object: (root).optimizer.iter\n",
      "WARNING:tensorflow:Value in checkpoint could not be found in the restored object: (root).optimizer.beta_1\n",
      "WARNING:tensorflow:Value in checkpoint could not be found in the restored object: (root).optimizer.beta_2\n",
      "WARNING:tensorflow:Value in checkpoint could not be found in the restored object: (root).optimizer.decay\n",
      "WARNING:tensorflow:Value in checkpoint could not be found in the restored object: (root).optimizer.learning_rate\n"
     ]
    },
    {
     "name": "stderr",
     "output_type": "stream",
     "text": [
      "2022-08-13 22:46:22.147532: I tensorflow/core/grappler/optimizers/custom_graph_optimizer_registry.cc:113] Plugin optimizer for device_type GPU is enabled.\n",
      "2022-08-13 22:46:30.884505: I tensorflow/core/grappler/optimizers/custom_graph_optimizer_registry.cc:113] Plugin optimizer for device_type GPU is enabled.\n",
      "2022-08-13 22:46:31.134589: I tensorflow/core/grappler/optimizers/custom_graph_optimizer_registry.cc:113] Plugin optimizer for device_type GPU is enabled.\n"
     ]
    },
    {
     "name": "stdout",
     "output_type": "stream",
     "text": [
      "INFO:tensorflow:Oracle triggered exit\n",
      "WARNING:tensorflow:Layer lstm will not use cuDNN kernels since it doesn't meet the criteria. It will use a generic GPU kernel as fallback when running on GPU.\n",
      "WARNING:tensorflow:Layer lstm will not use cuDNN kernels since it doesn't meet the criteria. It will use a generic GPU kernel as fallback when running on GPU.\n",
      "WARNING:tensorflow:Detecting that an object or model or tf.train.Checkpoint is being deleted with unrestored values. See the following logs for the specific values in question. To silence these warnings, use `status.expect_partial()`. See https://www.tensorflow.org/api_docs/python/tf/train/Checkpoint#restorefor details about the status object returned by the restore function.\n",
      "WARNING:tensorflow:Value in checkpoint could not be found in the restored object: (root).optimizer.iter\n",
      "WARNING:tensorflow:Value in checkpoint could not be found in the restored object: (root).optimizer.beta_1\n",
      "WARNING:tensorflow:Value in checkpoint could not be found in the restored object: (root).optimizer.beta_2\n",
      "WARNING:tensorflow:Value in checkpoint could not be found in the restored object: (root).optimizer.decay\n",
      "WARNING:tensorflow:Value in checkpoint could not be found in the restored object: (root).optimizer.learning_rate\n"
     ]
    },
    {
     "name": "stderr",
     "output_type": "stream",
     "text": [
      "2022-08-13 22:46:32.883116: I tensorflow/core/grappler/optimizers/custom_graph_optimizer_registry.cc:113] Plugin optimizer for device_type GPU is enabled.\n",
      "2022-08-13 22:46:41.617891: I tensorflow/core/grappler/optimizers/custom_graph_optimizer_registry.cc:113] Plugin optimizer for device_type GPU is enabled.\n",
      "2022-08-13 22:46:41.827588: I tensorflow/core/grappler/optimizers/custom_graph_optimizer_registry.cc:113] Plugin optimizer for device_type GPU is enabled.\n"
     ]
    },
    {
     "name": "stdout",
     "output_type": "stream",
     "text": [
      "INFO:tensorflow:Oracle triggered exit\n",
      "WARNING:tensorflow:Layer lstm will not use cuDNN kernels since it doesn't meet the criteria. It will use a generic GPU kernel as fallback when running on GPU.\n",
      "WARNING:tensorflow:Layer lstm will not use cuDNN kernels since it doesn't meet the criteria. It will use a generic GPU kernel as fallback when running on GPU.\n",
      "WARNING:tensorflow:Detecting that an object or model or tf.train.Checkpoint is being deleted with unrestored values. See the following logs for the specific values in question. To silence these warnings, use `status.expect_partial()`. See https://www.tensorflow.org/api_docs/python/tf/train/Checkpoint#restorefor details about the status object returned by the restore function.\n",
      "WARNING:tensorflow:Value in checkpoint could not be found in the restored object: (root).optimizer.iter\n",
      "WARNING:tensorflow:Value in checkpoint could not be found in the restored object: (root).optimizer.beta_1\n",
      "WARNING:tensorflow:Value in checkpoint could not be found in the restored object: (root).optimizer.beta_2\n",
      "WARNING:tensorflow:Value in checkpoint could not be found in the restored object: (root).optimizer.decay\n",
      "WARNING:tensorflow:Value in checkpoint could not be found in the restored object: (root).optimizer.learning_rate\n"
     ]
    },
    {
     "name": "stderr",
     "output_type": "stream",
     "text": [
      "2022-08-13 22:46:43.610217: I tensorflow/core/grappler/optimizers/custom_graph_optimizer_registry.cc:113] Plugin optimizer for device_type GPU is enabled.\n",
      "2022-08-13 22:46:52.427781: I tensorflow/core/grappler/optimizers/custom_graph_optimizer_registry.cc:113] Plugin optimizer for device_type GPU is enabled.\n",
      "2022-08-13 22:46:52.636961: I tensorflow/core/grappler/optimizers/custom_graph_optimizer_registry.cc:113] Plugin optimizer for device_type GPU is enabled.\n"
     ]
    },
    {
     "name": "stdout",
     "output_type": "stream",
     "text": [
      "INFO:tensorflow:Oracle triggered exit\n",
      "WARNING:tensorflow:Layer lstm will not use cuDNN kernels since it doesn't meet the criteria. It will use a generic GPU kernel as fallback when running on GPU.\n",
      "WARNING:tensorflow:Layer lstm will not use cuDNN kernels since it doesn't meet the criteria. It will use a generic GPU kernel as fallback when running on GPU.\n",
      "WARNING:tensorflow:Detecting that an object or model or tf.train.Checkpoint is being deleted with unrestored values. See the following logs for the specific values in question. To silence these warnings, use `status.expect_partial()`. See https://www.tensorflow.org/api_docs/python/tf/train/Checkpoint#restorefor details about the status object returned by the restore function.\n",
      "WARNING:tensorflow:Value in checkpoint could not be found in the restored object: (root).optimizer.iter\n",
      "WARNING:tensorflow:Value in checkpoint could not be found in the restored object: (root).optimizer.beta_1\n",
      "WARNING:tensorflow:Value in checkpoint could not be found in the restored object: (root).optimizer.beta_2\n",
      "WARNING:tensorflow:Value in checkpoint could not be found in the restored object: (root).optimizer.decay\n",
      "WARNING:tensorflow:Value in checkpoint could not be found in the restored object: (root).optimizer.learning_rate\n"
     ]
    },
    {
     "name": "stderr",
     "output_type": "stream",
     "text": [
      "2022-08-13 22:46:54.443438: I tensorflow/core/grappler/optimizers/custom_graph_optimizer_registry.cc:113] Plugin optimizer for device_type GPU is enabled.\n",
      "2022-08-13 22:47:03.224363: I tensorflow/core/grappler/optimizers/custom_graph_optimizer_registry.cc:113] Plugin optimizer for device_type GPU is enabled.\n",
      "2022-08-13 22:47:03.435831: I tensorflow/core/grappler/optimizers/custom_graph_optimizer_registry.cc:113] Plugin optimizer for device_type GPU is enabled.\n"
     ]
    },
    {
     "name": "stdout",
     "output_type": "stream",
     "text": [
      "INFO:tensorflow:Oracle triggered exit\n",
      "WARNING:tensorflow:Layer lstm will not use cuDNN kernels since it doesn't meet the criteria. It will use a generic GPU kernel as fallback when running on GPU.\n",
      "WARNING:tensorflow:Layer lstm will not use cuDNN kernels since it doesn't meet the criteria. It will use a generic GPU kernel as fallback when running on GPU.\n",
      "WARNING:tensorflow:Detecting that an object or model or tf.train.Checkpoint is being deleted with unrestored values. See the following logs for the specific values in question. To silence these warnings, use `status.expect_partial()`. See https://www.tensorflow.org/api_docs/python/tf/train/Checkpoint#restorefor details about the status object returned by the restore function.\n",
      "WARNING:tensorflow:Value in checkpoint could not be found in the restored object: (root).optimizer.iter\n",
      "WARNING:tensorflow:Value in checkpoint could not be found in the restored object: (root).optimizer.beta_1\n",
      "WARNING:tensorflow:Value in checkpoint could not be found in the restored object: (root).optimizer.beta_2\n",
      "WARNING:tensorflow:Value in checkpoint could not be found in the restored object: (root).optimizer.decay\n",
      "WARNING:tensorflow:Value in checkpoint could not be found in the restored object: (root).optimizer.learning_rate\n"
     ]
    },
    {
     "name": "stderr",
     "output_type": "stream",
     "text": [
      "2022-08-13 22:47:05.191997: I tensorflow/core/grappler/optimizers/custom_graph_optimizer_registry.cc:113] Plugin optimizer for device_type GPU is enabled.\n",
      "2022-08-13 22:47:13.999953: I tensorflow/core/grappler/optimizers/custom_graph_optimizer_registry.cc:113] Plugin optimizer for device_type GPU is enabled.\n",
      "2022-08-13 22:47:14.203474: I tensorflow/core/grappler/optimizers/custom_graph_optimizer_registry.cc:113] Plugin optimizer for device_type GPU is enabled.\n"
     ]
    },
    {
     "name": "stdout",
     "output_type": "stream",
     "text": [
      "INFO:tensorflow:Oracle triggered exit\n",
      "WARNING:tensorflow:Layer lstm will not use cuDNN kernels since it doesn't meet the criteria. It will use a generic GPU kernel as fallback when running on GPU.\n",
      "WARNING:tensorflow:Layer lstm will not use cuDNN kernels since it doesn't meet the criteria. It will use a generic GPU kernel as fallback when running on GPU.\n",
      "WARNING:tensorflow:Detecting that an object or model or tf.train.Checkpoint is being deleted with unrestored values. See the following logs for the specific values in question. To silence these warnings, use `status.expect_partial()`. See https://www.tensorflow.org/api_docs/python/tf/train/Checkpoint#restorefor details about the status object returned by the restore function.\n",
      "WARNING:tensorflow:Value in checkpoint could not be found in the restored object: (root).optimizer.iter\n",
      "WARNING:tensorflow:Value in checkpoint could not be found in the restored object: (root).optimizer.beta_1\n",
      "WARNING:tensorflow:Value in checkpoint could not be found in the restored object: (root).optimizer.beta_2\n",
      "WARNING:tensorflow:Value in checkpoint could not be found in the restored object: (root).optimizer.decay\n",
      "WARNING:tensorflow:Value in checkpoint could not be found in the restored object: (root).optimizer.learning_rate\n"
     ]
    },
    {
     "name": "stderr",
     "output_type": "stream",
     "text": [
      "2022-08-13 22:47:16.009729: I tensorflow/core/grappler/optimizers/custom_graph_optimizer_registry.cc:113] Plugin optimizer for device_type GPU is enabled.\n",
      "2022-08-13 22:47:24.815584: I tensorflow/core/grappler/optimizers/custom_graph_optimizer_registry.cc:113] Plugin optimizer for device_type GPU is enabled.\n",
      "2022-08-13 22:47:25.047547: I tensorflow/core/grappler/optimizers/custom_graph_optimizer_registry.cc:113] Plugin optimizer for device_type GPU is enabled.\n"
     ]
    },
    {
     "name": "stdout",
     "output_type": "stream",
     "text": [
      "INFO:tensorflow:Oracle triggered exit\n",
      "WARNING:tensorflow:Layer lstm will not use cuDNN kernels since it doesn't meet the criteria. It will use a generic GPU kernel as fallback when running on GPU.\n",
      "WARNING:tensorflow:Layer lstm will not use cuDNN kernels since it doesn't meet the criteria. It will use a generic GPU kernel as fallback when running on GPU.\n",
      "WARNING:tensorflow:Detecting that an object or model or tf.train.Checkpoint is being deleted with unrestored values. See the following logs for the specific values in question. To silence these warnings, use `status.expect_partial()`. See https://www.tensorflow.org/api_docs/python/tf/train/Checkpoint#restorefor details about the status object returned by the restore function.\n",
      "WARNING:tensorflow:Value in checkpoint could not be found in the restored object: (root).optimizer.iter\n",
      "WARNING:tensorflow:Value in checkpoint could not be found in the restored object: (root).optimizer.beta_1\n",
      "WARNING:tensorflow:Value in checkpoint could not be found in the restored object: (root).optimizer.beta_2\n",
      "WARNING:tensorflow:Value in checkpoint could not be found in the restored object: (root).optimizer.decay\n",
      "WARNING:tensorflow:Value in checkpoint could not be found in the restored object: (root).optimizer.learning_rate\n"
     ]
    },
    {
     "name": "stderr",
     "output_type": "stream",
     "text": [
      "2022-08-13 22:47:26.853886: I tensorflow/core/grappler/optimizers/custom_graph_optimizer_registry.cc:113] Plugin optimizer for device_type GPU is enabled.\n",
      "2022-08-13 22:47:35.661945: I tensorflow/core/grappler/optimizers/custom_graph_optimizer_registry.cc:113] Plugin optimizer for device_type GPU is enabled.\n",
      "2022-08-13 22:47:35.881852: I tensorflow/core/grappler/optimizers/custom_graph_optimizer_registry.cc:113] Plugin optimizer for device_type GPU is enabled.\n"
     ]
    },
    {
     "name": "stdout",
     "output_type": "stream",
     "text": [
      "INFO:tensorflow:Oracle triggered exit\n",
      "WARNING:tensorflow:Layer lstm will not use cuDNN kernels since it doesn't meet the criteria. It will use a generic GPU kernel as fallback when running on GPU.\n",
      "WARNING:tensorflow:Layer lstm will not use cuDNN kernels since it doesn't meet the criteria. It will use a generic GPU kernel as fallback when running on GPU.\n",
      "WARNING:tensorflow:Detecting that an object or model or tf.train.Checkpoint is being deleted with unrestored values. See the following logs for the specific values in question. To silence these warnings, use `status.expect_partial()`. See https://www.tensorflow.org/api_docs/python/tf/train/Checkpoint#restorefor details about the status object returned by the restore function.\n",
      "WARNING:tensorflow:Value in checkpoint could not be found in the restored object: (root).optimizer.iter\n",
      "WARNING:tensorflow:Value in checkpoint could not be found in the restored object: (root).optimizer.beta_1\n",
      "WARNING:tensorflow:Value in checkpoint could not be found in the restored object: (root).optimizer.beta_2\n",
      "WARNING:tensorflow:Value in checkpoint could not be found in the restored object: (root).optimizer.decay\n",
      "WARNING:tensorflow:Value in checkpoint could not be found in the restored object: (root).optimizer.learning_rate\n"
     ]
    },
    {
     "name": "stderr",
     "output_type": "stream",
     "text": [
      "2022-08-13 22:47:37.713586: I tensorflow/core/grappler/optimizers/custom_graph_optimizer_registry.cc:113] Plugin optimizer for device_type GPU is enabled.\n",
      "2022-08-13 22:47:46.586317: I tensorflow/core/grappler/optimizers/custom_graph_optimizer_registry.cc:113] Plugin optimizer for device_type GPU is enabled.\n",
      "2022-08-13 22:47:46.798308: I tensorflow/core/grappler/optimizers/custom_graph_optimizer_registry.cc:113] Plugin optimizer for device_type GPU is enabled.\n"
     ]
    },
    {
     "name": "stdout",
     "output_type": "stream",
     "text": [
      "INFO:tensorflow:Oracle triggered exit\n",
      "WARNING:tensorflow:Layer lstm will not use cuDNN kernels since it doesn't meet the criteria. It will use a generic GPU kernel as fallback when running on GPU.\n",
      "WARNING:tensorflow:Layer lstm will not use cuDNN kernels since it doesn't meet the criteria. It will use a generic GPU kernel as fallback when running on GPU.\n",
      "WARNING:tensorflow:Detecting that an object or model or tf.train.Checkpoint is being deleted with unrestored values. See the following logs for the specific values in question. To silence these warnings, use `status.expect_partial()`. See https://www.tensorflow.org/api_docs/python/tf/train/Checkpoint#restorefor details about the status object returned by the restore function.\n",
      "WARNING:tensorflow:Value in checkpoint could not be found in the restored object: (root).optimizer.iter\n",
      "WARNING:tensorflow:Value in checkpoint could not be found in the restored object: (root).optimizer.beta_1\n",
      "WARNING:tensorflow:Value in checkpoint could not be found in the restored object: (root).optimizer.beta_2\n",
      "WARNING:tensorflow:Value in checkpoint could not be found in the restored object: (root).optimizer.decay\n",
      "WARNING:tensorflow:Value in checkpoint could not be found in the restored object: (root).optimizer.learning_rate\n"
     ]
    },
    {
     "name": "stderr",
     "output_type": "stream",
     "text": [
      "2022-08-13 22:47:48.611023: I tensorflow/core/grappler/optimizers/custom_graph_optimizer_registry.cc:113] Plugin optimizer for device_type GPU is enabled.\n",
      "2022-08-13 22:47:57.417701: I tensorflow/core/grappler/optimizers/custom_graph_optimizer_registry.cc:113] Plugin optimizer for device_type GPU is enabled.\n",
      "2022-08-13 22:47:57.646034: I tensorflow/core/grappler/optimizers/custom_graph_optimizer_registry.cc:113] Plugin optimizer for device_type GPU is enabled.\n"
     ]
    },
    {
     "name": "stdout",
     "output_type": "stream",
     "text": [
      "INFO:tensorflow:Oracle triggered exit\n",
      "WARNING:tensorflow:Layer lstm will not use cuDNN kernels since it doesn't meet the criteria. It will use a generic GPU kernel as fallback when running on GPU.\n",
      "WARNING:tensorflow:Layer lstm will not use cuDNN kernels since it doesn't meet the criteria. It will use a generic GPU kernel as fallback when running on GPU.\n",
      "WARNING:tensorflow:Detecting that an object or model or tf.train.Checkpoint is being deleted with unrestored values. See the following logs for the specific values in question. To silence these warnings, use `status.expect_partial()`. See https://www.tensorflow.org/api_docs/python/tf/train/Checkpoint#restorefor details about the status object returned by the restore function.\n",
      "WARNING:tensorflow:Value in checkpoint could not be found in the restored object: (root).optimizer.iter\n",
      "WARNING:tensorflow:Value in checkpoint could not be found in the restored object: (root).optimizer.beta_1\n",
      "WARNING:tensorflow:Value in checkpoint could not be found in the restored object: (root).optimizer.beta_2\n",
      "WARNING:tensorflow:Value in checkpoint could not be found in the restored object: (root).optimizer.decay\n",
      "WARNING:tensorflow:Value in checkpoint could not be found in the restored object: (root).optimizer.learning_rate\n"
     ]
    },
    {
     "name": "stderr",
     "output_type": "stream",
     "text": [
      "2022-08-13 22:47:59.424906: I tensorflow/core/grappler/optimizers/custom_graph_optimizer_registry.cc:113] Plugin optimizer for device_type GPU is enabled.\n",
      "2022-08-13 22:48:08.289415: I tensorflow/core/grappler/optimizers/custom_graph_optimizer_registry.cc:113] Plugin optimizer for device_type GPU is enabled.\n",
      "2022-08-13 22:48:08.526268: I tensorflow/core/grappler/optimizers/custom_graph_optimizer_registry.cc:113] Plugin optimizer for device_type GPU is enabled.\n"
     ]
    },
    {
     "name": "stdout",
     "output_type": "stream",
     "text": [
      "INFO:tensorflow:Oracle triggered exit\n",
      "WARNING:tensorflow:Layer lstm will not use cuDNN kernels since it doesn't meet the criteria. It will use a generic GPU kernel as fallback when running on GPU.\n",
      "WARNING:tensorflow:Layer lstm will not use cuDNN kernels since it doesn't meet the criteria. It will use a generic GPU kernel as fallback when running on GPU.\n",
      "WARNING:tensorflow:Detecting that an object or model or tf.train.Checkpoint is being deleted with unrestored values. See the following logs for the specific values in question. To silence these warnings, use `status.expect_partial()`. See https://www.tensorflow.org/api_docs/python/tf/train/Checkpoint#restorefor details about the status object returned by the restore function.\n",
      "WARNING:tensorflow:Value in checkpoint could not be found in the restored object: (root).optimizer.iter\n",
      "WARNING:tensorflow:Value in checkpoint could not be found in the restored object: (root).optimizer.beta_1\n",
      "WARNING:tensorflow:Value in checkpoint could not be found in the restored object: (root).optimizer.beta_2\n",
      "WARNING:tensorflow:Value in checkpoint could not be found in the restored object: (root).optimizer.decay\n",
      "WARNING:tensorflow:Value in checkpoint could not be found in the restored object: (root).optimizer.learning_rate\n"
     ]
    },
    {
     "name": "stderr",
     "output_type": "stream",
     "text": [
      "2022-08-13 22:48:10.326197: I tensorflow/core/grappler/optimizers/custom_graph_optimizer_registry.cc:113] Plugin optimizer for device_type GPU is enabled.\n",
      "2022-08-13 22:48:19.143940: I tensorflow/core/grappler/optimizers/custom_graph_optimizer_registry.cc:113] Plugin optimizer for device_type GPU is enabled.\n",
      "2022-08-13 22:48:19.364867: I tensorflow/core/grappler/optimizers/custom_graph_optimizer_registry.cc:113] Plugin optimizer for device_type GPU is enabled.\n"
     ]
    },
    {
     "name": "stdout",
     "output_type": "stream",
     "text": [
      "INFO:tensorflow:Oracle triggered exit\n",
      "WARNING:tensorflow:Layer lstm will not use cuDNN kernels since it doesn't meet the criteria. It will use a generic GPU kernel as fallback when running on GPU.\n",
      "WARNING:tensorflow:Layer lstm will not use cuDNN kernels since it doesn't meet the criteria. It will use a generic GPU kernel as fallback when running on GPU.\n",
      "WARNING:tensorflow:Detecting that an object or model or tf.train.Checkpoint is being deleted with unrestored values. See the following logs for the specific values in question. To silence these warnings, use `status.expect_partial()`. See https://www.tensorflow.org/api_docs/python/tf/train/Checkpoint#restorefor details about the status object returned by the restore function.\n",
      "WARNING:tensorflow:Value in checkpoint could not be found in the restored object: (root).optimizer.iter\n",
      "WARNING:tensorflow:Value in checkpoint could not be found in the restored object: (root).optimizer.beta_1\n",
      "WARNING:tensorflow:Value in checkpoint could not be found in the restored object: (root).optimizer.beta_2\n",
      "WARNING:tensorflow:Value in checkpoint could not be found in the restored object: (root).optimizer.decay\n",
      "WARNING:tensorflow:Value in checkpoint could not be found in the restored object: (root).optimizer.learning_rate\n"
     ]
    },
    {
     "name": "stderr",
     "output_type": "stream",
     "text": [
      "2022-08-13 22:48:21.168375: I tensorflow/core/grappler/optimizers/custom_graph_optimizer_registry.cc:113] Plugin optimizer for device_type GPU is enabled.\n",
      "2022-08-13 22:48:30.183007: I tensorflow/core/grappler/optimizers/custom_graph_optimizer_registry.cc:113] Plugin optimizer for device_type GPU is enabled.\n",
      "2022-08-13 22:48:30.376328: I tensorflow/core/grappler/optimizers/custom_graph_optimizer_registry.cc:113] Plugin optimizer for device_type GPU is enabled.\n"
     ]
    },
    {
     "name": "stdout",
     "output_type": "stream",
     "text": [
      "INFO:tensorflow:Oracle triggered exit\n",
      "WARNING:tensorflow:Layer lstm will not use cuDNN kernels since it doesn't meet the criteria. It will use a generic GPU kernel as fallback when running on GPU.\n",
      "WARNING:tensorflow:Layer lstm will not use cuDNN kernels since it doesn't meet the criteria. It will use a generic GPU kernel as fallback when running on GPU.\n",
      "WARNING:tensorflow:Detecting that an object or model or tf.train.Checkpoint is being deleted with unrestored values. See the following logs for the specific values in question. To silence these warnings, use `status.expect_partial()`. See https://www.tensorflow.org/api_docs/python/tf/train/Checkpoint#restorefor details about the status object returned by the restore function.\n",
      "WARNING:tensorflow:Value in checkpoint could not be found in the restored object: (root).optimizer.iter\n",
      "WARNING:tensorflow:Value in checkpoint could not be found in the restored object: (root).optimizer.beta_1\n",
      "WARNING:tensorflow:Value in checkpoint could not be found in the restored object: (root).optimizer.beta_2\n",
      "WARNING:tensorflow:Value in checkpoint could not be found in the restored object: (root).optimizer.decay\n",
      "WARNING:tensorflow:Value in checkpoint could not be found in the restored object: (root).optimizer.learning_rate\n"
     ]
    },
    {
     "name": "stderr",
     "output_type": "stream",
     "text": [
      "2022-08-13 22:48:32.158041: I tensorflow/core/grappler/optimizers/custom_graph_optimizer_registry.cc:113] Plugin optimizer for device_type GPU is enabled.\n",
      "2022-08-13 22:48:41.074471: I tensorflow/core/grappler/optimizers/custom_graph_optimizer_registry.cc:113] Plugin optimizer for device_type GPU is enabled.\n",
      "2022-08-13 22:48:41.302691: I tensorflow/core/grappler/optimizers/custom_graph_optimizer_registry.cc:113] Plugin optimizer for device_type GPU is enabled.\n"
     ]
    },
    {
     "name": "stdout",
     "output_type": "stream",
     "text": [
      "INFO:tensorflow:Oracle triggered exit\n",
      "WARNING:tensorflow:Layer lstm will not use cuDNN kernels since it doesn't meet the criteria. It will use a generic GPU kernel as fallback when running on GPU.\n",
      "WARNING:tensorflow:Layer lstm will not use cuDNN kernels since it doesn't meet the criteria. It will use a generic GPU kernel as fallback when running on GPU.\n",
      "WARNING:tensorflow:Detecting that an object or model or tf.train.Checkpoint is being deleted with unrestored values. See the following logs for the specific values in question. To silence these warnings, use `status.expect_partial()`. See https://www.tensorflow.org/api_docs/python/tf/train/Checkpoint#restorefor details about the status object returned by the restore function.\n",
      "WARNING:tensorflow:Value in checkpoint could not be found in the restored object: (root).optimizer.iter\n",
      "WARNING:tensorflow:Value in checkpoint could not be found in the restored object: (root).optimizer.beta_1\n",
      "WARNING:tensorflow:Value in checkpoint could not be found in the restored object: (root).optimizer.beta_2\n",
      "WARNING:tensorflow:Value in checkpoint could not be found in the restored object: (root).optimizer.decay\n",
      "WARNING:tensorflow:Value in checkpoint could not be found in the restored object: (root).optimizer.learning_rate\n"
     ]
    },
    {
     "name": "stderr",
     "output_type": "stream",
     "text": [
      "2022-08-13 22:48:43.119925: I tensorflow/core/grappler/optimizers/custom_graph_optimizer_registry.cc:113] Plugin optimizer for device_type GPU is enabled.\n",
      "2022-08-13 22:48:52.827326: I tensorflow/core/grappler/optimizers/custom_graph_optimizer_registry.cc:113] Plugin optimizer for device_type GPU is enabled.\n",
      "2022-08-13 22:48:53.279322: I tensorflow/core/grappler/optimizers/custom_graph_optimizer_registry.cc:113] Plugin optimizer for device_type GPU is enabled.\n"
     ]
    },
    {
     "name": "stdout",
     "output_type": "stream",
     "text": [
      "INFO:tensorflow:Oracle triggered exit\n",
      "WARNING:tensorflow:Layer lstm will not use cuDNN kernels since it doesn't meet the criteria. It will use a generic GPU kernel as fallback when running on GPU.\n",
      "WARNING:tensorflow:Layer lstm will not use cuDNN kernels since it doesn't meet the criteria. It will use a generic GPU kernel as fallback when running on GPU.\n",
      "WARNING:tensorflow:Detecting that an object or model or tf.train.Checkpoint is being deleted with unrestored values. See the following logs for the specific values in question. To silence these warnings, use `status.expect_partial()`. See https://www.tensorflow.org/api_docs/python/tf/train/Checkpoint#restorefor details about the status object returned by the restore function.\n",
      "WARNING:tensorflow:Value in checkpoint could not be found in the restored object: (root).optimizer.iter\n",
      "WARNING:tensorflow:Value in checkpoint could not be found in the restored object: (root).optimizer.beta_1\n",
      "WARNING:tensorflow:Value in checkpoint could not be found in the restored object: (root).optimizer.beta_2\n",
      "WARNING:tensorflow:Value in checkpoint could not be found in the restored object: (root).optimizer.decay\n",
      "WARNING:tensorflow:Value in checkpoint could not be found in the restored object: (root).optimizer.learning_rate\n"
     ]
    },
    {
     "name": "stderr",
     "output_type": "stream",
     "text": [
      "2022-08-13 22:48:55.204176: I tensorflow/core/grappler/optimizers/custom_graph_optimizer_registry.cc:113] Plugin optimizer for device_type GPU is enabled.\n",
      "2022-08-13 22:49:05.230108: I tensorflow/core/grappler/optimizers/custom_graph_optimizer_registry.cc:113] Plugin optimizer for device_type GPU is enabled.\n",
      "2022-08-13 22:49:05.546158: I tensorflow/core/grappler/optimizers/custom_graph_optimizer_registry.cc:113] Plugin optimizer for device_type GPU is enabled.\n"
     ]
    },
    {
     "name": "stdout",
     "output_type": "stream",
     "text": [
      "INFO:tensorflow:Oracle triggered exit\n",
      "WARNING:tensorflow:Layer lstm will not use cuDNN kernels since it doesn't meet the criteria. It will use a generic GPU kernel as fallback when running on GPU.\n",
      "Invalid model 0/5\n",
      "WARNING:tensorflow:Layer lstm will not use cuDNN kernels since it doesn't meet the criteria. It will use a generic GPU kernel as fallback when running on GPU.\n"
     ]
    },
    {
     "name": "stderr",
     "output_type": "stream",
     "text": [
      "Traceback (most recent call last):\n",
      "  File \"/opt/anaconda3/lib/python3.9/site-packages/keras_tuner/engine/tuner.py\", line 158, in _try_build\n",
      "    model = self._build_hypermodel(hp)\n",
      "  File \"/opt/anaconda3/lib/python3.9/site-packages/keras_tuner/engine/tuner.py\", line 146, in _build_hypermodel\n",
      "    model = self.hypermodel.build(hp)\n",
      "  File \"/var/folders/dy/wjgvhvh15ygfb4419j5k2nch0000gn/T/ipykernel_37852/3005834034.py\", line 16, in build_model\n",
      "    model = lstm_model(lstm1_units, activation, optimizer, loss_fun)\n",
      "  File \"/var/folders/dy/wjgvhvh15ygfb4419j5k2nch0000gn/T/ipykernel_37852/1238058774.py\", line 3, in lstm_model\n",
      "    model.add(LSTM(lstm1_units, activation=activ, input_shape=(n_steps, n_features)))\n",
      "  File \"/opt/anaconda3/lib/python3.9/site-packages/tensorflow/python/training/tracking/base.py\", line 587, in _method_wrapper\n",
      "    result = method(self, *args, **kwargs)\n",
      "  File \"/opt/anaconda3/lib/python3.9/site-packages/keras/utils/traceback_utils.py\", line 64, in error_handler\n",
      "    return fn(*args, **kwargs)\n",
      "  File \"/opt/anaconda3/lib/python3.9/site-packages/keras/engine/sequential.py\", line 205, in add\n",
      "    layer(x)\n",
      "  File \"/opt/anaconda3/lib/python3.9/site-packages/keras/layers/rnn/base_rnn.py\", line 515, in __call__\n",
      "    return super(RNN, self).__call__(inputs, **kwargs)\n",
      "  File \"/opt/anaconda3/lib/python3.9/site-packages/keras/utils/traceback_utils.py\", line 64, in error_handler\n",
      "    return fn(*args, **kwargs)\n",
      "  File \"/opt/anaconda3/lib/python3.9/site-packages/keras/engine/base_layer.py\", line 944, in __call__\n",
      "    return self._functional_construction_call(inputs, args, kwargs,\n",
      "  File \"/opt/anaconda3/lib/python3.9/site-packages/keras/engine/base_layer.py\", line 2315, in _functional_construction_call\n",
      "    outputs = self._keras_tensor_symbolic_call(\n",
      "  File \"/opt/anaconda3/lib/python3.9/site-packages/keras/engine/base_layer.py\", line 2186, in _keras_tensor_symbolic_call\n",
      "    return self._infer_output_signature(inputs, args, kwargs, input_masks)\n",
      "  File \"/opt/anaconda3/lib/python3.9/site-packages/keras/engine/base_layer.py\", line 2230, in _infer_output_signature\n",
      "    self._maybe_build(inputs)\n",
      "  File \"/opt/anaconda3/lib/python3.9/site-packages/keras/engine/base_layer.py\", line 2759, in _maybe_build\n",
      "    self.build(input_shapes)  # pylint:disable=not-callable\n",
      "  File \"/opt/anaconda3/lib/python3.9/site-packages/keras/layers/rnn/base_rnn.py\", line 430, in build\n",
      "    self.cell.build(step_input_shape)\n",
      "  File \"/opt/anaconda3/lib/python3.9/site-packages/keras/utils/tf_utils.py\", line 338, in wrapper\n",
      "    output_shape = fn(instance, input_shape)\n",
      "  File \"/opt/anaconda3/lib/python3.9/site-packages/keras/layers/rnn/lstm.py\", line 187, in build\n",
      "    self.recurrent_kernel = self.add_weight(\n",
      "  File \"/opt/anaconda3/lib/python3.9/site-packages/keras/engine/base_layer.py\", line 665, in add_weight\n",
      "    variable = self._add_variable_with_custom_getter(\n",
      "  File \"/opt/anaconda3/lib/python3.9/site-packages/tensorflow/python/training/tracking/base.py\", line 873, in _add_variable_with_custom_getter\n",
      "    new_variable = getter(\n",
      "  File \"/opt/anaconda3/lib/python3.9/site-packages/keras/engine/base_layer_utils.py\", line 126, in make_variable\n",
      "    return tf.compat.v1.Variable(\n",
      "  File \"/opt/anaconda3/lib/python3.9/site-packages/tensorflow/python/util/traceback_utils.py\", line 150, in error_handler\n",
      "    return fn(*args, **kwargs)\n",
      "  File \"/opt/anaconda3/lib/python3.9/site-packages/tensorflow/python/ops/variables.py\", line 264, in __call__\n",
      "    return cls._variable_v1_call(*args, **kwargs)\n",
      "  File \"/opt/anaconda3/lib/python3.9/site-packages/tensorflow/python/ops/variables.py\", line 209, in _variable_v1_call\n",
      "    return previous_getter(\n",
      "  File \"/opt/anaconda3/lib/python3.9/site-packages/tensorflow/python/ops/variables.py\", line 202, in <lambda>\n",
      "    previous_getter = lambda **kwargs: default_variable_creator(None, **kwargs)\n",
      "  File \"/opt/anaconda3/lib/python3.9/site-packages/tensorflow/python/ops/variable_scope.py\", line 2705, in default_variable_creator\n",
      "    return resource_variable_ops.ResourceVariable(\n",
      "  File \"/opt/anaconda3/lib/python3.9/site-packages/tensorflow/python/util/traceback_utils.py\", line 150, in error_handler\n",
      "    return fn(*args, **kwargs)\n",
      "  File \"/opt/anaconda3/lib/python3.9/site-packages/tensorflow/python/ops/variables.py\", line 268, in __call__\n",
      "    return super(VariableMetaclass, cls).__call__(*args, **kwargs)\n",
      "  File \"/opt/anaconda3/lib/python3.9/site-packages/tensorflow/python/ops/resource_variable_ops.py\", line 1630, in __init__\n",
      "    self._init_from_args(\n",
      "  File \"/opt/anaconda3/lib/python3.9/site-packages/tensorflow/python/ops/resource_variable_ops.py\", line 1783, in _init_from_args\n",
      "    initial_value = initial_value()\n",
      "  File \"/opt/anaconda3/lib/python3.9/site-packages/keras/initializers/initializers_v2.py\", line 659, in __call__\n",
      "    return self._generate_init_val(shape, dtype)\n",
      "  File \"/opt/anaconda3/lib/python3.9/site-packages/keras/initializers/initializers_v2.py\", line 673, in _generate_init_val\n",
      "    q, r = tf.linalg.qr(a, full_matrices=False)\n",
      "  File \"/opt/anaconda3/lib/python3.9/site-packages/tensorflow/python/ops/gen_linalg_ops.py\", line 2134, in qr\n",
      "    _result = pywrap_tfe.TFE_Py_FastPathExecute(\n",
      "KeyboardInterrupt\n"
     ]
    },
    {
     "name": "stdout",
     "output_type": "stream",
     "text": [
      "WARNING:tensorflow:Layer lstm will not use cuDNN kernels since it doesn't meet the criteria. It will use a generic GPU kernel as fallback when running on GPU.\n",
      "WARNING:tensorflow:Detecting that an object or model or tf.train.Checkpoint is being deleted with unrestored values. See the following logs for the specific values in question. To silence these warnings, use `status.expect_partial()`. See https://www.tensorflow.org/api_docs/python/tf/train/Checkpoint#restorefor details about the status object returned by the restore function.\n",
      "WARNING:tensorflow:Value in checkpoint could not be found in the restored object: (root).optimizer.iter\n",
      "WARNING:tensorflow:Value in checkpoint could not be found in the restored object: (root).optimizer.beta_1\n",
      "WARNING:tensorflow:Value in checkpoint could not be found in the restored object: (root).optimizer.beta_2\n",
      "WARNING:tensorflow:Value in checkpoint could not be found in the restored object: (root).optimizer.decay\n",
      "WARNING:tensorflow:Value in checkpoint could not be found in the restored object: (root).optimizer.learning_rate\n"
     ]
    },
    {
     "name": "stderr",
     "output_type": "stream",
     "text": [
      "2022-08-13 22:49:07.832260: I tensorflow/core/grappler/optimizers/custom_graph_optimizer_registry.cc:113] Plugin optimizer for device_type GPU is enabled.\n",
      "2022-08-13 22:49:17.427335: I tensorflow/core/grappler/optimizers/custom_graph_optimizer_registry.cc:113] Plugin optimizer for device_type GPU is enabled.\n",
      "2022-08-13 22:49:17.731120: I tensorflow/core/grappler/optimizers/custom_graph_optimizer_registry.cc:113] Plugin optimizer for device_type GPU is enabled.\n"
     ]
    },
    {
     "name": "stdout",
     "output_type": "stream",
     "text": [
      "INFO:tensorflow:Oracle triggered exit\n",
      "WARNING:tensorflow:Layer lstm will not use cuDNN kernels since it doesn't meet the criteria. It will use a generic GPU kernel as fallback when running on GPU.\n",
      "WARNING:tensorflow:Layer lstm will not use cuDNN kernels since it doesn't meet the criteria. It will use a generic GPU kernel as fallback when running on GPU.\n"
     ]
    }
   ],
   "source": [
    "for code in sa3_codes:\n",
    "    female_sample_data = list(population_m_dict[code].values())\n",
    "    X, y = split_sequence(female_sample_data, n_steps)\n",
    "    train_x = X[train_bounds]\n",
    "    train_y = y[train_bounds]\n",
    "    val_x = X[val_bounds]\n",
    "    val_y = y[val_bounds]\n",
    "    test_x = X[test_bounds]\n",
    "    test_y = y[test_bounds]\n",
    "    train_x = train_x.reshape((train_x.shape[0], train_x.shape[1], n_features))\n",
    "    \n",
    "    tuner.search(train_x, train_y, epochs=10, validation_data=(val_x, val_y), verbose=0)\n",
    "    best_model = tuner.get_best_models(num_models=2)[0]\n",
    "    \n",
    "    history = best_model.fit(train_x, train_y, epochs=10, verbose=0)\n",
    "    \n",
    "    x_input = test_x\n",
    "    x_input = x_input.reshape((1, n_steps, n_features))\n",
    "    \n",
    "    prediction_list = []\n",
    "    \n",
    "    for iter in range(10):\n",
    "        prediction = best_model.predict(x_input, verbose=0)\n",
    "        prediction_list.append(prediction)\n",
    "        prediction = prediction.reshape(1,1,18)\n",
    "        output.loc[(output['Code']==code)&(output['Sex']=='Females'),2002+iter]=prediction\n",
    "        x_input = np.hstack((x_input,prediction)) #add the latest prediction\n",
    "        x_input = x_input[0][1:].reshape(1,n_steps,n_features)  #delete the first value"
   ]
  },
  {
   "cell_type": "code",
   "execution_count": null,
   "metadata": {
    "id": "jk8khA9bgYph"
   },
   "outputs": [],
   "source": [
    "output.to_csv('/content/drive/MyDrive/Colab/1000_Iterative_predict_output.csv',index=False,header=True)"
   ]
  },
  {
   "cell_type": "code",
   "execution_count": 25,
   "metadata": {},
   "outputs": [
    {
     "data": {
      "text/plain": [
       "array([[[ 823.71234131,  955.79034424, 1029.12512207, 1174.10742188,\n",
       "         1008.56762695,  910.3503418 , 1212.67749023, 1208.21032715,\n",
       "         1153.94628906, 1058.02416992, 1385.99694824,  949.23016357,\n",
       "         1016.73675537,  620.12786865,  705.57434082,  658.16210938,\n",
       "          473.65582275,  155.67649841],\n",
       "        [ 820.90649414,  957.69317627, 1031.05529785, 1177.46313477,\n",
       "         1004.60150146,  905.22485352, 1215.03393555, 1208.46679688,\n",
       "         1155.80432129, 1057.12854004, 1400.25683594,  942.57543945,\n",
       "         1026.15356445,  615.35443115,  709.20959473,  668.60119629,\n",
       "          484.69641113,  158.72299194],\n",
       "        [ 817.0402832 ,  959.71289062, 1035.22692871, 1185.76977539,\n",
       "         1001.06976318,  900.03649902, 1221.63110352, 1213.15905762,\n",
       "         1161.63256836, 1058.48730469, 1418.34863281,  942.3081665 ,\n",
       "         1038.64892578,  614.23968506,  715.42779541,  685.85046387,\n",
       "          499.24502563,  160.418396  ],\n",
       "        [ 815.97253418,  963.32476807, 1040.64807129, 1197.79370117,\n",
       "          998.77252197,  895.62475586, 1232.50671387, 1220.44519043,\n",
       "         1169.78405762, 1062.01342773, 1438.66333008,  944.2121582 ,\n",
       "         1052.65576172,  615.61602783,  723.62811279,  705.6418457 ,\n",
       "          515.59844971,  161.77029419],\n",
       "        [ 814.07446289,  965.90643311, 1046.09545898, 1208.60400391,\n",
       "          995.98669434,  890.47869873, 1243.91162109, 1227.8527832 ,\n",
       "         1178.21826172, 1063.7869873 , 1460.3416748 ,  945.85095215,\n",
       "         1067.61767578,  617.03607178,  732.72454834,  728.91467285,\n",
       "          531.16387939,  162.0917511 ]]])"
      ]
     },
     "execution_count": 25,
     "metadata": {},
     "output_type": "execute_result"
    }
   ],
   "source": [
    "x_input"
   ]
  },
  {
   "cell_type": "code",
   "execution_count": null,
   "metadata": {},
   "outputs": [],
   "source": []
  }
 ],
 "metadata": {
  "colab": {
   "collapsed_sections": [],
   "name": "LSTM_Iterative_predict.ipynb",
   "provenance": []
  },
  "kernelspec": {
   "display_name": "Python 3.9.12 ('base')",
   "language": "python",
   "name": "python3"
  },
  "language_info": {
   "codemirror_mode": {
    "name": "ipython",
    "version": 3
   },
   "file_extension": ".py",
   "mimetype": "text/x-python",
   "name": "python",
   "nbconvert_exporter": "python",
   "pygments_lexer": "ipython3",
   "version": "3.9.12"
  },
  "vscode": {
   "interpreter": {
    "hash": "40d3a090f54c6569ab1632332b64b2c03c39dcf918b08424e98f38b5ae0af88f"
   }
  }
 },
 "nbformat": 4,
 "nbformat_minor": 4
}
