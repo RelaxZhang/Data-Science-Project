{
 "cells": [
  {
   "cell_type": "markdown",
   "metadata": {},
   "source": [
    "# VBA Benchmark Model"
   ]
  },
  {
   "cell_type": "code",
   "execution_count": 1,
   "metadata": {},
   "outputs": [],
   "source": [
    "import xlrd\n",
    "from openpyxl import load_workbook\n",
    "from vbaFunc import jumpoff, xTFR, clear_Input, readCNAPC, readSYI, readSATP\n",
    "\n",
    "# Read in Excel Workbook (both Readable and Writable)\n",
    "wt_loc = '../VBA_Benchmark/vba.xlsx'\n",
    "rd_loc = '../VBA_Benchmark/original.xlsm'\n",
    "wb_rd = xlrd.open_workbook(rd_loc)\n",
    "wb_wt = load_workbook(wt_loc)"
   ]
  },
  {
   "cell_type": "markdown",
   "metadata": {},
   "source": [
    "## xTRF"
   ]
  },
  {
   "cell_type": "markdown",
   "metadata": {},
   "source": [
    "#### Generating Fertility Data"
   ]
  },
  {
   "cell_type": "code",
   "execution_count": 2,
   "metadata": {},
   "outputs": [
    {
     "ename": "TypeError",
     "evalue": "list indices must be integers or slices, not tuple",
     "output_type": "error",
     "traceback": [
      "\u001b[0;31m---------------------------------------------------------------------------\u001b[0m",
      "\u001b[0;31mTypeError\u001b[0m                                 Traceback (most recent call last)",
      "\u001b[0;32m<ipython-input-2-b6a58a6f8686>\u001b[0m in \u001b[0;36m<module>\u001b[0;34m\u001b[0m\n\u001b[1;32m     16\u001b[0m \u001b[0;34m\u001b[0m\u001b[0m\n\u001b[1;32m     17\u001b[0m \u001b[0;31m# Generate jumpoffERP for further calculation\u001b[0m\u001b[0;34m\u001b[0m\u001b[0;34m\u001b[0m\u001b[0;34m\u001b[0m\u001b[0m\n\u001b[0;32m---> 18\u001b[0;31m \u001b[0mjumpoffERP\u001b[0m \u001b[0;34m=\u001b[0m \u001b[0mjumpoff\u001b[0m\u001b[0;34m(\u001b[0m\u001b[0mnumareas\u001b[0m\u001b[0;34m,\u001b[0m \u001b[0mnumages\u001b[0m\u001b[0;34m,\u001b[0m \u001b[0mjumpoffERP\u001b[0m\u001b[0;34m,\u001b[0m \u001b[0msheet_agesex\u001b[0m\u001b[0;34m,\u001b[0m \u001b[0mset_year_female\u001b[0m\u001b[0;34m,\u001b[0m \u001b[0mset_year_male\u001b[0m\u001b[0;34m)\u001b[0m\u001b[0;34m\u001b[0m\u001b[0;34m\u001b[0m\u001b[0m\n\u001b[0m\u001b[1;32m     19\u001b[0m \u001b[0;34m\u001b[0m\u001b[0m\n\u001b[1;32m     20\u001b[0m \u001b[0;31m# Generate xTFR vector for storing\u001b[0m\u001b[0;34m\u001b[0m\u001b[0;34m\u001b[0m\u001b[0;34m\u001b[0m\u001b[0m\n",
      "\u001b[0;32m~/Desktop/DSP/DS_Project/Code/vbaFunc.py\u001b[0m in \u001b[0;36mjumpoff\u001b[0;34m(numareas, numages, jumpoffERP, sheet_agesex, set_year_female, set_year_male)\u001b[0m\n\u001b[1;32m      5\u001b[0m         \u001b[0;32mfor\u001b[0m \u001b[0ma\u001b[0m \u001b[0;32min\u001b[0m \u001b[0mrange\u001b[0m\u001b[0;34m(\u001b[0m\u001b[0mnumages\u001b[0m\u001b[0;34m)\u001b[0m\u001b[0;34m:\u001b[0m\u001b[0;34m\u001b[0m\u001b[0;34m\u001b[0m\u001b[0m\n\u001b[1;32m      6\u001b[0m             \u001b[0mrow\u001b[0m \u001b[0;34m+=\u001b[0m \u001b[0;36m1\u001b[0m\u001b[0;34m\u001b[0m\u001b[0;34m\u001b[0m\u001b[0m\n\u001b[0;32m----> 7\u001b[0;31m             \u001b[0mjumpoffERP\u001b[0m\u001b[0;34m[\u001b[0m\u001b[0mi\u001b[0m\u001b[0;34m,\u001b[0m \u001b[0;36m0\u001b[0m\u001b[0;34m,\u001b[0m \u001b[0ma\u001b[0m\u001b[0;34m]\u001b[0m \u001b[0;34m=\u001b[0m \u001b[0msheet_agesex\u001b[0m\u001b[0;34m.\u001b[0m\u001b[0mcell_value\u001b[0m\u001b[0;34m(\u001b[0m\u001b[0mrow\u001b[0m\u001b[0;34m,\u001b[0m \u001b[0mset_year_female\u001b[0m\u001b[0;34m)\u001b[0m\u001b[0;34m\u001b[0m\u001b[0;34m\u001b[0m\u001b[0m\n\u001b[0m\u001b[1;32m      8\u001b[0m             \u001b[0mjumpoffERP\u001b[0m\u001b[0;34m[\u001b[0m\u001b[0mi\u001b[0m\u001b[0;34m,\u001b[0m \u001b[0;36m1\u001b[0m\u001b[0;34m,\u001b[0m \u001b[0ma\u001b[0m\u001b[0;34m]\u001b[0m \u001b[0;34m=\u001b[0m \u001b[0msheet_agesex\u001b[0m\u001b[0;34m.\u001b[0m\u001b[0mcell_value\u001b[0m\u001b[0;34m(\u001b[0m\u001b[0mrow\u001b[0m\u001b[0;34m,\u001b[0m \u001b[0mset_year_male\u001b[0m\u001b[0;34m)\u001b[0m\u001b[0;34m\u001b[0m\u001b[0;34m\u001b[0m\u001b[0m\n\u001b[1;32m      9\u001b[0m \u001b[0;34m\u001b[0m\u001b[0m\n",
      "\u001b[0;31mTypeError\u001b[0m: list indices must be integers or slices, not tuple"
     ]
    }
   ],
   "source": [
    "# Read in Sheets\n",
    "sheet_label = wb_rd.sheet_by_name('Labels')\n",
    "sheet_agesex = wb_rd.sheet_by_name('AgeSexERPs')\n",
    "wb_wt_fertility = wb_wt[\"Fertility\"]\n",
    "\n",
    "# Define variables\n",
    "numareas = int(sheet_label.cell_value(2256, 0))\n",
    "numages = 18\n",
    "sextypes = 2\n",
    "set_year_female = 7\n",
    "set_year_male = 5\n",
    "\n",
    "# Create empty list for storing jumpoffERP and xTFR results\n",
    "jumpoffERP = [[[None] * numareas] * sextypes] * numages\n",
    "result_xTFR = [None] * numareas\n",
    "\n",
    "# Generate jumpoffERP for further calculation\n",
    "jumpoffERP = jumpoff(numareas, numages, jumpoffERP, sheet_agesex, set_year_female, set_year_male)\n",
    "\n",
    "# Generate xTFR vector for storing\n",
    "result_xTFR = xTFR(jumpoffERP, result_xTFR, numareas)\n",
    "\n",
    "# Store into Sheet 'Fertility' for further usage\n",
    "row = 7\n",
    "column = 4\n",
    "for i in range(len(result_xTFR)):\n",
    "    wb_wt_fertility.cell(row, column).value = result_xTFR[i]\n",
    "    row += 1\n",
    "wb_wt.save(wt_loc)"
   ]
  },
  {
   "cell_type": "markdown",
   "metadata": {},
   "source": [
    "## PrepareData"
   ]
  },
  {
   "cell_type": "markdown",
   "metadata": {},
   "source": [
    "#### Clear Input Data"
   ]
  },
  {
   "cell_type": "code",
   "execution_count": 9,
   "metadata": {},
   "outputs": [],
   "source": [
    "# Before running the PrepareData Function, clear the input data if any\n",
    "wb_wt_SmallAreaInputs = wb_wt[\"SmallAreaInputs\"]\n",
    "wb_wt_Accounts = wb_wt[\"Accounts\"]\n",
    "\n",
    "# Clear the data and save the writable workbook\n",
    "clear_Input(wb_wt_SmallAreaInputs)\n",
    "clear_Input(wb_wt_Accounts)\n",
    "wb_wt.save(wt_loc)"
   ]
  },
  {
   "cell_type": "markdown",
   "metadata": {},
   "source": [
    "#### Load in Required Data for Generating Input Data"
   ]
  },
  {
   "cell_type": "code",
   "execution_count": 10,
   "metadata": {},
   "outputs": [],
   "source": [
    "# Read in readable required data for generating input data for further usage\n",
    "sheet_label = wb_rd.sheet_by_name('Labels')\n",
    "sheet_SmallAreaTotals = wb_rd.sheet_by_name('SmallAreaTotals')\n",
    "sheet_agesex = wb_rd.sheet_by_name('AgeSexERPs')\n",
    "sheet_mortality = wb_rd.sheet_by_name('Fertility')\n",
    "sheet_migration = wb_rd.sheet_by_name('Migration')\n",
    "\n",
    "# Temeorary read of new generated fertility\n",
    "temp_wb_rd = xlrd.open_workbook(wt_loc)\n",
    "sheet_fertility = temp_wb_rd.sheet_by_name('Fertility')"
   ]
  },
  {
   "cell_type": "markdown",
   "metadata": {},
   "source": [
    "#### Start Creating Input Data"
   ]
  },
  {
   "cell_type": "code",
   "execution_count": 19,
   "metadata": {},
   "outputs": [],
   "source": [
    "# Define variables\n",
    "numareas = int(sheet_label.cell_value(2256, 0)) # Number of small areas\n",
    "numages = 18 # Number of age groups in ERPs\n",
    "lastage = 17 # Number of age groups in projections output\n",
    "final = int(sheet_label.cell_value(2271, 0)) # Final projection year number\n",
    "\n",
    "# Read in AreaCode, AreaName, AgeGroup, Period-Cohort Labels\n",
    "Areacode, Areaname, agelabel, pclabel = readCNAPC(numareas, numages, lastage, sheet_label)\n",
    "\n",
    "# Read in Sex, Year, Interval Labels\n",
    "sexlabel, yearlabel, intervallabel = readSYI(final, sheet_label)\n",
    "\n",
    "# Read in Estimated & Projected Small Area Total Population (Aggregated)\n",
    "TotPop = readSATP(2, sheet_SmallAreaTotals, numareas)"
   ]
  },
  {
   "cell_type": "code",
   "execution_count": 22,
   "metadata": {},
   "outputs": [
    {
     "data": {
      "text/plain": [
       "array([[63758.3165527 , 20028.87849596, 73866.6127646 , ...,\n",
       "         8564.51853032,   628.83400345,  4670.77573944],\n",
       "       [65987.88736692, 20076.10986913, 74693.01983536, ...,\n",
       "        18283.09239882,   683.93580811,  5168.55508345],\n",
       "       [69924.12205034, 20546.78574126, 77189.65371363, ...,\n",
       "        20669.30180307,   762.43565907,  5859.9580885 ],\n",
       "       [73802.66765017, 20994.75790095, 79601.33376573, ...,\n",
       "        22782.0272799 ,   841.74227586,  6563.54762579]])"
      ]
     },
     "execution_count": 22,
     "metadata": {},
     "output_type": "execute_result"
    }
   ],
   "source": [
    "TotPop"
   ]
  },
  {
   "cell_type": "code",
   "execution_count": null,
   "metadata": {},
   "outputs": [],
   "source": []
  }
 ],
 "metadata": {
  "kernelspec": {
   "display_name": "Python 3.8.5 ('base')",
   "language": "python",
   "name": "python3"
  },
  "language_info": {
   "codemirror_mode": {
    "name": "ipython",
    "version": 3
   },
   "file_extension": ".py",
   "mimetype": "text/x-python",
   "name": "python",
   "nbconvert_exporter": "python",
   "pygments_lexer": "ipython3",
   "version": "3.8.5"
  },
  "orig_nbformat": 4,
  "vscode": {
   "interpreter": {
    "hash": "049419377493410418221219f88c50d3479b1ba7079f22c840c2248985648a1c"
   }
  }
 },
 "nbformat": 4,
 "nbformat_minor": 2
}
