{
 "cells": [
  {
   "cell_type": "markdown",
   "metadata": {},
   "source": [
    "# VBA Benchmark Model"
   ]
  },
  {
   "cell_type": "code",
   "execution_count": 1,
   "metadata": {},
   "outputs": [],
   "source": [
    "import numpy\n",
    "import xlrd\n",
    "from openpyxl import load_workbook\n",
    "from vbaFunc import jumpoff, xTFR, clear_Input\n",
    "from vbaFunc import readCNAPC, readSYI, readSATP, readERP, readTFR, readASFR, readLEMS, readMASMR\n",
    "from vbaFunc import inputASFR, inputbirth, inputASDR, inputdeath, inputMigration, writeAccount, writeSAI\n",
    "from vbaFunc import readNatP, readBDN, writeNoteCL\n",
    "\n",
    "# Read in Excel Workbook (both Readable and Writable)\n",
    "wt_loc = '../VBA_Benchmark/vba.xlsx'\n",
    "rd_loc = '../VBA_Benchmark/original.xlsm'\n",
    "wb_rd = xlrd.open_workbook(rd_loc)\n",
    "wb_wt = load_workbook(wt_loc)"
   ]
  },
  {
   "cell_type": "markdown",
   "metadata": {},
   "source": [
    "## xTRF"
   ]
  },
  {
   "cell_type": "markdown",
   "metadata": {},
   "source": [
    "#### Generating Fertility Data"
   ]
  },
  {
   "cell_type": "code",
   "execution_count": 2,
   "metadata": {},
   "outputs": [],
   "source": [
    "# Read in Sheets\n",
    "sheet_label = wb_rd.sheet_by_name('Labels')\n",
    "sheet_agesex = wb_rd.sheet_by_name('AgeSexERPs')\n",
    "wb_wt_fertility = wb_wt[\"Fertility\"]\n",
    "\n",
    "# Define variables\n",
    "numareas = int(sheet_label.cell_value(2256, 0))\n",
    "numages = 18\n",
    "sextypes = 2\n",
    "set_year_female = 7\n",
    "set_year_male = 5\n",
    "\n",
    "# Create empty array for storing jumpoffERP and xTFR results\n",
    "jumpoffERP = numpy.zeros((numareas, sextypes, numages))\n",
    "jumpoffERP[:] = numpy.nan\n",
    "result_xTFR = numpy.zeros((numareas))\n",
    "result_xTFR[:] = numpy.nan\n",
    "\n",
    "# Generate jumpoffERP for further calculation\n",
    "jumpoffERP = jumpoff(numareas, numages, jumpoffERP, sheet_agesex, set_year_female, set_year_male)\n",
    "\n",
    "# Generate xTFR vector for storing\n",
    "result_xTFR = xTFR(jumpoffERP, result_xTFR, numareas)\n",
    "\n",
    "# Store into Sheet 'Fertility' for further usage\n",
    "row = 7\n",
    "column = 4\n",
    "for i in range(len(result_xTFR)):\n",
    "    wb_wt_fertility.cell(row, column).value = result_xTFR[i]\n",
    "    row += 1\n",
    "wb_wt.save(wt_loc)"
   ]
  },
  {
   "cell_type": "markdown",
   "metadata": {},
   "source": [
    "## PrepareData"
   ]
  },
  {
   "cell_type": "markdown",
   "metadata": {},
   "source": [
    "#### Clear Previous Input Data"
   ]
  },
  {
   "cell_type": "code",
   "execution_count": 3,
   "metadata": {},
   "outputs": [],
   "source": [
    "# Before running the PrepareData Function, clear the input data if any\n",
    "wb_wt_SmallAreaInputs = wb_wt[\"SmallAreaInputs\"]\n",
    "wb_wt_Accounts = wb_wt[\"Accounts\"]\n",
    "\n",
    "# Clear the data and save the writable workbook\n",
    "clear_Input(wb_wt_SmallAreaInputs)\n",
    "clear_Input(wb_wt_Accounts)\n",
    "wb_wt.save(wt_loc)"
   ]
  },
  {
   "cell_type": "markdown",
   "metadata": {},
   "source": [
    "#### Load in Required Data for Generating Input Data"
   ]
  },
  {
   "cell_type": "code",
   "execution_count": 4,
   "metadata": {},
   "outputs": [],
   "source": [
    "# Read in readable required data for generating input data for further usage\n",
    "sheet_label = wb_rd.sheet_by_name('Labels')\n",
    "sheet_SmallAreaTotals = wb_rd.sheet_by_name('SmallAreaTotals')\n",
    "sheet_agesex = wb_rd.sheet_by_name('AgeSexERPs')\n",
    "sheet_mortality = wb_rd.sheet_by_name('Mortality')\n",
    "sheet_migration = wb_rd.sheet_by_name('Migration')\n",
    "\n",
    "# Temeorary read of new generated fertility\n",
    "temp_wb_rd = xlrd.open_workbook(wt_loc)\n",
    "sheet_fertility = temp_wb_rd.sheet_by_name('Fertility')"
   ]
  },
  {
   "cell_type": "markdown",
   "metadata": {},
   "source": [
    "#### Start Generating Input Data"
   ]
  },
  {
   "cell_type": "markdown",
   "metadata": {},
   "source": [
    "##### Define Variables"
   ]
  },
  {
   "cell_type": "code",
   "execution_count": 5,
   "metadata": {},
   "outputs": [],
   "source": [
    "numages = 18                                    # Number of age groups in ERPs\n",
    "lastage = 17                                    # Number of age groups in projections output\n",
    "nLxMS = 21                                      # nLx mortality surface groups\n",
    "age_ASFR = 7                                    # Age groups amount in ASFRs Model\n",
    "numareas = int(sheet_label.cell_value(2256, 0)) # Number of small areas\n",
    "final_year = 2035                               # Projection final year (editable)\n",
    "final = int((final_year - 2020) / 5)            # Final projection year number\n",
    "SRB = sheet_fertility.cell_value(2270, 1)       # Assumed Sex Ratio at Birth (Male : Female)\n",
    "modelTFR  = 0                                   # Model TFR Parameter\n",
    "for i in range(2259, 2266): modelTFR += sheet_fertility.cell_value(i, 1)\n",
    "modelTFR *= 5"
   ]
  },
  {
   "cell_type": "markdown",
   "metadata": {},
   "source": [
    "##### Read in Data for Generating Input Data"
   ]
  },
  {
   "cell_type": "code",
   "execution_count": 6,
   "metadata": {},
   "outputs": [],
   "source": [
    "## All two dimensional array with 0 and 1 as sex index, we treat 0 as female and 1 as male\n",
    "# Read in AreaCode, AreaName, AgeGroup, Period-Cohort Labels\n",
    "Areacode, Areaname, agelabel, pclabel = readCNAPC(numareas, numages, lastage, sheet_label)\n",
    "\n",
    "# Read in Sex, Year, Interval Labels\n",
    "sexlabel, yearlabel, intervallabel = readSYI(final, sheet_label)\n",
    "\n",
    "# Read in Estimated & Projected Small Area Total Population (Aggregated)\n",
    "TotPop = readSATP(2, sheet_SmallAreaTotals, numareas)\n",
    "\n",
    "# Read in small area ERP (Estimated Resident Population) by age & sex (before and at jumpoff year)\n",
    "ERP = readERP(2, numareas, numages, sheet_agesex, False)\n",
    "\n",
    "# Area-specific TFRs\n",
    "TFR = readTFR(final, numareas, sheet_fertility)\n",
    "\n",
    "# Read in data for ASFRs and Preliminary ASFRs (Area specific Fertility Rate)\n",
    "modelASFR, prelimASFR = readASFR(numareas, sheet_fertility, age_ASFR)\n",
    "\n",
    "# Read in data for Life Expectancy and Mortality Surface\n",
    "eO, MS_nLx, MS_TO = readLEMS(final, numareas, lastage, nLxMS, sheet_mortality)\n",
    "\n",
    "# Read in data of migration data and for ASMRs (Area specific Mortality Rate)\n",
    "totmig, modelASMR = readMASMR(numareas, lastage, sheet_migration)"
   ]
  },
  {
   "cell_type": "markdown",
   "metadata": {},
   "source": [
    "##### Some Checks"
   ]
  },
  {
   "cell_type": "code",
   "execution_count": 7,
   "metadata": {},
   "outputs": [],
   "source": [
    "# TFRs > 0\n",
    "for i in range(final + 1):\n",
    "    for a in range(numareas):\n",
    "        if (TFR[i, a] < 0.1):\n",
    "            print(\"Error: Year = \", yearlabel[i], \" & Area = \", Areaname[a])\n",
    "            break\n",
    "    break\n",
    "\n",
    "# eOs > 0\n",
    "for i in range(final + 1):\n",
    "    for a in range(numareas):\n",
    "        for q in range(2):\n",
    "            if (eO[i, a, q] < 0.1):\n",
    "                print(\"Error: Year = \", yearlabel[i], \" & Area = \", Areaname[a], \" & Sex = \", sexlabel[q])\n",
    "                break\n",
    "        break\n",
    "    break\n",
    "\n",
    "# Check Migration Turnover > 0\n",
    "for i in range(numareas):\n",
    "    if (totmig[i] < 0.1):\n",
    "        print(\"Error: Area =\", Areaname[i])\n",
    "    break\n",
    "    \n",
    "# Check Small Area Population Total > 0\n",
    "for i in range(2):\n",
    "    for a in range(numareas):\n",
    "        if (TotPop[i, a] < 0.1):\n",
    "            print(\"Error Year =\", yearlabel[i], \" & Area = \", Areaname[a])\n",
    "        break\n",
    "    break"
   ]
  },
  {
   "cell_type": "markdown",
   "metadata": {},
   "source": [
    "##### Calculate Input Data"
   ]
  },
  {
   "cell_type": "code",
   "execution_count": 8,
   "metadata": {},
   "outputs": [],
   "source": [
    "# Create input data for ASFR (Area specific Fertility Rate)\n",
    "ASFR = inputASFR(final, numareas, age_ASFR, sheet_fertility, prelimASFR, modelASFR, TFR, modelTFR)\n",
    "\n",
    "# Estimate base period birth by sex for the population 'Accounts'\n",
    "tempbirthssex, temptotbirths = inputbirth(numareas, age_ASFR, ASFR, ERP, SRB)\n",
    "\n",
    "# Calculate base period projected age-specific death rate (used in estimating death account)\n",
    "ASDR = inputASDR(final, numareas, lastage, nLxMS, eO, MS_TO, MS_nLx)\n",
    "\n",
    "# Calculate estimated death for age-sex cohorts and total population accounts\n",
    "tempdeaths, temptotdeaths = inputdeath(numareas, lastage, ASDR, ERP)\n",
    "\n",
    "# Calculate migration input data\n",
    "ASOMR, inward, outward, prelimmig, scaledmig, prelimbaseinward, prelimbaseoutward, cohortnetmig, adjnetmig, scalingfactor2a, scalingfactor2b = \\\n",
    "inputMigration(final, numareas, lastage, modelASMR, ERP, totmig, TotPop, temptotdeaths, temptotbirths, tempdeaths, tempbirthssex, ASDR, Areaname, sexlabel, pclabel, intervallabel)"
   ]
  },
  {
   "cell_type": "markdown",
   "metadata": {},
   "source": [
    "##### Write Input Data"
   ]
  },
  {
   "cell_type": "code",
   "execution_count": 9,
   "metadata": {},
   "outputs": [
    {
     "name": "stdout",
     "output_type": "stream",
     "text": [
      "Input data is prepared\n"
     ]
    }
   ],
   "source": [
    "# Write Input Data to Accounts Sheet\n",
    "wb_wt_Accounts = writeAccount(wb_wt_Accounts, numareas, Areaname, lastage, sexlabel, pclabel, tempbirthssex, inward, outward, prelimmig, scaledmig, prelimbaseinward, prelimbaseoutward, cohortnetmig, adjnetmig, scalingfactor2a, scalingfactor2b, ERP, tempdeaths)\n",
    "\n",
    "# Write Input Data to SmallAreaInputs Sheet\n",
    "wb_wt_SmallAreaInputs = writeSAI(wb_wt_SmallAreaInputs, intervallabel, numareas, lastage, final, Areacode, Areaname, pclabel, ASDR, ASOMR, inward, agelabel, ASFR)\n",
    "\n",
    "# Save the written workbook\n",
    "wb_wt.save(wt_loc)\n",
    "print(\"Input data is prepared\")"
   ]
  },
  {
   "cell_type": "markdown",
   "metadata": {},
   "source": [
    "## SyntheticProjectonModel"
   ]
  },
  {
   "cell_type": "markdown",
   "metadata": {},
   "source": [
    "#### Clear Previous Output Data"
   ]
  },
  {
   "cell_type": "code",
   "execution_count": 10,
   "metadata": {},
   "outputs": [
    {
     "data": {
      "text/plain": [
       "['2015-20', '2020-25', '2025-30', '2030-35']"
      ]
     },
     "execution_count": 10,
     "metadata": {},
     "output_type": "execute_result"
    }
   ],
   "source": [
    "intervallabel"
   ]
  },
  {
   "cell_type": "code",
   "execution_count": 11,
   "metadata": {},
   "outputs": [],
   "source": [
    "# Before running the SyntheticProjectionModel Function, clear the output data if any\n",
    "wb_wt_AgeSexForecasts = wb_wt[\"AgeSexForecasts\"]\n",
    "wb_wt_Components = wb_wt[\"Components\"]\n",
    "wb_wt_CheckMig = wb_wt[\"CheckMig\"]\n",
    "wb_wt_CheckDeaths = wb_wt[\"CheckDeaths\"]\n",
    "wb_wt_Check_OK = wb_wt[\"Check_OK\"]\n",
    "wb_wt_Log = wb_wt[\"Log\"]\n",
    "\n",
    "# Clear the data and save the writable workbook\n",
    "clear_Input(wb_wt_AgeSexForecasts)\n",
    "clear_Input(wb_wt_Components)\n",
    "clear_Input(wb_wt_CheckMig)\n",
    "clear_Input(wb_wt_CheckDeaths)\n",
    "clear_Input(wb_wt_Check_OK)\n",
    "clear_Input(wb_wt_Log)\n",
    "wb_wt.save(wt_loc)"
   ]
  },
  {
   "cell_type": "markdown",
   "metadata": {},
   "source": [
    "#### Load in Required Data for Generating Projection Data"
   ]
  },
  {
   "cell_type": "code",
   "execution_count": 12,
   "metadata": {},
   "outputs": [],
   "source": [
    "# Read in readable required data for generating input data for further usage\n",
    "sheet_label = wb_rd.sheet_by_name('Labels')\n",
    "sheet_SmallAreaTotals = wb_rd.sheet_by_name('SmallAreaTotals')\n",
    "sheet_agesex = wb_rd.sheet_by_name('AgeSexERPs')\n",
    "sheet_mortality = wb_rd.sheet_by_name('Mortality')\n",
    "sheet_migration = wb_rd.sheet_by_name('Migration')\n",
    "sheet_NationalProjection = wb_rd.sheet_by_name('NationalProjection')\n",
    "\n",
    "# Temeorary read of new generated fertility\n",
    "temp_wb_rd = xlrd.open_workbook(wt_loc)\n",
    "sheet_fertility = temp_wb_rd.sheet_by_name('Fertility')\n",
    "sheet_accounts = temp_wb_rd.sheet_by_name('Accounts')\n",
    "sheet_SmallAreaInputs = temp_wb_rd.sheet_by_name('SmallAreaInputs')"
   ]
  },
  {
   "cell_type": "markdown",
   "metadata": {},
   "source": [
    "#### Start Generating Projection Data"
   ]
  },
  {
   "cell_type": "markdown",
   "metadata": {},
   "source": [
    "##### Define Variables"
   ]
  },
  {
   "cell_type": "code",
   "execution_count": 13,
   "metadata": {},
   "outputs": [],
   "source": [
    "smallnumber = 0.0001                            # Smoothed Number\n",
    "maxqiter = int(sheet_label.cell_value(10, 10))  # Max number of population-at-risk loop iterations\n",
    "maxziter = int(sheet_label.cell_value(13, 10))  # Max number of migration adjustment iterations\n",
    "numages = 18                                    # Number of age groups in ERPs\n",
    "lastage = 17                                    # Number of age groups in projections output\n",
    "nLxMS = 21                                      # nLx mortality surface groups\n",
    "age_ASFR = 7                                    # Age groups amount in ASFRs Model\n",
    "numareas = int(sheet_label.cell_value(2256, 0)) # Number of small areas\n",
    "final_year = 2035                               # Projection final year (editable)\n",
    "final = int((final_year - 2020) / 5)            # Final projection year number\n",
    "SRB = sheet_fertility.cell_value(2270, 1)       # Assumed Sex Ratio at Birth (Male : Female)\n",
    "modelTFR  = 0                                   # Model TFR Parameter\n",
    "for i in range(2259, 2266): modelTFR += sheet_fertility.cell_value(i, 1)\n",
    "modelTFR *= 5"
   ]
  },
  {
   "cell_type": "markdown",
   "metadata": {},
   "source": [
    "##### Load in required data for generating projection output"
   ]
  },
  {
   "cell_type": "code",
   "execution_count": 14,
   "metadata": {},
   "outputs": [],
   "source": [
    "## All two dimensional array with 0 and 1 as sex index, we treat 0 as female and 1 as male\n",
    "# Read in AreaCode, AreaName, AgeGroup, Period-Cohort Labels\n",
    "Areacode, Areaname, agelabel, pclabel = readCNAPC(numareas, numages, lastage, sheet_label)\n",
    "\n",
    "# Read in Sex, Year, Interval Labels\n",
    "sexlabel, yearlabel, intervallabel = readSYI(final, sheet_label)\n",
    "\n",
    "# Read in Estimated & Projected Small Area Total Population (Aggregated)\n",
    "TotPop = readSATP(4, sheet_SmallAreaTotals, numareas)\n",
    "\n",
    "# Read in small area ERP (Estimated Resident Population) by age & sex (before and at jumpoff year)\n",
    "ERP = readERP(1, numareas, numages, sheet_agesex, True)\n",
    "\n",
    "# Read in National population estimate & projections by age & sex\n",
    "NatP = readNatP(final, numages, sheet_NationalProjection)\n",
    "\n",
    "# Read in ASDR, ASOMR, Inward Migration, ASFR data for projection\n",
    "ASDR = ASDR[1:, 0:, 0:, 0:]\n",
    "ASOMR = ASOMR[1:, 0:, 0:, 0:]\n",
    "inward = inward[1:, 0:, 0:, 0:]\n",
    "ASFR = ASFR[1:, 0:, 0:]\n",
    "\n",
    "# Read in National projected births, deaths, net migration data\n",
    "NatB, NatDpc, NatNpc = readBDN(final, lastage, sheet_NationalProjection)"
   ]
  },
  {
   "cell_type": "markdown",
   "metadata": {},
   "source": [
    "##### Some Checks & Headings Writing"
   ]
  },
  {
   "cell_type": "code",
   "execution_count": 15,
   "metadata": {},
   "outputs": [],
   "source": [
    "# pop total > 0\n",
    "for y in range(final):\n",
    "    for i in range(numareas):\n",
    "        if (TotPop[y + 1, i] < 0.1):\n",
    "            print(\"Error: Year = \", yearlabel[y + 2], \" & Area = \", Areaname[i])\n",
    "            break\n",
    "    break\n",
    "\n",
    "# Check small area population totals match national population total\n",
    "for y in range(final + 1):\n",
    "    checktot1 = 0\n",
    "    for i in range(numareas):\n",
    "        checktot1 += TotPop[y, i]\n",
    "    checktot2 = 0\n",
    "    for s in range(2):\n",
    "        for a in range(lastage + 1):\n",
    "            checktot2 += NatP[y, s, a]\n",
    "    \n",
    "    if (abs(checktot1 - checktot2) > smallnumber):\n",
    "        print(\"Error: Year = \", yearlabel[y + 1], \"Sum of pop total = \", checktot1, \", Sum of national projections = \", checktot2)\n",
    "        break\n",
    "    break\n",
    "\n",
    "# Write headings and row names into the selected sheet(s)\n",
    "wb_wt_CheckMig, wb_wt_CheckDeaths, wb_wt_Log = writeNoteCL(numareas, lastage, wb_wt_CheckMig, wb_wt_CheckDeaths, wb_wt_Log, intervallabel, sexlabel, pclabel, Areaname, final)\n",
    "wb_wt.save(wt_loc)"
   ]
  },
  {
   "cell_type": "markdown",
   "metadata": {},
   "source": [
    "##### Start Projection"
   ]
  },
  {
   "cell_type": "code",
   "execution_count": 16,
   "metadata": {},
   "outputs": [
    {
     "data": {
      "text/plain": [
       "array([2124.69996373, 1947.72479559, 2074.83704601, 1753.55896616,\n",
       "       1641.20103947, 2096.77604398, 2298.9151236 , 2204.44766497,\n",
       "       2232.49596586, 2345.13229886, 2418.08146636, 2169.59644934,\n",
       "       1856.73126944, 1482.25889025, 1149.96333369,  747.48759549,\n",
       "        486.11788023,  456.01920067])"
      ]
     },
     "execution_count": 16,
     "metadata": {},
     "output_type": "execute_result"
    }
   ],
   "source": [
    "ERP[0, 0, 0, ]"
   ]
  }
 ],
 "metadata": {
  "kernelspec": {
   "display_name": "Python 3.8.5 ('base')",
   "language": "python",
   "name": "python3"
  },
  "language_info": {
   "codemirror_mode": {
    "name": "ipython",
    "version": 3
   },
   "file_extension": ".py",
   "mimetype": "text/x-python",
   "name": "python",
   "nbconvert_exporter": "python",
   "pygments_lexer": "ipython3",
   "version": "3.8.5"
  },
  "orig_nbformat": 4,
  "vscode": {
   "interpreter": {
    "hash": "049419377493410418221219f88c50d3479b1ba7079f22c840c2248985648a1c"
   }
  }
 },
 "nbformat": 4,
 "nbformat_minor": 2
}
