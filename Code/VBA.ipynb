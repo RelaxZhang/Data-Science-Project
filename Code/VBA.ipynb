{
 "cells": [
  {
   "cell_type": "markdown",
   "metadata": {},
   "source": [
    "# VBA Benchmark Model"
   ]
  },
  {
   "cell_type": "code",
   "execution_count": 1,
   "metadata": {},
   "outputs": [],
   "source": [
    "import numpy\n",
    "import xlrd\n",
    "from openpyxl import load_workbook\n",
    "from vbaFunc import jumpoff, xTFR, clear_Input\n",
    "from vbaFunc import readCNAPC, readSYI, readSATP, readERP, readTFR, readASFR, readLEMS, readMASMR\n",
    "from vbaFunc import inputASFR, inputbirth, inputASDR, inputdeath, inputMigration, writeAccount, writeSAI\n",
    "\n",
    "# Read in Excel Workbook (both Readable and Writable)\n",
    "wt_loc = '../VBA_Benchmark/vba.xlsx'\n",
    "rd_loc = '../VBA_Benchmark/original.xlsm'\n",
    "wb_rd = xlrd.open_workbook(rd_loc)\n",
    "wb_wt = load_workbook(wt_loc)"
   ]
  },
  {
   "cell_type": "markdown",
   "metadata": {},
   "source": [
    "## xTRF"
   ]
  },
  {
   "cell_type": "markdown",
   "metadata": {},
   "source": [
    "#### Generating Fertility Data"
   ]
  },
  {
   "cell_type": "code",
   "execution_count": 2,
   "metadata": {},
   "outputs": [],
   "source": [
    "# Read in Sheets\n",
    "sheet_label = wb_rd.sheet_by_name('Labels')\n",
    "sheet_agesex = wb_rd.sheet_by_name('AgeSexERPs')\n",
    "wb_wt_fertility = wb_wt[\"Fertility\"]\n",
    "\n",
    "# Define variables\n",
    "numareas = int(sheet_label.cell_value(2256, 0))\n",
    "numages = 18\n",
    "sextypes = 2\n",
    "set_year_female = 7\n",
    "set_year_male = 5\n",
    "\n",
    "# Create empty array for storing jumpoffERP and xTFR results\n",
    "jumpoffERP = numpy.zeros((numareas, sextypes, numages))\n",
    "jumpoffERP[:] = numpy.nan\n",
    "result_xTFR = numpy.zeros((numareas))\n",
    "result_xTFR[:] = numpy.nan\n",
    "\n",
    "# Generate jumpoffERP for further calculation\n",
    "jumpoffERP = jumpoff(numareas, numages, jumpoffERP, sheet_agesex, set_year_female, set_year_male)\n",
    "\n",
    "# Generate xTFR vector for storing\n",
    "result_xTFR = xTFR(jumpoffERP, result_xTFR, numareas)\n",
    "\n",
    "# Store into Sheet 'Fertility' for further usage\n",
    "row = 7\n",
    "column = 4\n",
    "for i in range(len(result_xTFR)):\n",
    "    wb_wt_fertility.cell(row, column).value = result_xTFR[i]\n",
    "    row += 1\n",
    "wb_wt.save(wt_loc)"
   ]
  },
  {
   "cell_type": "markdown",
   "metadata": {},
   "source": [
    "## PrepareData"
   ]
  },
  {
   "cell_type": "markdown",
   "metadata": {},
   "source": [
    "#### Clear Input Data"
   ]
  },
  {
   "cell_type": "code",
   "execution_count": 3,
   "metadata": {},
   "outputs": [],
   "source": [
    "# Before running the PrepareData Function, clear the input data if any\n",
    "wb_wt_SmallAreaInputs = wb_wt[\"SmallAreaInputs\"]\n",
    "wb_wt_Accounts = wb_wt[\"Accounts\"]\n",
    "\n",
    "# Clear the data and save the writable workbook\n",
    "clear_Input(wb_wt_SmallAreaInputs)\n",
    "clear_Input(wb_wt_Accounts)\n",
    "wb_wt.save(wt_loc)"
   ]
  },
  {
   "cell_type": "markdown",
   "metadata": {},
   "source": [
    "#### Load in Required Data for Generating Input Data"
   ]
  },
  {
   "cell_type": "code",
   "execution_count": 4,
   "metadata": {},
   "outputs": [],
   "source": [
    "# Read in readable required data for generating input data for further usage\n",
    "sheet_label = wb_rd.sheet_by_name('Labels')\n",
    "sheet_SmallAreaTotals = wb_rd.sheet_by_name('SmallAreaTotals')\n",
    "sheet_agesex = wb_rd.sheet_by_name('AgeSexERPs')\n",
    "sheet_mortality = wb_rd.sheet_by_name('Mortality')\n",
    "sheet_migration = wb_rd.sheet_by_name('Migration')\n",
    "\n",
    "# Temeorary read of new generated fertility\n",
    "temp_wb_rd = xlrd.open_workbook(wt_loc)\n",
    "sheet_fertility = temp_wb_rd.sheet_by_name('Fertility')"
   ]
  },
  {
   "cell_type": "markdown",
   "metadata": {},
   "source": [
    "#### Start Creating Input Data"
   ]
  },
  {
   "cell_type": "markdown",
   "metadata": {},
   "source": [
    "##### Define Variables"
   ]
  },
  {
   "cell_type": "code",
   "execution_count": 5,
   "metadata": {},
   "outputs": [],
   "source": [
    "numages = 18                                    # Number of age groups in ERPs\n",
    "lastage = 17                                    # Number of age groups in projections output\n",
    "nLxMS = 21                                      # nLx mortality surface groups\n",
    "age_ASFR = 7                                    # Age groups amount in ASFRs Model\n",
    "numareas = int(sheet_label.cell_value(2256, 0)) # Number of small areas\n",
    "final = int(sheet_label.cell_value(2271, 0))    # Final projection year number\n",
    "SRB = sheet_fertility.cell_value(2270, 1)       # Assumed Sex Ratio at Birth (Male : Female)\n",
    "modelTFR  = 0                                   # Model TFR Parameter\n",
    "for i in range(2259, 2266): modelTFR += sheet_fertility.cell_value(i, 1)\n",
    "modelTFR *= 5"
   ]
  },
  {
   "cell_type": "markdown",
   "metadata": {},
   "source": [
    "##### Read in Data for Generating Input Data"
   ]
  },
  {
   "cell_type": "code",
   "execution_count": 6,
   "metadata": {},
   "outputs": [],
   "source": [
    "## All two dimensional array with 0 and 1 as sex index, we treat 0 as female and 1 as male\n",
    "# Read in AreaCode, AreaName, AgeGroup, Period-Cohort Labels\n",
    "Areacode, Areaname, agelabel, pclabel = readCNAPC(numareas, numages, lastage, sheet_label)\n",
    "\n",
    "# Read in Sex, Year, Interval Labels\n",
    "sexlabel, yearlabel, intervallabel = readSYI(final, sheet_label)\n",
    "\n",
    "# Read in Estimated & Projected Small Area Total Population (Aggregated)\n",
    "TotPop = readSATP(2, sheet_SmallAreaTotals, numareas)\n",
    "\n",
    "# Read in small area ERP (Estimated Resident Population) by age & sex (before and at jumpoff year)\n",
    "ERP = readERP(2, numareas, numages, sheet_agesex)\n",
    "\n",
    "# Area-specific TFRs\n",
    "TFR = readTFR(final, numareas, sheet_fertility)\n",
    "\n",
    "# Read in data for ASFRs and Preliminary ASFRs (Area specific Fertility Rate)\n",
    "modelASFR, prelimASFR = readASFR(numareas, sheet_fertility, age_ASFR)\n",
    "\n",
    "# Read in data for Life Expectancy and Mortality Surface\n",
    "eO, MS_nLx, MS_TO = readLEMS(final, numareas, lastage, nLxMS, sheet_mortality)\n",
    "\n",
    "# Read in data of migration data and for ASMRs (Area specific Mortality Rate)\n",
    "totmig, modelASMR = readMASMR(numareas, lastage, sheet_migration)"
   ]
  },
  {
   "cell_type": "markdown",
   "metadata": {},
   "source": [
    "##### Some Checks"
   ]
  },
  {
   "cell_type": "code",
   "execution_count": 7,
   "metadata": {},
   "outputs": [],
   "source": [
    "# TFRs > 0\n",
    "for i in range(final + 1):\n",
    "    for a in range(numareas):\n",
    "        if (TFR[i, a] < 0.1):\n",
    "            print(\"Error: Year = \", yearlabel[i], \" & Area = \", Areaname[a])\n",
    "            break\n",
    "    break\n",
    "\n",
    "# eOs > 0\n",
    "for i in range(final + 1):\n",
    "    for a in range(numareas):\n",
    "        for q in range(2):\n",
    "            if (eO[i, a, q] < 0.1):\n",
    "                print(\"Error: Year = \", yearlabel[i], \" & Area = \", Areaname[a], \" & Sex = \", sexlabel[q])\n",
    "                break\n",
    "        break\n",
    "    break\n",
    "\n",
    "# Check Migration Turnover > 0\n",
    "for i in range(numareas):\n",
    "    if (totmig[i] < 0.1):\n",
    "        print(\"Error: Area =\", Areaname[i])\n",
    "    break\n",
    "    \n",
    "# Check Small Area Population Total > 0\n",
    "for i in range(2):\n",
    "    for a in range(numareas):\n",
    "        if (TotPop[i, a] < 0.1):\n",
    "            print(\"Error Year =\", yearlabel[i], \" & Area = \", Areaname[a])\n",
    "        break\n",
    "    break"
   ]
  },
  {
   "cell_type": "markdown",
   "metadata": {},
   "source": [
    "##### Calculate Input Data"
   ]
  },
  {
   "cell_type": "code",
   "execution_count": 8,
   "metadata": {},
   "outputs": [],
   "source": [
    "# Create input data for ASFR (Area specific Fertility Rate)\n",
    "ASFR = inputASFR(final, numareas, age_ASFR, sheet_fertility, prelimASFR, modelASFR, TFR, modelTFR)\n",
    "\n",
    "# Estimate base period birth by sex for the population 'Accounts'\n",
    "tempbirthssex, temptotbirths = inputbirth(numareas, age_ASFR, ASFR, ERP, SRB)\n",
    "\n",
    "# Calculate base period projected age-specific death rate (used in estimating death account)\n",
    "ASDR = inputASDR(final, numareas, lastage, nLxMS, eO, MS_TO, MS_nLx)\n",
    "\n",
    "# Calculate estimated death for age-sex cohorts and total population accounts\n",
    "tempdeaths, temptotdeaths = inputdeath(numareas, lastage, ASDR, ERP)\n",
    "\n",
    "# Calculate migration input data\n",
    "ASOMR, inward, outward, prelimmig, scaledmig, prelimbaseinward, prelimbaseoutward, cohortnetmig, adjnetmig, scalingfactor2a, scalingfactor2b = \\\n",
    "inputMigration(final, numareas, lastage, modelASMR, ERP, totmig, TotPop, temptotdeaths, temptotbirths, tempdeaths, tempbirthssex, ASDR, Areaname, sexlabel, pclabel, intervallabel)"
   ]
  },
  {
   "cell_type": "markdown",
   "metadata": {},
   "source": [
    "##### Write Input Data"
   ]
  },
  {
   "cell_type": "code",
   "execution_count": 9,
   "metadata": {},
   "outputs": [
    {
     "name": "stdout",
     "output_type": "stream",
     "text": [
      "Input data is prepared\n"
     ]
    }
   ],
   "source": [
    "# Write Input Data to Accounts Sheet\n",
    "wb_wt_Accounts = writeAccount(wb_wt_Accounts, numareas, Areaname, lastage, sexlabel, pclabel, tempbirthssex, inward, outward, prelimmig, scaledmig, prelimbaseinward, prelimbaseoutward, cohortnetmig, adjnetmig, scalingfactor2a, scalingfactor2b, ERP, tempdeaths)\n",
    "\n",
    "# Write Input Data to SmallAreaInputs Sheet\n",
    "wb_wt_SmallAreaInputs = writeSAI(wb_wt_SmallAreaInputs, intervallabel, numareas, lastage, final, Areacode, Areaname, pclabel, ASDR, ASOMR, inward, agelabel, ASFR)\n",
    "\n",
    "# Save the written workbook\n",
    "wb_wt.save(wt_loc)\n",
    "print(\"Input data is prepared\")"
   ]
  },
  {
   "cell_type": "code",
   "execution_count": null,
   "metadata": {},
   "outputs": [],
   "source": []
  }
 ],
 "metadata": {
  "kernelspec": {
   "display_name": "Python 3.8.5 ('base')",
   "language": "python",
   "name": "python3"
  },
  "language_info": {
   "codemirror_mode": {
    "name": "ipython",
    "version": 3
   },
   "file_extension": ".py",
   "mimetype": "text/x-python",
   "name": "python",
   "nbconvert_exporter": "python",
   "pygments_lexer": "ipython3",
   "version": "3.8.5"
  },
  "orig_nbformat": 4,
  "vscode": {
   "interpreter": {
    "hash": "049419377493410418221219f88c50d3479b1ba7079f22c840c2248985648a1c"
   }
  }
 },
 "nbformat": 4,
 "nbformat_minor": 2
}
