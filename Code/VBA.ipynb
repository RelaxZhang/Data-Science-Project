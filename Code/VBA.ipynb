{
 "cells": [
  {
   "cell_type": "markdown",
   "metadata": {},
   "source": [
    "# VBA Benchmark Model"
   ]
  },
  {
   "cell_type": "code",
   "execution_count": 2,
   "metadata": {},
   "outputs": [],
   "source": [
    "import numpy\n",
    "import xlrd\n",
    "from openpyxl import load_workbook\n",
    "from vbaFunc import jumpoff, xTFR, clear_Input, readCNAPC, readSYI\n",
    "\n",
    "# Read in Excel Workbook (both Readable and Writable)\n",
    "wt_loc = '../VBA_Benchmark/vba.xlsx'\n",
    "rd_loc = '../VBA_Benchmark/original.xlsm'\n",
    "wb_rd = xlrd.open_workbook(rd_loc)\n",
    "wb_wt = load_workbook(wt_loc)"
   ]
  },
  {
   "cell_type": "markdown",
   "metadata": {},
   "source": [
    "## xTRF"
   ]
  },
  {
   "cell_type": "markdown",
   "metadata": {},
   "source": [
    "#### Generating Fertility Data"
   ]
  },
  {
   "cell_type": "code",
   "execution_count": 3,
   "metadata": {},
   "outputs": [],
   "source": [
    "# Read in Sheets\n",
    "sheet_label = wb_rd.sheet_by_name('Labels')\n",
    "sheet_agesex = wb_rd.sheet_by_name('AgeSexERPs')\n",
    "wb_wt_fertility = wb_wt[\"Fertility\"]\n",
    "\n",
    "# Define variables\n",
    "numareas = int(sheet_label.cell_value(2256, 0))\n",
    "numages = 18\n",
    "sextypes = 2\n",
    "set_year_female = 7\n",
    "set_year_male = 5\n",
    "\n",
    "# Create array for storing jumpoffERP and xTFR results\n",
    "jumpoffERP = numpy.zeros((numareas, sextypes, numages))\n",
    "jumpoffERP[:] = numpy.nan\n",
    "result_xTFR = numpy.zeros((numareas))\n",
    "result_xTFR[:] = numpy.nan\n",
    "\n",
    "# Generate jumpoffERP for further calculation\n",
    "jumpoffERP = jumpoff(numareas, numages, jumpoffERP, sheet_agesex, set_year_female, set_year_male)\n",
    "\n",
    "# Generate xTFR vector for storing\n",
    "result_xTFR = xTFR(jumpoffERP, result_xTFR, numareas)\n",
    "\n",
    "# Store into Sheet 'Fertility' for further usage\n",
    "row = 7\n",
    "column = 4\n",
    "for i in range(len(result_xTFR)):\n",
    "    wb_wt_fertility.cell(row, column).value = result_xTFR[i]\n",
    "    row += 1\n",
    "wb_wt.save(wt_loc)"
   ]
  },
  {
   "cell_type": "markdown",
   "metadata": {},
   "source": [
    "## PrepareData"
   ]
  },
  {
   "cell_type": "markdown",
   "metadata": {},
   "source": [
    "#### Clear Input Data"
   ]
  },
  {
   "cell_type": "code",
   "execution_count": 4,
   "metadata": {},
   "outputs": [],
   "source": [
    "# Before running the PrepareData Function, clear the input data if any\n",
    "wb_wt_SmallAreaInputs = wb_wt[\"SmallAreaInputs\"]\n",
    "wb_wt_Accounts = wb_wt[\"Accounts\"]\n",
    "\n",
    "# Clear the data and save the writable workbook\n",
    "clear_Input(wb_wt_SmallAreaInputs)\n",
    "clear_Input(wb_wt_Accounts)\n",
    "wb_wt.save(wt_loc)"
   ]
  },
  {
   "cell_type": "markdown",
   "metadata": {},
   "source": [
    "#### Load in Required Data for Generating Input Data"
   ]
  },
  {
   "cell_type": "code",
   "execution_count": 5,
   "metadata": {},
   "outputs": [],
   "source": [
    "# Read in readable required data for generating input data for further usage\n",
    "sheet_label = wb_rd.sheet_by_name('Labels')\n",
    "sheet_SmallAreaTotals = wb_rd.sheet_by_name('SmallAreaTotals')\n",
    "sheet_agesex = wb_rd.sheet_by_name('AgeSexERPs')\n",
    "\n",
    "# Temeorary read of new generated fertility\n",
    "temp_wb_rd = xlrd.open_workbook(wt_loc)\n",
    "sheet_fertility = temp_wb_rd.sheet_by_name('Fertility')"
   ]
  },
  {
   "cell_type": "markdown",
   "metadata": {},
   "source": [
    "#### Start Creating Input Data"
   ]
  },
  {
   "cell_type": "code",
   "execution_count": 6,
   "metadata": {},
   "outputs": [],
   "source": [
    "# Define variables\n",
    "numareas = int(sheet_label.cell_value(2256, 0)) # Number of small areas\n",
    "numages = 18 # Number of age groups in ERPs\n",
    "lastage = 17 # Number of age groups in projections output\n",
    "final = int(sheet_label.cell_value(2271, 0)) # Final projection year number\n",
    "\n",
    "# Read in AreaCode, AreaName, AgeGroup, Period-Cohort Labels\n",
    "Areacode, Areaname, agelabel, pclabel = readCNAPC(numareas, numages, lastage, sheet_label)\n",
    "\n",
    "# Read in Sex, Year, Interval Labels\n",
    "sexlabel, yearlabel, intervallabel = readSYI(final, sheet_label)\n",
    "\n"
   ]
  },
  {
   "cell_type": "code",
   "execution_count": 9,
   "metadata": {},
   "outputs": [
    {
     "data": {
      "text/plain": [
       "['2015-20', '2020-25', '2025-30', '2030-35']"
      ]
     },
     "execution_count": 9,
     "metadata": {},
     "output_type": "execute_result"
    }
   ],
   "source": [
    "intervallabel"
   ]
  },
  {
   "cell_type": "code",
   "execution_count": null,
   "metadata": {},
   "outputs": [],
   "source": []
  }
 ],
 "metadata": {
  "kernelspec": {
   "display_name": "Python 3.8.5 ('base')",
   "language": "python",
   "name": "python3"
  },
  "language_info": {
   "codemirror_mode": {
    "name": "ipython",
    "version": 3
   },
   "file_extension": ".py",
   "mimetype": "text/x-python",
   "name": "python",
   "nbconvert_exporter": "python",
   "pygments_lexer": "ipython3",
   "version": "3.8.5"
  },
  "orig_nbformat": 4,
  "vscode": {
   "interpreter": {
    "hash": "049419377493410418221219f88c50d3479b1ba7079f22c840c2248985648a1c"
   }
  }
 },
 "nbformat": 4,
 "nbformat_minor": 2
}
