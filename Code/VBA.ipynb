{
 "cells": [
  {
   "cell_type": "markdown",
   "metadata": {},
   "source": [
    "# VBA Benchmark Model"
   ]
  },
  {
   "cell_type": "code",
   "execution_count": 11,
   "metadata": {},
   "outputs": [],
   "source": [
    "import numpy\n",
    "import xlrd\n",
    "from openpyxl import load_workbook\n",
    "from vbaFunc import jumpoff, xTFR, clear_Input\n",
    "from vbaFunc import readCNAPC, readSYI, readSATP, readERP, readTFR, readASFR, readLEMS, readMASMR\n",
    "from vbaFunc import inputASFR, inputbirth, inputASDR, inputdeath\n",
    "\n",
    "# Read in Excel Workbook (both Readable and Writable)\n",
    "wt_loc = '../VBA_Benchmark/vba.xlsx'\n",
    "rd_loc = '../VBA_Benchmark/original.xlsm'\n",
    "wb_rd = xlrd.open_workbook(rd_loc)\n",
    "wb_wt = load_workbook(wt_loc)"
   ]
  },
  {
   "cell_type": "markdown",
   "metadata": {},
   "source": [
    "## xTRF"
   ]
  },
  {
   "cell_type": "markdown",
   "metadata": {},
   "source": [
    "#### Generating Fertility Data"
   ]
  },
  {
   "cell_type": "code",
   "execution_count": 12,
   "metadata": {},
   "outputs": [],
   "source": [
    "# Read in Sheets\n",
    "sheet_label = wb_rd.sheet_by_name('Labels')\n",
    "sheet_agesex = wb_rd.sheet_by_name('AgeSexERPs')\n",
    "wb_wt_fertility = wb_wt[\"Fertility\"]\n",
    "\n",
    "# Define variables\n",
    "numareas = int(sheet_label.cell_value(2256, 0))\n",
    "numages = 18\n",
    "sextypes = 2\n",
    "set_year_female = 7\n",
    "set_year_male = 5\n",
    "\n",
    "# Create empty array for storing jumpoffERP and xTFR results\n",
    "jumpoffERP = numpy.zeros((numareas, sextypes, numages))\n",
    "jumpoffERP[:] = numpy.nan\n",
    "result_xTFR = numpy.zeros((numareas))\n",
    "result_xTFR[:] = numpy.nan\n",
    "\n",
    "# Generate jumpoffERP for further calculation\n",
    "jumpoffERP = jumpoff(numareas, numages, jumpoffERP, sheet_agesex, set_year_female, set_year_male)\n",
    "\n",
    "# Generate xTFR vector for storing\n",
    "result_xTFR = xTFR(jumpoffERP, result_xTFR, numareas)\n",
    "\n",
    "# Store into Sheet 'Fertility' for further usage\n",
    "row = 7\n",
    "column = 4\n",
    "for i in range(len(result_xTFR)):\n",
    "    wb_wt_fertility.cell(row, column).value = result_xTFR[i]\n",
    "    row += 1\n",
    "wb_wt.save(wt_loc)"
   ]
  },
  {
   "cell_type": "markdown",
   "metadata": {},
   "source": [
    "## PrepareData"
   ]
  },
  {
   "cell_type": "markdown",
   "metadata": {},
   "source": [
    "#### Clear Input Data"
   ]
  },
  {
   "cell_type": "code",
   "execution_count": 13,
   "metadata": {},
   "outputs": [],
   "source": [
    "# Before running the PrepareData Function, clear the input data if any\n",
    "wb_wt_SmallAreaInputs = wb_wt[\"SmallAreaInputs\"]\n",
    "wb_wt_Accounts = wb_wt[\"Accounts\"]\n",
    "\n",
    "# Clear the data and save the writable workbook\n",
    "clear_Input(wb_wt_SmallAreaInputs)\n",
    "clear_Input(wb_wt_Accounts)\n",
    "wb_wt.save(wt_loc)"
   ]
  },
  {
   "cell_type": "markdown",
   "metadata": {},
   "source": [
    "#### Load in Required Data for Generating Input Data"
   ]
  },
  {
   "cell_type": "code",
   "execution_count": 14,
   "metadata": {},
   "outputs": [],
   "source": [
    "# Read in readable required data for generating input data for further usage\n",
    "sheet_label = wb_rd.sheet_by_name('Labels')\n",
    "sheet_SmallAreaTotals = wb_rd.sheet_by_name('SmallAreaTotals')\n",
    "sheet_agesex = wb_rd.sheet_by_name('AgeSexERPs')\n",
    "sheet_mortality = wb_rd.sheet_by_name('Mortality')\n",
    "sheet_migration = wb_rd.sheet_by_name('Migration')\n",
    "\n",
    "# Temeorary read of new generated fertility\n",
    "temp_wb_rd = xlrd.open_workbook(wt_loc)\n",
    "sheet_fertility = temp_wb_rd.sheet_by_name('Fertility')"
   ]
  },
  {
   "cell_type": "markdown",
   "metadata": {},
   "source": [
    "#### Start Creating Input Data"
   ]
  },
  {
   "cell_type": "markdown",
   "metadata": {},
   "source": [
    "##### Define Variables"
   ]
  },
  {
   "cell_type": "code",
   "execution_count": 15,
   "metadata": {},
   "outputs": [],
   "source": [
    "numages = 18                                    # Number of age groups in ERPs\n",
    "lastage = 17                                    # Number of age groups in projections output\n",
    "nLxMS = 21                                      # nLx mortality surface groups\n",
    "age_ASFR = 7                                    # Age groups amount in ASFRs Model\n",
    "numareas = int(sheet_label.cell_value(2256, 0)) # Number of small areas\n",
    "final = int(sheet_label.cell_value(2271, 0))    # Final projection year number\n",
    "SRB = sheet_fertility.cell_value(2270, 1)       # Assumed Sex Ratio at Birth (Male : Female)\n",
    "modelTFR  = 0                                   # Model TFR Parameter\n",
    "for i in range(2259, 2266): modelTFR += sheet_fertility.cell_value(i, 1)\n",
    "modelTFR *= 5"
   ]
  },
  {
   "cell_type": "markdown",
   "metadata": {},
   "source": [
    "##### Read in Data for Generating Input Data"
   ]
  },
  {
   "cell_type": "code",
   "execution_count": 16,
   "metadata": {},
   "outputs": [],
   "source": [
    "## All two dimensional array with 0 and 1 as sex index, we treat 0 as female and 1 as male\n",
    "# Read in AreaCode, AreaName, AgeGroup, Period-Cohort Labels\n",
    "Areacode, Areaname, agelabel, pclabel = readCNAPC(numareas, numages, lastage, sheet_label)\n",
    "\n",
    "# Read in Sex, Year, Interval Labels\n",
    "sexlabel, yearlabel, intervallabel = readSYI(final, sheet_label)\n",
    "\n",
    "# Read in Estimated & Projected Small Area Total Population (Aggregated)\n",
    "TotPop = readSATP(2, sheet_SmallAreaTotals, numareas)\n",
    "\n",
    "# Read in small area ERP (Estimated Resident Population) by age & sex (before and at jumpoff year)\n",
    "ERP = readERP(2, numareas, numages, sheet_agesex)\n",
    "\n",
    "# Area-specific TFRs\n",
    "TFR = readTFR(final, numareas, sheet_fertility)\n",
    "\n",
    "# Read in data for ASFRs and Preliminary ASFRs (Area specific Fertility Rate)\n",
    "modelASFR, prelimASFR = readASFR(numareas, sheet_fertility, age_ASFR)\n",
    "\n",
    "# Read in data for Life Expectancy and Mortality Surface\n",
    "eO, MS_nLx, MS_TO = readLEMS(final, numareas, lastage, nLxMS, sheet_mortality)\n",
    "\n",
    "# Read in data of migration data and for ASMRs (Area specific Mortality Rate)\n",
    "totmig, modelASMR = readMASMR(numareas, lastage, sheet_migration)"
   ]
  },
  {
   "cell_type": "markdown",
   "metadata": {},
   "source": [
    "##### Some Checks"
   ]
  },
  {
   "cell_type": "code",
   "execution_count": 17,
   "metadata": {},
   "outputs": [],
   "source": [
    "# TFRs > 0\n",
    "for i in range(final + 1):\n",
    "    for a in range(numareas):\n",
    "        if (TFR[i, a] < 0.1):\n",
    "            print(\"Error: Year = \", yearlabel[i], \" & Area = \", Areaname[a])\n",
    "            break\n",
    "    break\n",
    "\n",
    "# eOs > 0\n",
    "for i in range(final + 1):\n",
    "    for a in range(numareas):\n",
    "        for q in range(2):\n",
    "            if (eO[i, a, q] < 0.1):\n",
    "                print(\"Error: Year = \", yearlabel[i], \" & Area = \", Areaname[a], \" & Sex = \", sexlabel[q])\n",
    "                break\n",
    "        break\n",
    "    break\n",
    "\n",
    "# Check Migration Turnover > 0\n",
    "for i in range(numareas):\n",
    "    if (totmig[i] < 0.1):\n",
    "        print(\"Error: Area =\", Areaname[i])\n",
    "    break\n",
    "    \n",
    "# Check Small Area Population Total > 0\n",
    "for i in range(2):\n",
    "    for a in range(numareas):\n",
    "        if (TotPop[i, a] < 0.1):\n",
    "            print(\"Error Year =\", yearlabel[i], \" & Area = \", Areaname[a])\n",
    "        break\n",
    "    break"
   ]
  },
  {
   "cell_type": "markdown",
   "metadata": {},
   "source": [
    "##### Calculate Input Data"
   ]
  },
  {
   "cell_type": "code",
   "execution_count": 202,
   "metadata": {},
   "outputs": [],
   "source": [
    "# Create input data for ASFR (Area specific Fertility Rate)\n",
    "ASFR = inputASFR(final, numareas, age_ASFR, sheet_fertility, prelimASFR, modelASFR, TFR, modelTFR)\n",
    "\n",
    "# Estimate base period birth by sex for the population 'Accounts'\n",
    "tempbirthssex, temptotbirths = inputbirth(numareas, age_ASFR, ASFR, ERP, SRB)\n",
    "\n",
    "# Calculate base period projected age-specific death rate (used in estimating death account)\n",
    "ASDR = inputASDR(final, numareas, lastage, nLxMS, eO, MS_TO, MS_nLx)\n",
    "\n",
    "# Calculate estimated death for age-sex cohorts and total population accounts\n",
    "tempdeaths, temptotdeaths = inputdeath(numareas, lastage, ASDR, ERP)\n"
   ]
  },
  {
   "cell_type": "code",
   "execution_count": 203,
   "metadata": {},
   "outputs": [],
   "source": [
    "def inputMigration(final, numareas, lastage, modelASMR, ERP, totmig, TotPop, temptotdeaths, temptotbirths, tempdeaths, tempbirthssex, ASDR):\n",
    "\n",
    "    # Create empty array for storing migration related data\n",
    "    inward = numpy.zeros((final + 1, numareas, 2, lastage + 1))\n",
    "    ASOMR = numpy.zeros((final + 1, numareas, 2, lastage + 1))\n",
    "    prelimmig = numpy.zeros((numareas, 2, lastage + 1))\n",
    "    scaledmig = numpy.zeros((numareas, 2, lastage + 1))\n",
    "    prelimbaseinward = numpy.zeros((numareas, 2, lastage + 1))\n",
    "    prelimbaseoutward = numpy.zeros((numareas, 2, lastage + 1))\n",
    "    cohortnetmig = numpy.zeros((numareas, 2, lastage + 1))\n",
    "    adjnetmig = numpy.zeros((numareas, 2, lastage + 1))\n",
    "    scalingfactor2a = numpy.zeros((numareas, 2, lastage + 1))\n",
    "    scalingfactor2b = numpy.zeros((numareas, 2, lastage + 1))\n",
    "    outward = numpy.zeros((numareas, 2, lastage + 1))\n",
    "\n",
    "    # Collecting Migration Input Data\n",
    "    for i in range(numareas):\n",
    "\n",
    "        # Generate preliminary migration turnover by sex-age cohort based on model rates\n",
    "        for s in range(2):\n",
    "            # Generate preliminary migration turnover for all sex-age cohorts exclude 0-4, 85+\n",
    "            for pc in range(1, lastage):\n",
    "                prelimmig[i, s, pc] = modelASMR[s, pc] * 2.5 * (ERP[0, i, s, pc - 1] + ERP[1, i, s, pc])\n",
    "\n",
    "            # Generate preliminary migration turnover for 0-4\n",
    "            prelimmig[i, s, 0] = modelASMR[s, 0] * 2.5 * ERP[1, i, s, 0]\n",
    "\n",
    "            # Generate preliminary migration turnover for 85+\n",
    "            prelimmig[i, s, lastage] = modelASMR[s, lastage] * 2.5 * (ERP[0, i, s, lastage - 1] + ERP[0, i, s, lastage] + ERP[1, i, s, lastage])\n",
    "\n",
    "        # Generate total preliminarymigration turnover value\n",
    "        totprelimmig = 0\n",
    "        for s in range(2):\n",
    "            for pc in range(lastage + 1):\n",
    "                totprelimmig += prelimmig[i, s, pc]\n",
    "        \n",
    "        # Collecting scaled preliminary migration by sex-age cohort to migration turnover \n",
    "        # as calculated by the crude migration turnover rate; and then divide by 2 to give the initial inward and outward migration\n",
    "        for s in range(2):\n",
    "            for pc in range(lastage + 1):\n",
    "                scaledmig[i, s, pc] = prelimmig[i, s, pc] * (0.5 * totmig[i]) / totprelimmig\n",
    "\n",
    "        # Calculate residual net migration for base period in each area i\n",
    "        basenetmig = TotPop[1, i] - TotPop[0, i] + temptotdeaths[i] - temptotbirths[i]\n",
    "\n",
    "        # Calculate the scaling factor to estimate separate inward and outward migration totals which are consistent with residual net migration\n",
    "        scalingfactor1 = (basenetmig + (basenetmig ** 2 + (4 * 0.5 * totmig[i] * 0.5 * totmig[i])) ** 0.5) / (2 * 0.5 * totmig[i])\n",
    "\n",
    "        # Calculate preliminary inward and outward migration by sex-age cohort (Different with the Original Value in 'Account')\n",
    "        for s in range(2):\n",
    "            for pc in range(lastage + 1):\n",
    "                prelimbaseinward[i, s, pc] = scaledmig[i, s, pc] * scalingfactor1\n",
    "                prelimbaseoutward[i, s, pc] = scaledmig[i, s, pc] / scalingfactor1\n",
    "\n",
    "        # Calculate cohort-specific residual net migration (for adjustment usage)\n",
    "        for s in range(2):\n",
    "            # Generate cohort-specific residual net migration for all sex-age cohorts exclude 0-4, 85+\n",
    "            for pc in range(1, lastage):\n",
    "                cohortnetmig[i, s, pc] = ERP[1, i, s, pc] - ERP[0, i, s, pc - 1] + tempdeaths[i, s, pc]\n",
    "            \n",
    "            # Generate cohort-specific residual net migration for 0-4\n",
    "            cohortnetmig[i, s, 0] = ERP[1, i, s, 0] - tempbirthssex[i, s] + tempdeaths[i, s, 0]\n",
    "\n",
    "            # Generate cohort-specific residual net migration for 85+\n",
    "            cohortnetmig[i, s, lastage] = ERP[1, i, s, lastage] - (ERP[0, i, s, lastage - 1] + ERP[0, i, s, lastage]) + tempdeaths[i, s, lastage]\n",
    "\n",
    "        # Adjusted cohort-specific net migration with averaged over sex for selected ages\n",
    "        for s in range(2):\n",
    "            for pc in range(14):\n",
    "                adjnetmig[i, s, pc] = 0.5 * (cohortnetmig[i, 0, pc] + cohortnetmig[i, 1, pc])\n",
    "            for pc in range(14, lastage + 1):\n",
    "                adjnetmig[i, s, pc] = cohortnetmig[i, s, pc]\n",
    "        \n",
    "        # Calculate scaling factors to adjust directional migration (Raw & Smoothed)"
   ]
  },
  {
   "cell_type": "code",
   "execution_count": 204,
   "metadata": {},
   "outputs": [],
   "source": [
    "test1 = inputMigration(final, numareas, lastage, modelASMR, ERP, totmig, TotPop, temptotdeaths, temptotbirths, tempdeaths, tempbirthssex, ASDR)"
   ]
  },
  {
   "cell_type": "code",
   "execution_count": null,
   "metadata": {},
   "outputs": [],
   "source": [
    "test1"
   ]
  }
 ],
 "metadata": {
  "kernelspec": {
   "display_name": "Python 3.8.5 ('base')",
   "language": "python",
   "name": "python3"
  },
  "language_info": {
   "codemirror_mode": {
    "name": "ipython",
    "version": 3
   },
   "file_extension": ".py",
   "mimetype": "text/x-python",
   "name": "python",
   "nbconvert_exporter": "python",
   "pygments_lexer": "ipython3",
   "version": "3.8.5"
  },
  "orig_nbformat": 4,
  "vscode": {
   "interpreter": {
    "hash": "049419377493410418221219f88c50d3479b1ba7079f22c840c2248985648a1c"
   }
  }
 },
 "nbformat": 4,
 "nbformat_minor": 2
}
