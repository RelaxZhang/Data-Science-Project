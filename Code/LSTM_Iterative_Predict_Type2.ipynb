{
  "cells": [
    {
      "cell_type": "markdown",
      "metadata": {
        "id": "dnzHvGaNFij0"
      },
      "source": [
        "# LSTM Model Type 2"
      ]
    },
    {
      "cell_type": "code",
      "execution_count": 1,
      "metadata": {
        "id": "LV3_kzZiFlGT",
        "colab": {
          "base_uri": "https://localhost:8080/"
        },
        "outputId": "d35886fd-afb0-454f-8f5c-0c0862c5ddaf"
      },
      "outputs": [
        {
          "output_type": "stream",
          "name": "stdout",
          "text": [
            "Looking in indexes: https://pypi.org/simple, https://us-python.pkg.dev/colab-wheels/public/simple/\n",
            "Requirement already satisfied: keras-tuner in /usr/local/lib/python3.7/dist-packages (1.1.3)\n",
            "Requirement already satisfied: numpy in /usr/local/lib/python3.7/dist-packages (from keras-tuner) (1.21.6)\n",
            "Requirement already satisfied: tensorboard in /usr/local/lib/python3.7/dist-packages (from keras-tuner) (2.9.1)\n",
            "Requirement already satisfied: ipython in /usr/local/lib/python3.7/dist-packages (from keras-tuner) (7.9.0)\n",
            "Requirement already satisfied: kt-legacy in /usr/local/lib/python3.7/dist-packages (from keras-tuner) (1.0.4)\n",
            "Requirement already satisfied: packaging in /usr/local/lib/python3.7/dist-packages (from keras-tuner) (21.3)\n",
            "Requirement already satisfied: requests in /usr/local/lib/python3.7/dist-packages (from keras-tuner) (2.23.0)\n",
            "Requirement already satisfied: prompt-toolkit<2.1.0,>=2.0.0 in /usr/local/lib/python3.7/dist-packages (from ipython->keras-tuner) (2.0.10)\n",
            "Requirement already satisfied: pygments in /usr/local/lib/python3.7/dist-packages (from ipython->keras-tuner) (2.6.1)\n",
            "Requirement already satisfied: traitlets>=4.2 in /usr/local/lib/python3.7/dist-packages (from ipython->keras-tuner) (5.1.1)\n",
            "Requirement already satisfied: setuptools>=18.5 in /usr/local/lib/python3.7/dist-packages (from ipython->keras-tuner) (57.4.0)\n",
            "Requirement already satisfied: backcall in /usr/local/lib/python3.7/dist-packages (from ipython->keras-tuner) (0.2.0)\n",
            "Requirement already satisfied: pickleshare in /usr/local/lib/python3.7/dist-packages (from ipython->keras-tuner) (0.7.5)\n",
            "Requirement already satisfied: pexpect in /usr/local/lib/python3.7/dist-packages (from ipython->keras-tuner) (4.8.0)\n",
            "Requirement already satisfied: jedi>=0.10 in /usr/local/lib/python3.7/dist-packages (from ipython->keras-tuner) (0.18.1)\n",
            "Requirement already satisfied: decorator in /usr/local/lib/python3.7/dist-packages (from ipython->keras-tuner) (4.4.2)\n",
            "Requirement already satisfied: parso<0.9.0,>=0.8.0 in /usr/local/lib/python3.7/dist-packages (from jedi>=0.10->ipython->keras-tuner) (0.8.3)\n",
            "Requirement already satisfied: six>=1.9.0 in /usr/local/lib/python3.7/dist-packages (from prompt-toolkit<2.1.0,>=2.0.0->ipython->keras-tuner) (1.15.0)\n",
            "Requirement already satisfied: wcwidth in /usr/local/lib/python3.7/dist-packages (from prompt-toolkit<2.1.0,>=2.0.0->ipython->keras-tuner) (0.2.5)\n",
            "Requirement already satisfied: pyparsing!=3.0.5,>=2.0.2 in /usr/local/lib/python3.7/dist-packages (from packaging->keras-tuner) (3.0.9)\n",
            "Requirement already satisfied: ptyprocess>=0.5 in /usr/local/lib/python3.7/dist-packages (from pexpect->ipython->keras-tuner) (0.7.0)\n",
            "Requirement already satisfied: urllib3!=1.25.0,!=1.25.1,<1.26,>=1.21.1 in /usr/local/lib/python3.7/dist-packages (from requests->keras-tuner) (1.24.3)\n",
            "Requirement already satisfied: certifi>=2017.4.17 in /usr/local/lib/python3.7/dist-packages (from requests->keras-tuner) (2022.6.15)\n",
            "Requirement already satisfied: chardet<4,>=3.0.2 in /usr/local/lib/python3.7/dist-packages (from requests->keras-tuner) (3.0.4)\n",
            "Requirement already satisfied: idna<3,>=2.5 in /usr/local/lib/python3.7/dist-packages (from requests->keras-tuner) (2.10)\n",
            "Requirement already satisfied: werkzeug>=1.0.1 in /usr/local/lib/python3.7/dist-packages (from tensorboard->keras-tuner) (1.0.1)\n",
            "Requirement already satisfied: google-auth<3,>=1.6.3 in /usr/local/lib/python3.7/dist-packages (from tensorboard->keras-tuner) (1.35.0)\n",
            "Requirement already satisfied: absl-py>=0.4 in /usr/local/lib/python3.7/dist-packages (from tensorboard->keras-tuner) (1.2.0)\n",
            "Requirement already satisfied: markdown>=2.6.8 in /usr/local/lib/python3.7/dist-packages (from tensorboard->keras-tuner) (3.4.1)\n",
            "Requirement already satisfied: grpcio>=1.24.3 in /usr/local/lib/python3.7/dist-packages (from tensorboard->keras-tuner) (1.47.0)\n",
            "Requirement already satisfied: tensorboard-plugin-wit>=1.6.0 in /usr/local/lib/python3.7/dist-packages (from tensorboard->keras-tuner) (1.8.1)\n",
            "Requirement already satisfied: wheel>=0.26 in /usr/local/lib/python3.7/dist-packages (from tensorboard->keras-tuner) (0.37.1)\n",
            "Requirement already satisfied: google-auth-oauthlib<0.5,>=0.4.1 in /usr/local/lib/python3.7/dist-packages (from tensorboard->keras-tuner) (0.4.6)\n",
            "Requirement already satisfied: protobuf<3.20,>=3.9.2 in /usr/local/lib/python3.7/dist-packages (from tensorboard->keras-tuner) (3.17.3)\n",
            "Requirement already satisfied: tensorboard-data-server<0.7.0,>=0.6.0 in /usr/local/lib/python3.7/dist-packages (from tensorboard->keras-tuner) (0.6.1)\n",
            "Requirement already satisfied: cachetools<5.0,>=2.0.0 in /usr/local/lib/python3.7/dist-packages (from google-auth<3,>=1.6.3->tensorboard->keras-tuner) (4.2.4)\n",
            "Requirement already satisfied: rsa<5,>=3.1.4 in /usr/local/lib/python3.7/dist-packages (from google-auth<3,>=1.6.3->tensorboard->keras-tuner) (4.9)\n",
            "Requirement already satisfied: pyasn1-modules>=0.2.1 in /usr/local/lib/python3.7/dist-packages (from google-auth<3,>=1.6.3->tensorboard->keras-tuner) (0.2.8)\n",
            "Requirement already satisfied: requests-oauthlib>=0.7.0 in /usr/local/lib/python3.7/dist-packages (from google-auth-oauthlib<0.5,>=0.4.1->tensorboard->keras-tuner) (1.3.1)\n",
            "Requirement already satisfied: importlib-metadata>=4.4 in /usr/local/lib/python3.7/dist-packages (from markdown>=2.6.8->tensorboard->keras-tuner) (4.12.0)\n",
            "Requirement already satisfied: typing-extensions>=3.6.4 in /usr/local/lib/python3.7/dist-packages (from importlib-metadata>=4.4->markdown>=2.6.8->tensorboard->keras-tuner) (4.1.1)\n",
            "Requirement already satisfied: zipp>=0.5 in /usr/local/lib/python3.7/dist-packages (from importlib-metadata>=4.4->markdown>=2.6.8->tensorboard->keras-tuner) (3.8.1)\n",
            "Requirement already satisfied: pyasn1<0.5.0,>=0.4.6 in /usr/local/lib/python3.7/dist-packages (from pyasn1-modules>=0.2.1->google-auth<3,>=1.6.3->tensorboard->keras-tuner) (0.4.8)\n",
            "Requirement already satisfied: oauthlib>=3.0.0 in /usr/local/lib/python3.7/dist-packages (from requests-oauthlib>=0.7.0->google-auth-oauthlib<0.5,>=0.4.1->tensorboard->keras-tuner) (3.2.0)\n"
          ]
        }
      ],
      "source": [
        "import pandas as pd\n",
        "import numpy as np\n",
        "from numpy import array\n",
        "from collections import defaultdict\n",
        "!pip install keras-tuner\n",
        "import keras_tuner\n",
        "from keras.layers import LSTM\n",
        "from keras.layers import Dense\n",
        "from keras.models import Sequential"
      ]
    },
    {
      "cell_type": "code",
      "source": [
        "from lstmtype2 import split_sequence, new_split_sequence, split_position, LSTM_FitPredict\n",
        "from lstmtype2 import minima_df, maxima_df, scale_df, unscale_prediction"
      ],
      "metadata": {
        "id": "mpkWScPUAwy9"
      },
      "execution_count": 2,
      "outputs": []
    },
    {
      "cell_type": "markdown",
      "metadata": {
        "id": "5SwExnf-8ERZ"
      },
      "source": [
        "### Read in Raw Data & Preprocessing"
      ]
    },
    {
      "cell_type": "code",
      "execution_count": 3,
      "metadata": {
        "id": "xsYAM3so8ERZ"
      },
      "outputs": [],
      "source": [
        "# Read in the raw age-sex cohort data without the remainder area\n",
        "# Prepare the unique sa3 names, codes for LSTM fitting selection\n",
        "raw_data = pd.read_csv('true_1000_fulldata.csv')\n",
        "sa3_num = len(raw_data['SA3 Code'].unique())\n",
        "sa3_names = raw_data['SA3 Name'].unique()\n",
        "sa3_codes = raw_data['SA3 Code'].unique()"
      ]
    },
    {
      "cell_type": "markdown",
      "source": [
        "### Store maxima and minima per area-cohort"
      ],
      "metadata": {
        "id": "ooUN3Ie9FdWd"
      }
    },
    {
      "cell_type": "code",
      "source": [
        "minima_dict = minima_df(raw_data, sa3_codes)\n",
        "maxima_dict = maxima_df(raw_data, sa3_codes)"
      ],
      "metadata": {
        "id": "2QGc1I-qFTJD"
      },
      "execution_count": 10,
      "outputs": []
    },
    {
      "cell_type": "markdown",
      "source": [
        "### Rescale data points"
      ],
      "metadata": {
        "id": "pKn-J7-tFh7L"
      }
    },
    {
      "cell_type": "code",
      "source": [
        "rescaled_data = scale_df(raw_data, sa3_codes)\n",
        "rescaled_data"
      ],
      "metadata": {
        "colab": {
          "base_uri": "https://localhost:8080/",
          "height": 592
        },
        "id": "2XLTMzhFFhbT",
        "outputId": "7380acf3-bee3-4018-be16-e714bbfc8ab9"
      },
      "execution_count": 11,
      "outputs": [
        {
          "output_type": "execute_result",
          "data": {
            "text/plain": [
              "      Year  SA3 Code         SA3 Name      m0-4      m5-9    m10-14    m15-19  \\\n",
              "0     1991     10101  Goulburn - Yass  0.996169  0.908475  0.895105  1.000000   \n",
              "1     1991     10102       Queanbeyan  0.000000  0.000000  0.000000  0.138354   \n",
              "2     1991     10103  Snowy Mountains  1.000000  0.456000  0.000000  0.322404   \n",
              "3     1991     10104      South Coast  0.934426  0.032258  0.000000  0.003363   \n",
              "4     1991     10201          Gosford  0.661438  0.034637  0.000000  0.140805   \n",
              "...    ...       ...              ...       ...       ...       ...       ...   \n",
              "6820  2011     80105   North Canberra  0.746914  1.000000  0.960784  0.395623   \n",
              "6821  2011     80106   South Canberra  0.902778  0.616279  0.256881  0.159292   \n",
              "6822  2011     80107      Tuggeranong  0.082286  0.000557  0.000000  0.644778   \n",
              "6823  2011     80108     Weston Creek  1.000000  0.566978  0.058824  0.000000   \n",
              "6824  2011     80109            Woden  0.406061  0.414286  0.436893  0.030612   \n",
              "\n",
              "        m20-24    m25-29    m30-34  ...    f45-49    f50-54    f55-59  \\\n",
              "0     0.988713  1.000000  0.993007  ...  0.000000  0.000000  0.000000   \n",
              "1     0.675579  0.670455  0.000000  ...  0.000000  0.000000  0.000000   \n",
              "2     1.000000  1.000000  1.000000  ...  0.000000  0.000000  0.000000   \n",
              "3     0.136029  0.848148  1.000000  ...  0.000000  0.000000  0.000000   \n",
              "4     0.000000  1.000000  0.855769  ...  0.000000  0.000000  0.000000   \n",
              "...        ...       ...       ...  ...       ...       ...       ...   \n",
              "6820  1.000000  1.000000  1.000000  ...  0.870130  1.000000  1.000000   \n",
              "6821  0.616788  1.000000  1.000000  ...  0.867692  1.000000  1.000000   \n",
              "6822  0.973705  0.596556  0.000633  ...  0.918682  0.985169  1.000000   \n",
              "6823  0.000000  0.026316  0.000000  ...  0.000000  0.018939  0.396040   \n",
              "6824  0.123947  0.603499  0.053812  ...  0.425856  0.236842  0.252874   \n",
              "\n",
              "        f60-64    f65-69    f70-74    f75-79    f80-84  f85+   Total  \n",
              "0     0.016241  0.000000  0.000000  0.050847  0.000000   0.0   61667  \n",
              "1     0.000000  0.000000  0.000000  0.000000  0.000000   0.0   35281  \n",
              "2     0.020270  0.000000  0.262821  0.000000  0.000000   0.0   18092  \n",
              "3     0.127720  0.356771  0.000000  0.000000  0.000000   0.0   53440  \n",
              "4     0.120136  0.479065  0.248756  0.000000  0.000000   0.0  135708  \n",
              "...        ...       ...       ...       ...       ...   ...     ...  \n",
              "6820  0.952830  0.274914  0.000000  0.333333  0.694767   1.0   49910  \n",
              "6821  1.000000  0.360424  0.160643  0.000000  0.752381   1.0   25176  \n",
              "6822  1.000000  1.000000  0.978495  0.984556  1.000000   1.0   89319  \n",
              "6823  1.000000  1.000000  1.000000  1.000000  0.788462   1.0   23354  \n",
              "6824  0.438235  1.000000  1.000000  1.000000  1.000000   1.0   34124  \n",
              "\n",
              "[6825 rows x 40 columns]"
            ],
            "text/html": [
              "\n",
              "  <div id=\"df-6937791a-ea87-4e1a-8a1c-102c34db4944\">\n",
              "    <div class=\"colab-df-container\">\n",
              "      <div>\n",
              "<style scoped>\n",
              "    .dataframe tbody tr th:only-of-type {\n",
              "        vertical-align: middle;\n",
              "    }\n",
              "\n",
              "    .dataframe tbody tr th {\n",
              "        vertical-align: top;\n",
              "    }\n",
              "\n",
              "    .dataframe thead th {\n",
              "        text-align: right;\n",
              "    }\n",
              "</style>\n",
              "<table border=\"1\" class=\"dataframe\">\n",
              "  <thead>\n",
              "    <tr style=\"text-align: right;\">\n",
              "      <th></th>\n",
              "      <th>Year</th>\n",
              "      <th>SA3 Code</th>\n",
              "      <th>SA3 Name</th>\n",
              "      <th>m0-4</th>\n",
              "      <th>m5-9</th>\n",
              "      <th>m10-14</th>\n",
              "      <th>m15-19</th>\n",
              "      <th>m20-24</th>\n",
              "      <th>m25-29</th>\n",
              "      <th>m30-34</th>\n",
              "      <th>...</th>\n",
              "      <th>f45-49</th>\n",
              "      <th>f50-54</th>\n",
              "      <th>f55-59</th>\n",
              "      <th>f60-64</th>\n",
              "      <th>f65-69</th>\n",
              "      <th>f70-74</th>\n",
              "      <th>f75-79</th>\n",
              "      <th>f80-84</th>\n",
              "      <th>f85+</th>\n",
              "      <th>Total</th>\n",
              "    </tr>\n",
              "  </thead>\n",
              "  <tbody>\n",
              "    <tr>\n",
              "      <th>0</th>\n",
              "      <td>1991</td>\n",
              "      <td>10101</td>\n",
              "      <td>Goulburn - Yass</td>\n",
              "      <td>0.996169</td>\n",
              "      <td>0.908475</td>\n",
              "      <td>0.895105</td>\n",
              "      <td>1.000000</td>\n",
              "      <td>0.988713</td>\n",
              "      <td>1.000000</td>\n",
              "      <td>0.993007</td>\n",
              "      <td>...</td>\n",
              "      <td>0.000000</td>\n",
              "      <td>0.000000</td>\n",
              "      <td>0.000000</td>\n",
              "      <td>0.016241</td>\n",
              "      <td>0.000000</td>\n",
              "      <td>0.000000</td>\n",
              "      <td>0.050847</td>\n",
              "      <td>0.000000</td>\n",
              "      <td>0.0</td>\n",
              "      <td>61667</td>\n",
              "    </tr>\n",
              "    <tr>\n",
              "      <th>1</th>\n",
              "      <td>1991</td>\n",
              "      <td>10102</td>\n",
              "      <td>Queanbeyan</td>\n",
              "      <td>0.000000</td>\n",
              "      <td>0.000000</td>\n",
              "      <td>0.000000</td>\n",
              "      <td>0.138354</td>\n",
              "      <td>0.675579</td>\n",
              "      <td>0.670455</td>\n",
              "      <td>0.000000</td>\n",
              "      <td>...</td>\n",
              "      <td>0.000000</td>\n",
              "      <td>0.000000</td>\n",
              "      <td>0.000000</td>\n",
              "      <td>0.000000</td>\n",
              "      <td>0.000000</td>\n",
              "      <td>0.000000</td>\n",
              "      <td>0.000000</td>\n",
              "      <td>0.000000</td>\n",
              "      <td>0.0</td>\n",
              "      <td>35281</td>\n",
              "    </tr>\n",
              "    <tr>\n",
              "      <th>2</th>\n",
              "      <td>1991</td>\n",
              "      <td>10103</td>\n",
              "      <td>Snowy Mountains</td>\n",
              "      <td>1.000000</td>\n",
              "      <td>0.456000</td>\n",
              "      <td>0.000000</td>\n",
              "      <td>0.322404</td>\n",
              "      <td>1.000000</td>\n",
              "      <td>1.000000</td>\n",
              "      <td>1.000000</td>\n",
              "      <td>...</td>\n",
              "      <td>0.000000</td>\n",
              "      <td>0.000000</td>\n",
              "      <td>0.000000</td>\n",
              "      <td>0.020270</td>\n",
              "      <td>0.000000</td>\n",
              "      <td>0.262821</td>\n",
              "      <td>0.000000</td>\n",
              "      <td>0.000000</td>\n",
              "      <td>0.0</td>\n",
              "      <td>18092</td>\n",
              "    </tr>\n",
              "    <tr>\n",
              "      <th>3</th>\n",
              "      <td>1991</td>\n",
              "      <td>10104</td>\n",
              "      <td>South Coast</td>\n",
              "      <td>0.934426</td>\n",
              "      <td>0.032258</td>\n",
              "      <td>0.000000</td>\n",
              "      <td>0.003363</td>\n",
              "      <td>0.136029</td>\n",
              "      <td>0.848148</td>\n",
              "      <td>1.000000</td>\n",
              "      <td>...</td>\n",
              "      <td>0.000000</td>\n",
              "      <td>0.000000</td>\n",
              "      <td>0.000000</td>\n",
              "      <td>0.127720</td>\n",
              "      <td>0.356771</td>\n",
              "      <td>0.000000</td>\n",
              "      <td>0.000000</td>\n",
              "      <td>0.000000</td>\n",
              "      <td>0.0</td>\n",
              "      <td>53440</td>\n",
              "    </tr>\n",
              "    <tr>\n",
              "      <th>4</th>\n",
              "      <td>1991</td>\n",
              "      <td>10201</td>\n",
              "      <td>Gosford</td>\n",
              "      <td>0.661438</td>\n",
              "      <td>0.034637</td>\n",
              "      <td>0.000000</td>\n",
              "      <td>0.140805</td>\n",
              "      <td>0.000000</td>\n",
              "      <td>1.000000</td>\n",
              "      <td>0.855769</td>\n",
              "      <td>...</td>\n",
              "      <td>0.000000</td>\n",
              "      <td>0.000000</td>\n",
              "      <td>0.000000</td>\n",
              "      <td>0.120136</td>\n",
              "      <td>0.479065</td>\n",
              "      <td>0.248756</td>\n",
              "      <td>0.000000</td>\n",
              "      <td>0.000000</td>\n",
              "      <td>0.0</td>\n",
              "      <td>135708</td>\n",
              "    </tr>\n",
              "    <tr>\n",
              "      <th>...</th>\n",
              "      <td>...</td>\n",
              "      <td>...</td>\n",
              "      <td>...</td>\n",
              "      <td>...</td>\n",
              "      <td>...</td>\n",
              "      <td>...</td>\n",
              "      <td>...</td>\n",
              "      <td>...</td>\n",
              "      <td>...</td>\n",
              "      <td>...</td>\n",
              "      <td>...</td>\n",
              "      <td>...</td>\n",
              "      <td>...</td>\n",
              "      <td>...</td>\n",
              "      <td>...</td>\n",
              "      <td>...</td>\n",
              "      <td>...</td>\n",
              "      <td>...</td>\n",
              "      <td>...</td>\n",
              "      <td>...</td>\n",
              "      <td>...</td>\n",
              "    </tr>\n",
              "    <tr>\n",
              "      <th>6820</th>\n",
              "      <td>2011</td>\n",
              "      <td>80105</td>\n",
              "      <td>North Canberra</td>\n",
              "      <td>0.746914</td>\n",
              "      <td>1.000000</td>\n",
              "      <td>0.960784</td>\n",
              "      <td>0.395623</td>\n",
              "      <td>1.000000</td>\n",
              "      <td>1.000000</td>\n",
              "      <td>1.000000</td>\n",
              "      <td>...</td>\n",
              "      <td>0.870130</td>\n",
              "      <td>1.000000</td>\n",
              "      <td>1.000000</td>\n",
              "      <td>0.952830</td>\n",
              "      <td>0.274914</td>\n",
              "      <td>0.000000</td>\n",
              "      <td>0.333333</td>\n",
              "      <td>0.694767</td>\n",
              "      <td>1.0</td>\n",
              "      <td>49910</td>\n",
              "    </tr>\n",
              "    <tr>\n",
              "      <th>6821</th>\n",
              "      <td>2011</td>\n",
              "      <td>80106</td>\n",
              "      <td>South Canberra</td>\n",
              "      <td>0.902778</td>\n",
              "      <td>0.616279</td>\n",
              "      <td>0.256881</td>\n",
              "      <td>0.159292</td>\n",
              "      <td>0.616788</td>\n",
              "      <td>1.000000</td>\n",
              "      <td>1.000000</td>\n",
              "      <td>...</td>\n",
              "      <td>0.867692</td>\n",
              "      <td>1.000000</td>\n",
              "      <td>1.000000</td>\n",
              "      <td>1.000000</td>\n",
              "      <td>0.360424</td>\n",
              "      <td>0.160643</td>\n",
              "      <td>0.000000</td>\n",
              "      <td>0.752381</td>\n",
              "      <td>1.0</td>\n",
              "      <td>25176</td>\n",
              "    </tr>\n",
              "    <tr>\n",
              "      <th>6822</th>\n",
              "      <td>2011</td>\n",
              "      <td>80107</td>\n",
              "      <td>Tuggeranong</td>\n",
              "      <td>0.082286</td>\n",
              "      <td>0.000557</td>\n",
              "      <td>0.000000</td>\n",
              "      <td>0.644778</td>\n",
              "      <td>0.973705</td>\n",
              "      <td>0.596556</td>\n",
              "      <td>0.000633</td>\n",
              "      <td>...</td>\n",
              "      <td>0.918682</td>\n",
              "      <td>0.985169</td>\n",
              "      <td>1.000000</td>\n",
              "      <td>1.000000</td>\n",
              "      <td>1.000000</td>\n",
              "      <td>0.978495</td>\n",
              "      <td>0.984556</td>\n",
              "      <td>1.000000</td>\n",
              "      <td>1.0</td>\n",
              "      <td>89319</td>\n",
              "    </tr>\n",
              "    <tr>\n",
              "      <th>6823</th>\n",
              "      <td>2011</td>\n",
              "      <td>80108</td>\n",
              "      <td>Weston Creek</td>\n",
              "      <td>1.000000</td>\n",
              "      <td>0.566978</td>\n",
              "      <td>0.058824</td>\n",
              "      <td>0.000000</td>\n",
              "      <td>0.000000</td>\n",
              "      <td>0.026316</td>\n",
              "      <td>0.000000</td>\n",
              "      <td>...</td>\n",
              "      <td>0.000000</td>\n",
              "      <td>0.018939</td>\n",
              "      <td>0.396040</td>\n",
              "      <td>1.000000</td>\n",
              "      <td>1.000000</td>\n",
              "      <td>1.000000</td>\n",
              "      <td>1.000000</td>\n",
              "      <td>0.788462</td>\n",
              "      <td>1.0</td>\n",
              "      <td>23354</td>\n",
              "    </tr>\n",
              "    <tr>\n",
              "      <th>6824</th>\n",
              "      <td>2011</td>\n",
              "      <td>80109</td>\n",
              "      <td>Woden</td>\n",
              "      <td>0.406061</td>\n",
              "      <td>0.414286</td>\n",
              "      <td>0.436893</td>\n",
              "      <td>0.030612</td>\n",
              "      <td>0.123947</td>\n",
              "      <td>0.603499</td>\n",
              "      <td>0.053812</td>\n",
              "      <td>...</td>\n",
              "      <td>0.425856</td>\n",
              "      <td>0.236842</td>\n",
              "      <td>0.252874</td>\n",
              "      <td>0.438235</td>\n",
              "      <td>1.000000</td>\n",
              "      <td>1.000000</td>\n",
              "      <td>1.000000</td>\n",
              "      <td>1.000000</td>\n",
              "      <td>1.0</td>\n",
              "      <td>34124</td>\n",
              "    </tr>\n",
              "  </tbody>\n",
              "</table>\n",
              "<p>6825 rows × 40 columns</p>\n",
              "</div>\n",
              "      <button class=\"colab-df-convert\" onclick=\"convertToInteractive('df-6937791a-ea87-4e1a-8a1c-102c34db4944')\"\n",
              "              title=\"Convert this dataframe to an interactive table.\"\n",
              "              style=\"display:none;\">\n",
              "        \n",
              "  <svg xmlns=\"http://www.w3.org/2000/svg\" height=\"24px\"viewBox=\"0 0 24 24\"\n",
              "       width=\"24px\">\n",
              "    <path d=\"M0 0h24v24H0V0z\" fill=\"none\"/>\n",
              "    <path d=\"M18.56 5.44l.94 2.06.94-2.06 2.06-.94-2.06-.94-.94-2.06-.94 2.06-2.06.94zm-11 1L8.5 8.5l.94-2.06 2.06-.94-2.06-.94L8.5 2.5l-.94 2.06-2.06.94zm10 10l.94 2.06.94-2.06 2.06-.94-2.06-.94-.94-2.06-.94 2.06-2.06.94z\"/><path d=\"M17.41 7.96l-1.37-1.37c-.4-.4-.92-.59-1.43-.59-.52 0-1.04.2-1.43.59L10.3 9.45l-7.72 7.72c-.78.78-.78 2.05 0 2.83L4 21.41c.39.39.9.59 1.41.59.51 0 1.02-.2 1.41-.59l7.78-7.78 2.81-2.81c.8-.78.8-2.07 0-2.86zM5.41 20L4 18.59l7.72-7.72 1.47 1.35L5.41 20z\"/>\n",
              "  </svg>\n",
              "      </button>\n",
              "      \n",
              "  <style>\n",
              "    .colab-df-container {\n",
              "      display:flex;\n",
              "      flex-wrap:wrap;\n",
              "      gap: 12px;\n",
              "    }\n",
              "\n",
              "    .colab-df-convert {\n",
              "      background-color: #E8F0FE;\n",
              "      border: none;\n",
              "      border-radius: 50%;\n",
              "      cursor: pointer;\n",
              "      display: none;\n",
              "      fill: #1967D2;\n",
              "      height: 32px;\n",
              "      padding: 0 0 0 0;\n",
              "      width: 32px;\n",
              "    }\n",
              "\n",
              "    .colab-df-convert:hover {\n",
              "      background-color: #E2EBFA;\n",
              "      box-shadow: 0px 1px 2px rgba(60, 64, 67, 0.3), 0px 1px 3px 1px rgba(60, 64, 67, 0.15);\n",
              "      fill: #174EA6;\n",
              "    }\n",
              "\n",
              "    [theme=dark] .colab-df-convert {\n",
              "      background-color: #3B4455;\n",
              "      fill: #D2E3FC;\n",
              "    }\n",
              "\n",
              "    [theme=dark] .colab-df-convert:hover {\n",
              "      background-color: #434B5C;\n",
              "      box-shadow: 0px 1px 3px 1px rgba(0, 0, 0, 0.15);\n",
              "      filter: drop-shadow(0px 1px 2px rgba(0, 0, 0, 0.3));\n",
              "      fill: #FFFFFF;\n",
              "    }\n",
              "  </style>\n",
              "\n",
              "      <script>\n",
              "        const buttonEl =\n",
              "          document.querySelector('#df-6937791a-ea87-4e1a-8a1c-102c34db4944 button.colab-df-convert');\n",
              "        buttonEl.style.display =\n",
              "          google.colab.kernel.accessAllowed ? 'block' : 'none';\n",
              "\n",
              "        async function convertToInteractive(key) {\n",
              "          const element = document.querySelector('#df-6937791a-ea87-4e1a-8a1c-102c34db4944');\n",
              "          const dataTable =\n",
              "            await google.colab.kernel.invokeFunction('convertToInteractive',\n",
              "                                                     [key], {});\n",
              "          if (!dataTable) return;\n",
              "\n",
              "          const docLinkHtml = 'Like what you see? Visit the ' +\n",
              "            '<a target=\"_blank\" href=https://colab.research.google.com/notebooks/data_table.ipynb>data table notebook</a>'\n",
              "            + ' to learn more about interactive tables.';\n",
              "          element.innerHTML = '';\n",
              "          dataTable['output_type'] = 'display_data';\n",
              "          await google.colab.output.renderOutput(dataTable, element);\n",
              "          const docLink = document.createElement('div');\n",
              "          docLink.innerHTML = docLinkHtml;\n",
              "          element.appendChild(docLink);\n",
              "        }\n",
              "      </script>\n",
              "    </div>\n",
              "  </div>\n",
              "  "
            ]
          },
          "metadata": {},
          "execution_count": 11
        }
      ]
    },
    {
      "cell_type": "markdown",
      "metadata": {
        "id": "cx0WcisY8ERa"
      },
      "source": [
        "### Preprocessing by Splitting Population into Sex-Group"
      ]
    },
    {
      "cell_type": "code",
      "execution_count": 12,
      "metadata": {
        "id": "_dLQhx9qNEbC"
      },
      "outputs": [],
      "source": [
        "# Split the data by sex\n",
        "age_groups = ['0-4','5-9', '10-14', '15-19', '20-24', '25-29', '30-34', '35-39','40-44', '45-49', '50-54', '55-59', '60-64', '65-69', '70-74','75-79', '80-84', '85+']\n",
        "population_m_dict = defaultdict(dict)\n",
        "population_f_dict = defaultdict(dict)\n",
        "\n",
        "# save population for each year into lists\n",
        "for sa3_code in sa3_codes:\n",
        "  population_m_dict[sa3_code] = dict()\n",
        "  population_f_dict[sa3_code] = dict()\n",
        "  for year in range(1991,2012):\n",
        "    if(rescaled_data[(rescaled_data['Year']==year) & (rescaled_data['SA3 Code']==sa3_code)]['Total'].size>0):\n",
        "      population_m_dict[sa3_code][year] = rescaled_data[(rescaled_data['Year']==year) & (rescaled_data['SA3 Code']==sa3_code)][['m0-4',\n",
        "                              'm5-9', 'm10-14', 'm15-19', 'm20-24', 'm25-29', 'm30-34', 'm35-39',\n",
        "                              'm40-44', 'm45-49', 'm50-54', 'm55-59', 'm60-64', 'm65-69', 'm70-74',\n",
        "                              'm75-79', 'm80-84', 'm85+']].values.tolist()[0]\n",
        "      population_f_dict[sa3_code][year] = rescaled_data[(rescaled_data['Year']==year) & (rescaled_data['SA3 Code']==sa3_code)][['f0-4', 'f5-9', 'f10-14', 'f15-19',\n",
        "                              'f20-24', 'f25-29', 'f30-34', 'f35-39', 'f40-44', 'f45-49', 'f50-54',\n",
        "                              'f55-59', 'f60-64', 'f65-69', 'f70-74', 'f75-79', 'f80-84', 'f85+']].values.tolist()[0]"
      ]
    },
    {
      "cell_type": "markdown",
      "metadata": {
        "id": "1Xr47JZ7Nfe1"
      },
      "source": [
        "### Create Dataframe for Storing Prediction Result"
      ]
    },
    {
      "cell_type": "code",
      "execution_count": 13,
      "metadata": {
        "id": "otte7EDBQLVL"
      },
      "outputs": [],
      "source": [
        "output = pd.DataFrame(index = range(sa3_num*36), columns = ['Code','Area name','Sex','Age group',2002, 2003, 2004, 2005, 2006, 2007, 2008, 2009, 2010, 2011])\n",
        "for sa3_code in range(0,sa3_num):\n",
        "  for age_group in range(18):\n",
        "    output.loc[sa3_code*36+age_group] = {'Code':sa3_codes[sa3_code],'Area name':sa3_names[sa3_code],'Sex':'Females','Age group':age_groups[age_group]}\n",
        "    output.loc[sa3_code*36+18+age_group] = {'Code':sa3_codes[sa3_code],'Area name':sa3_names[sa3_code],'Sex':'Males','Age group':age_groups[age_group]}"
      ]
    },
    {
      "cell_type": "markdown",
      "metadata": {
        "id": "nYBKoH-u8ERc"
      },
      "source": [
        "### Start LSTM Fitting & Predicting"
      ]
    },
    {
      "cell_type": "markdown",
      "metadata": {
        "id": "rmXnt5i78ERc"
      },
      "source": [
        "##### Define Variable for Splitting the Full Dataset"
      ]
    },
    {
      "cell_type": "code",
      "execution_count": 14,
      "metadata": {
        "id": "5O0cJUJj8ERd"
      },
      "outputs": [],
      "source": [
        "# choose a number of time steps\n",
        "n_steps = 1\n",
        "\n",
        "# reshape from [samples, timesteps] into [samples, timesteps, features]\n",
        "n_features = 18\n",
        "n_age_groups = 18\n",
        "\n",
        "# Obtain the split position for the training sex, validation sex, and the first input_x\n",
        "train_val_bounds, test_bounds = split_position(n_steps, train_start = 1991, train_end = 2001, fixed_num_val = 2)"
      ]
    },
    {
      "cell_type": "markdown",
      "metadata": {
        "id": "6TWSfPHk8ERd"
      },
      "source": [
        "##### LSTM Model Defining"
      ]
    },
    {
      "cell_type": "code",
      "execution_count": 15,
      "metadata": {
        "id": "g0BQl0sE8ERd"
      },
      "outputs": [],
      "source": [
        "'''Function for Defining the LSTM Model'''\n",
        "def lstm_model(lstm1_units, activ, optimizer, loss_fun):\n",
        "    model = Sequential()\n",
        "    model.add(LSTM(lstm1_units, activation=activ, input_shape=(n_steps, n_features)))\n",
        "    model.add(Dense(n_age_groups))\n",
        "    model.compile(optimizer=optimizer, loss=loss_fun, metrics=[\"mean_absolute_percentage_error\"])\n",
        "    return model"
      ]
    },
    {
      "cell_type": "markdown",
      "metadata": {
        "id": "VbbtwSoW8ERe"
      },
      "source": [
        "##### LSTM Model Tunning"
      ]
    },
    {
      "cell_type": "code",
      "execution_count": 16,
      "metadata": {
        "id": "FAZMPGp38ERe"
      },
      "outputs": [],
      "source": [
        "# Define HYPERPARAMETERS\n",
        "lstm1_min = 100\n",
        "lstm1_max = 1000\n",
        "lstm1_step = 100\n",
        "activ_functions = [\"relu\"]\n",
        "optimizers = [\"adam\",\"adagrad\"]\n",
        "loss_functions = [\"mse\"]\n",
        "\n",
        "'''In-Build Function for LSTM Model Tuning'''\n",
        "def build_model(hp):\n",
        "    lstm1_units = hp.Int(\"LSTM units\", min_value=lstm1_min,max_value=lstm1_max,step=lstm1_step)\n",
        "    activation = hp.Choice(\"Activation Function\", activ_functions)\n",
        "    optimizer = hp.Choice(\"Optimizer\", optimizers)\n",
        "    loss_fun = hp.Choice(\"Loss Function\", loss_functions)\n",
        "    model = lstm_model(lstm1_units, activation, optimizer, loss_fun)\n",
        "    return model\n",
        "\n",
        "# Generate the tuned model with keras_tuner package\n",
        "tuner = keras_tuner.RandomSearch(hypermodel=build_model, objective=keras_tuner.Objective(\"val_mean_absolute_percentage_error\", \"min\"))"
      ]
    },
    {
      "cell_type": "markdown",
      "metadata": {
        "id": "Ih-0XA4T8ERe"
      },
      "source": [
        "##### Generate Prediction Result"
      ]
    },
    {
      "cell_type": "code",
      "execution_count": null,
      "metadata": {
        "id": "Apcx_XuV8ERe",
        "colab": {
          "base_uri": "https://localhost:8080/"
        },
        "outputId": "51e49af0-8aa2-4905-dbcf-b115a66ae91c"
      },
      "outputs": [
        {
          "output_type": "stream",
          "name": "stderr",
          "text": [
            "WARNING:tensorflow:Detecting that an object or model or tf.train.Checkpoint is being deleted with unrestored values. See the following logs for the specific values in question. To silence these warnings, use `status.expect_partial()`. See https://www.tensorflow.org/api_docs/python/tf/train/Checkpoint#restorefor details about the status object returned by the restore function.\n",
            "WARNING:tensorflow:Value in checkpoint could not be found in the restored object: (root).optimizer.iter\n",
            "WARNING:tensorflow:Value in checkpoint could not be found in the restored object: (root).optimizer.decay\n",
            "WARNING:tensorflow:Value in checkpoint could not be found in the restored object: (root).optimizer.learning_rate\n"
          ]
        },
        {
          "output_type": "stream",
          "name": "stdout",
          "text": [
            "[[[2134.28398067 2331.02434446 2399.56306206 2147.58457182 1772.18484797\n",
            "   1746.34308137 1857.43432331 2202.91752757 2263.31935921 2044.70294338\n",
            "   1806.04621768 1567.22060126 1433.1037516  1198.3802969   816.81448957\n",
            "    537.17301404  282.89691946  167.02347643]]]\n",
            "[[[2120.92325746 2321.38911036 2397.46727859 2146.23439215 1766.74906476\n",
            "   1737.8199075  1824.75139282 2191.52733508 2256.85425387 2036.27716531\n",
            "   1784.94421557 1545.58460257 1442.66435    1203.10463905  805.53191181\n",
            "    530.61576617  276.81816872  167.83844024]]]\n",
            "[[[2119.48037089 2320.54739882 2397.26629104 2145.88570792 1766.07374072\n",
            "   1736.80387177 1822.25630849 2190.46177352 2256.44409196 2035.21424657\n",
            "   1783.35530579 1544.45478312 1442.48683767 1202.76668273  804.89228613\n",
            "    530.1544812   276.69867619  167.86210843]]]\n",
            "[[[2119.34421378 2320.4575434  2397.24826605 2145.84241564 1765.99666659\n",
            "   1736.69763989 1822.02233407 2190.36765608 2256.40286045 2035.11036889\n",
            "   1783.18696223 1544.38767901 1442.47402104 1202.76291981  804.82365718\n",
            "    530.10597855  276.68406216  167.86370895]]]\n",
            "[[[2119.33062102 2320.44852313 2397.2464335  2145.83805076 1765.98918081\n",
            "   1736.68705472 1821.99962436 2190.35830673 2256.39872444 2035.09995377\n",
            "   1783.17119978 1544.38127675 1442.47245112 1202.76231252  804.81671618\n",
            "    530.10128468  276.68253274  167.86393275]]]\n",
            "[[[2119.32927924 2320.44762858 2397.24625238 2145.83761376 1765.98844313\n",
            "   1736.68600011 1821.99737097 2190.35737663 2256.39831652 2035.09892453\n",
            "   1783.16962965 1544.3806463  1442.47229078 1202.76225731  804.81601539\n",
            "    530.10082656  276.6823798   167.86395742]]]\n",
            "[[[2119.32914312 2320.44753847 2397.24623427 2145.83757159 1765.98837052\n",
            "   1736.68589595 1821.99715256 2190.35728684 2256.39827648 2035.09882118\n",
            "   1783.16947386 1544.38058224 1442.47227586 1202.7622515   804.81594852\n",
            "    530.1007815   276.6823654   167.86395988]]]\n",
            "[[[2119.32913145 2320.44752967 2397.24623267 2145.83756648 1765.98836391\n",
            "   1736.68588553 1821.99712592 2190.35727763 2256.39827182 2035.09881257\n",
            "   1783.16945858 1544.3805755  1442.472274   1202.7622515   804.8159405\n",
            "    530.10077587  276.6823636   167.8639605 ]]]\n",
            "[[[2119.32913145 2320.44752967 2397.24623214 2145.83756648 1765.98836061\n",
            "   1736.68588293 1821.99712592 2190.35727533 2256.39827089 2035.09881257\n",
            "   1783.16945553 1544.3805755  1442.472274   1202.7622515   804.8159405\n",
            "    530.10077399  276.6823636   167.8639605 ]]]\n",
            "[[[2119.32913145 2320.44752967 2397.24623214 2145.83756648 1765.98836061\n",
            "   1736.68588293 1821.99712592 2190.35727533 2256.39827089 2035.09881257\n",
            "   1783.16945553 1544.3805755  1442.472274   1202.7622515   804.8159405\n",
            "    530.10077587  276.6823636   167.8639605 ]]]\n"
          ]
        },
        {
          "output_type": "stream",
          "name": "stderr",
          "text": [
            "WARNING:tensorflow:Detecting that an object or model or tf.train.Checkpoint is being deleted with unrestored values. See the following logs for the specific values in question. To silence these warnings, use `status.expect_partial()`. See https://www.tensorflow.org/api_docs/python/tf/train/Checkpoint#restorefor details about the status object returned by the restore function.\n",
            "WARNING:tensorflow:Value in checkpoint could not be found in the restored object: (root).optimizer.iter\n",
            "WARNING:tensorflow:Value in checkpoint could not be found in the restored object: (root).optimizer.decay\n",
            "WARNING:tensorflow:Value in checkpoint could not be found in the restored object: (root).optimizer.learning_rate\n"
          ]
        }
      ],
      "source": [
        "# Generate each sex's Prediction Result of each age-cohort for all areas and store them into csv\n",
        "output = LSTM_FitPredict(sa3_codes, population_m_dict, n_steps, train_val_bounds, test_bounds, n_features, 1000, \"Males\", 2002, tuner, output, minima_dict, maxima_dict)\n",
        "output = LSTM_FitPredict(sa3_codes, population_f_dict, n_steps, train_val_bounds, test_bounds, n_features, 1000, \"Females\", 2002, tuner, output, minima_dict, maxima_dict)\n",
        "output.to_csv('Iterative_predict_output_Step1_1000_randomtrain.csv',index=False,header=True)"
      ]
    }
  ],
  "metadata": {
    "colab": {
      "collapsed_sections": [],
      "name": "LSTM_Iterative_Predict_Type2.ipynb",
      "provenance": []
    },
    "kernelspec": {
      "display_name": "Python 3.9.12 ('base')",
      "language": "python",
      "name": "python3"
    },
    "language_info": {
      "codemirror_mode": {
        "name": "ipython",
        "version": 3
      },
      "file_extension": ".py",
      "mimetype": "text/x-python",
      "name": "python",
      "nbconvert_exporter": "python",
      "pygments_lexer": "ipython3",
      "version": "3.9.12"
    },
    "vscode": {
      "interpreter": {
        "hash": "40d3a090f54c6569ab1632332b64b2c03c39dcf918b08424e98f38b5ae0af88f"
      }
    }
  },
  "nbformat": 4,
  "nbformat_minor": 0
}