{
 "cells": [
  {
   "cell_type": "markdown",
   "metadata": {},
   "source": [
    "# Notebook for Extracting External Variable(s)' Information"
   ]
  },
  {
   "cell_type": "code",
   "execution_count": 2,
   "metadata": {},
   "outputs": [],
   "source": [
    "import pandas as pd\n",
    "import numpy as np\n",
    "\n",
    "# Read in training set data for collecting Average of the Total Population in each Region\n",
    "raw_data = pd.read_csv('../Data/true_1000_fulldata.csv')\n",
    "start_year = 1991\n",
    "end_year = 2001\n",
    "num_area = 325\n",
    "raw_data = raw_data.loc[raw_data['Year'] < end_year + 1]\n",
    "\n",
    "# Collect Average Total Population\n",
    "Sum_Total_Pop = np.zeros(num_area)\n",
    "for i in range(end_year - start_year + 1):\n",
    "    Sum_Total_Pop += (np.array(raw_data.loc[(i*num_area):((i+1)*num_area-1), \"Total\"]))\n",
    "Sum_Total_Pop = Sum_Total_Pop / (end_year - start_year + 1)\n",
    "sa3_codes = raw_data['SA3 Code'].unique()\n",
    "\n",
    "# Collect Birth Rate in each Area\n",
    "birth_data = pd.read_excel(\"../VBA_9616/original.xlsm\", sheet_name='Fertility')\n",
    "birth_rate = np.array(birth_data.iloc[5:(5+num_area), 3])\n",
    "\n",
    "# Construct the external variable dataset\n",
    "df_extra = pd.DataFrame(Sum_Total_Pop, columns = [\"Ave_Pop\"])\n",
    "df_extra.insert(loc = 0, column = \"Birth\", value = birth_rate)\n",
    "df_extra.insert(loc = 0, column = 'Code', value = sa3_codes)\n",
    "\n",
    "# Export the external variable csv dataset\n",
    "df_extra.to_csv(\"../Data/Exteral_Variable.csv\", index = False)"
   ]
  }
 ],
 "metadata": {
  "kernelspec": {
   "display_name": "Python 3.9.12 ('base')",
   "language": "python",
   "name": "python3"
  },
  "language_info": {
   "codemirror_mode": {
    "name": "ipython",
    "version": 3
   },
   "file_extension": ".py",
   "mimetype": "text/x-python",
   "name": "python",
   "nbconvert_exporter": "python",
   "pygments_lexer": "ipython3",
   "version": "3.9.12"
  },
  "orig_nbformat": 4,
  "vscode": {
   "interpreter": {
    "hash": "40d3a090f54c6569ab1632332b64b2c03c39dcf918b08424e98f38b5ae0af88f"
   }
  }
 },
 "nbformat": 4,
 "nbformat_minor": 2
}
