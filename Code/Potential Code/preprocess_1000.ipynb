{
 "cells": [
  {
   "cell_type": "markdown",
   "metadata": {},
   "source": [
    "# Proprocessing of Data with Total Population > 1000"
   ]
  },
  {
   "cell_type": "code",
   "execution_count": 36,
   "metadata": {},
   "outputs": [
    {
     "name": "stdout",
     "output_type": "stream",
     "text": [
      "Special Region with less than 21 datapoints: Gungahlin\n",
      "Special Region with less than 21 datapoints: Christmas Island\n"
     ]
    }
   ],
   "source": [
    "import pandas as pd\n",
    "\n",
    "raw_1000  = pd.read_csv(\"../../Data/above1000.csv\")\n",
    "SA3_Namelist = list(raw_1000[\"SA3 Name\"].unique())\n",
    "lst = [[] for i in range(len(SA3_Namelist))]\n",
    "SA3_totpop_dict = dict(zip(SA3_Namelist, lst))\n",
    "\n",
    "for i in range(len(raw_1000[\"SA3 Name\"])):\n",
    "    if raw_1000[\"SA3 Name\"][i] in SA3_totpop_dict:\n",
    "        SA3_totpop_dict[raw_1000[\"SA3 Name\"][i]].append(raw_1000[\"Total\"][i])\n",
    "\n",
    "special_area = []\n",
    "for i in SA3_totpop_dict:\n",
    "    if len(SA3_totpop_dict[i]) < 21:\n",
    "        print(\"Special Region with less than 21 datapoints: \" + i)\n",
    "        special_area.append(i)\n",
    "\n",
    "for i in special_area:\n",
    "    del SA3_totpop_dict[i]\n",
    "\n",
    "totpop_1000_csv = pd.DataFrame.from_dict(SA3_totpop_dict)\n",
    "totpop_1000_csv.to_csv('../../Data/Potential/totpop_1000.csv', index = False)"
   ]
  }
 ],
 "metadata": {
  "kernelspec": {
   "display_name": "Python 3.9.9 64-bit",
   "language": "python",
   "name": "python3"
  },
  "language_info": {
   "codemirror_mode": {
    "name": "ipython",
    "version": 3
   },
   "file_extension": ".py",
   "mimetype": "text/x-python",
   "name": "python",
   "nbconvert_exporter": "python",
   "pygments_lexer": "ipython3",
   "version": "3.9.9"
  },
  "orig_nbformat": 4,
  "vscode": {
   "interpreter": {
    "hash": "aee8b7b246df8f9039afb4144a1f6fd8d2ca17a180786b69acc140d282b71a49"
   }
  }
 },
 "nbformat": 4,
 "nbformat_minor": 2
}
