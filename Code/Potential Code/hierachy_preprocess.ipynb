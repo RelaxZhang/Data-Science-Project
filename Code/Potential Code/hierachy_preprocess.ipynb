{
 "cells": [
  {
   "cell_type": "markdown",
   "metadata": {},
   "source": [
    "# Hierachy Information Preprocessing"
   ]
  },
  {
   "cell_type": "code",
   "execution_count": 102,
   "metadata": {},
   "outputs": [],
   "source": [
    "import pandas as pd\n",
    "import matplotlib.pyplot as plt\n",
    "\n",
    "pop_data = pd.read_csv(\"../../Data/above1000.csv\")\n",
    "pop_data = pop_data.drop([\"index\", \"S/T Code\", \"S/T Name\", \"GCCSA Code\", \"GCCSA Name\", \"SA4 Code\", \"SA4 Name\", \"Unnamed: 0\"], axis=1)\n",
    "\n",
    "sa3_dict = {}\n",
    "for i in pop_data[\"SA3 Code\"]:\n",
    "    if str(int(i)) not in sa3_dict:\n",
    "        sa3_dict[str(int(i))] = 1\n",
    "    else:\n",
    "        sa3_dict[str(int(i))] += 1\n",
    "\n",
    "sa3_age_sex_dict = {}\n",
    "for i in sa3_dict:\n",
    "    if (i not in sa3_age_sex_dict):\n",
    "        sa3_age_sex_dict[i] = []\n",
    "\n",
    "for i in range(len(pop_data[\"SA3 Code\"])):\n",
    "    sa3_age_sex_dict[str(int(pop_data.iloc[i][\"SA3 Code\"]))].append(pop_data.iloc[i])\n",
    "\n",
    "for i in sa3_dict:\n",
    "    if sa3_dict[i] < 21:\n",
    "        del sa3_age_sex_dict[i]"
   ]
  },
  {
   "cell_type": "code",
   "execution_count": 103,
   "metadata": {},
   "outputs": [],
   "source": [
    "sex_list = []\n",
    "age_list = []\n",
    "age_group = [1, 2, 3, 4, 5, 6, 7, 8, 9, 10, 11, 12, 13, 14, 15, 16, 17, 18, 1, 2, 3, 4, 5, 6, 7, 8, 9, 10, 11, 12, 13, 14, 15, 16, 17, 18, 99]\n",
    "\n",
    "for j in range(len(sa3_age_sex_dict)):\n",
    "    for i in range(37):\n",
    "        if i < 18:\n",
    "            sex_list.append(\"M\")\n",
    "        elif i >= 18 and i < 36:\n",
    "            sex_list.append(\"F\")\n",
    "        else:\n",
    "            sex_list.append(\"T\")\n",
    "\n",
    "for j in range(len(sa3_age_sex_dict)):\n",
    "    for i in age_group:\n",
    "        age_list.append(i)"
   ]
  },
  {
   "cell_type": "code",
   "execution_count": 104,
   "metadata": {},
   "outputs": [],
   "source": [
    "age_sex = [\"m0-4\", \"m5-9\", \"m10-14\", \"m15-19\", \"m20-24\", \"m25-29\", \"m30-34\", \"m35-39\", \"m40-44\", \"m45-49\", \"m50-54\", \"m55-59\", \"m60-64\", \"m65-69\", \"m70-74\", \"m75-79\", \"m80-84\", \"m85+\",\n",
    "\"f0-4\", \"f5-9\", \"f10-14\", \"f15-19\", \"f20-24\", \"f25-29\", \"f30-34\", \"f35-39\", \"f40-44\", \"f45-49\", \"f50-54\", \"f55-59\", \"f60-64\", \"f65-69\", \"f70-74\", \"f75-79\", \"f80-84\", \"f85+\", \"Total\"]\n",
    "\n",
    "year = [i for i in range(21)]\n",
    "df_tag = [\"SA3_Code\", \"Sex_Age\"]\n",
    "for i in range(1991, 2012):\n",
    "    df_tag.append(str(i))\n",
    "\n",
    "dataframe_ts = []\n",
    "for k in sa3_age_sex_dict:\n",
    "    \n",
    "    for j in age_sex:\n",
    "        \n",
    "        each_row_ts = []\n",
    "        each_row_ts.append(k)\n",
    "        each_row_ts.append(j)\n",
    "\n",
    "        for i in year:\n",
    "            each_row_ts.append(sa3_age_sex_dict[k][i][j])\n",
    "\n",
    "        dataframe_ts.append(each_row_ts)\n",
    "\n",
    "df = pd.DataFrame(dataframe_ts, columns = df_tag)\n",
    "df[\"sex\"] = sex_list\n",
    "df[\"age\"] = age_list\n",
    "df.to_csv('../../Data/ts_1000.csv', index = False)"
   ]
  }
 ],
 "metadata": {
  "kernelspec": {
   "display_name": "Python 3.9.9 64-bit",
   "language": "python",
   "name": "python3"
  },
  "language_info": {
   "codemirror_mode": {
    "name": "ipython",
    "version": 3
   },
   "file_extension": ".py",
   "mimetype": "text/x-python",
   "name": "python",
   "nbconvert_exporter": "python",
   "pygments_lexer": "ipython3",
   "version": "3.9.9"
  },
  "orig_nbformat": 4,
  "vscode": {
   "interpreter": {
    "hash": "aee8b7b246df8f9039afb4144a1f6fd8d2ca17a180786b69acc140d282b71a49"
   }
  }
 },
 "nbformat": 4,
 "nbformat_minor": 2
}
