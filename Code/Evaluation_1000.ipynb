{
 "cells": [
  {
   "cell_type": "markdown",
   "metadata": {},
   "source": [
    "# Model Evaluation Notebook"
   ]
  },
  {
   "cell_type": "markdown",
   "metadata": {},
   "source": [
    "### Synthetic Migration Model Evaluation"
   ]
  },
  {
   "cell_type": "code",
   "execution_count": 1,
   "metadata": {},
   "outputs": [],
   "source": [
    "import pandas as pd\n",
    "import numpy as np\n",
    "import statistics\n",
    "\n",
    "# Load in true value and projected value for evaluation\n",
    "forecast_syn = pd.read_csv(\"../Data/Projection/Iterative_predict_output_Step1_1000_Type2_neg.csv\")\n",
    "forecast_org = pd.read_csv(\"../Data/True/agesex_true_1000.csv\")\n",
    "forecast_org_tot = pd.read_csv(\"../Data/True/total_true_1000.csv\")"
   ]
  },
  {
   "cell_type": "markdown",
   "metadata": {},
   "source": [
    "### Age-Sex Cohort APE"
   ]
  },
  {
   "cell_type": "code",
   "execution_count": 2,
   "metadata": {},
   "outputs": [],
   "source": [
    "# Record the Absolute Percentage Error (APE) for individual Age-Sex Cohort in 2006, 2011\n",
    "as_syn_06 = forecast_syn[\"2006\"].tolist()\n",
    "as_org_06 = forecast_org[\"2006\"].tolist()\n",
    "\n",
    "as_syn_11 = forecast_syn[\"2011\"].tolist()\n",
    "as_org_11 = forecast_org[\"2011\"].tolist()\n",
    "\n",
    "APE_06 = []\n",
    "APE_11 = []\n",
    "APE_Diff_06 = []\n",
    "APE_Diff_11 = []\n",
    "for i in range(len(as_syn_06)):\n",
    "    APE_06.append(abs(as_syn_06[i] - as_org_06[i]) / as_org_06[i] * 100)\n",
    "    APE_Diff_06.append(abs(as_syn_06[i] - as_org_06[i]))\n",
    "    APE_11.append(abs(as_syn_11[i] - as_org_11[i]) / as_org_11[i] * 100)\n",
    "    APE_Diff_11.append(abs(as_syn_11[i] - as_org_11[i]))\n",
    "\n",
    "# Generate mean, median, 90 percentile value for APE in 2006, 2011\n",
    "mean_06 = statistics.mean(APE_06)\n",
    "median_06 = statistics.median(APE_06)\n",
    "percentile_90_06 = np.percentile(APE_06, 90)\n",
    "\n",
    "mean_11 = statistics.mean(APE_11)\n",
    "median_11 = statistics.median(APE_11)\n",
    "percentile_90_11 = np.percentile(APE_11, 90)"
   ]
  },
  {
   "cell_type": "markdown",
   "metadata": {},
   "source": [
    "### Total Population APE"
   ]
  },
  {
   "cell_type": "code",
   "execution_count": 3,
   "metadata": {},
   "outputs": [],
   "source": [
    "# Record Error Rate in Scale of Total Population in Each Area\n",
    "index = 0\n",
    "age_sex = 36\n",
    "tot_org_06 = forecast_org_tot[\"2006\"].tolist()\n",
    "tot_org_11 = forecast_org_tot[\"2011\"].tolist()\n",
    "tot_syn_06 = []\n",
    "tot_syn_11 = []\n",
    "tot_area_06 = 0\n",
    "tot_area_11 = 0\n",
    "for i in range(len(APE_Diff_06)):\n",
    "    if (index == age_sex):\n",
    "        tot_syn_06.append(tot_area_06)\n",
    "        tot_syn_11.append(tot_area_11)\n",
    "        tot_area_06 = APE_Diff_06[i]\n",
    "        tot_area_11 = APE_Diff_11[i]\n",
    "        index = 1\n",
    "    else:\n",
    "        tot_area_06 += APE_Diff_06[i]\n",
    "        tot_area_11 += APE_Diff_11[i]\n",
    "        index += 1\n",
    "tot_syn_06.append(tot_area_06)\n",
    "tot_syn_11.append(tot_area_11)\n",
    "\n",
    "# Record total population APE\n",
    "tot_APE_06 = []\n",
    "tot_APE_11 = []\n",
    "for i in range(len(tot_syn_06)):\n",
    "    tot_APE_06.append(tot_syn_06[i] / tot_org_06[i] * 100)\n",
    "    tot_APE_11.append(tot_syn_11[i] / tot_org_11[i] * 100)\n",
    "\n",
    "# Generate mean, median, 90 percentile value for total population APE in 2006, 2011\n",
    "mean_tot_06 = statistics.mean(tot_APE_06)\n",
    "median_tot_06 = statistics.median(tot_APE_06)\n",
    "percentile_tot_90_06 = np.percentile(tot_APE_06, 90)\n",
    "\n",
    "mean_tot_11 = statistics.mean(tot_APE_11)\n",
    "median_tot_11 = statistics.median(tot_APE_11)\n",
    "percentile_tot_90_11 = np.percentile(tot_APE_11, 90)"
   ]
  },
  {
   "cell_type": "markdown",
   "metadata": {},
   "source": [
    "# Generate Evaluation Result CSV"
   ]
  },
  {
   "cell_type": "code",
   "execution_count": 4,
   "metadata": {},
   "outputs": [],
   "source": [
    "as_result = [mean_06, median_06, percentile_90_06, mean_11, median_11, percentile_90_11]\n",
    "tot_result = [mean_tot_06, median_tot_06, percentile_tot_90_06, mean_tot_11, median_tot_11, percentile_tot_90_11]\n",
    "result_dict = {\"Age-Sex Level\": as_result, \"Total Level\": tot_result}\n",
    "result = pd.DataFrame(result_dict)\n",
    "row_name = [\"mean_2006\", \"median_2006\", \"percentile_90_2006\", \"mean_2011\", \"median_2011\", \"percentile_90_2011\"]\n",
    "result.insert(loc = 0, column = \"\", value = row_name)\n",
    "result.to_csv(\"../Data/Evaluation/LSTM_Full_EvaResult_Step1_1000_Type2_neg.csv\")"
   ]
  }
 ],
 "metadata": {
  "kernelspec": {
   "display_name": "Python 3.9.12 ('base')",
   "language": "python",
   "name": "python3"
  },
  "language_info": {
   "codemirror_mode": {
    "name": "ipython",
    "version": 3
   },
   "file_extension": ".py",
   "mimetype": "text/x-python",
   "name": "python",
   "nbconvert_exporter": "python",
   "pygments_lexer": "ipython3",
   "version": "3.9.12"
  },
  "orig_nbformat": 4,
  "vscode": {
   "interpreter": {
    "hash": "40d3a090f54c6569ab1632332b64b2c03c39dcf918b08424e98f38b5ae0af88f"
   }
  }
 },
 "nbformat": 4,
 "nbformat_minor": 2
}
